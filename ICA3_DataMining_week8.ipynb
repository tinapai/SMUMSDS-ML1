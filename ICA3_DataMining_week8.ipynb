{
 "cells": [
  {
   "cell_type": "code",
   "execution_count": 1,
   "metadata": {},
   "outputs": [
    {
     "data": {
      "text/html": [
       "<link href='https://fonts.googleapis.com/css?family=Passion+One' rel='stylesheet' type='text/css'><style>div.attn { font-family: 'Helvetica Neue'; font-size: 30px; line-height: 40px; color: #FFFFFF; text-align: center; margin: 30px 0; border-width: 10px 0; border-style: solid; border-color: #5AAAAA; padding: 30px 0; background-color: #DDDDFF; }hr { border: 0; background-color: #ffffff; border-top: 1px solid black; }hr.major { border-top: 10px solid #5AAA5A; }hr.minor { border: none; background-color: #ffffff; border-top: 5px dotted #CC3333; }div.bubble { width: 65%; padding: 20px; background: #DDDDDD; border-radius: 15px; margin: 0 auto; font-style: italic; color: #f00; }em { color: #AAA; }div.c1{visibility:hidden;margin:0;height:0;}div.note{color:red;}</style>"
      ],
      "text/plain": [
       "<IPython.core.display.HTML object>"
      ]
     },
     "execution_count": 1,
     "metadata": {},
     "output_type": "execute_result"
    }
   ],
   "source": [
    "#  Ebnable HTML/CSS \n",
    "from IPython.core.display import HTML\n",
    "HTML(\"<link href='https://fonts.googleapis.com/css?family=Passion+One' rel='stylesheet' type='text/css'><style>div.attn { font-family: 'Helvetica Neue'; font-size: 30px; line-height: 40px; color: #FFFFFF; text-align: center; margin: 30px 0; border-width: 10px 0; border-style: solid; border-color: #5AAAAA; padding: 30px 0; background-color: #DDDDFF; }hr { border: 0; background-color: #ffffff; border-top: 1px solid black; }hr.major { border-top: 10px solid #5AAA5A; }hr.minor { border: none; background-color: #ffffff; border-top: 5px dotted #CC3333; }div.bubble { width: 65%; padding: 20px; background: #DDDDDD; border-radius: 15px; margin: 0 auto; font-style: italic; color: #f00; }em { color: #AAA; }div.c1{visibility:hidden;margin:0;height:0;}div.note{color:red;}</style>\")"
   ]
  },
  {
   "cell_type": "markdown",
   "metadata": {},
   "source": [
    "___\n",
    "Enter Team Member Names here (double click to edit):\n",
    "\n",
    "- Name 1: Tina Pai\n",
    "- Name 2: Ellen Lull\n",
    "- Name 3: Paritosh Rai\n",
    "- Name 4: Fabio Savorgnan\n",
    "\n",
    "________\n",
    "\n",
    "# In Class Assignment Three\n",
    "In the following assignment you will be asked to fill in python code and derivations for a number of different problems. Please read all instructions carefully and turn in the rendered notebook (or HTML of the rendered notebook)  before the end of class.\n",
    "\n",
    "<a id=\"top\"></a>\n",
    "## Contents\n",
    "* <a href=\"#Loading\">Loading the Data</a>\n",
    "* <a href=\"#distance\">Measuring Distances</a>\n",
    "* <a href=\"#KNN\">K-Nearest Neighbors</a>\n",
    "* <a href=\"#naive\">Naive Bayes</a>\n",
    "\n",
    "________________________________________________________________________________________________________\n",
    "<a id=\"Loading\"></a>\n",
    "<a href=\"#top\">Back to Top</a>\n",
    "## Downloading the Document Data\n",
    "Please run the following code to read in the \"20 newsgroups\" dataset from sklearn's data loading module."
   ]
  },
  {
   "cell_type": "code",
   "execution_count": 2,
   "metadata": {},
   "outputs": [
    {
     "name": "stdout",
     "output_type": "stream",
     "text": [
      "features shape: (11314, 130107)\n",
      "target shape: (11314,)\n",
      "range of target: 0 19\n",
      "Data type is <class 'scipy.sparse.csr.csr_matrix'> 0.1214353154362896 % of the data is non-zero\n"
     ]
    }
   ],
   "source": [
    "from __future__ import print_function\n",
    "from sklearn.datasets import fetch_20newsgroups_vectorized\n",
    "import numpy as np\n",
    "\n",
    "\n",
    "# this takes about 30 seconds to compute, read the next section while this downloads\n",
    "ds = fetch_20newsgroups_vectorized(subset='train')\n",
    "\n",
    "# this holds the continuous feature data (which is tfidf)\n",
    "print('features shape:', ds.data.shape) # there are ~11000 instances and ~130k features per instance\n",
    "print('target shape:', ds.target.shape) \n",
    "print('range of target:', np.min(ds.target),np.max(ds.target))\n",
    "print('Data type is', type(ds.data), float(ds.data.nnz)/(ds.data.shape[0]*ds.data.shape[1])*100, '% of the data is non-zero')"
   ]
  },
  {
   "cell_type": "markdown",
   "metadata": {},
   "source": [
    "## Understanding the Dataset\n",
    "Look at the description for the 20 newsgroups dataset at http://qwone.com/~jason/20Newsgroups/. You have just downloaded the \"vectorized\" version of the dataset, which means all the words inside the articles have gone through a transformation that binned them into 130 thousand features related to the words in them.  \n",
    "\n",
    "**Question Set 1**:\n",
    "- How many instances are in the dataset? \n",
    "- What does each instance represent? \n",
    "- How many classes are in the dataset and what does each class represent?\n",
    "- Would you expect a classifier trained on this data would generalize to documents written in the past week? Why or why not?\n",
    "- Is the data represented as a sparse or dense matrix?"
   ]
  },
  {
   "cell_type": "markdown",
   "metadata": {},
   "source": [
    "___\n",
    "Enter your answer here:\n",
    "\n",
    "*Double click to edit*\n",
    "\n",
    "\n",
    "This is a dataset of news article topics. There are about 11,000 instances, each representing a news article. There are 20 different groups that are labeled in the dataset. The data will be very sparse, with only a small percentage of the data having a numeric value and all others being zero. \n",
    "\n",
    "This data was trained from twenty year old articles so many news topics would not generalize to topics in today's news. In fact, many words like 'facebook', 'twitter', and 'Obama' would not even be present in the existing dataset, but are important for modern topic classifiers to understand. However, some health related topics may still work well--it depends on how much the underlying distribution of words is changing.\n",
    "\n",
    "This data is represented as a sparse matrix, meaning only non-zero values are stored with their matrix location."
   ]
  },
  {
   "cell_type": "markdown",
   "metadata": {},
   "source": [
    "___\n",
    "<a id=\"distance\"></a>\n",
    "<a href=\"#top\">Back to Top</a>\n",
    "## Measures of Distance\n",
    "In the following block of code, we isolate three instances from the dataset. The instance \"`a`\" is from the group *computer graphics*, \"`b`\" is from from the group *recreation autos*, and \"`c`\" is from group *recreation motorcycle*. **Exercise for part 2**: Calculate the: \n",
    "- (1) Euclidean distance\n",
    "- (2) Cosine distance \n",
    "- (3) Jaccard similarity \n",
    "\n",
    "between each pair of instances using the imported functions below. Remember that the Jaccard similarity is only for binary valued vectors, so convert vectors to binary using a threshold. \n",
    "\n",
    "**Question for part 2**: Which distance seems more appropriate to use for this data? **Why**?"
   ]
  },
  {
   "cell_type": "code",
   "execution_count": 3,
   "metadata": {},
   "outputs": [
    {
     "name": "stdout",
     "output_type": "stream",
     "text": [
      "Instance A is from class comp.graphics\n",
      "Instance B is from class rec.autos\n",
      "Instance C is from class rec.motorcycles\n",
      "Euclidean Distance\n",
      " ab: 1.0985184671870858 ac: 1.1891405425398236 bc: 0.9177794226661624\n",
      "Cosine Distance\n",
      " ab: 0.6033714113755322 ac: 0.7070276149559529 bc: 0.4211595343347173\n",
      "Jaccard Dissimilarity (vectors should be boolean values)\n",
      " ab: 0.8821138211382114 ac: 0.8754716981132076 bc: 0.9087947882736156\n",
      "\n",
      "\n",
      "The most appropriate distance is...\n",
      "Cosine. It clearly delineates between topics effectively. B and C are closest (by far),\n",
      "and A is about the same distance from B and C. Euclidean also works well, but not quite as good as \"cosine\"\n"
     ]
    }
   ],
   "source": [
    "from scipy.spatial.distance import cosine\n",
    "from scipy.spatial.distance import euclidean\n",
    "from scipy.spatial.distance import jaccard\n",
    "import numpy as np\n",
    "\n",
    "# get first instance (comp)\n",
    "idx = 550\n",
    "a = ds.data[idx].todense()\n",
    "a_class = ds.target_names[ds.target[idx]]\n",
    "print('Instance A is from class', a_class)\n",
    "\n",
    "# get second instance (autos)\n",
    "idx = 4000\n",
    "b = ds.data[idx].todense()\n",
    "b_class = ds.target_names[ds.target[idx]]\n",
    "print('Instance B is from class', b_class)\n",
    "\n",
    "# get third instance (motorcycle)\n",
    "idx = 7000\n",
    "c = ds.data[idx].todense()\n",
    "c_class = ds.target_names[ds.target[idx]]\n",
    "print('Instance C is from class', c_class)\n",
    "\n",
    "# Enter distance comparison below for each pair of vectors:\n",
    "p = 'Placeholder'\n",
    "print('Euclidean Distance\\n ab:', euclidean(a,b), 'ac:', euclidean(a,c), 'bc:', euclidean(b,c))\n",
    "print('Cosine Distance\\n ab:', cosine(a,b), 'ac:', cosine(a,c), 'bc:', cosine(b,c))\n",
    "print('Jaccard Dissimilarity (vectors should be boolean values)\\n ab:', jaccard(a>0,b>0), 'ac:', jaccard(a>0,c>0), 'bc:', jaccard(b>0,c>0))\n",
    "\n",
    "print('\\n\\nThe most appropriate distance is...')\n",
    "print('Cosine. It clearly delineates between topics effectively. B and C are closest (by far),',)\n",
    "print('and A is about the same distance from B and C. Euclidean also works well, but not quite as good as \"cosine\"')"
   ]
  },
  {
   "cell_type": "markdown",
   "metadata": {},
   "source": [
    "___\n",
    "# Start of Live Session Assignment\n",
    "___\n",
    "<a id=\"KNN\"></a>\n",
    "<a href=\"#top\">Back to Top</a>\n",
    "## Using scikit-learn with KNN\n",
    "Now let's use stratified cross validation with a holdout set to train a KNN model in `scikit-learn`. Use the example below to train a KNN classifier. The documentation for `KNeighborsClassifier` is here: http://scikit-learn.org/stable/modules/generated/sklearn.neighbors.KNeighborsClassifier.html  \n",
    "\n",
    "**Exercise for part 3**: Use the code below to test what value of `n_neighbors` works best for the given data. *Note: do NOT change the metric to be anything other than `'euclidean'`. Other distance functions are not optimized for the amount of data we are working with.* \n",
    "\n",
    "**Question for part 3**: What is the accuracy of the best classifier you can create for this data (by changing only the `n_neighbors` parameter)? "
   ]
  },
  {
   "cell_type": "code",
   "execution_count": 27,
   "metadata": {},
   "outputs": [
    {
     "name": "stdout",
     "output_type": "stream",
     "text": [
      "Accuracy of classifier with 1 neighbors is: 0.60\n",
      "Accuracy of classifier with 3 neighbors is: 0.53\n",
      "Accuracy of classifier with 5 neighbors is: 0.50\n",
      "Accuracy of classifier with 7 neighbors is: 0.48\n",
      "Accuracy of classifier with 9 neighbors is: 0.46\n",
      "Accuracy of classifier with 11 neighbors is: 0.45\n",
      "Accuracy of classifier with 13 neighbors is: 0.43\n"
     ]
    }
   ],
   "source": [
    "from sklearn.model_selection import StratifiedShuffleSplit\n",
    "from sklearn.neighbors import KNeighborsClassifier\n",
    "from sklearn.metrics import accuracy_score\n",
    "from IPython.html import widgets \n",
    "\n",
    "cv = StratifiedShuffleSplit(test_size = 0.5, train_size=0.5, random_state = 1).split(ds.data,ds.target)\n",
    "\n",
    "# fill in the training and testing data and save as separate variables\n",
    "for trainidx, testidx in cv:\n",
    "    # note that these are sparse matrices\n",
    "    X_train = ds.data[trainidx] \n",
    "    X_test = ds.data[testidx] \n",
    "    y_train = ds.target[trainidx]\n",
    "    y_test = ds.target[testidx]\n",
    "\n",
    "# fill in your code  here to train and test\n",
    "# calculate the accuracy and print it for various values of K\n",
    "for K in [1, 3, 5, 7, 9, 11, 13]:\n",
    "    clf = KNeighborsClassifier(n_neighbors=K, weights='uniform', metric='euclidean')\n",
    "\n",
    "    clf.fit(X_train, y_train)\n",
    "    pred = clf.predict(X_test)\n",
    "\n",
    "    acc = accuracy_score(pred, y_test)\n",
    "    \n",
    "    \n",
    "    print('Accuracy of classifier with %d neighbors is: %.2f'%(K,acc))\n",
    "    \n",
    "\n",
    "\n",
    "#=====================================\n",
    "\n"
   ]
  },
  {
   "cell_type": "markdown",
   "metadata": {},
   "source": [
    "The best accuracy is .6 with 1 neighbor. Even though having just 1 neighbor might risk overfitting, the increase in accuracy here is very substantial (7% higher than K=3) so we believe K=1 is the best value for K. It also makes sense that K=1 is good because the data is so sparse, that the next nearest neighbors may be much further away than the closest neighbor."
   ]
  },
  {
   "cell_type": "markdown",
   "metadata": {},
   "source": [
    "**Question for part 3**: With sparse data, does the use of a KDTree representation make sense? Why or Why not?"
   ]
  },
  {
   "cell_type": "markdown",
   "metadata": {},
   "source": [
    "Enter your answer below:\n",
    "No, KD Trees don't work with sparse data because it would be hard to split the branches well when most of the values are 0; the tree would get very deep. Also, the cost of measuring the distance for sparse data is small, and the cost of creating the tree would be more than the cost of just measuring the distance between points. Therefore, the benefit of the KDTree is substantially reduced when data is sparse.\n",
    "\n",
    "___"
   ]
  },
  {
   "cell_type": "markdown",
   "metadata": {},
   "source": [
    "_____\n",
    "## KNN extensions - Centroids\n",
    "Now lets look at a very closely related classifier to KNN, called nearest centroid. In this classifier (which is more appropriate for big data scenarios and sparse data), the training step is used to calculate the centroids for each class. These centroids are saved. Unknown attributes, at prediction time, only need to have distances calculated for each saved centroid, drastically decreasing the time required for a prediction. \n",
    "\n",
    "**Exercise for part 4**: Use the template code below to create a nearest centroid classifier. Test which metric has the best cross validated performance: Euclidean, Cosine, or Manhattan. In `scikit-learn` you can see the documentation for NearestCentroid here: \n",
    "- http://scikit-learn.org/stable/modules/generated/sklearn.neighbors.NearestCentroid.html#sklearn.neighbors.NearestCentroid\n",
    "\n",
    "and for supported distance metrics here:\n",
    "- http://scikit-learn.org/stable/modules/generated/sklearn.metrics.pairwise.distance_metrics.html#sklearn.metrics.pairwise.distance_metrics"
   ]
  },
  {
   "cell_type": "code",
   "execution_count": 11,
   "metadata": {},
   "outputs": [
    {
     "name": "stderr",
     "output_type": "stream",
     "text": [
      "/Users/tina/opt/anaconda3/lib/python3.7/site-packages/sklearn/neighbors/_nearest_centroid.py:150: UserWarning: Averaging for metrics other than euclidean and manhattan not supported. The average is set to be the mean.\n",
      "  warnings.warn(\"Averaging for metrics other than \"\n"
     ]
    },
    {
     "name": "stdout",
     "output_type": "stream",
     "text": [
      "metric:  l1\n",
      "acc: 0.3160685875905957\n"
     ]
    },
    {
     "name": "stderr",
     "output_type": "stream",
     "text": [
      "/Users/tina/opt/anaconda3/lib/python3.7/site-packages/sklearn/neighbors/_nearest_centroid.py:150: UserWarning: Averaging for metrics other than euclidean and manhattan not supported. The average is set to be the mean.\n",
      "  warnings.warn(\"Averaging for metrics other than \"\n"
     ]
    },
    {
     "name": "stdout",
     "output_type": "stream",
     "text": [
      "metric:  l2\n",
      "acc: 0.4157680749513877\n"
     ]
    },
    {
     "name": "stderr",
     "output_type": "stream",
     "text": [
      "/Users/tina/opt/anaconda3/lib/python3.7/site-packages/sklearn/neighbors/_nearest_centroid.py:150: UserWarning: Averaging for metrics other than euclidean and manhattan not supported. The average is set to be the mean.\n",
      "  warnings.warn(\"Averaging for metrics other than \"\n"
     ]
    },
    {
     "name": "stdout",
     "output_type": "stream",
     "text": [
      "metric:  cosine\n",
      "acc: 0.49354781686406224\n",
      "The best distance metric is: Cosine\n"
     ]
    }
   ],
   "source": [
    "from sklearn.neighbors.nearest_centroid import NearestCentroid\n",
    "\n",
    "# the parameters for the nearest centroid metric to test are:\n",
    "#    l1, l2, and cosine (all are optimized)\n",
    "\n",
    "\n",
    "\n",
    "# fill in your code here\n",
    "for trainidx, testidx in cv:\n",
    "    # note that these are sparse matrices\n",
    "    X_train = ds.data[trainidx] \n",
    "    X_test = ds.data[testidx] \n",
    "    y_train = ds.target[trainidx]\n",
    "    y_test = ds.target[testidx]\n",
    "\n",
    "# calculate the accuracy and print it for various values of K\n",
    "for m in ['l1', 'l2', 'cosine']:\n",
    "    clf = NearestCentroid(metric=m)\n",
    "\n",
    "    clf.fit(X_train, y_train)\n",
    "    pred = clf.predict(X_test)\n",
    "\n",
    "    acc = accuracy_score(pred, y_test)\n",
    "    print(\"metric: \", m)\n",
    "    print(\"acc:\", acc)\n",
    "\n",
    "\n",
    "print('The best distance metric is: Cosine')"
   ]
  },
  {
   "cell_type": "markdown",
   "metadata": {},
   "source": [
    "___\n",
    "<a id=\"naive\"></a>\n",
    "<a href=\"#top\">Back to Top</a>\n",
    "## Naive Bayes Classification\n",
    "Now let's look at the use of the Naive Bayes classifier. The 20 newsgroups dataset has 20 classes and about 130,000 features per instance. Recall that the Naive Bayes classifer calculates a posterior distribution for each possible class. Each posterior distribution is a multiplication of many conditional distributions: \n",
    "\n",
    "$${\\arg \\max}_{j} \\left(p(class=j)\\prod_{i} p(attribute=i|class=j) \\right)$$\n",
    "\n",
    "where $p(class=j)$ is the prior and $p(attribute=i|class=j)$ is the conditional probability.\n",
    "\n",
    "**Question for part 5**: With this many classes and features, how many different conditional probabilities need to be parameterized? How many priors need to be parameterized?"
   ]
  },
  {
   "cell_type": "code",
   "execution_count": 18,
   "metadata": {},
   "outputs": [
    {
     "name": "stdout",
     "output_type": "stream",
     "text": [
      "Number of conditional probabilities: 2602140\n",
      "Number of priors: 20\n"
     ]
    }
   ],
   "source": [
    "# Use this space for any calculations you might want to do\n",
    "\n",
    "\n",
    "attributes = ds.data.shape[1]\n",
    "classes = 20\n",
    "\n",
    "print(\"Number of conditional probabilities:\", attributes*classes)\n",
    "print(\"Number of priors: 20\")\n"
   ]
  },
  {
   "cell_type": "markdown",
   "metadata": {},
   "source": [
    "___\n",
    "## Naive Bayes in Scikit-learn\n",
    "Scikit has several implementations of the Naive Bayes classifier: `GaussianNB`, `MultinomialNB`, and `BernoulliNB`. Look at the documentation here: http://scikit-learn.org/stable/modules/naive_bayes.html Take a look at each implementation and then answer this question: \n",
    "\n",
    "**Questions for part 6**: \n",
    "- If the instances contain mostly continuous attributes, would it be better to use Gaussian Naive Bayes, Multinomial Naive Bayes, or Bernoulli? And Why? \n",
    "- What if the data is sparse, does this change your answer? Why or Why not?"
   ]
  },
  {
   "cell_type": "markdown",
   "metadata": {},
   "source": [
    "Enter you answer here:\n",
    "\n",
    "If the instances contain mostly continuous attributes, Gaussian Naive Bayes would be the best because Gaussian Naive Bayes is designed to support continuous features, as it finds the probability using the gaussian distribution to approximate the distribution of the features.\n",
    "\n",
    "Yes, if the data is sparse, it does change our answer. If the data is sparse, we should use multinomial naive bayes because it would be faster. We can also use Bernoulli if the features are binary. It could be useful to binarize the features to reduce the complexity of the problem. Also it would not be appropriate to use Gaussian for sparse data because there would be so many 0s that a Gaussian distribution would not be a sensible approximation.\n",
    "\n",
    "___"
   ]
  },
  {
   "cell_type": "markdown",
   "metadata": {},
   "source": [
    "## Naive Bayes Comparison\n",
    "For the final section of this notebook let's compare the performance of Naive Bayes for document classification. Look at the parameters for `MultinomialNB`, and `BernoulliNB` (especially `alpha` and `binarize`). \n",
    "\n",
    "**Exercise for part 7**: Using the example code below, change the parameters for each classifier and see how accurate you can make the classifiers on the test set. \n",
    "\n",
    "**Question for part 7**: Why are these implementations so fast to train? What does the `'alpha'` value control in these models (*i.e.*, how does it change the parameterizations)? "
   ]
  },
  {
   "cell_type": "code",
   "execution_count": 25,
   "metadata": {},
   "outputs": [
    {
     "name": "stdout",
     "output_type": "stream",
     "text": [
      "clf: MultinomialNB()\n",
      "acc: 0.7051440692946792\n",
      "clf: BernoulliNB()\n",
      "acc: 0.6162276825172353\n",
      "clf: MultinomialNB(alpha=0.0001)\n",
      "acc: 0.888103234930175\n",
      "clf: BernoulliNB(alpha=0.0001, binarize=0.001)\n",
      "acc: 0.8502739968181015\n",
      "clf: MultinomialNB(alpha=0.0001)\n",
      "acc: 0.888103234930175\n",
      "clf: BernoulliNB(alpha=0.0001, binarize=0.01)\n",
      "acc: 0.8714866537033763\n",
      "clf: MultinomialNB(alpha=0.0001)\n",
      "acc: 0.888103234930175\n",
      "clf: BernoulliNB(alpha=0.0001, binarize=0.02)\n",
      "acc: 0.8743150079547464\n",
      "clf: MultinomialNB(alpha=0.0001)\n",
      "acc: 0.888103234930175\n",
      "clf: BernoulliNB(alpha=0.0001, binarize=0.05)\n",
      "acc: 0.8348948205762772\n",
      "clf: MultinomialNB(alpha=0.001)\n",
      "acc: 0.8951741205586\n",
      "clf: BernoulliNB(alpha=0.001, binarize=0.001)\n",
      "acc: 0.8419657062047021\n",
      "clf: MultinomialNB(alpha=0.001)\n",
      "acc: 0.8951741205586\n",
      "clf: BernoulliNB(alpha=0.001, binarize=0.01)\n",
      "acc: 0.8683047551705851\n",
      "clf: MultinomialNB(alpha=0.001)\n",
      "acc: 0.8951741205586\n",
      "clf: BernoulliNB(alpha=0.001, binarize=0.02)\n",
      "acc: 0.8750220965175888\n",
      "clf: MultinomialNB(alpha=0.001)\n",
      "acc: 0.8951741205586\n",
      "clf: BernoulliNB(alpha=0.001, binarize=0.05)\n",
      "acc: 0.8403747569383065\n",
      "clf: MultinomialNB(alpha=0.01)\n",
      "acc: 0.8850981085380943\n",
      "clf: BernoulliNB(alpha=0.01, binarize=0.001)\n",
      "acc: 0.8281774792292734\n",
      "clf: MultinomialNB(alpha=0.01)\n",
      "acc: 0.8850981085380943\n",
      "clf: BernoulliNB(alpha=0.01, binarize=0.01)\n",
      "acc: 0.8642389959342408\n",
      "clf: MultinomialNB(alpha=0.01)\n",
      "acc: 0.8850981085380943\n",
      "clf: BernoulliNB(alpha=0.01, binarize=0.02)\n",
      "acc: 0.8743150079547464\n",
      "clf: MultinomialNB(alpha=0.01)\n",
      "acc: 0.8850981085380943\n",
      "clf: BernoulliNB(alpha=0.01, binarize=0.05)\n",
      "acc: 0.8430263390489658\n",
      "clf: MultinomialNB(alpha=0.05)\n",
      "acc: 0.8575216545872371\n",
      "clf: BernoulliNB(alpha=0.05, binarize=0.001)\n",
      "acc: 0.8041364680926286\n",
      "clf: MultinomialNB(alpha=0.05)\n",
      "acc: 0.8575216545872371\n",
      "clf: BernoulliNB(alpha=0.05, binarize=0.01)\n",
      "acc: 0.8557539331801308\n",
      "clf: MultinomialNB(alpha=0.05)\n",
      "acc: 0.8575216545872371\n",
      "clf: BernoulliNB(alpha=0.05, binarize=0.02)\n",
      "acc: 0.8690118437334277\n",
      "clf: MultinomialNB(alpha=0.05)\n",
      "acc: 0.8575216545872371\n",
      "clf: BernoulliNB(alpha=0.05, binarize=0.05)\n",
      "acc: 0.8366625419833834\n",
      "The best model parameters were: multinomial with alpha=.001, with an accuracy of .895\n",
      "These classifiers are so fast because... Naive Bayes learns with deterministic calculations and does not need do iterations and does not need to optimize a cost function and does not need to back-propagate errors, which makes it fast.\n",
      "The alpha values control... alpha is Additive (Laplace/Lidstone) smoothing parameter (0 for no smoothing), which affects how the model treats the problem of probabilities of classes being 0.\n"
     ]
    }
   ],
   "source": [
    "from sklearn.naive_bayes import MultinomialNB\n",
    "from sklearn.naive_bayes import BernoulliNB\n",
    "\n",
    "\n",
    "clf_mnb = MultinomialNB(alpha=1.0)\n",
    "clf_bnb = BernoulliNB(alpha=1.0, binarize= 0.0)\n",
    "\n",
    "# fill in your code here\n",
    "\n",
    "for clf in [clf_mnb, clf_bnb]:\n",
    "    clf.fit(X_train, y_train)\n",
    "    pred = clf.predict(X_test)\n",
    "    acc = accuracy_score(pred, y_test)\n",
    "  \n",
    "    print(\"clf:\", clf)\n",
    "    print(\"acc:\", acc)\n",
    "\n",
    "\n",
    "for a in [.0001, .001, .01, .05]:\n",
    "    \n",
    "    for b in [.001, .01, .02, .05]:\n",
    "        clf_mnb = MultinomialNB(alpha=a)\n",
    "        clf_bnb = BernoulliNB(alpha=a, binarize=b)\n",
    "\n",
    "        for clf in [clf_mnb, clf_bnb]:\n",
    "            clf.fit(X_train, y_train)\n",
    "            pred = clf.predict(X_test)\n",
    "            acc = accuracy_score(pred, y_test)\n",
    "\n",
    "            print(\"clf:\", clf)\n",
    "            print(\"acc:\", acc)\n",
    "\n",
    "            \n",
    "print('The best model parameters were: multinomial with alpha=.001, with an accuracy of .895')\n",
    "print('These classifiers are so fast because... Naive Bayes learns with deterministic calculations and does not need do iterations and does not need to optimize a cost function and does not need to back-propagate errors, which makes it fast.')\n",
    "print('The alpha values control... alpha is Additive (Laplace/Lidstone) smoothing parameter (0 for no smoothing), which affects how the model treats the problem of probabilities of classes being 0.')\n",
    "\n"
   ]
  },
  {
   "cell_type": "markdown",
   "metadata": {},
   "source": [
    "________________________________________________________________________________________________________\n",
    "\n",
    "That's all! Please **upload your rendered notebook to blackboard** and please include **team member names** in the notebook submission."
   ]
  },
  {
   "cell_type": "code",
   "execution_count": null,
   "metadata": {
    "jupyter": {
     "outputs_hidden": true
    }
   },
   "outputs": [],
   "source": []
  }
 ],
 "metadata": {
  "kernelspec": {
   "display_name": "Python 3",
   "language": "python",
   "name": "python3"
  },
  "language_info": {
   "codemirror_mode": {
    "name": "ipython",
    "version": 3
   },
   "file_extension": ".py",
   "mimetype": "text/x-python",
   "name": "python",
   "nbconvert_exporter": "python",
   "pygments_lexer": "ipython3",
   "version": "3.7.6"
  }
 },
 "nbformat": 4,
 "nbformat_minor": 4
}
