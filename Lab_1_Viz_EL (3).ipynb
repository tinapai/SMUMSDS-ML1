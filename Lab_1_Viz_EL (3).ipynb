{
 "cells": [
  {
   "cell_type": "markdown",
   "metadata": {},
   "source": [
    "# Business Understanding"
   ]
  },
  {
   "cell_type": "markdown",
   "metadata": {},
   "source": [
    "# Setup"
   ]
  },
  {
   "cell_type": "code",
   "execution_count": 1,
   "metadata": {},
   "outputs": [
    {
     "name": "stdout",
     "output_type": "stream",
     "text": [
      "          id    age  gender  height  weight  ap_hi  ap_lo  cholesterol  gluc  \\\n",
      "0          0  18393       2     168    62.0    110     80            1     1   \n",
      "1          1  20228       1     156    85.0    140     90            3     1   \n",
      "2          2  18857       1     165    64.0    130     70            3     1   \n",
      "3          3  17623       2     169    82.0    150    100            1     1   \n",
      "4          4  17474       1     156    56.0    100     60            1     1   \n",
      "5          8  21914       1     151    67.0    120     80            2     2   \n",
      "6          9  22113       1     157    93.0    130     80            3     1   \n",
      "7         12  22584       2     178    95.0    130     90            3     3   \n",
      "8         13  17668       1     158    71.0    110     70            1     1   \n",
      "9         14  19834       1     164    68.0    110     60            1     1   \n",
      "10        15  22530       1     169    80.0    120     80            1     1   \n",
      "11        16  18815       2     173    60.0    120     80            1     1   \n",
      "12        18  14791       2     165    60.0    120     80            1     1   \n",
      "13        21  19809       1     158    78.0    110     70            1     1   \n",
      "14        23  14532       2     181    95.0    130     90            1     1   \n",
      "15        24  16782       2     172   112.0    120     80            1     1   \n",
      "16        25  21296       1     170    75.0    130     70            1     1   \n",
      "17        27  16747       1     158    52.0    110     70            1     3   \n",
      "18        28  17482       1     154    68.0    100     70            1     1   \n",
      "19        29  21755       2     162    56.0    120     70            1     1   \n",
      "20        30  19778       2     163    83.0    120     80            1     1   \n",
      "21        31  21413       1     157    69.0    130     80            1     1   \n",
      "22        32  23046       1     158    90.0    145     85            2     2   \n",
      "23        33  23376       2     156    45.0    110     60            1     1   \n",
      "24        35  16608       1     170    68.0    150     90            3     1   \n",
      "25        36  14453       1     153    65.0    130    100            2     1   \n",
      "26        37  19559       1     156    59.0    130     90            1     1   \n",
      "27        38  18085       1     159    78.0    120     80            1     1   \n",
      "28        39  14574       2     166    66.0    120     80            1     1   \n",
      "29        40  21057       2     169    74.0    130     70            1     3   \n",
      "...      ...    ...     ...     ...     ...    ...    ...          ...   ...   \n",
      "69970  99958  22572       2     173   103.0    140     80            3     1   \n",
      "69971  99959  20136       2     177    80.0    130     80            1     1   \n",
      "69972  99960  17065       1     165    76.0    140     90            1     1   \n",
      "69973  99961  22142       2     175    72.0    130     80            1     1   \n",
      "69974  99962  18226       1     168    75.0    120     80            1     1   \n",
      "69975  99963  21264       2     182   100.0    120     80            1     1   \n",
      "69976  99964  21699       1     163    65.0    120     80            2     2   \n",
      "69977  99965  16843       1     168    75.0    120     79            1     1   \n",
      "69978  99967  18800       1     163    78.0     90     60            1     1   \n",
      "69979  99969  22423       1     163    74.0    160    100            2     2   \n",
      "69980  99971  17727       2     167    69.0    110     80            1     1   \n",
      "69981  99972  17500       2     182   110.0    130     90            2     2   \n",
      "69982  99973  18941       1     153    86.0    130     90            1     2   \n",
      "69983  99974  19652       1     165    72.0    120     80            1     1   \n",
      "69984  99975  17926       2     168    80.0    120     80            1     1   \n",
      "69985  99977  18194       1     156   102.0    130     80            1     1   \n",
      "69986  99978  18198       2     180    78.0    120     80            1     1   \n",
      "69987  99979  18852       1     151    49.0    120     80            1     1   \n",
      "69988  99981  21978       1     160    59.0    110     70            1     1   \n",
      "69989  99985  21013       1     157    83.0    120     70            1     1   \n",
      "69990  99986  15094       1     168    72.0    110     70            1     1   \n",
      "69991  99988  20609       1     159    72.0    130     90            2     2   \n",
      "69992  99990  18792       1     161    56.0    170     90            1     1   \n",
      "69993  99991  19699       1     172    70.0    130     90            1     1   \n",
      "69994  99992  21074       1     165    80.0    150     80            1     1   \n",
      "69995  99993  19240       2     168    76.0    120     80            1     1   \n",
      "69996  99995  22601       1     158   126.0    140     90            2     2   \n",
      "69997  99996  19066       2     183   105.0    180     90            3     1   \n",
      "69998  99998  22431       1     163    72.0    135     80            1     2   \n",
      "69999  99999  20540       1     170    72.0    120     80            2     1   \n",
      "\n",
      "       smoke  alco  active  cardio  \n",
      "0          0     0       1       0  \n",
      "1          0     0       1       1  \n",
      "2          0     0       0       1  \n",
      "3          0     0       1       1  \n",
      "4          0     0       0       0  \n",
      "5          0     0       0       0  \n",
      "6          0     0       1       0  \n",
      "7          0     0       1       1  \n",
      "8          0     0       1       0  \n",
      "9          0     0       0       0  \n",
      "10         0     0       1       0  \n",
      "11         0     0       1       0  \n",
      "12         0     0       0       0  \n",
      "13         0     0       1       0  \n",
      "14         1     1       1       0  \n",
      "15         0     0       0       1  \n",
      "16         0     0       0       0  \n",
      "17         0     0       1       0  \n",
      "18         0     0       0       0  \n",
      "19         1     0       1       0  \n",
      "20         0     0       1       0  \n",
      "21         0     0       1       0  \n",
      "22         0     0       1       1  \n",
      "23         0     0       1       0  \n",
      "24         0     0       1       1  \n",
      "25         0     0       1       0  \n",
      "26         0     0       1       0  \n",
      "27         0     0       1       0  \n",
      "28         0     0       1       0  \n",
      "29         0     0       0       0  \n",
      "...      ...   ...     ...     ...  \n",
      "69970      1     1       0       1  \n",
      "69971      0     0       1       0  \n",
      "69972      0     0       1       1  \n",
      "69973      0     0       1       0  \n",
      "69974      0     0       1       0  \n",
      "69975      0     0       1       1  \n",
      "69976      0     0       1       0  \n",
      "69977      0     0       1       0  \n",
      "69978      0     0       1       1  \n",
      "69979      0     0       1       1  \n",
      "69980      0     1       0       0  \n",
      "69981      0     0       1       1  \n",
      "69982      0     0       1       1  \n",
      "69983      0     0       1       0  \n",
      "69984      0     0       1       1  \n",
      "69985      0     1       0       1  \n",
      "69986      0     0       1       0  \n",
      "69987      0     0       1       0  \n",
      "69988      0     0       1       0  \n",
      "69989      0     0       1       1  \n",
      "69990      0     0       1       1  \n",
      "69991      0     0       1       0  \n",
      "69992      0     0       1       1  \n",
      "69993      0     0       1       1  \n",
      "69994      0     0       1       1  \n",
      "69995      1     0       1       0  \n",
      "69996      0     0       1       1  \n",
      "69997      0     1       0       1  \n",
      "69998      0     0       0       1  \n",
      "69999      0     0       1       0  \n",
      "\n",
      "[70000 rows x 13 columns]\n"
     ]
    }
   ],
   "source": [
    "import pandas as pd\n",
    "import numpy as np\n",
    "import seaborn as sns\n",
    "import matplotlib as plt\n",
    "\n",
    "df = pd.read_csv('c:\\School Stuff\\DS\\Machine Learning I\\cardio_train_comma.csv')\n",
    "print(df)\n",
    "\n",
    "%matplotlib inline"
   ]
  },
  {
   "cell_type": "code",
   "execution_count": 2,
   "metadata": {},
   "outputs": [
    {
     "data": {
      "text/html": [
       "<div>\n",
       "<style scoped>\n",
       "    .dataframe tbody tr th:only-of-type {\n",
       "        vertical-align: middle;\n",
       "    }\n",
       "\n",
       "    .dataframe tbody tr th {\n",
       "        vertical-align: top;\n",
       "    }\n",
       "\n",
       "    .dataframe thead th {\n",
       "        text-align: right;\n",
       "    }\n",
       "</style>\n",
       "<table border=\"1\" class=\"dataframe\">\n",
       "  <thead>\n",
       "    <tr style=\"text-align: right;\">\n",
       "      <th></th>\n",
       "      <th>id</th>\n",
       "      <th>age</th>\n",
       "      <th>gender</th>\n",
       "      <th>height</th>\n",
       "      <th>weight</th>\n",
       "      <th>ap_hi</th>\n",
       "      <th>ap_lo</th>\n",
       "      <th>cholesterol</th>\n",
       "      <th>gluc</th>\n",
       "      <th>smoke</th>\n",
       "      <th>alco</th>\n",
       "      <th>active</th>\n",
       "      <th>cardio</th>\n",
       "      <th>BMI</th>\n",
       "      <th>ageyr</th>\n",
       "    </tr>\n",
       "  </thead>\n",
       "  <tbody>\n",
       "    <tr>\n",
       "      <th>0</th>\n",
       "      <td>0</td>\n",
       "      <td>18393</td>\n",
       "      <td>2</td>\n",
       "      <td>168</td>\n",
       "      <td>62.0</td>\n",
       "      <td>110</td>\n",
       "      <td>80</td>\n",
       "      <td>1</td>\n",
       "      <td>1</td>\n",
       "      <td>0</td>\n",
       "      <td>0</td>\n",
       "      <td>1</td>\n",
       "      <td>0</td>\n",
       "      <td>21.967120</td>\n",
       "      <td>51.091667</td>\n",
       "    </tr>\n",
       "    <tr>\n",
       "      <th>1</th>\n",
       "      <td>1</td>\n",
       "      <td>20228</td>\n",
       "      <td>1</td>\n",
       "      <td>156</td>\n",
       "      <td>85.0</td>\n",
       "      <td>140</td>\n",
       "      <td>90</td>\n",
       "      <td>3</td>\n",
       "      <td>1</td>\n",
       "      <td>0</td>\n",
       "      <td>0</td>\n",
       "      <td>1</td>\n",
       "      <td>1</td>\n",
       "      <td>34.927679</td>\n",
       "      <td>56.188889</td>\n",
       "    </tr>\n",
       "    <tr>\n",
       "      <th>2</th>\n",
       "      <td>2</td>\n",
       "      <td>18857</td>\n",
       "      <td>1</td>\n",
       "      <td>165</td>\n",
       "      <td>64.0</td>\n",
       "      <td>130</td>\n",
       "      <td>70</td>\n",
       "      <td>3</td>\n",
       "      <td>1</td>\n",
       "      <td>0</td>\n",
       "      <td>0</td>\n",
       "      <td>0</td>\n",
       "      <td>1</td>\n",
       "      <td>23.507805</td>\n",
       "      <td>52.380556</td>\n",
       "    </tr>\n",
       "    <tr>\n",
       "      <th>3</th>\n",
       "      <td>3</td>\n",
       "      <td>17623</td>\n",
       "      <td>2</td>\n",
       "      <td>169</td>\n",
       "      <td>82.0</td>\n",
       "      <td>150</td>\n",
       "      <td>100</td>\n",
       "      <td>1</td>\n",
       "      <td>1</td>\n",
       "      <td>0</td>\n",
       "      <td>0</td>\n",
       "      <td>1</td>\n",
       "      <td>1</td>\n",
       "      <td>28.710479</td>\n",
       "      <td>48.952778</td>\n",
       "    </tr>\n",
       "    <tr>\n",
       "      <th>4</th>\n",
       "      <td>4</td>\n",
       "      <td>17474</td>\n",
       "      <td>1</td>\n",
       "      <td>156</td>\n",
       "      <td>56.0</td>\n",
       "      <td>100</td>\n",
       "      <td>60</td>\n",
       "      <td>1</td>\n",
       "      <td>1</td>\n",
       "      <td>0</td>\n",
       "      <td>0</td>\n",
       "      <td>0</td>\n",
       "      <td>0</td>\n",
       "      <td>23.011177</td>\n",
       "      <td>48.538889</td>\n",
       "    </tr>\n",
       "  </tbody>\n",
       "</table>\n",
       "</div>"
      ],
      "text/plain": [
       "   id    age  gender  height  weight  ap_hi  ap_lo  cholesterol  gluc  smoke  \\\n",
       "0   0  18393       2     168    62.0    110     80            1     1      0   \n",
       "1   1  20228       1     156    85.0    140     90            3     1      0   \n",
       "2   2  18857       1     165    64.0    130     70            3     1      0   \n",
       "3   3  17623       2     169    82.0    150    100            1     1      0   \n",
       "4   4  17474       1     156    56.0    100     60            1     1      0   \n",
       "\n",
       "   alco  active  cardio        BMI      ageyr  \n",
       "0     0       1       0  21.967120  51.091667  \n",
       "1     0       1       1  34.927679  56.188889  \n",
       "2     0       0       1  23.507805  52.380556  \n",
       "3     0       1       1  28.710479  48.952778  \n",
       "4     0       0       0  23.011177  48.538889  "
      ]
     },
     "execution_count": 2,
     "metadata": {},
     "output_type": "execute_result"
    }
   ],
   "source": [
    "\n",
    "df['BMI'] = df['weight']/((df['height']/100)**2)\n",
    "df['ageyr'] = df['age']/360\n",
    "df.head()\n"
   ]
  },
  {
   "cell_type": "markdown",
   "metadata": {},
   "source": [
    "# Data Meaning Type"
   ]
  },
  {
   "cell_type": "code",
   "execution_count": null,
   "metadata": {},
   "outputs": [],
   "source": [
    "\n"
   ]
  },
  {
   "cell_type": "raw",
   "metadata": {},
   "source": [
    "The Cardio dataset we used contains 70,000 rows and 12 Columns. \n",
    "\n",
    "<b>Data Definition</b>:\n",
    "\n",
    "<b>age</b> (Objective):    The age of the patient in days.  Values range from 10798 days (29 years) to 23713 days (about 65 years)\n",
    "<br><b>height</b> (Objective):   The height of the patient in centimeters.  \n",
    "<br><b>weight</b> (Objective):  The weight of the patient in Kilograms\n",
    "<br><b>gender</b>: (Objective):  Categorical code of 1 for woman or 2 for man\n",
    "<br><b>ap_hi</b>:  (Examination):  Systolic Blood Pressure   Integer \n",
    "<br><b>ap_lo</b> (Examination):  Diastolic blood pressure   Integer\n",
    "<br><b>cholesterol</b> (Examination): 1: normal, 2: above normal, 3: well above normal\n",
    "<br><b>gluc</b>  (Examination):  Glucose  1: normal, 2: above normal, 3: well above normal\n",
    "<br><b>smoke</b> (Subjective)   Indicator to determine whether patient smokes or not  (binary)\n",
    "<br><b>alco</b> (Subjective): Indicator to determine if patient drinks alcohol or not (binary)\n",
    "<br><b>active</b> (Subjective): Indicator to determine if patient is active or not (binary)\n",
    "<br><b>cardio</b>:  Target variable to determine if heart disease is present (binary)\n"
   ]
  },
  {
   "cell_type": "markdown",
   "metadata": {},
   "source": [
    "<b>The following are variables created within the EDA process:</b>\n",
    "<br>\n",
    "<br><b>age_yr</b>: Age in years.   Age (in days) / 360\n",
    "<br><b>new cholesterol column</b>:  Normal (cholesterol = 1) or High (cholesterol = 2 or 3)\n",
    "<br><b>new glucose column</b>:  Normal (gluc=1) or High (gluc = 2 or 3) \n",
    "<br><b>BMI</b>: Body Mass Index calculated as folows: <b> weight (in kg) / (height(in cm)/100)^2 </b>\n",
    "<br>\n",
    "<br><b>bmiGrp</b>: Grouping body mass index into 4 categorical groups:\n",
    "<br><b>Values</b>\n",
    "<br><b> 1</b>: Underweight: BMI < 18.5)\n",
    "<br><b> 2</b>: Normal: BMI between 18.5 and 25\n",
    "<br><b> 3</b>: Over Weight: BMI between 25 and 30\n",
    "<br><b> 4</b>: Obese:  BMI  > 30\n",
    "<br>\n",
    "<br><b>bp</b>: Grouping blood pressure into 4 categorical groups:\n",
    "<br><b> Values</b>\n",
    "<br><b> 1</b>: Normal:  Systolic Blood Pressure Less than 120 and Diastolic blood pressure Less than 80\n",
    "<br><b> 2</b>: Elevated:  Systolic Blood Pressure between 120 and 130 and Diastolic blood pressure Less than 80\n",
    "<br><b> 3</b>: Hyper_Stage_1: Systolic Blood Pressure between 130 and 140 and Diastolic blood pressure between 80 and 90\n",
    "<br><b> 4</b>: Hyper_Stage_2:  Systolic Blood Pressure greater or equal to 140 and Diastolic greater than or equal to 90\n",
    "<br><b> 5</b>: Hyper_Stage_3: Systolic Blood Pressure greater than 180 and Diastolic blood pressure greater than 120\n",
    "\n"
   ]
  },
  {
   "cell_type": "markdown",
   "metadata": {},
   "source": []
  },
  {
   "cell_type": "markdown",
   "metadata": {},
   "source": [
    "df.age.min()  \n"
   ]
  },
  {
   "cell_type": "markdown",
   "metadata": {},
   "source": [
    "# Data Quality"
   ]
  },
  {
   "cell_type": "code",
   "execution_count": 3,
   "metadata": {},
   "outputs": [
    {
     "data": {
      "text/plain": [
       "(64944, 15)"
      ]
     },
     "execution_count": 3,
     "metadata": {},
     "output_type": "execute_result"
    }
   ],
   "source": [
    "df=df.loc[(df.ap_lo>60) & (df.ap_lo<120) & (df.ap_hi<200) & (df.ap_hi>90) & (df.weight>45) & (df.weight<300) & (df.height<200) & (df.height>130)]\n",
    "df.shape"
   ]
  },
  {
   "cell_type": "code",
   "execution_count": null,
   "metadata": {},
   "outputs": [],
   "source": []
  },
  {
   "cell_type": "markdown",
   "metadata": {},
   "source": [
    "# Simple Statistics"
   ]
  },
  {
   "cell_type": "code",
   "execution_count": null,
   "metadata": {},
   "outputs": [],
   "source": []
  },
  {
   "cell_type": "markdown",
   "metadata": {},
   "source": [
    "# Visualize Attributes"
   ]
  },
  {
   "cell_type": "code",
   "execution_count": null,
   "metadata": {},
   "outputs": [],
   "source": []
  },
  {
   "cell_type": "markdown",
   "metadata": {},
   "source": [
    "# Explore Joint Attributes"
   ]
  },
  {
   "cell_type": "code",
   "execution_count": null,
   "metadata": {},
   "outputs": [],
   "source": []
  },
  {
   "cell_type": "markdown",
   "metadata": {},
   "source": [
    "# Explore Attributes & Class"
   ]
  },
  {
   "cell_type": "code",
   "execution_count": 3,
   "metadata": {},
   "outputs": [
    {
     "data": {
      "text/html": [
       "<div>\n",
       "<style scoped>\n",
       "    .dataframe tbody tr th:only-of-type {\n",
       "        vertical-align: middle;\n",
       "    }\n",
       "\n",
       "    .dataframe tbody tr th {\n",
       "        vertical-align: top;\n",
       "    }\n",
       "\n",
       "    .dataframe thead th {\n",
       "        text-align: right;\n",
       "    }\n",
       "</style>\n",
       "<table border=\"1\" class=\"dataframe\">\n",
       "  <thead>\n",
       "    <tr style=\"text-align: right;\">\n",
       "      <th></th>\n",
       "      <th>id</th>\n",
       "      <th>age</th>\n",
       "      <th>gender</th>\n",
       "      <th>height</th>\n",
       "      <th>weight</th>\n",
       "      <th>ap_hi</th>\n",
       "      <th>ap_lo</th>\n",
       "      <th>cholesterol</th>\n",
       "      <th>gluc</th>\n",
       "      <th>smoke</th>\n",
       "      <th>alco</th>\n",
       "      <th>active</th>\n",
       "      <th>cardio</th>\n",
       "      <th>BMI</th>\n",
       "      <th>ageyr</th>\n",
       "      <th>age_yr</th>\n",
       "    </tr>\n",
       "  </thead>\n",
       "  <tbody>\n",
       "    <tr>\n",
       "      <th>0</th>\n",
       "      <td>0</td>\n",
       "      <td>18393</td>\n",
       "      <td>2</td>\n",
       "      <td>168</td>\n",
       "      <td>62.0</td>\n",
       "      <td>110</td>\n",
       "      <td>80</td>\n",
       "      <td>1</td>\n",
       "      <td>1</td>\n",
       "      <td>0</td>\n",
       "      <td>0</td>\n",
       "      <td>1</td>\n",
       "      <td>0</td>\n",
       "      <td>21.967120</td>\n",
       "      <td>51.091667</td>\n",
       "      <td>51.091667</td>\n",
       "    </tr>\n",
       "    <tr>\n",
       "      <th>1</th>\n",
       "      <td>1</td>\n",
       "      <td>20228</td>\n",
       "      <td>1</td>\n",
       "      <td>156</td>\n",
       "      <td>85.0</td>\n",
       "      <td>140</td>\n",
       "      <td>90</td>\n",
       "      <td>3</td>\n",
       "      <td>1</td>\n",
       "      <td>0</td>\n",
       "      <td>0</td>\n",
       "      <td>1</td>\n",
       "      <td>1</td>\n",
       "      <td>34.927679</td>\n",
       "      <td>56.188889</td>\n",
       "      <td>56.188889</td>\n",
       "    </tr>\n",
       "    <tr>\n",
       "      <th>2</th>\n",
       "      <td>2</td>\n",
       "      <td>18857</td>\n",
       "      <td>1</td>\n",
       "      <td>165</td>\n",
       "      <td>64.0</td>\n",
       "      <td>130</td>\n",
       "      <td>70</td>\n",
       "      <td>3</td>\n",
       "      <td>1</td>\n",
       "      <td>0</td>\n",
       "      <td>0</td>\n",
       "      <td>0</td>\n",
       "      <td>1</td>\n",
       "      <td>23.507805</td>\n",
       "      <td>52.380556</td>\n",
       "      <td>52.380556</td>\n",
       "    </tr>\n",
       "    <tr>\n",
       "      <th>3</th>\n",
       "      <td>3</td>\n",
       "      <td>17623</td>\n",
       "      <td>2</td>\n",
       "      <td>169</td>\n",
       "      <td>82.0</td>\n",
       "      <td>150</td>\n",
       "      <td>100</td>\n",
       "      <td>1</td>\n",
       "      <td>1</td>\n",
       "      <td>0</td>\n",
       "      <td>0</td>\n",
       "      <td>1</td>\n",
       "      <td>1</td>\n",
       "      <td>28.710479</td>\n",
       "      <td>48.952778</td>\n",
       "      <td>48.952778</td>\n",
       "    </tr>\n",
       "    <tr>\n",
       "      <th>4</th>\n",
       "      <td>4</td>\n",
       "      <td>17474</td>\n",
       "      <td>1</td>\n",
       "      <td>156</td>\n",
       "      <td>56.0</td>\n",
       "      <td>100</td>\n",
       "      <td>60</td>\n",
       "      <td>1</td>\n",
       "      <td>1</td>\n",
       "      <td>0</td>\n",
       "      <td>0</td>\n",
       "      <td>0</td>\n",
       "      <td>0</td>\n",
       "      <td>23.011177</td>\n",
       "      <td>48.538889</td>\n",
       "      <td>48.538889</td>\n",
       "    </tr>\n",
       "  </tbody>\n",
       "</table>\n",
       "</div>"
      ],
      "text/plain": [
       "   id    age  gender  height  weight  ap_hi  ap_lo  cholesterol  gluc  smoke  \\\n",
       "0   0  18393       2     168    62.0    110     80            1     1      0   \n",
       "1   1  20228       1     156    85.0    140     90            3     1      0   \n",
       "2   2  18857       1     165    64.0    130     70            3     1      0   \n",
       "3   3  17623       2     169    82.0    150    100            1     1      0   \n",
       "4   4  17474       1     156    56.0    100     60            1     1      0   \n",
       "\n",
       "   alco  active  cardio        BMI      ageyr     age_yr  \n",
       "0     0       1       0  21.967120  51.091667  51.091667  \n",
       "1     0       1       1  34.927679  56.188889  56.188889  \n",
       "2     0       0       1  23.507805  52.380556  52.380556  \n",
       "3     0       1       1  28.710479  48.952778  48.952778  \n",
       "4     0       0       0  23.011177  48.538889  48.538889  "
      ]
     },
     "execution_count": 3,
     "metadata": {},
     "output_type": "execute_result"
    }
   ],
   "source": [
    "df['BMI'] = df['weight']/((df['height']/100)**2)\n",
    "df['age_yr'] = df['age']/360\n",
    "df.head()"
   ]
  },
  {
   "cell_type": "code",
   "execution_count": null,
   "metadata": {},
   "outputs": [],
   "source": [
    "sns.countplot(y='age_yr', hue='cardio', data = df);"
   ]
  },
  {
   "cell_type": "code",
   "execution_count": 6,
   "metadata": {},
   "outputs": [
    {
     "data": {
      "text/plain": [
       "Text(0.5, 0, 'Gender (1=Female, 2=Male)')"
      ]
     },
     "execution_count": 6,
     "metadata": {},
     "output_type": "execute_result"
    },
    {
     "data": {
      "image/png": "[encoded data removed]",
      "text/plain": [
       "<Figure size 432x288 with 1 Axes>"
      ]
     },
     "metadata": {
      "needs_background": "light"
     },
     "output_type": "display_data"
    }
   ],
   "source": [
    "bc=sns.countplot(x=\"gender\", hue=\"cardio\",palette=\"muted\",data=df)\n",
    "bc.set_title('Gender and Cardiovascular Disease')\n",
    "bc.set_ylabel('Patient Count')\n",
    "bc.set_xlabel('Gender (1=Female, 2=Male)')"
   ]
  },
  {
   "cell_type": "raw",
   "metadata": {},
   "source": [
    "There are more women than men in the cardio data.   These graphs do not show a significant difference in cardiovascular disease between men and women."
   ]
  },
  {
   "cell_type": "code",
   "execution_count": 5,
   "metadata": {},
   "outputs": [
    {
     "ename": "NameError",
     "evalue": "name 'df1' is not defined",
     "output_type": "error",
     "traceback": [
      "\u001b[1;31m---------------------------------------------------------------------------\u001b[0m",
      "\u001b[1;31mNameError\u001b[0m                                 Traceback (most recent call last)",
      "\u001b[1;32m<ipython-input-5-c797bfa7ef33>\u001b[0m in \u001b[0;36m<module>\u001b[1;34m\u001b[0m\n\u001b[1;32m----> 1\u001b[1;33m \u001b[0msns\u001b[0m\u001b[1;33m.\u001b[0m\u001b[0mbarplot\u001b[0m\u001b[1;33m(\u001b[0m\u001b[0mx\u001b[0m\u001b[1;33m=\u001b[0m\u001b[1;34m'cardio'\u001b[0m\u001b[1;33m,\u001b[0m \u001b[0my\u001b[0m\u001b[1;33m=\u001b[0m\u001b[1;34m'Blood_Pressure_Level_D'\u001b[0m\u001b[1;33m,\u001b[0m \u001b[0mdata\u001b[0m\u001b[1;33m=\u001b[0m\u001b[0mdf1\u001b[0m\u001b[1;33m,\u001b[0m \u001b[0msaturation\u001b[0m\u001b[1;33m=\u001b[0m\u001b[1;36m0.8\u001b[0m\u001b[1;33m)\u001b[0m\u001b[1;33m\u001b[0m\u001b[1;33m\u001b[0m\u001b[0m\n\u001b[0m\u001b[0;32m      2\u001b[0m \u001b[0mplt\u001b[0m\u001b[1;33m.\u001b[0m\u001b[0mtitle\u001b[0m\u001b[1;33m(\u001b[0m\u001b[1;34m'Cardiac Event and Dyastolic Blood Pressure'\u001b[0m\u001b[1;33m)\u001b[0m\u001b[1;33m\u001b[0m\u001b[1;33m\u001b[0m\u001b[0m\n",
      "\u001b[1;31mNameError\u001b[0m: name 'df1' is not defined"
     ]
    }
   ],
   "source": [
    "sns.barplot(x='cardio', y='Blood_Pressure_Level_D', data=df1, saturation=0.8)\n",
    "plt.title('Cardiac Event and Dyastolic Blood Pressure')"
   ]
  },
  {
   "cell_type": "code",
   "execution_count": 4,
   "metadata": {},
   "outputs": [
    {
     "data": {
      "text/plain": [
       "Text(0.5, 0, 'Cholesterol (1=Normal, 2=Above Normal, 3=Well Above Normal)')"
      ]
     },
     "execution_count": 4,
     "metadata": {},
     "output_type": "execute_result"
    },
    {
     "data": {
      "image/png": "[encoded data removed]",
      "text/plain": [
       "<Figure size 432x288 with 1 Axes>"
      ]
     },
     "metadata": {
      "needs_background": "light"
     },
     "output_type": "display_data"
    }
   ],
   "source": [
    "bc=sns.countplot(x=\"cholesterol\", hue=\"cardio\",  alpha=.5, palette=\"muted\",data=df)\n",
    "bc.set_title('Cholesterol Categories Vs Cardiovascular Disease')\n",
    "bc.set_ylabel('Patient Count')\n",
    "bc.set_xlabel('Cholesterol (1=Normal, 2=Above Normal, 3=Well Above Normal)')"
   ]
  },
  {
   "cell_type": "code",
   "execution_count": null,
   "metadata": {},
   "outputs": [],
   "source": [
    "Cholesterol values over 1 seem to have an impact on cardiovascular disease."
   ]
  },
  {
   "cell_type": "code",
   "execution_count": 7,
   "metadata": {},
   "outputs": [
    {
     "data": {
      "text/plain": [
       "Text(0.5, 0, 'Glucose (1=Normal, 2=Above Normal, 3=Well Above Normal)')"
      ]
     },
     "execution_count": 7,
     "metadata": {},
     "output_type": "execute_result"
    },
    {
     "data": {
      "image/png": "[encoded data removed]",
      "text/plain": [
       "<Figure size 432x288 with 1 Axes>"
      ]
     },
     "metadata": {
      "needs_background": "light"
     },
     "output_type": "display_data"
    }
   ],
   "source": [
    "bc=sns.countplot(x=\"gluc\", hue=\"cardio\",  alpha=.5, palette=\"muted\",data=df)\n",
    "bc.set_title('Glucose Categories Vs Cardiovascular Disease')\n",
    "bc.set_ylabel('Patient Count')\n",
    "bc.set_xlabel('Glucose (1=Normal, 2=Above Normal, 3=Well Above Normal)')"
   ]
  },
  {
   "cell_type": "code",
   "execution_count": 8,
   "metadata": {},
   "outputs": [
    {
     "data": {
      "text/plain": [
       "Text(0.5, 0, 'Smoker')"
      ]
     },
     "execution_count": 8,
     "metadata": {},
     "output_type": "execute_result"
    },
    {
     "data": {
      "image/png": "[encoded data removed]",
      "text/plain": [
       "<Figure size 432x288 with 1 Axes>"
      ]
     },
     "metadata": {
      "needs_background": "light"
     },
     "output_type": "display_data"
    }
   ],
   "source": [
    "bc=sns.countplot(x=\"smoke\", hue=\"cardio\",  alpha=.5, palette=\"muted\",data=df)\n",
    "bc.set_title('Smoking Vs Cardiovascular Disease')\n",
    "bc.set_ylabel('Patient Count')\n",
    "bc.set_xlabel('Smoker')"
   ]
  },
  {
   "cell_type": "code",
   "execution_count": 9,
   "metadata": {},
   "outputs": [
    {
     "data": {
      "text/plain": [
       "Text(0.5, 0, 'Drinks Alcohol')"
      ]
     },
     "execution_count": 9,
     "metadata": {},
     "output_type": "execute_result"
    },
    {
     "data": {
      "image/png": "[encoded data removed]",
      "text/plain": [
       "<Figure size 432x288 with 1 Axes>"
      ]
     },
     "metadata": {
      "needs_background": "light"
     },
     "output_type": "display_data"
    }
   ],
   "source": [
    "bc=sns.countplot(x=\"alco\", hue=\"cardio\",  alpha=.5, palette=\"muted\",data=df)\n",
    "bc.set_title('Alcohol Vs Cardiovascular Disease')\n",
    "bc.set_ylabel('Patient Count')\n",
    "bc.set_xlabel('Drinks Alcohol')"
   ]
  },
  {
   "cell_type": "code",
   "execution_count": 10,
   "metadata": {},
   "outputs": [
    {
     "data": {
      "text/plain": [
       "Text(0.5, 0, 'Active')"
      ]
     },
     "execution_count": 10,
     "metadata": {},
     "output_type": "execute_result"
    },
    {
     "data": {
      "image/png": "[encoded data removed]",
      "text/plain": [
       "<Figure size 432x288 with 1 Axes>"
      ]
     },
     "metadata": {
      "needs_background": "light"
     },
     "output_type": "display_data"
    }
   ],
   "source": [
    "bc=sns.countplot(x=\"alco\", hue=\"cardio\",  alpha=.5, palette=\"muted\",data=df)\n",
    "bc.set_title('Active Vs Cardiovascular Disease')\n",
    "bc.set_ylabel('Patient Count')\n",
    "bc.set_xlabel('Active')"
   ]
  },
  {
   "cell_type": "code",
   "execution_count": 11,
   "metadata": {},
   "outputs": [
    {
     "data": {
      "image/png": "[encoded data removed]",
      "text/plain": [
       "<Figure size 1071.12x720 with 2 Axes>"
      ]
     },
     "metadata": {
      "needs_background": "light"
     },
     "output_type": "display_data"
    }
   ],
   "source": [
    "df['BMI'] = df['weight']/((df['height']/100)**2)\n",
    "sns.catplot(x=\"gender\", y=\"BMI\", hue=\"cholesterol\", col=\"cardio\", data=df, color = 'cyan',kind=\"box\", height=10, aspect=.7);"
   ]
  },
  {
   "cell_type": "code",
   "execution_count": null,
   "metadata": {},
   "outputs": [],
   "source": [
    "dff=df[(df.gender==1)]\n",
    "dfm=df[(df.gender==2)]\n",
    "dff.shape\n",
    "dff.head()\n",
    "dfm.shape\n",
    "dfm.head()\n"
   ]
  },
  {
   "cell_type": "code",
   "execution_count": null,
   "metadata": {},
   "outputs": [],
   "source": [
    "# Create high probability CVD frame\n",
    "df_cvd_hi=df[(df.ap_lo>80) & (df.ap_hi>120) & (df.ageyr>54) & (df.gluc>1) & (df.cholesterol>1) & (df.height>130)]\n",
    "df_cvd_him=dfm[(dfm.ap_lo>80) & (dfm.ap_hi>120) & (dfm.ageyr>54) & (dfm.gluc>1) & (dfm.cholesterol>1) & (dfm.height>130)]\n",
    "df_cvd_hif=dff[(dff.ap_lo>80) & (dff.ap_hi>120) & (dff.ageyr>54) & (dff.gluc>1) & (dff.cholesterol>1) & (dff.height>130)]"
   ]
  },
  {
   "cell_type": "code",
   "execution_count": null,
   "metadata": {},
   "outputs": [],
   "source": [
    "df_cvd_hi[\"cardio\"].value_counts().plot(kind='pie')"
   ]
  },
  {
   "cell_type": "markdown",
   "metadata": {},
   "source": [
    "# New Features"
   ]
  },
  {
   "cell_type": "code",
   "execution_count": null,
   "metadata": {},
   "outputs": [],
   "source": [
    "df_cvd_hif[\"cardio\"].value_counts().plot(kind='pie')"
   ]
  },
  {
   "cell_type": "code",
   "execution_count": null,
   "metadata": {},
   "outputs": [],
   "source": [
    "df_cvd_him[\"cardio\"].value_counts().plot(kind='pie')"
   ]
  },
  {
   "cell_type": "code",
   "execution_count": null,
   "metadata": {},
   "outputs": [],
   "source": [
    "df_cvd_hi[\"cardio\"].value_counts()"
   ]
  },
  {
   "cell_type": "code",
   "execution_count": null,
   "metadata": {},
   "outputs": [],
   "source": [
    "df_cvd_him[\"cardio\"].value_counts()"
   ]
  },
  {
   "cell_type": "code",
   "execution_count": null,
   "metadata": {},
   "outputs": [],
   "source": [
    "df_cvd_hif[\"cardio\"].value_counts()"
   ]
  },
  {
   "cell_type": "code",
   "execution_count": null,
   "metadata": {},
   "outputs": [],
   "source": [
    "# Create high probability CVD frame\n",
    "df_cvd_hi=df[(df.ap_lo>80) & (df.ap_hi>120) & (df.ageyr>54) & (df.gluc>1) & (df.cholesterol>1) & (df.BMI>30)]\n",
    " "
   ]
  },
  {
   "cell_type": "code",
   "execution_count": null,
   "metadata": {},
   "outputs": [],
   "source": [
    "df_cvd_hi[\"cardio\"].value_counts()\n"
   ]
  },
  {
   "cell_type": "code",
   "execution_count": null,
   "metadata": {},
   "outputs": [],
   "source": [
    "df_cvd_hif[\"cardio\"].value_counts().plot(kind='pie')"
   ]
  },
  {
   "cell_type": "code",
   "execution_count": null,
   "metadata": {},
   "outputs": [],
   "source": [
    "\n",
    "df_cvd_him=dfm[(dfm.ap_lo>80) & (dfm.ap_hi>120) & (dfm.ageyr > 50) & (dfm.BMI > 35) & (dfm.smoke ==1) & (dfm.gluc>1) & (dfm.cholesterol>1) ]\n",
    "df_cvd_hif=dff[(dff.ap_lo>80) &(dff.BMI > 35) & (dff.smoke ==1) & (dff.ap_hi>120) & (dff.ageyr>54) & (dff.gluc>1) & (dff.cholesterol>1) & (dff.height>130)]\n",
    "df_cvd_him[\"cardio\"].value_counts().plot(kind='pie')"
   ]
  },
  {
   "cell_type": "code",
   "execution_count": null,
   "metadata": {},
   "outputs": [],
   "source": [
    "df_cvd_him \n",
    "df_cvd_him[\"cardio\"].value_counts()"
   ]
  },
  {
   "cell_type": "markdown",
   "metadata": {},
   "source": [
    "# Exceptional Work"
   ]
  },
  {
   "cell_type": "code",
   "execution_count": null,
   "metadata": {},
   "outputs": [],
   "source": []
  }
 ],
 "metadata": {
  "kernelspec": {
   "display_name": "Python 3",
   "language": "python",
   "name": "python3"
  },
  "language_info": {
   "codemirror_mode": {
    "name": "ipython",
    "version": 3
   },
   "file_extension": ".py",
   "mimetype": "text/x-python",
   "name": "python",
   "nbconvert_exporter": "python",
   "pygments_lexer": "ipython3",
   "version": "3.7.6"
  }
 },
 "nbformat": 4,
 "nbformat_minor": 4
}
