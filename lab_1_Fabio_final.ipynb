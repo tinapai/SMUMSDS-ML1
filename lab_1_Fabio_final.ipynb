{
 "cells": [
  {
   "cell_type": "markdown",
   "metadata": {},
   "source": [
    "Business Understanding"
   ]
  },
  {
   "cell_type": "markdown",
   "metadata": {},
   "source": [
    "The percentage of total CHD events occurring in the population with established CHD was approximately 43% in both men and women, for CHD death 55% and 51%, and for nonfatal MI 35% and 36%, respectively. In those with established CHD 30% had more than 1 recurrent event. Therefore, we choose the cardiac dataset to predict the factors that are related to cardiac events, like hypertention, smoking, cholesterol among others factors. We will analize the outcome of cardiac disease(Miocardial infartion) as yes or not events."
   ]
  },
  {
   "cell_type": "markdown",
   "metadata": {},
   "source": [
    " Data Quality"
   ]
  },
  {
   "cell_type": "code",
   "execution_count": null,
   "metadata": {},
   "outputs": [],
   "source": [
    "n= df.isna().sum()\n",
    "n"
   ]
  },
  {
   "cell_type": "code",
   "execution_count": null,
   "metadata": {},
   "outputs": [],
   "source": [
    "df.duplicated(subset=None, keep='first')"
   ]
  },
  {
   "cell_type": "markdown",
   "metadata": {},
   "source": [
    " Data Outlier"
   ]
  },
  {
   "cell_type": "code",
   "execution_count": null,
   "metadata": {},
   "outputs": [],
   "source": [
    "#Histogram charts, to look at the distribution of the values in the column to investigate for outliers\n",
    "import seaborn as sns\n",
    "sns.set_style('whitegrid')\n",
    "df_num = df.select_dtypes(include=['float64'])\n",
    "df.hist(figsize =(14,12))"
   ]
  },
  {
   "cell_type": "code",
   "execution_count": null,
   "metadata": {},
   "outputs": [],
   "source": [
    "# Selected column to look for outliers\n",
    "dfs= df[[\"age\", \"height\", \"weight\", \"ap_hi\", \"ap_lo\"]]\n",
    "dfs"
   ]
  },
  {
   "cell_type": "code",
   "execution_count": null,
   "metadata": {},
   "outputs": [],
   "source": [
    "# Box plot of the diferents variables to gain more general information of the distribution values in the variables\n",
    "ax = dfs.boxplot()\n",
    "ax.set_yscale('log')"
   ]
  },
  {
   "cell_type": "code",
   "execution_count": null,
   "metadata": {},
   "outputs": [],
   "source": [
    "#Let exxamen the height, weight and blood pressure\n",
    "dfhw= df[[\"height\", \"weight\",\"ap_hi\", \"ap_lo\"]]\n",
    "dfhw\n",
    "\n",
    "dfbp= dfhw[np.abs(dfhw -dfhw.mean()) <= (3*dfhw.std())]\n",
    "dfhw\n",
    "dfhw.describe() "
   ]
  },
  {
   "cell_type": "markdown",
   "metadata": {},
   "source": [
    "By keeping only the ones that are within +3 to -3 standard deviations in the column selected. We have the display from the above code. So, in this case, this code does not help us, so we weill proceed to work each column by hand and take out the mistaken value in the code that follow below."
   ]
  },
  {
   "cell_type": "code",
   "execution_count": null,
   "metadata": {},
   "outputs": [],
   "source": [
    "# We address the outlier of the BP by taaking the reasonable blood presure measurement, \n",
    "# the other value likely are a mistake\n",
    "df1 = df[df[\"ap_hi\"] < 200]\n",
    "df1 = df1[df1[\"ap_hi\"] > 110]\n",
    "df1 = df1[df1[\"ap_lo\"] < 150]\n",
    "df1 = df1[df1[\"ap_lo\"] > 60]\n",
    "df1.describe()"
   ]
  },
  {
   "cell_type": "code",
   "execution_count": null,
   "metadata": {},
   "outputs": [],
   "source": [
    "# We address the weight with reasonable weight, the other values probably are a mistake\n",
    "df1 = df1[df1[\"weight\"] < 200]\n",
    "df1 = df1[df1[\"weight\"] > 55]\n",
    "df1.describe()"
   ]
  },
  {
   "cell_type": "code",
   "execution_count": null,
   "metadata": {},
   "outputs": [],
   "source": [
    "# We address the hight, the other values probably are a mistake\n",
    "df1 = df1[df1[\"height\"] < 200]\n",
    "df1 = df1[df1[\"height\"] > 130]\n",
    "df1.describe()"
   ]
  },
  {
   "cell_type": "markdown",
   "metadata": {},
   "source": [
    "The age is appropriate for a human person from 30 to 65 year old.Please see below"
   ]
  },
  {
   "cell_type": "code",
   "execution_count": null,
   "metadata": {},
   "outputs": [],
   "source": [
    "df1.age.describe()\n",
    "age= df1.age/360\n",
    "age.describe"
   ]
  },
  {
   "cell_type": "markdown",
   "metadata": {},
   "source": [
    "This portion is important to me, it can go in the outstanding with others stuff created by you guys"
   ]
  },
  {
   "cell_type": "markdown",
   "metadata": {},
   "source": [
    "Normal blood pressure is below 120/80 mm Hg.If you’re an adult and your systolic pressure is 120 to 129, and your diastolic pressure is less than 80, you have elevated blood pressure. High blood pressure is a systolic pressure of 130 or higher,or a diastolic pressure of 80 or higher, that stays high over time. High blood pressure usually has no signs or symptoms. That’s why it is so dangerous. But it can be managed. Nearly half of the American population over age 20, has HBP, and many don’t even know it. Not treating high blood pressure is dangerous. High blood pressure increases the risk of heart attack and stroke. Stage 1(systolic BP 130 to 140 and dystolic blood presure more than 80) is more dangerous than just high blood pressure. Stage 2(systolic blood presure more than 140 to 180 and dystolic blood pressure more than 90), more dangerous than stage 1. Stage 3(systolic blood pressure more than 180 and dystolic blood pressure more than 120). Stage 3 is more dangerous than stage 1 and 2. In the graph above you can see how the higher the blood pressure in each of the levels(Normal, high blood pressure, stage1, stage 2, stage 3) the most likely to have a heart event."
   ]
  },
  {
   "cell_type": "code",
   "execution_count": null,
   "metadata": {},
   "outputs": [],
   "source": [
    "# bin blood pressure groups based on the api hi/ lo variables\n",
    "df1['bp'] = np.where((df1.ap_hi < 120) & (df1.ap_lo < 80), 1, 0)\n",
    "df1['bp'] = np.where((df1.ap_hi >= 120) & (df1.ap_hi < 130) & (df1.ap_lo < 80), 2, df1.bp)\n",
    "df1['bp'] = np.where((df1.ap_hi >= 130) & (df1.ap_hi < 140) | ((df1.ap_lo >= 80) & (df1.ap_lo < 90)), 3, df1.bp)\n",
    "df1['bp'] = np.where((df1.ap_hi >= 140) | (df1.ap_lo >= 90), 4, df1.bp)\n",
    "df1['bp'] = np.where((df1.ap_hi > 180) | (df1.ap_lo > 120), 5, df1.bp)\n",
    "df1"
   ]
  },
  {
   "cell_type": "code",
   "execution_count": null,
   "metadata": {},
   "outputs": [],
   "source": [
    "df1['bp1'] = pd.cut(df1.bp,[0,1,2,3,4,5],5,labels=['Normal','Elevated','Hyper_Stage1','Hyper_Stage2','Hyper_Stage3' ]) # this creates a new variable\n",
    "df1.bp1"
   ]
  },
  {
   "cell_type": "code",
   "execution_count": null,
   "metadata": {},
   "outputs": [],
   "source": [
    "import seaborn as sns\n",
    "\n",
    "sns.barplot(x='bp1', y='cardio', data=df1, saturation=0.8)\n",
    "plt.title('Cardiac Event and Blood Pressure')"
   ]
  },
  {
   "cell_type": "markdown",
   "metadata": {},
   "source": [
    "BMI Clasification"
   ]
  },
  {
   "cell_type": "code",
   "execution_count": null,
   "metadata": {},
   "outputs": [],
   "source": [
    "# compute the body mass index based on weight and height\n",
    "df1['bmi'] = df1['weight'] / (df1['height']/100)**2\n",
    "# create a BMI group\n",
    "df1['bmiGrp'] = np.where((df1.bmi < 18.5), 1, 0)\n",
    "df1['bmiGrp'] = np.where((df1.bmi >= 18.5) & (df1.bmi < 25), 2, df1.bmiGrp)\n",
    "df1['bmiGrp'] = np.where((df1.bmi >= 25) & (df1.bmi < 30), 3, df1.bmiGrp)\n",
    "df1['bmiGrp'] = np.where((df1.bmi >= 30), 4, df1.bmiGrp)"
   ]
  },
  {
   "cell_type": "code",
   "execution_count": null,
   "metadata": {},
   "outputs": [],
   "source": [
    "df1['bmiGrp1'] = pd.cut(df1.bmiGrp,[0,1,2,3,4],4,labels=['Under Weight','Normal Weight','Over Weight','Obese' ]) # this creates a new variable\n",
    "df1.bmiGrp1"
   ]
  },
  {
   "cell_type": "code",
   "execution_count": null,
   "metadata": {},
   "outputs": [],
   "source": [
    "sns.barplot(x='bmiGrp1', y='cardio', data=df1, saturation=0.8)\n",
    "plt.title('Cardiac Event and BMI')"
   ]
  }
 ],
 "metadata": {
  "kernelspec": {
   "display_name": "Python 3",
   "language": "python",
   "name": "python3"
  },
  "language_info": {
   "codemirror_mode": {
    "name": "ipython",
    "version": 3
   },
   "file_extension": ".py",
   "mimetype": "text/x-python",
   "name": "python",
   "nbconvert_exporter": "python",
   "pygments_lexer": "ipython3",
   "version": "3.7.4"
  }
 },
 "nbformat": 4,
 "nbformat_minor": 4
}
