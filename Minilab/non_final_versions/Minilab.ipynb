{
 "cells": [
  {
   "cell_type": "markdown",
   "metadata": {},
   "source": [
    "## Machine Learning I / Mini Lab Predictive Analysis\n",
    "<b>Authors:</b> Fabio Savorgnon, Tina Pai, Paritosh Rai, Ellen Lull\n",
    "<br><b>Data set from:</b> https://www.kaggle.com/sulianova/cardiovascular-disease-dataset"
   ]
  },
  {
   "cell_type": "markdown",
   "metadata": {},
   "source": [
    "After our initial Exploratory Data Analysis (EDA) project, we needed to pick a model that would predict if a patient would have cardiovascular disease based on the variables available in our data.  These are:  gender, systolic blood pressure, diastolic blood pressure, age, height and weight (which we used to calculate Body Mass Index or BMI), a cholesterol level indicator, a glucose level indicator, and indicators to identify if a patient used alcohol, smoked or was active.    You can view the full descriptions of these data elements in our EDA document.\n",
    "<br>  \n",
    "\n",
    "During our EDA, we determined that the factors that had the highest level of correlation to cardiovascular disease were:   Blood pressure, BMI, Age, Cholesterol and Glucose.     However, we didn’t want to limit ourselves to only these.   So, we ran five combinations of the variables.  For each combination of variables, we ran both SVM and Logistic Regression models.  For each combination and method, we ran with scaled data and un-scaled data.   Our findings are documented below.\n"
   ]
  },
  {
   "cell_type": "markdown",
   "metadata": {},
   "source": [
    "# Setup\n"
   ]
  },
  {
   "cell_type": "code",
   "execution_count": 50,
   "metadata": {},
   "outputs": [],
   "source": [
    "import numpy as np\n",
    "import pandas as pd\n",
    "from sklearn.preprocessing import StandardScaler\n",
    "from sklearn.pipeline import Pipeline\n",
    "from sklearn.linear_model import SGDClassifier\n",
    "from sklearn.model_selection import cross_val_score\n",
    "from sklearn.preprocessing import OneHotEncoder\n",
    "from sklearn.model_selection import ShuffleSplit\n",
    "from sklearn import metrics as mt\n",
    "from sklearn.svm import SVC\n",
    "from sklearn.linear_model import LogisticRegression\n",
    "from sklearn.model_selection import GridSearchCV\n",
    "from sklearn.metrics import roc_auc_score\n",
    "from sklearn.datasets import make_classification\n",
    "from sklearn.model_selection import train_test_split\n",
    "from sklearn.metrics import roc_curve\n",
    "from sklearn.metrics import roc_auc_score\n",
    "from matplotlib import pyplot\n",
    "from sklearn.pipeline import make_pipeline\n",
    "from sklearn.compose import ColumnTransformer\n",
    "from sklearn.calibration import CalibratedClassifierCV\n",
    "\n",
    "#load in data\n",
    "df = pd.read_csv(\"cardio_train.csv\", sep=\";\")\n"
   ]
  },
  {
   "cell_type": "markdown",
   "metadata": {},
   "source": [
    "# Clean data\n",
    "Removing invalid values per our Exploratory Data Analysis document\n",
    "\n",
    "This data has values for weight, height and blood pressure that are not possible for living people.  We decided that these were errors and are removing them.\n",
    "\n",
    "Body Mass Index (BMI) and Blood Pressure ranges are calculated.   See our EDA document for in depth analysis\n"
   ]
  },
  {
   "cell_type": "markdown",
   "metadata": {},
   "source": [
    "### Weight and Height Clean-up"
   ]
  },
  {
   "cell_type": "code",
   "execution_count": 51,
   "metadata": {},
   "outputs": [],
   "source": [
    "\n",
    "# We address the weight with reasonable weight, the other values probably are a mistake\n",
    "df = df[df[\"weight\"] < 200]\n",
    "df = df[df[\"weight\"] > 55]\n",
    "\n",
    "# We address the height, the other values probably are a mistake\n",
    "df = df[df[\"height\"] < 200]\n",
    "df = df[df[\"height\"] > 130]\n"
   ]
  },
  {
   "cell_type": "markdown",
   "metadata": {},
   "source": [
    "### Blood Pressure Clean-Up and categories"
   ]
  },
  {
   "cell_type": "code",
   "execution_count": 52,
   "metadata": {},
   "outputs": [],
   "source": [
    "\n",
    "# Keeping only reasonable blood pressure measurements\n",
    "df = df[df[\"ap_hi\"] < 200]\n",
    "df = df[df[\"ap_hi\"] > 110]\n",
    "df = df[df[\"ap_lo\"] < 150]\n",
    "df = df[df[\"ap_lo\"] > 60]\n",
    "\n",
    "# bin blood pressure groups based on the api hi/ lo variables\n",
    "# bp is 1 - 5 where 1 is Normal, 2 is Elevated, 3 is HyperTension Stage1, 4 is HyperTensions Stage2, 5 is Hypertension Stage3\n",
    "df['bp'] = np.where((df.ap_hi < 120) & (df.ap_lo < 80), 1, 0)\n",
    "df['bp'] = np.where((df.ap_hi >= 120) & (df.ap_hi < 130) & (df.ap_lo < 80), 2, df.bp)\n",
    "df['bp'] = np.where((df.ap_hi >= 130) & (df.ap_hi < 140) | ((df.ap_lo >= 80) & (df.ap_lo < 90)), 3, df.bp)\n",
    "df['bp'] = np.where((df.ap_hi >= 140) | (df.ap_lo >= 90), 4, df.bp)\n",
    "df['bp'] = np.where((df.ap_hi > 180) | (df.ap_lo > 120), 5, df.bp)\n",
    "df['bp1'] = pd.cut(df.bp,[0,1,2,3,4,5],5,labels=['Normal','Elevated','Hyper_Stage1','Hyper_Stage2','Hyper_Stage3'])\n",
    "\n",
    "\n",
    "\n"
   ]
  },
  {
   "cell_type": "markdown",
   "metadata": {},
   "source": [
    "### Calculate BMI (Body Mass Index)"
   ]
  },
  {
   "cell_type": "code",
   "execution_count": 53,
   "metadata": {},
   "outputs": [],
   "source": [
    "# compute the body mass index based on weight and height\n",
    "df['bmi'] = df['weight'] / (df['height']/100)**2"
   ]
  },
  {
   "cell_type": "code",
   "execution_count": 54,
   "metadata": {},
   "outputs": [
    {
     "data": {
      "text/html": [
       "<div>\n",
       "<style scoped>\n",
       "    .dataframe tbody tr th:only-of-type {\n",
       "        vertical-align: middle;\n",
       "    }\n",
       "\n",
       "    .dataframe tbody tr th {\n",
       "        vertical-align: top;\n",
       "    }\n",
       "\n",
       "    .dataframe thead th {\n",
       "        text-align: right;\n",
       "    }\n",
       "</style>\n",
       "<table border=\"1\" class=\"dataframe\">\n",
       "  <thead>\n",
       "    <tr style=\"text-align: right;\">\n",
       "      <th></th>\n",
       "      <th>id</th>\n",
       "      <th>age</th>\n",
       "      <th>gender</th>\n",
       "      <th>height</th>\n",
       "      <th>weight</th>\n",
       "      <th>ap_hi</th>\n",
       "      <th>ap_lo</th>\n",
       "      <th>cholesterol</th>\n",
       "      <th>gluc</th>\n",
       "      <th>smoke</th>\n",
       "      <th>alco</th>\n",
       "      <th>active</th>\n",
       "      <th>cardio</th>\n",
       "      <th>bp</th>\n",
       "      <th>bp1</th>\n",
       "      <th>bmi</th>\n",
       "    </tr>\n",
       "  </thead>\n",
       "  <tbody>\n",
       "    <tr>\n",
       "      <th>1</th>\n",
       "      <td>1</td>\n",
       "      <td>20228</td>\n",
       "      <td>1</td>\n",
       "      <td>156</td>\n",
       "      <td>85.0</td>\n",
       "      <td>140</td>\n",
       "      <td>90</td>\n",
       "      <td>3</td>\n",
       "      <td>1</td>\n",
       "      <td>0</td>\n",
       "      <td>0</td>\n",
       "      <td>1</td>\n",
       "      <td>1</td>\n",
       "      <td>4</td>\n",
       "      <td>Hyper_Stage2</td>\n",
       "      <td>34.927679</td>\n",
       "    </tr>\n",
       "    <tr>\n",
       "      <th>2</th>\n",
       "      <td>2</td>\n",
       "      <td>18857</td>\n",
       "      <td>1</td>\n",
       "      <td>165</td>\n",
       "      <td>64.0</td>\n",
       "      <td>130</td>\n",
       "      <td>70</td>\n",
       "      <td>3</td>\n",
       "      <td>1</td>\n",
       "      <td>0</td>\n",
       "      <td>0</td>\n",
       "      <td>0</td>\n",
       "      <td>1</td>\n",
       "      <td>3</td>\n",
       "      <td>Hyper_Stage1</td>\n",
       "      <td>23.507805</td>\n",
       "    </tr>\n",
       "    <tr>\n",
       "      <th>3</th>\n",
       "      <td>3</td>\n",
       "      <td>17623</td>\n",
       "      <td>2</td>\n",
       "      <td>169</td>\n",
       "      <td>82.0</td>\n",
       "      <td>150</td>\n",
       "      <td>100</td>\n",
       "      <td>1</td>\n",
       "      <td>1</td>\n",
       "      <td>0</td>\n",
       "      <td>0</td>\n",
       "      <td>1</td>\n",
       "      <td>1</td>\n",
       "      <td>4</td>\n",
       "      <td>Hyper_Stage2</td>\n",
       "      <td>28.710479</td>\n",
       "    </tr>\n",
       "    <tr>\n",
       "      <th>5</th>\n",
       "      <td>8</td>\n",
       "      <td>21914</td>\n",
       "      <td>1</td>\n",
       "      <td>151</td>\n",
       "      <td>67.0</td>\n",
       "      <td>120</td>\n",
       "      <td>80</td>\n",
       "      <td>2</td>\n",
       "      <td>2</td>\n",
       "      <td>0</td>\n",
       "      <td>0</td>\n",
       "      <td>0</td>\n",
       "      <td>0</td>\n",
       "      <td>3</td>\n",
       "      <td>Hyper_Stage1</td>\n",
       "      <td>29.384676</td>\n",
       "    </tr>\n",
       "    <tr>\n",
       "      <th>6</th>\n",
       "      <td>9</td>\n",
       "      <td>22113</td>\n",
       "      <td>1</td>\n",
       "      <td>157</td>\n",
       "      <td>93.0</td>\n",
       "      <td>130</td>\n",
       "      <td>80</td>\n",
       "      <td>3</td>\n",
       "      <td>1</td>\n",
       "      <td>0</td>\n",
       "      <td>0</td>\n",
       "      <td>1</td>\n",
       "      <td>0</td>\n",
       "      <td>3</td>\n",
       "      <td>Hyper_Stage1</td>\n",
       "      <td>37.729725</td>\n",
       "    </tr>\n",
       "  </tbody>\n",
       "</table>\n",
       "</div>"
      ],
      "text/plain": [
       "   id    age  gender  height  weight  ap_hi  ap_lo  cholesterol  gluc  smoke  \\\n",
       "1   1  20228       1     156    85.0    140     90            3     1      0   \n",
       "2   2  18857       1     165    64.0    130     70            3     1      0   \n",
       "3   3  17623       2     169    82.0    150    100            1     1      0   \n",
       "5   8  21914       1     151    67.0    120     80            2     2      0   \n",
       "6   9  22113       1     157    93.0    130     80            3     1      0   \n",
       "\n",
       "   alco  active  cardio  bp           bp1        bmi  \n",
       "1     0       1       1   4  Hyper_Stage2  34.927679  \n",
       "2     0       0       1   3  Hyper_Stage1  23.507805  \n",
       "3     0       1       1   4  Hyper_Stage2  28.710479  \n",
       "5     0       0       0   3  Hyper_Stage1  29.384676  \n",
       "6     0       1       0   3  Hyper_Stage1  37.729725  "
      ]
     },
     "execution_count": 54,
     "metadata": {},
     "output_type": "execute_result"
    }
   ],
   "source": [
    "df.head()"
   ]
  },
  {
   "cell_type": "markdown",
   "metadata": {},
   "source": [
    "# Model Variable Selection Options\n",
    "\n",
    "The following combinations of variables were used in our analysis.   We ran models for each of these combinations of variables and selected a primary model and a secodary model.    The siginficant model analysis is listed below.   The analysis of the less accurate models is placed in the appendix of this document.  We are referring to these as Options 1-5\n",
    "\n",
    "**Option 1:** bmi, ap_hi, ap_lo_cholesterol, age  (top 5 in correlation to cardio response variable)\n",
    "\n",
    "\n",
    "**Option 2:** ap_hi  (highest correlation to response)\n",
    "\n",
    "\n",
    "**Option 3:** bmi,  age, ap_lo, ap_hi,  cholesterol', gluc , smoke , alco , active  (all variables except gender and id)\n",
    "\n",
    "**Option 4:** weight,  age,  ap_lo, ap_hi,  cholesterol (significant variables replacing BMI with weight.  Height is excluded since the correlation is low)\n",
    "\n",
    "**Option 5:** bmi, age, bp, cholesterol (high correlation, removing collinear variables)\n",
    "\n",
    "\n"
   ]
  },
  {
   "cell_type": "markdown",
   "metadata": {},
   "source": [
    "### Model Comparison Metrics: AUC score, F1 Score and Accuracy Score:\n",
    "The team reviewed models based on Area Under the Curve (AUC), F1 Score, Accuracy. We chose the F1 score as the evaluation metric to show a good balance between precision and recall, which is important because cardiac disease is a severe issue and we would prefer to sacrifice accuracy in favor of recall in order to reduce false negatives, since a false negative may result in death due to a person not getting the healthcare they need.   \n",
    "\n",
    "In order to get the best F1 score, we decided to use AUC to compare the variables and parameters of the model.  We then further tuned the models to get the best F1 score.  "
   ]
  },
  {
   "cell_type": "markdown",
   "metadata": {},
   "source": [
    "## Summary of Model Analysis\n",
    "##### The following is the summary of Analysis that was run on Logistic Regression and SVM with Five options in un-scaled and scaled options.\n",
    "\n",
    "The two charts below show the comparison of all models we ran on AUC score, F1 Score and Accuracy.   We are showing the results of the more significant models in the main body of this notebook, and have included the models of less interest in the Appendix. In these two charts, the metrics may not be consistent to the code output of the blocks below due to randomness in the cross validation sampling. However, the values were within an acceptable range close enough to be representative of the models.\n",
    "\n",
    "We compared all models both with and without scaling the data.  We ran additional Decision Tree and Random Forest Models, but they did not have accuracy rates that compared to the Logistic Regression and SVM Models \n",
    "\n",
    "The highest performing model for Logistic Regression, per AUC, was Option 3, which included all variables.   A very close score was obtained for Option 1, which included: Body Mass Index, Systolic Blood Pressure, Diastolic Blood pressure, Cholesterol and Age.   Since these Option 1 variables were our most significant variables per our Exploratory Data Analysis, we chose Option 1 as our preferred model.  For these Logistic Regression models, a scaling option was reviewed.  However, scaling the data did not improve the performance of the model, and was also more difficult to explain.\n",
    "\n",
    "The highest performing model for SVM was option 1 with the variables described above.   In this case, scaling the data did make a difference.\n",
    "\n",
    "Our primary model is Logistic Regression, un-scaled data with the following attributes: Body Mass Index, Systolic Blood Pressure, Diastolic Blood pressure, Cholesterol and Age.\n",
    "\n",
    "Our backup/ secondary model is SVM with scaled data and the following attributes: Body Mass Index, Systolic Blood Pressure, Diastolic Blood pressure, Cholesterol and Age."
   ]
  },
  {
   "attachments": {
    "compare.png": {
     "image/png": "[encoded data removed]"
    }
   },
   "cell_type": "markdown",
   "metadata": {},
   "source": [
    "![compare.png](attachment:compare.png)"
   ]
  },
  {
   "attachments": {
    "compare.png": {
     "image/png": "[encoded data removed]"
    }
   },
   "cell_type": "markdown",
   "metadata": {},
   "source": [
    "![compare.png](attachment:compare.png)"
   ]
  },
  {
   "cell_type": "markdown",
   "metadata": {},
   "source": [
    "# Beginning of Model Analysis\n",
    "\n",
    "First we will show our Logistic Regression Analysis, since that resulted in our preferred model.   Then we will describe our SVM analysis since that gave us our secondary model.\n",
    "\n",
    "For the sake of brevity, only models for variable options 1 and 3 are shown for the Logistic Regression models, and only variable options 1 and 2 are shown for the SVM models. The remaining models' metrics are summarized in the charts above, and their details can be found in the appendix.\n",
    "\n",
    "We also ran Decision Tree and Random Forest Models.   They gave us much lower AUC scores, so we rejected them as well. Results of these models are in our appendix."
   ]
  },
  {
   "cell_type": "markdown",
   "metadata": {},
   "source": [
    "## Train Test Split"
   ]
  },
  {
   "cell_type": "markdown",
   "metadata": {},
   "source": [
    "We chose to do a cross validation using 3 repetitions of 80% train and 20% test. We thought an 80/20 split was good to use most of our data for training while still having enough for testing. We chose 3 repetitions because it is enough repetitions to give us a sense of the stability of the model while not being so many as to take too long to run.\n",
    "\n",
    "We use this cross validation method on all of our model options."
   ]
  },
  {
   "cell_type": "code",
   "execution_count": 55,
   "metadata": {},
   "outputs": [
    {
     "name": "stdout",
     "output_type": "stream",
     "text": [
      "ShuffleSplit(n_splits=3, random_state=None, test_size=0.2, train_size=None)\n"
     ]
    }
   ],
   "source": [
    "#our target variable is cardio\n",
    "y = df['cardio'].values\n",
    "\n",
    "#make CV spit 80/20 object\n",
    "num_cv_iterations = 3\n",
    "num_instances = len(y)\n",
    "cv_object = ShuffleSplit(n_splits=num_cv_iterations,\n",
    "                         test_size  = 0.2)\n",
    "                         \n",
    "print(cv_object)"
   ]
  },
  {
   "cell_type": "markdown",
   "metadata": {},
   "source": [
    "## Logistic Regression"
   ]
  },
  {
   "cell_type": "markdown",
   "metadata": {},
   "source": [
    " There are multiple parameters that can help build a Logistic  Regression model listed below with the default value.  \n",
    "\n",
    "\n",
    "*(penalty='l2', *, dual=False, tol=0.0001, C=1.0, fit_intercept=True, intercept_scaling=1, class_weight=None, random_state=None, solver='lbfgs', max_iter=100, multi_class='auto', verbose=0, warm_start=False, n_jobs=None, l1_ratio=None])*\n",
    "\n",
    "\n",
    "\n",
    "However, our team decided to focus on few critical parameters in tuning process like C, solver and penalty. \n",
    "\n",
    "\n",
    "\n",
    "Hyperparameters sets the algorithm that can be adjusted to optimize performance, these are the knobs to generate optimal outcome. These Hyperparameters in machine learning model help define your model architecture. Leveraging grid search optimal automated exploration is launched to find the optimal parameter value to extract best model architecture. \n",
    "\n",
    "The project Grid search approach was used to tune the parameters of the model. Grid search is an approach to hyperparameter tuning that will methodically build and evaluate a model for each combination of algorithm parameters specified in a grid. However, grid search suffers from the curse of dimensionality: the number of times required to evaluate the model during hyperparameter optimization grows exponentially in the number of parameters. \n",
    "\n",
    "The other popular method is Random Search. It is performed by evaluating n uniformly random points in the hyperparameter space and select the one producing the best performance. The drawback of random search is unnecessarily high variance. The method is, after all, entirely random, and uses no intelligence in selecting which points to try. You are relying on luck to get good results.\n",
    "\n",
    "In the model building excises Grid Search was used, and to overcome the curse of dimensionality, hyper parameter list was highly evaluated and one making maxim impact were chosen. In the model tuning process, three parameters were considered: C, penalty and Solver. \n",
    "\n",
    "<b>C:</b> This controls the complexity and simplicity of model. However, complexity can lead to over fitting vs. simplicity will lead to under fitting. Small values of C, we increase the regularization strength which will create simple models which underfit the data. For big values of C the power of regularization is decreased which allows the model to increase its complexity, and therefore, overfit the data. \n",
    "\n",
    "<b>Penalty:</b> This project uses two penalties. L1 and L2. The Penalty is used to specify the penalization method of the coefficients of noncontributing or less contributing variables.\n",
    "Lasso (L1) performs feature selection by shrinking the less important feature’s coefficient to zero.\n",
    "Ridge (L2) all variables are included in the model, though some are shrunk (but not to zero like L1 Penalty. Less computationally intensive than lasso.\n",
    "Both penalty values restrict solver choices. It is critical to choose the right combination of Penalty.\n",
    "\n",
    "\n",
    "\n",
    "<b>Solver:</b> Are the algorithm used in Logistic Regression to predict the outcome. Default value is lbfgs. other possible values (to list few) are, liblinear, sag and saga.\n",
    "liblinear − It is a good choice for small datasets. It also handles L1 penalty. For multiclass problems, it is limited to one-versus-rest schemes.\n",
    "lbfgs − For multiclass problems, it handles multinomial loss. It also handles only L2 penalty.\n",
    "saga − It is a good choice for large datasets. For multiclass problems, it also handles multinomial loss. Along with L1 penalty, it also supports ‘elasticnet’ penalty.\n",
    "sag − It is also used for large datasets. For multiclass problems, it also handles multinomial loss.\n",
    "\n",
    "\n",
    "\n",
    "<b>Ref:</b> \n",
    "https://sigopt.com/blog/common-problems-in-hyperparameter-optimization\n",
    "\n",
    "https://towardsdatascience.com/hyper-parameter-tuning-and-model-selection-like-a-movie-star-a884b8ee8d\n",
    "\n",
    "\n",
    "\n"
   ]
  },
  {
   "cell_type": "markdown",
   "metadata": {},
   "source": [
    "## Option 1: BMI, ap_hi, ap_lo, cholesterol, age\n",
    "\n",
    "Option 1 includes the following variables: bmi, ap_hi, ap_lo, cholesterol, age <br> \n",
    "These variables had the highest correlation to the cardio response variable.\n",
    "\n",
    "We examine option 1 with data scaled and un-scaled. The un-scaled model became our most preferred model."
   ]
  },
  {
   "cell_type": "code",
   "execution_count": 56,
   "metadata": {},
   "outputs": [],
   "source": [
    "#set X with our desired variables\n",
    "X = df[['bmi', 'ap_hi', 'ap_lo','cholesterol','age']].values "
   ]
  },
  {
   "cell_type": "markdown",
   "metadata": {},
   "source": [
    "### Un-scaled"
   ]
  },
  {
   "cell_type": "markdown",
   "metadata": {},
   "source": [
    "In this section, we create a model with Option 1 variables using un-scaled data."
   ]
  },
  {
   "cell_type": "markdown",
   "metadata": {},
   "source": [
    "#### Hyperparameter Tuning\n",
    "\n",
    "Here, we tune the hyperparameters for the model. We get the highest AUC of 0.777084 using {'C': 0.1, 'penalty': 'l1', 'solver': 'liblinear'}"
   ]
  },
  {
   "cell_type": "code",
   "execution_count": 57,
   "metadata": {},
   "outputs": [
    {
     "data": {
      "text/plain": [
       "GridSearchCV(cv=ShuffleSplit(n_splits=3, random_state=None, test_size=0.2, train_size=None),\n",
       "             estimator=LogisticRegression(max_iter=1000),\n",
       "             param_grid=[{'C': [0.1, 1, 10, 100, 1000], 'penalty': ['l1'],\n",
       "                          'solver': ['liblinear']},\n",
       "                         {'C': [0.1, 1, 10, 100, 1000], 'penalty': ['l2'],\n",
       "                          'solver': ['lbfgs']}],\n",
       "             scoring='roc_auc')"
      ]
     },
     "execution_count": 57,
     "metadata": {},
     "output_type": "execute_result"
    }
   ],
   "source": [
    "#make a grid search for logistic regression\n",
    "\n",
    "param_grid = [\n",
    "  {'C': [.1, 1, 10, 100, 1000],\n",
    "   'penalty': ['l1'],\n",
    "   'solver': ['liblinear']},\n",
    "  {'C': [.1, 1, 10, 100, 1000],\n",
    "   'penalty': ['l2'], \n",
    "   'solver': ['lbfgs']},\n",
    " ]\n",
    "\n",
    "lr = LogisticRegression(max_iter=1000)\n",
    "clf = GridSearchCV(lr, param_grid, scoring=\"roc_auc\",cv=cv_object)\n",
    "clf.fit(X, y)\n",
    "\n"
   ]
  },
  {
   "cell_type": "code",
   "execution_count": 58,
   "metadata": {},
   "outputs": [
    {
     "name": "stdout",
     "output_type": "stream",
     "text": [
      "Best: 0.776249 using {'C': 0.1, 'penalty': 'l1', 'solver': 'liblinear'}\n",
      "0.776249 (0.002709) with: {'C': 0.1, 'penalty': 'l1', 'solver': 'liblinear'}\n",
      "0.776247 (0.002650) with: {'C': 1, 'penalty': 'l1', 'solver': 'liblinear'}\n",
      "0.776228 (0.002643) with: {'C': 10, 'penalty': 'l1', 'solver': 'liblinear'}\n",
      "0.776230 (0.002646) with: {'C': 100, 'penalty': 'l1', 'solver': 'liblinear'}\n",
      "0.776234 (0.002648) with: {'C': 1000, 'penalty': 'l1', 'solver': 'liblinear'}\n",
      "0.615062 (0.003550) with: {'C': 0.1, 'penalty': 'l2', 'solver': 'lbfgs'}\n",
      "0.615061 (0.003550) with: {'C': 1, 'penalty': 'l2', 'solver': 'lbfgs'}\n",
      "0.615061 (0.003549) with: {'C': 10, 'penalty': 'l2', 'solver': 'lbfgs'}\n",
      "0.615061 (0.003550) with: {'C': 100, 'penalty': 'l2', 'solver': 'lbfgs'}\n",
      "0.615061 (0.003550) with: {'C': 1000, 'penalty': 'l2', 'solver': 'lbfgs'}\n"
     ]
    }
   ],
   "source": [
    "#code adapted from https://machinelearningmastery.com/hyperparameters-for-classification-machine-learning-algorithms/\n",
    "print(\"Best: %f using %s\" % (clf.best_score_, clf.best_params_))\n",
    "means = clf.cv_results_['mean_test_score']\n",
    "stds = clf.cv_results_['std_test_score']\n",
    "params = clf.cv_results_['params']\n",
    "for mean, stdev, param in zip(means, stds, params):\n",
    "    print(\"%f (%f) with: %r\" % (mean, stdev, param))"
   ]
  },
  {
   "cell_type": "code",
   "execution_count": 59,
   "metadata": {},
   "outputs": [],
   "source": [
    "fav_lr_clf = LogisticRegression(penalty='l1', C=0.1, class_weight=None, solver='liblinear' )"
   ]
  },
  {
   "cell_type": "markdown",
   "metadata": {},
   "source": [
    "#### Metrics"
   ]
  },
  {
   "cell_type": "markdown",
   "metadata": {},
   "source": [
    "Here we show the accuracy metrics for the model. It has an AUC of .77, f1 score of .73, and accuracy of .71."
   ]
  },
  {
   "cell_type": "code",
   "execution_count": 60,
   "metadata": {},
   "outputs": [
    {
     "name": "stdout",
     "output_type": "stream",
     "text": [
      "====Iteration 0  ====\n",
      "auc 0.7770008188510645\n",
      "confusion matrix\n",
      " [[3375 1241]\n",
      " [1771 4224]]\n",
      "              precision    recall  f1-score   support\n",
      "\n",
      "           0       0.66      0.73      0.69      4616\n",
      "           1       0.77      0.70      0.74      5995\n",
      "\n",
      "    accuracy                           0.72     10611\n",
      "   macro avg       0.71      0.72      0.71     10611\n",
      "weighted avg       0.72      0.72      0.72     10611\n",
      "\n",
      "====Iteration 1  ====\n",
      "auc 0.7689191926254755\n",
      "confusion matrix\n",
      " [[3302 1325]\n",
      " [1797 4187]]\n",
      "              precision    recall  f1-score   support\n",
      "\n",
      "           0       0.65      0.71      0.68      4627\n",
      "           1       0.76      0.70      0.73      5984\n",
      "\n",
      "    accuracy                           0.71     10611\n",
      "   macro avg       0.70      0.71      0.70     10611\n",
      "weighted avg       0.71      0.71      0.71     10611\n",
      "\n",
      "====Iteration 2  ====\n",
      "auc 0.7759467918318145\n",
      "confusion matrix\n",
      " [[3363 1299]\n",
      " [1742 4207]]\n",
      "              precision    recall  f1-score   support\n",
      "\n",
      "           0       0.66      0.72      0.69      4662\n",
      "           1       0.76      0.71      0.73      5949\n",
      "\n",
      "    accuracy                           0.71     10611\n",
      "   macro avg       0.71      0.71      0.71     10611\n",
      "weighted avg       0.72      0.71      0.71     10611\n",
      "\n"
     ]
    }
   ],
   "source": [
    "iter_num=0\n",
    "for train_indices, test_indices in cv_object.split(X,y): \n",
    "    X_train = X[train_indices]\n",
    "    y_train = y[train_indices]\n",
    "    \n",
    "    X_test = X[test_indices]\n",
    "    y_test = y[test_indices]\n",
    "    \n",
    "    lr_clf.fit(X_train,y_train)\n",
    "    y_hat = lr_clf.predict(X_test)\n",
    "    y_prob=lr_clf.predict_proba(X_test)[:,1]\n",
    "\n",
    "    print(\"====Iteration\",iter_num,\" ====\")\n",
    "    #Show AUC\n",
    "    auc = mt.roc_auc_score(y_test,y_prob)\n",
    "    print(\"auc\", auc )\n",
    "    \n",
    "    #Show confusion matrix\n",
    "    conf = mt.confusion_matrix(y_test,y_hat)\n",
    "    print(\"confusion matrix\\n\",conf)\n",
    "    \n",
    "    # Show the Classification Report\n",
    "    print(mt.classification_report(y_test,y_hat))\n",
    "    \n",
    "    iter_num+=1"
   ]
  },
  {
   "cell_type": "markdown",
   "metadata": {},
   "source": [
    "### Scaled "
   ]
  },
  {
   "cell_type": "markdown",
   "metadata": {},
   "source": [
    "In this section, we create a model with Option 1 variables using scaled data."
   ]
  },
  {
   "cell_type": "markdown",
   "metadata": {},
   "source": [
    "#### Hyperparameter Tuning\n",
    "\n",
    "Here, we tune the hyperparameters for the model. We get the highest AUC of 0.7768 using {'C': 0.1, 'penalty': 'l1', 'solver': 'saga'}"
   ]
  },
  {
   "cell_type": "code",
   "execution_count": 61,
   "metadata": {},
   "outputs": [
    {
     "name": "stdout",
     "output_type": "stream",
     "text": [
      "Best: 0.775500 using {'classifier__C': 0.1, 'classifier__penalty': 'l1', 'classifier__solver': 'saga'}\n"
     ]
    }
   ],
   "source": [
    "\n",
    "#make a grid search for logistic regression\n",
    "from sklearn.model_selection import GridSearchCV\n",
    "\n",
    "param_grid = [\n",
    "  {'classifier__C': [.1, 1, 10, 100, 1000],\n",
    "   'classifier__penalty': ['l1'],\n",
    "   'classifier__solver': ['liblinear', 'saga']},\n",
    "  {'classifier__C': [.1, 1, 10, 100, 1000],\n",
    "   'classifier__penalty': ['l2'], \n",
    "   'classifier__solver': ['lbfgs', 'sag', 'saga']},\n",
    " ]\n",
    "\n",
    "lr = Pipeline([\n",
    "    ('scaler', StandardScaler()),\n",
    "    ('classifier', LogisticRegression(solver='lbfgs'))])\n",
    "clf = GridSearchCV(lr, param_grid, scoring=\"roc_auc\", cv=cv_object)\n",
    "clf.fit(X, y)\n",
    "\n",
    "print(\"Best: %f using %s\" % (clf.best_score_, clf.best_params_))"
   ]
  },
  {
   "cell_type": "code",
   "execution_count": 62,
   "metadata": {},
   "outputs": [],
   "source": [
    "lr_clf = make_pipeline(StandardScaler(), LogisticRegression(C= 0.1, penalty= 'l1', solver= 'saga'))\n"
   ]
  },
  {
   "cell_type": "markdown",
   "metadata": {},
   "source": [
    "#### Metrics"
   ]
  },
  {
   "cell_type": "markdown",
   "metadata": {},
   "source": [
    "Here we show the accuracy metrics for the model. It has an AUC of .77, accuracy of .71, and f1 score of .73."
   ]
  },
  {
   "cell_type": "code",
   "execution_count": 63,
   "metadata": {},
   "outputs": [
    {
     "name": "stdout",
     "output_type": "stream",
     "text": [
      "====Iteration 0  ====\n",
      "auc 0.7762484306981107\n",
      "confusion matrix\n",
      " [[3363 1252]\n",
      " [1761 4235]]\n",
      "              precision    recall  f1-score   support\n",
      "\n",
      "           0       0.66      0.73      0.69      4615\n",
      "           1       0.77      0.71      0.74      5996\n",
      "\n",
      "    accuracy                           0.72     10611\n",
      "   macro avg       0.71      0.72      0.71     10611\n",
      "weighted avg       0.72      0.72      0.72     10611\n",
      "\n",
      "====Iteration 1  ====\n",
      "auc 0.7750959005048558\n",
      "confusion matrix\n",
      " [[3375 1254]\n",
      " [1780 4202]]\n",
      "              precision    recall  f1-score   support\n",
      "\n",
      "           0       0.65      0.73      0.69      4629\n",
      "           1       0.77      0.70      0.73      5982\n",
      "\n",
      "    accuracy                           0.71     10611\n",
      "   macro avg       0.71      0.72      0.71     10611\n",
      "weighted avg       0.72      0.71      0.72     10611\n",
      "\n",
      "====Iteration 2  ====\n",
      "auc 0.771436483778785\n",
      "confusion matrix\n",
      " [[3341 1303]\n",
      " [1785 4182]]\n",
      "              precision    recall  f1-score   support\n",
      "\n",
      "           0       0.65      0.72      0.68      4644\n",
      "           1       0.76      0.70      0.73      5967\n",
      "\n",
      "    accuracy                           0.71     10611\n",
      "   macro avg       0.71      0.71      0.71     10611\n",
      "weighted avg       0.71      0.71      0.71     10611\n",
      "\n"
     ]
    }
   ],
   "source": [
    "iter_num=0\n",
    "for train_indices, test_indices in cv_object.split(X,y): \n",
    "    X_train = X[train_indices]\n",
    "    y_train = y[train_indices]\n",
    "    \n",
    "    X_test = X[test_indices]\n",
    "    y_test = y[test_indices]\n",
    "    \n",
    "    lr_clf.fit(X_train,y_train)\n",
    "    y_hat = lr_clf.predict(X_test)\n",
    "    y_prob=lr_clf.predict_proba(X_test)[:,1]\n",
    "\n",
    "    print(\"====Iteration\",iter_num,\" ====\")\n",
    "    #Show AUC\n",
    "    auc = mt.roc_auc_score(y_test,y_prob)\n",
    "    print(\"auc\", auc )\n",
    "    \n",
    "    #Show confusion matrix\n",
    "    conf = mt.confusion_matrix(y_test,y_hat)\n",
    "    print(\"confusion matrix\\n\",conf)\n",
    "    \n",
    "    # Show the Classification Report\n",
    "    print(mt.classification_report(y_test,y_hat))\n",
    "    \n",
    "    iter_num+=1"
   ]
  },
  {
   "cell_type": "markdown",
   "metadata": {},
   "source": [
    "## Logistic Regression Option 3.  Variables: BMI, age, ap_lo, ap_hi, cholesterol, gluc, smoke, alco, active\n",
    "\n",
    "Option 3 is a model with all of the significant variables: bmi,  age, ap_lo, ap_hi,  cholesterol, gluc , smoke , alco , active.  It does not include ID and Gender.\n",
    "\n",
    "Note: We skipped showing option 2, and we will skip 4 and 5 also, as their code is in the appendix. We include option 3 here as the one to show our process because option 3 was the runner up in performance."
   ]
  },
  {
   "cell_type": "code",
   "execution_count": 125,
   "metadata": {},
   "outputs": [],
   "source": [
    "# set X with our variables of interest\n",
    "X = df[['bmi','age','ap_lo','ap_hi','cholesterol','gluc','smoke','alco','active']].values "
   ]
  },
  {
   "cell_type": "markdown",
   "metadata": {},
   "source": [
    "### Un-Scaled"
   ]
  },
  {
   "cell_type": "markdown",
   "metadata": {},
   "source": [
    "In this section, we create a model with Option 3 variables using un-scaled data."
   ]
  },
  {
   "cell_type": "markdown",
   "metadata": {},
   "source": [
    "#### Hyperparameter Tuning\n",
    "\n",
    "Here, we tune the hyperparameters for the model. We get the highest AUC of 0.777614 using {'C': 0.1, 'penalty': 'l1', 'solver': 'liblinear'}"
   ]
  },
  {
   "cell_type": "code",
   "execution_count": 126,
   "metadata": {},
   "outputs": [
    {
     "name": "stdout",
     "output_type": "stream",
     "text": [
      "Best: 0.775609 using {'C': 1, 'penalty': 'l1', 'solver': 'liblinear'}\n"
     ]
    }
   ],
   "source": [
    "#make a grid search for logistic regression\n",
    "param_grid = [\n",
    "  {'C': [.1, 1, 10, 100, 1000],\n",
    "   'penalty': ['l1'],\n",
    "   'solver': ['liblinear']},\n",
    "  {'C': [.1, 1, 10, 100, 1000],\n",
    "   'penalty': ['l2'], \n",
    "   'solver': ['lbfgs']},\n",
    " ]\n",
    "\n",
    "lr = LogisticRegression()\n",
    "clf = GridSearchCV(lr, param_grid, scoring=\"roc_auc\",cv=cv_object)\n",
    "clf.fit(X, y)\n",
    "\n",
    "print(\"Best: %f using %s\" % (clf.best_score_, clf.best_params_))"
   ]
  },
  {
   "cell_type": "code",
   "execution_count": 127,
   "metadata": {},
   "outputs": [],
   "source": [
    "# set our classifier with the best hyperparameters found\n",
    "lr_clf = LogisticRegression(penalty='l1', C=0.1, class_weight=None, solver='liblinear' ) \n",
    "\n"
   ]
  },
  {
   "cell_type": "markdown",
   "metadata": {},
   "source": [
    "#### Metrics"
   ]
  },
  {
   "cell_type": "markdown",
   "metadata": {},
   "source": [
    "Here we show the accuracy metrics for the model. It has an AUC of .77, accuracy of .71, and f1 score of .73."
   ]
  },
  {
   "cell_type": "code",
   "execution_count": 128,
   "metadata": {},
   "outputs": [
    {
     "name": "stdout",
     "output_type": "stream",
     "text": [
      "====Iteration 0  ====\n",
      "auc 0.7759977755296275\n",
      "confusion matrix\n",
      " [[3344 1294]\n",
      " [1726 4247]]\n",
      "              precision    recall  f1-score   support\n",
      "\n",
      "           0       0.66      0.72      0.69      4638\n",
      "           1       0.77      0.71      0.74      5973\n",
      "\n",
      "    accuracy                           0.72     10611\n",
      "   macro avg       0.71      0.72      0.71     10611\n",
      "weighted avg       0.72      0.72      0.72     10611\n",
      "\n",
      "====Iteration 1  ====\n",
      "auc 0.7759922558525966\n",
      "confusion matrix\n",
      " [[3358 1299]\n",
      " [1716 4238]]\n",
      "              precision    recall  f1-score   support\n",
      "\n",
      "           0       0.66      0.72      0.69      4657\n",
      "           1       0.77      0.71      0.74      5954\n",
      "\n",
      "    accuracy                           0.72     10611\n",
      "   macro avg       0.71      0.72      0.71     10611\n",
      "weighted avg       0.72      0.72      0.72     10611\n",
      "\n",
      "====Iteration 2  ====\n",
      "auc 0.7831495243736013\n",
      "confusion matrix\n",
      " [[3374 1306]\n",
      " [1684 4247]]\n",
      "              precision    recall  f1-score   support\n",
      "\n",
      "           0       0.67      0.72      0.69      4680\n",
      "           1       0.76      0.72      0.74      5931\n",
      "\n",
      "    accuracy                           0.72     10611\n",
      "   macro avg       0.72      0.72      0.72     10611\n",
      "weighted avg       0.72      0.72      0.72     10611\n",
      "\n"
     ]
    }
   ],
   "source": [
    "iter_num=0\n",
    "for train_indices, test_indices in cv_object.split(X,y): \n",
    "    X_train = X[train_indices]\n",
    "    y_train = y[train_indices]\n",
    "    \n",
    "    X_test = X[test_indices]\n",
    "    y_test = y[test_indices]\n",
    "    \n",
    "    lr_clf.fit(X_train,y_train)\n",
    "    y_hat = lr_clf.predict(X_test)\n",
    "    y_prob=lr_clf.predict_proba(X_test)[:,1]\n",
    "\n",
    "    print(\"====Iteration\",iter_num,\" ====\")\n",
    "    #Show AUC\n",
    "    auc = mt.roc_auc_score(y_test,y_prob)\n",
    "    print(\"auc\", auc )\n",
    "    \n",
    "    #Show confusion matrix\n",
    "    conf = mt.confusion_matrix(y_test,y_hat)\n",
    "    print(\"confusion matrix\\n\",conf)\n",
    "    \n",
    "    # Show the Classification Report\n",
    "    print(mt.classification_report(y_test,y_hat))\n",
    "    \n",
    "    iter_num+=1"
   ]
  },
  {
   "cell_type": "markdown",
   "metadata": {},
   "source": [
    "### Scaled"
   ]
  },
  {
   "cell_type": "markdown",
   "metadata": {},
   "source": [
    "In this section, we create a model with Option 3 variables using scaled data."
   ]
  },
  {
   "cell_type": "markdown",
   "metadata": {},
   "source": [
    "#### Hyperparameter Tuning\n",
    "\n",
    "Here, we tune the hyperparameters for the model. We get the highest AUC of 0.777614 using {'C': 0.1, 'penalty': 'l1', 'solver': 'liblinear'}"
   ]
  },
  {
   "cell_type": "code",
   "execution_count": 132,
   "metadata": {},
   "outputs": [
    {
     "name": "stdout",
     "output_type": "stream",
     "text": [
      "Best: 0.778004 using {'classifier__C': 0.1, 'classifier__penalty': 'l1', 'classifier__solver': 'saga'}\n"
     ]
    }
   ],
   "source": [
    "#make a grid search for logistic regression\n",
    "from sklearn.model_selection import GridSearchCV\n",
    "\n",
    "param_grid = [\n",
    "  {'classifier__C': [.1, 1, 10, 100, 1000],\n",
    "   'classifier__penalty': ['l1'],\n",
    "   'classifier__solver': ['liblinear', 'saga']},\n",
    "  {'classifier__C': [.1, 1, 10, 100, 1000],\n",
    "   'classifier__penalty': ['l2'], \n",
    "   'classifier__solver': ['lbfgs', 'sag', 'saga']},\n",
    " ]\n",
    "\n",
    "lr = Pipeline([\n",
    "    ('scaler', StandardScaler()),\n",
    "    ('classifier', LogisticRegression())])\n",
    "clf = GridSearchCV(lr, param_grid, scoring=\"roc_auc\", cv=cv_object)\n",
    "clf.fit(X, y)\n",
    "\n",
    "print(\"Best: %f using %s\" % (clf.best_score_, clf.best_params_))"
   ]
  },
  {
   "cell_type": "code",
   "execution_count": 133,
   "metadata": {},
   "outputs": [],
   "source": [
    "# set our classifier with the best hyperparameters found\n",
    "lr_clf = make_pipeline(StandardScaler(), LogisticRegression(C= 0.1, penalty= 'l1', solver= 'saga'))"
   ]
  },
  {
   "cell_type": "markdown",
   "metadata": {},
   "source": [
    "#### Metrics \n",
    "\n",
    "Here we show the metrics for Option 3 Logistic Regression with Scaled Data. It has an AUC of .77, f1 score of .74, and accuracy of .72."
   ]
  },
  {
   "cell_type": "code",
   "execution_count": 134,
   "metadata": {},
   "outputs": [
    {
     "name": "stdout",
     "output_type": "stream",
     "text": [
      "====Iteration 0  ====\n",
      "auc 0.7745762345656154\n",
      "confusion matrix\n",
      " [[3394 1335]\n",
      " [1701 4181]]\n",
      "              precision    recall  f1-score   support\n",
      "\n",
      "           0       0.67      0.72      0.69      4729\n",
      "           1       0.76      0.71      0.73      5882\n",
      "\n",
      "    accuracy                           0.71     10611\n",
      "   macro avg       0.71      0.71      0.71     10611\n",
      "weighted avg       0.72      0.71      0.71     10611\n",
      "\n",
      "====Iteration 1  ====\n",
      "auc 0.791746672085577\n",
      "confusion matrix\n",
      " [[3437 1245]\n",
      " [1646 4283]]\n",
      "              precision    recall  f1-score   support\n",
      "\n",
      "           0       0.68      0.73      0.70      4682\n",
      "           1       0.77      0.72      0.75      5929\n",
      "\n",
      "    accuracy                           0.73     10611\n",
      "   macro avg       0.73      0.73      0.73     10611\n",
      "weighted avg       0.73      0.73      0.73     10611\n",
      "\n",
      "====Iteration 2  ====\n",
      "auc 0.7786599365015905\n",
      "confusion matrix\n",
      " [[3367 1295]\n",
      " [1725 4224]]\n",
      "              precision    recall  f1-score   support\n",
      "\n",
      "           0       0.66      0.72      0.69      4662\n",
      "           1       0.77      0.71      0.74      5949\n",
      "\n",
      "    accuracy                           0.72     10611\n",
      "   macro avg       0.71      0.72      0.71     10611\n",
      "weighted avg       0.72      0.72      0.72     10611\n",
      "\n"
     ]
    }
   ],
   "source": [
    "iter_num=0\n",
    "for train_indices, test_indices in cv_object.split(X,y): \n",
    "    X_train = X[train_indices]\n",
    "    y_train = y[train_indices]\n",
    "    \n",
    "    X_test = X[test_indices]\n",
    "    y_test = y[test_indices]\n",
    "    \n",
    "    lr_clf.fit(X_train,y_train)\n",
    "    y_hat = lr_clf.predict(X_test)\n",
    "    y_prob=lr_clf.predict_proba(X_test)[:,1]\n",
    "\n",
    "    print(\"====Iteration\",iter_num,\" ====\")\n",
    "    #Show AUC\n",
    "    auc = mt.roc_auc_score(y_test,y_prob)\n",
    "    print(\"auc\", auc )\n",
    "    \n",
    "    #Show confusion matrix\n",
    "    conf = mt.confusion_matrix(y_test,y_hat)\n",
    "    print(\"confusion matrix\\n\",conf)\n",
    "    \n",
    "    # Show the Classification Report\n",
    "    print(mt.classification_report(y_test,y_hat))\n",
    "    \n",
    "    iter_num+=1"
   ]
  },
  {
   "cell_type": "markdown",
   "metadata": {},
   "source": [
    "### Preferred Logistic Model"
   ]
  },
  {
   "cell_type": "markdown",
   "metadata": {},
   "source": [
    "As mentioned in the summary chart at the top of this file, we compared the AUCs of models with variable options 1-5, each with scaled and un-scaled versions. We found that the AUC of the model with variable option 1 un-scaled was tied with the option 3 un-scaled model, with an AUC of .779, so we went with option 1 as it is the simpler model. The numbers presented may not be entirely consistent with the output of the code run above due to some randomness in cross validation.\n",
    "\n",
    "This winning model from above will now be tuned further below."
   ]
  },
  {
   "cell_type": "markdown",
   "metadata": {},
   "source": [
    "## Logistic Regression Further Tuning for Preferred Model (Option 1, Un-scaled)"
   ]
  },
  {
   "cell_type": "markdown",
   "metadata": {},
   "source": [
    "Because we compared our models so far using AUC, it is appropriate that we further tune our favorite model from above to the best f1 score using the alpha value which is the probability threshold at which to classify a point as positive or negative."
   ]
  },
  {
   "cell_type": "markdown",
   "metadata": {},
   "source": [
    "###  ROC Curve   Preferred Model (Option 1, Un-scaled)\n",
    "\n",
    "This is the ROC curve for our preferred model, Logistic Regression Option 1 with Un-Scaled Data. The ROC curve shows that the threshold with the best precision and recall should lie between alpha=.2 and alpha=.6."
   ]
  },
  {
   "cell_type": "code",
   "execution_count": 64,
   "metadata": {
    "scrolled": true
   },
   "outputs": [
    {
     "name": "stdout",
     "output_type": "stream",
     "text": [
      "Logistic: ROC AUC=0.771\n"
     ]
    },
    {
     "data": {
      "image/png": "[encoded data removed]",
      "text/plain": [
       "<Figure size 432x288 with 1 Axes>"
      ]
     },
     "metadata": {
      "needs_background": "light"
     },
     "output_type": "display_data"
    }
   ],
   "source": [
    "\n",
    "fav_lr_clf.fit(X_train, y_train)\n",
    "\n",
    "# predict probabilities\n",
    "fav_lr_probs = fav_lr_clf.predict_proba(X_test)\n",
    "# keep probabilities for the positive outcome only\n",
    "fav_lr_probs = fav_lr_probs[:, 1]\n",
    "# calculate scores\n",
    "fav_lr_auc = roc_auc_score(y_test, fav_lr_probs)\n",
    "# summarize scores\\\n",
    "print('Logistic: ROC AUC=%.3f' % (fav_lr_auc))\n",
    "# calculate roc curves\n",
    "fav_lr_fpr, fav_lr_tpr, _ = roc_curve(y_test, fav_lr_probs)\n",
    "# plot the roc curve for the model\n",
    "pyplot.plot(fav_lr_fpr, fav_lr_tpr, marker='.', label='Logistic')\n",
    "# axis labels\n",
    "pyplot.xlabel('False Positive Rate')\n",
    "pyplot.ylabel('True Positive Rate')\n",
    "# show the legend\n",
    "pyplot.legend()\n",
    "# show the plot\n",
    "pyplot.show()"
   ]
  },
  {
   "cell_type": "markdown",
   "metadata": {},
   "source": [
    "### Tuning Alpha"
   ]
  },
  {
   "cell_type": "markdown",
   "metadata": {},
   "source": [
    "The following shows accuracy of the model for alpha values between .2 and .6.  The optimal alpha value for our model is .40.  This alpha value gives us an f1 score of .760. Therefore, we will classify a point as a cardiac event if it has a predicted probability greater than .40."
   ]
  },
  {
   "cell_type": "code",
   "execution_count": 65,
   "metadata": {},
   "outputs": [
    {
     "name": "stdout",
     "output_type": "stream",
     "text": [
      "alpha 0.200000 : f1=0.721\n",
      "alpha 0.220000 : f1=0.723\n",
      "alpha 0.240000 : f1=0.729\n",
      "alpha 0.260000 : f1=0.734\n",
      "alpha 0.280000 : f1=0.740\n",
      "alpha 0.300000 : f1=0.745\n",
      "alpha 0.320000 : f1=0.752\n",
      "alpha 0.340000 : f1=0.756\n",
      "alpha 0.360000 : f1=0.759\n",
      "alpha 0.380000 : f1=0.759\n",
      "alpha 0.400000 : f1=0.759\n",
      "alpha 0.420000 : f1=0.752\n",
      "alpha 0.440000 : f1=0.746\n",
      "alpha 0.460000 : f1=0.742\n",
      "alpha 0.480000 : f1=0.736\n",
      "alpha 0.500000 : f1=0.730\n",
      "alpha 0.520000 : f1=0.725\n",
      "alpha 0.540000 : f1=0.719\n",
      "alpha 0.560000 : f1=0.711\n",
      "alpha 0.580000 : f1=0.703\n"
     ]
    }
   ],
   "source": [
    "alphas = np.arange(.2, .6, .02)\n",
    "for alpha in np.nditer(alphas):\n",
    "    y_hat = list(map(lambda y_prob: 1 if y_prob > alpha else 0, y_prob))\n",
    "    f1 = mt.f1_score(y_test, y_hat)\n",
    "    print('alpha %f : f1=%.3f' % (alpha, f1))\n"
   ]
  },
  {
   "cell_type": "markdown",
   "metadata": {},
   "source": [
    "Having picked an alpha of .4 for our model, the f1 score is .759, the precision is .698, and recall is .832. Previously with the default alpha, the precision was .76, recall was .706. The new model reduced the precision somewhat but increased recall, and this tradeoff is worthwhile to reduce the number of people who would receive false negative results and thereby have a cardiac event without proper treatment."
   ]
  },
  {
   "cell_type": "code",
   "execution_count": 70,
   "metadata": {},
   "outputs": [
    {
     "name": "stdout",
     "output_type": "stream",
     "text": [
      "Old default alpha (.5) : f1=0.732, precision=0.760, recall=0.706\n",
      "New alpha 0.400000 : f1=0.759, precision=0.698, recall=0.832\n"
     ]
    }
   ],
   "source": [
    "#old metrics\n",
    "y_hat = fav_lr_clf.predict(X_test)\n",
    "f1 = mt.f1_score(y_test, y_hat)\n",
    "precision = mt.precision_score(y_test, y_hat)\n",
    "recall = mt.recall_score(y_test, y_hat)\n",
    "print('Old default alpha (.5) : f1=%.3f, precision=%.3f, recall=%.3f' % (f1, precision, recall))\n",
    "\n",
    "#new metrics\n",
    "alpha = .4\n",
    "y_hat = list(map(lambda y_prob: 1 if y_prob > alpha else 0, y_prob))\n",
    "f1 = mt.f1_score(y_test, y_hat)\n",
    "precision = mt.precision_score(y_test, y_hat)\n",
    "recall = mt.recall_score(y_test, y_hat)\n",
    "print('New alpha %f : f1=%.3f, precision=%.3f, recall=%.3f' % (alpha, f1, precision, recall))"
   ]
  },
  {
   "cell_type": "markdown",
   "metadata": {},
   "source": [
    "\n",
    "## Analysis of Logistic Regression Model Performance\n",
    "\n",
    "The F1 score for this model is .76.   The F1 score is a harmonic mean of precision and recall.  It is calculated from the precision and recall of the test. \n",
    "\n",
    "The model has a precision of .698. Precision represents the number of correctly identified positive results divided by the number of all positive results. \n",
    "\n",
    "The model has a recall of .83 for cardiac event as the positive class. The recall is the number of correctly identified positive results divided by the number of all samples that should have been identified as positive. \n"
   ]
  },
  {
   "cell_type": "markdown",
   "metadata": {},
   "source": [
    "## Stability of the Models"
   ]
  },
  {
   "cell_type": "markdown",
   "metadata": {},
   "source": [
    "When analyzing the models prior to tuning for alpha, the selection of the variables for the logistic regression gave three stable models with consistent accuracy results of 71.3%, 71.1 %, and 70.8 %. The accuracy can be defined as the percentage of correctly classified instances (TP + TN)/(TP + TN + FP + FN) \n",
    "It also gave stable AUCs of 0.774, 0.777 and 0,773. \n"
   ]
  },
  {
   "cell_type": "markdown",
   "metadata": {},
   "source": [
    "# SVM Analysis\n",
    "\n",
    "Using the same variable combination options, we created SVM models. Again, we compare both scaled and un-scaled versions. We obtain the metrics for each of the models, but here we only present models for variable option 2 and option 1. The rest of the models are summarized in the table at the top of the file, and their details are in the appendix. We chose to show option 2 here because it has only the variable ap_hi, and we consider it our baseline model. We show option 1 here because it had the best AUC of the SVM models that we compared.\n",
    "\n",
    "\n",
    "For the SVM models, we used the SGDClassifier which uses stochastic gradient descent to optimize the weights. We chose to use stochastic gradient descent because of the size of our data (50k+ rows) which was too large and slow to run using batch gradient descent. However, for the purposes of analyzing support vectors, we will later take a small sample of our data to run using SVC."
   ]
  },
  {
   "cell_type": "markdown",
   "metadata": {},
   "source": [
    "## SVM Baseline model Option 2:  (ap_hi only)"
   ]
  },
  {
   "cell_type": "markdown",
   "metadata": {},
   "source": [
    "Here we build baseline models using just ap_hi as a predictor."
   ]
  },
  {
   "cell_type": "markdown",
   "metadata": {},
   "source": [
    "### Un-scaled"
   ]
  },
  {
   "cell_type": "markdown",
   "metadata": {},
   "source": [
    "Here we show the metrics of the model using variable option 2, un-scaled. It has a median AUC of .74, f1 score of .71, and accuracy of .70."
   ]
  },
  {
   "cell_type": "code",
   "execution_count": 135,
   "metadata": {},
   "outputs": [
    {
     "name": "stdout",
     "output_type": "stream",
     "text": [
      "AUC Values: [0.73852351 0.72575963 0.73501326]\n",
      "F1 Score Values: [0.72125099 0.73234039 0.71873072]\n",
      "Accuracy Values:  [0.69748374 0.69729526 0.71039487]\n"
     ]
    }
   ],
   "source": [
    "X = df[['ap_hi']]\n",
    "\n",
    "svm_clf = SGDClassifier(max_iter=1000, tol=1e-3)\n",
    "\n",
    "aucs = cross_val_score(svm_clf, X, y=y, cv=cv_object, scoring = 'roc_auc')\n",
    "print(\"AUC Values:\", aucs)\n",
    " \n",
    "f1score = cross_val_score(svm_clf, X, y=y, cv=cv_object, scoring = 'f1')\n",
    "print(\"F1 Score Values:\", f1score)\n",
    "\n",
    "acc = cross_val_score(svm_clf, X, y=y, cv=cv_object, scoring = 'accuracy')\n",
    "print(\"Accuracy Values: \", acc)"
   ]
  },
  {
   "cell_type": "markdown",
   "metadata": {},
   "source": [
    "### Scaled"
   ]
  },
  {
   "cell_type": "markdown",
   "metadata": {},
   "source": [
    "Here we show the metrics of the SVM model using variable option 2, scaled. It has a median AUC of .73, f1 score of .72, and accuracy of .67."
   ]
  },
  {
   "cell_type": "code",
   "execution_count": 136,
   "metadata": {},
   "outputs": [
    {
     "name": "stdout",
     "output_type": "stream",
     "text": [
      "AUC Values: [0.73228804 0.7298987  0.73490277]\n",
      "F1 Score Values: [0.72024288 0.72073667 0.63427857]\n",
      "Accuracy Values:  [0.66638394 0.67288663 0.67090755]\n"
     ]
    }
   ],
   "source": [
    "X = df[['ap_hi']]\n",
    "\n",
    "svm_clf = Pipeline(steps=[\n",
    "    ('scaler', StandardScaler()),\n",
    "    ('svm', SGDClassifier(max_iter=1000, tol=1e-3))])\n",
    "\n",
    "aucs = cross_val_score(svm_clf, X, y=y, cv=cv_object, scoring = 'roc_auc')\n",
    "print(\"AUC Values:\", aucs)\n",
    "\n",
    "f1score = cross_val_score(svm_clf, X, y=y, cv=cv_object, scoring = 'f1')\n",
    "print(\"F1 Score Values:\", f1score)\n",
    "\n",
    "acc = cross_val_score(svm_clf, X, y=y, cv=cv_object, scoring = 'accuracy')\n",
    "print(\"Accuracy Values: \", acc)"
   ]
  },
  {
   "cell_type": "markdown",
   "metadata": {},
   "source": [
    "## Option 1:  BMI, age, ap_hi, ap_lo, cholesterol\n",
    "\n",
    "These are the variables which are most correlated to the response varaible.  It is Option 1 in our analysis chart."
   ]
  },
  {
   "cell_type": "markdown",
   "metadata": {},
   "source": [
    "### Un-scaled \n",
    "\n",
    "Here we create a SVM model using variable option 1, un-scaled. It has median AUC of .67, f1 of .69, and accuracy of .45. This model does not perform very well, which is expected because SVM is sensitive to data not being scaled."
   ]
  },
  {
   "cell_type": "code",
   "execution_count": 137,
   "metadata": {},
   "outputs": [
    {
     "name": "stdout",
     "output_type": "stream",
     "text": [
      "AUC Values: [0.7149989  0.5492021  0.62561943]\n",
      "F1 Score Values: [0.03127079 0.71747414 0.24793153]\n",
      "Accuracy Values:  [0.46527189 0.45697861 0.55847705]\n"
     ]
    }
   ],
   "source": [
    "X = df[['ap_hi', 'ap_lo', 'bmi', 'age', 'cholesterol']]\n",
    "\n",
    "svm_clf = SGDClassifier(max_iter=1000, tol=1e-3)\n",
    "\n",
    "aucs = cross_val_score(svm_clf, X, y=y, cv=cv_object, scoring = 'roc_auc')\n",
    "print(\"AUC Values:\", aucs)\n",
    "\n",
    "f1score = cross_val_score(svm_clf, X, y=y, cv=cv_object, scoring = 'f1')\n",
    "print(\"F1 Score Values:\", f1score)\n",
    "\n",
    "acc = cross_val_score(svm_clf, X, y=y, cv=cv_object, scoring = 'accuracy')\n",
    "print(\"Accuracy Values: \", acc)"
   ]
  },
  {
   "cell_type": "markdown",
   "metadata": {},
   "source": [
    "### Scaled\n",
    "\n",
    "Here is the model using variable option 1, scaled. It has median AUC of .77, f1 of .71, and accuracy of .71. This is our most preferred SVM model."
   ]
  },
  {
   "cell_type": "code",
   "execution_count": 138,
   "metadata": {},
   "outputs": [
    {
     "name": "stdout",
     "output_type": "stream",
     "text": [
      "AUC Values: [0.77635583 0.77437448 0.76529093]\n",
      "F1 Score Values: [0.71454051 0.71149954 0.72773445]\n",
      "Accuracy Values:  [0.70794459 0.70737913 0.71614362]\n"
     ]
    }
   ],
   "source": [
    "X = df[['ap_hi', 'ap_lo', 'bmi', 'age', 'cholesterol']]\n",
    "\n",
    "svm_clf = Pipeline(steps=[\n",
    "    ('scaler', StandardScaler()),\n",
    "    ('svm', SGDClassifier(max_iter=1000, tol=1e-3))])\n",
    "\n",
    "aucs = cross_val_score(svm_clf, X, y=y, cv=cv_object, scoring = 'roc_auc')\n",
    "print(\"AUC Values:\", aucs)\n",
    "\n",
    "f1score = cross_val_score(svm_clf, X, y=y, cv=cv_object, scoring = 'f1')\n",
    "print(\"F1 Score Values:\", f1score)\n",
    "\n",
    "acc = cross_val_score(svm_clf, X, y=y, cv=cv_object, scoring = 'accuracy')\n",
    "print(\"Accuracy Values: \", acc)"
   ]
  },
  {
   "cell_type": "markdown",
   "metadata": {},
   "source": [
    "### Preferred SVM Model\n",
    "\n",
    "As mentioned in the summary chart at the top of this file, we compared the AUCs of models with variable options 1-5, each with scaled and un-scaled versions. We found that the AUC of the model with variable option 1 un-scaled was the best of the SVM models, with an AUC of .779. We will now continue with tuning this model."
   ]
  },
  {
   "cell_type": "markdown",
   "metadata": {},
   "source": [
    "## SVM Hyperparameter Tuning"
   ]
  },
  {
   "cell_type": "markdown",
   "metadata": {},
   "source": [
    "Having selected the SVM model variables, we continue with tuning the hyperparameters of the model. We do a grid search of all the combinations of available hyperparameters that we consider important to tune. Because we use the SGDClassifier, other hyperparameters which would have been of interest, such as kernel type, were not available for us to tune.\n",
    "\n",
    "The hyperparameters that we chose to tune are Penalty and Alpha.\n",
    "* Penalty is the regularization that is used for the model. Penalty has options 'l1', 'l2', and 'elasticnet'. We try all these options.\n",
    "* Alpha is a constant multiplied with the regularization term, which controls the strength of the regularization. The higher the value, the stronger the regularization. For alpha, we try values .001, .01, .05, .1, .5, and 1.\n",
    "\n",
    "Note: the loss function \"modified_huber\" is used for SVM, and is the only loss function considered here because it is the only one that allows for a continuous probability prediction, which we will need to use for tuning alpha later."
   ]
  },
  {
   "cell_type": "markdown",
   "metadata": {},
   "source": [
    "From our hyperparameter tuning, we got that the best hyperparameters are alpha=.05, penalty='l1'. This model has an AUC of .776."
   ]
  },
  {
   "cell_type": "code",
   "execution_count": 71,
   "metadata": {},
   "outputs": [
    {
     "name": "stdout",
     "output_type": "stream",
     "text": [
      "Best auc: 0.776330 using {'classifier__alpha': 0.05, 'classifier__loss': 'modified_huber', 'classifier__penalty': 'l1'}\n",
      "0.773629 (0.002504) with: {'classifier__alpha': 0.001, 'classifier__loss': 'modified_huber', 'classifier__penalty': 'l1'}\n",
      "0.774798 (0.003431) with: {'classifier__alpha': 0.001, 'classifier__loss': 'modified_huber', 'classifier__penalty': 'l2'}\n",
      "0.774102 (0.004138) with: {'classifier__alpha': 0.001, 'classifier__loss': 'modified_huber', 'classifier__penalty': 'elasticnet'}\n",
      "0.775724 (0.003096) with: {'classifier__alpha': 0.01, 'classifier__loss': 'modified_huber', 'classifier__penalty': 'l1'}\n",
      "0.776064 (0.002936) with: {'classifier__alpha': 0.01, 'classifier__loss': 'modified_huber', 'classifier__penalty': 'l2'}\n",
      "0.775272 (0.002648) with: {'classifier__alpha': 0.01, 'classifier__loss': 'modified_huber', 'classifier__penalty': 'elasticnet'}\n",
      "0.776330 (0.002812) with: {'classifier__alpha': 0.05, 'classifier__loss': 'modified_huber', 'classifier__penalty': 'l1'}\n",
      "0.775596 (0.003093) with: {'classifier__alpha': 0.05, 'classifier__loss': 'modified_huber', 'classifier__penalty': 'l2'}\n",
      "0.775575 (0.002865) with: {'classifier__alpha': 0.05, 'classifier__loss': 'modified_huber', 'classifier__penalty': 'elasticnet'}\n",
      "0.775649 (0.002934) with: {'classifier__alpha': 0.1, 'classifier__loss': 'modified_huber', 'classifier__penalty': 'l1'}\n",
      "0.775384 (0.002893) with: {'classifier__alpha': 0.1, 'classifier__loss': 'modified_huber', 'classifier__penalty': 'l2'}\n",
      "0.775738 (0.002936) with: {'classifier__alpha': 0.1, 'classifier__loss': 'modified_huber', 'classifier__penalty': 'elasticnet'}\n",
      "0.733425 (0.003279) with: {'classifier__alpha': 0.5, 'classifier__loss': 'modified_huber', 'classifier__penalty': 'l1'}\n",
      "0.773743 (0.003172) with: {'classifier__alpha': 0.5, 'classifier__loss': 'modified_huber', 'classifier__penalty': 'l2'}\n",
      "0.775549 (0.003079) with: {'classifier__alpha': 0.5, 'classifier__loss': 'modified_huber', 'classifier__penalty': 'elasticnet'}\n",
      "0.500000 (0.000000) with: {'classifier__alpha': 1, 'classifier__loss': 'modified_huber', 'classifier__penalty': 'l1'}\n",
      "0.772504 (0.003340) with: {'classifier__alpha': 1, 'classifier__loss': 'modified_huber', 'classifier__penalty': 'l2'}\n",
      "0.774368 (0.003321) with: {'classifier__alpha': 1, 'classifier__loss': 'modified_huber', 'classifier__penalty': 'elasticnet'}\n"
     ]
    }
   ],
   "source": [
    "X = df[['ap_hi', 'ap_lo', 'bmi', 'age', 'cholesterol']]\n",
    "\n",
    "param_grid = [\n",
    "  {'classifier__loss': ['modified_huber'],\n",
    "   'classifier__penalty': ['l1', 'l2', 'elasticnet'],\n",
    "   'classifier__alpha': [.001, .01, .05, .1, .5, 1]}\n",
    " ]\n",
    "\n",
    "svm = Pipeline([\n",
    "    ('scaler', StandardScaler()),\n",
    "    ('classifier', SGDClassifier())])\n",
    "\n",
    "fav_svm_clf = GridSearchCV(svm, param_grid, scoring=\"roc_auc\")\n",
    "fav_svm_clf.fit(X, y)\n",
    "\n",
    "print(\"Best auc: %f using %s\" % (fav_svm_clf.best_score_, fav_svm_clf.best_params_))\n",
    "\n",
    "means = fav_svm_clf.cv_results_['mean_test_score']\n",
    "stds = fav_svm_clf.cv_results_['std_test_score']\n",
    "params = fav_svm_clf.cv_results_['params']\n",
    "for mean, stdev, param in zip(means, stds, params):\n",
    "    print(\"%f (%f) with: %r\" % (mean, stdev, param))"
   ]
  },
  {
   "cell_type": "markdown",
   "metadata": {},
   "source": [
    "## Probability Calibration - SVM Option 1"
   ]
  },
  {
   "cell_type": "markdown",
   "metadata": {},
   "source": [
    "It is useful to calibrate SVM models because they often output probabilities that are not aligned to the actual probabilities of being classified as one class or another.\n",
    "\n",
    "The calibrated model has median AUC .78, f1 score .73, and accuracy .71."
   ]
  },
  {
   "cell_type": "code",
   "execution_count": 72,
   "metadata": {},
   "outputs": [
    {
     "name": "stdout",
     "output_type": "stream",
     "text": [
      "AUC Score Values: [0.78153258 0.77934265 0.77522356]\n",
      "F1 Score Values: [0.72603225 0.73055677 0.73704549]\n",
      "Accuracy Values:  [0.70879276 0.71350485 0.71162002]\n"
     ]
    }
   ],
   "source": [
    "#https://machinelearningmastery.com/calibrated-classification-model-in-scikit-learn/\n",
    "\n",
    "model = fav_svm_clf.best_estimator_ #this was alpha=.05, loss='modified_huber', penalty='l1'\n",
    "calibrator = CalibratedClassifierCV(model, cv=3)\n",
    "\n",
    "aucs = cross_val_score(calibrator, X, y=y, cv=cv_object, scoring = 'roc_auc')\n",
    "print(\"AUC Score Values:\", aucs)\n",
    "\n",
    "f1score = cross_val_score(calibrator, X, y=y, cv=cv_object, scoring = 'f1')\n",
    "print(\"F1 Score Values:\", f1score)\n",
    "\n",
    "acc = cross_val_score(calibrator, X, y=y, cv=cv_object, scoring = 'accuracy')\n",
    "print(\"Accuracy Values: \", acc)"
   ]
  },
  {
   "cell_type": "markdown",
   "metadata": {},
   "source": [
    "## SVM Optimal Alpha Value"
   ]
  },
  {
   "cell_type": "markdown",
   "metadata": {},
   "source": [
    "After selecting the model with the best AUC, it is appropriate to tune the model for alpha, the threshold at which to predict a point as the positive class. This will help us determine the alpha that will get us the best f1 score for this model"
   ]
  },
  {
   "cell_type": "markdown",
   "metadata": {},
   "source": [
    "### ROC Curve"
   ]
  },
  {
   "cell_type": "markdown",
   "metadata": {},
   "source": [
    "The ROC curve for our model shows that alpha between .2 and .6 will likely be where we can find the best f1 score."
   ]
  },
  {
   "cell_type": "code",
   "execution_count": 73,
   "metadata": {},
   "outputs": [
    {
     "name": "stdout",
     "output_type": "stream",
     "text": [
      "SVM Model ROC AUC=0.774\n"
     ]
    },
    {
     "data": {
      "image/png": "[encoded data removed]",
      "text/plain": [
       "<Figure size 432x288 with 1 Axes>"
      ]
     },
     "metadata": {
      "needs_background": "light"
     },
     "output_type": "display_data"
    }
   ],
   "source": [
    "# roc curve and auc\n",
    "\n",
    "X_train, X_test, y_train, y_test = train_test_split(X, y, test_size=0.2)\n",
    "\n",
    "std_scl = StandardScaler()\n",
    "scl_obj = std_scl.fit(X_train)\n",
    "\n",
    "X_train_scaled = scl_obj.transform(X_train)\n",
    "X_test_scaled = scl_obj.transform(X_test) \n",
    "\n",
    "model.fit(X_train, y_train)\n",
    "\n",
    "# predict probabilities\n",
    "svm_probs = model.predict_proba(X_test)\n",
    "# keep probabilities for the positive outcome only\n",
    "svm_probs = svm_probs[:, 1]\n",
    "# calculate scores\n",
    "svm_auc = roc_auc_score(y_test, svm_probs)\n",
    "# summarize scores\\\n",
    "print('SVM Model ROC AUC=%.3f' % (svm_auc))\n",
    "# calculate roc curves\n",
    "svm_fpr, svm_tpr, _ = roc_curve(y_test, svm_probs)\n",
    "# plot the roc curve for the model\n",
    "pyplot.plot(svm_fpr, svm_tpr, marker='.', label='SVM')\n",
    "# axis labels\n",
    "pyplot.xlabel('False Positive Rate')\n",
    "pyplot.ylabel('True Positive Rate')\n",
    "# show the legend\n",
    "pyplot.legend()\n",
    "# show the plot\n",
    "pyplot.show()"
   ]
  },
  {
   "cell_type": "markdown",
   "metadata": {},
   "source": [
    "## Tuning Alpha"
   ]
  },
  {
   "cell_type": "markdown",
   "metadata": {},
   "source": [
    "The below shows f1 scores for alphas from .2 to .6. The highest f1 score is .759 at alpha=.40."
   ]
  },
  {
   "cell_type": "code",
   "execution_count": 74,
   "metadata": {
    "scrolled": true
   },
   "outputs": [
    {
     "name": "stdout",
     "output_type": "stream",
     "text": [
      "alpha 0.200000 : f1 score=0.722\n",
      "alpha 0.220000 : f1 score=0.722\n",
      "alpha 0.240000 : f1 score=0.722\n",
      "alpha 0.260000 : f1 score=0.722\n",
      "alpha 0.280000 : f1 score=0.727\n",
      "alpha 0.300000 : f1 score=0.735\n",
      "alpha 0.320000 : f1 score=0.741\n",
      "alpha 0.340000 : f1 score=0.745\n",
      "alpha 0.360000 : f1 score=0.750\n",
      "alpha 0.380000 : f1 score=0.757\n",
      "alpha 0.400000 : f1 score=0.761\n",
      "alpha 0.420000 : f1 score=0.762\n",
      "alpha 0.440000 : f1 score=0.760\n",
      "alpha 0.460000 : f1 score=0.750\n",
      "alpha 0.480000 : f1 score=0.742\n",
      "alpha 0.500000 : f1 score=0.732\n",
      "alpha 0.520000 : f1 score=0.726\n",
      "alpha 0.540000 : f1 score=0.715\n",
      "alpha 0.560000 : f1 score=0.700\n",
      "alpha 0.580000 : f1 score=0.683\n"
     ]
    }
   ],
   "source": [
    "alphas = np.arange(.2, .6, .02)\n",
    "for alpha in np.nditer(alphas):\n",
    "    y_hat = list(map(lambda y_prob: 1 if y_prob > alpha else 0, svm_probs))\n",
    "    f1 = mt.f1_score(y_test, y_hat)\n",
    "    print('alpha %f : f1 score=%.3f' % (alpha, f1))\n",
    "\n"
   ]
  },
  {
   "cell_type": "markdown",
   "metadata": {},
   "source": [
    "Having picked an alpha of .4 for our model, the f1 score is .761, the precision is .887, and recall is .700. Previously with the default binary predictions, the precision was .76, recall was .70. The new model reduced the precision somewhat but increased recall, and this tradeoff is worthwhile to reduce the number of people who would receive false negative results and thereby have a cardiac event without proper treatment."
   ]
  },
  {
   "cell_type": "code",
   "execution_count": 76,
   "metadata": {},
   "outputs": [
    {
     "name": "stdout",
     "output_type": "stream",
     "text": [
      "Old default binary predictions: f1=0.732, precision=0.766, recall=0.700\n",
      "New alpha 0.400000 : f1=0.761, precision=0.667, recall=0.887\n"
     ]
    }
   ],
   "source": [
    "#old metrics\n",
    "y_hat = fav_svm_clf.predict(X_test)\n",
    "f1 = mt.f1_score(y_test, y_hat)\n",
    "precision = mt.precision_score(y_test, y_hat)\n",
    "recall = mt.recall_score(y_test, y_hat)\n",
    "print('Old default binary predictions: f1=%.3f, precision=%.3f, recall=%.3f' % (f1, precision, recall))\n",
    "\n",
    "#new metrics\n",
    "alpha = .4\n",
    "y_hat = list(map(lambda y_prob: 1 if y_prob > alpha else 0, svm_probs))\n",
    "f1 = mt.f1_score(y_test, y_hat)\n",
    "precision = mt.precision_score(y_test, y_hat)\n",
    "recall = mt.recall_score(y_test, y_hat)\n",
    "print('New alpha %f : f1=%.3f, precision=%.3f, recall=%.3f' % (alpha, f1, precision, recall))"
   ]
  },
  {
   "cell_type": "markdown",
   "metadata": {},
   "source": [
    "# Model 1 Insights"
   ]
  },
  {
   "cell_type": "markdown",
   "metadata": {},
   "source": [
    "##  Preferred Model Logistic Regression Option 1 Un-Scaled \n",
    "\n",
    "From the analysis and comparison of logistic regression models in the section above, th preferred logistic model uses the variables: bmi, ap_hi, ap_lo_cholesterol, age.\n",
    "\n",
    "This section contains interpretation of the coefficient weights of the model.\n"
   ]
  },
  {
   "cell_type": "markdown",
   "metadata": {},
   "source": [
    "## Interpretation of the Variable Weights"
   ]
  },
  {
   "cell_type": "markdown",
   "metadata": {},
   "source": [
    "As you can see in the graph below, cholesterol has the highest weight to predict a cardiac event.  It has a weight of 0.409. It is followed by systolic blood pressure (ap_hi), which has a weight of 0.06, and diastolic blood pressure(ap_lo), which has a weight of 0.014.The weights of the coefficients show that the systolic pressure (ap_hi) more heavily impacts the prediction of a cardiac event than diastolic blood pressure (ap_lo).  BMI has more weight to predict than diastolic blood pressure (ap_lo) but less than ap_hi and cholesterol.   BMI has a weight of 0.019. Finally, with the lowest weight to predict cardiac events is the age with a weight of 0.0001.\n",
    "\n"
   ]
  },
  {
   "cell_type": "code",
   "execution_count": 244,
   "metadata": {},
   "outputs": [
    {
     "name": "stdout",
     "output_type": "stream",
     "text": [
      "bmi has weight of 0.019179940262557177\n",
      "ap_hi has weight of 0.062370756443404354\n",
      "ap_lo has weight of 0.014333146651811113\n",
      "cholesterol has weight of 0.39563565216421864\n",
      "age has weight of 0.00011983777204658889\n"
     ]
    }
   ],
   "source": [
    "# interpret the weights\n",
    "\n",
    "# iterate over the coefficients\n",
    "weights = fav_lr_clf.coef_.T # take transpose to make a column vector\n",
    "variable_names = ['bmi','ap_hi','ap_lo','cholesterol','age']\n",
    " \n",
    "for coef, name in zip(weights,variable_names):\n",
    "    print(name, 'has weight of', coef[0])"
   ]
  },
  {
   "cell_type": "markdown",
   "metadata": {},
   "source": [
    "## Graph of the weights"
   ]
  },
  {
   "cell_type": "markdown",
   "metadata": {},
   "source": [
    "This graph, described above, shows the weights of the variables for our model."
   ]
  },
  {
   "cell_type": "code",
   "execution_count": 245,
   "metadata": {},
   "outputs": [
    {
     "data": {
      "image/png": "[encoded data removed]",
      "text/plain": [
       "<Figure size 432x288 with 1 Axes>"
      ]
     },
     "metadata": {},
     "output_type": "display_data"
    }
   ],
   "source": [
    "# now let's make a pandas Series with the names and values, and plot them\n",
    "from matplotlib import pyplot as plt\n",
    "%matplotlib inline\n",
    "plt.style.use('ggplot')\n",
    "\n",
    "weights = pd.Series(fav_lr_clf.coef_[0],index=variable_names)\n",
    "weights.plot(kind='bar')\n",
    "plt.show()"
   ]
  },
  {
   "cell_type": "markdown",
   "metadata": {},
   "source": [
    "##  Summary of Model 1 Insight"
   ]
  },
  {
   "cell_type": "markdown",
   "metadata": {},
   "source": [
    "In our preferred model, the weight of the cholesterol variable is the most significant factor in predicting cardiac events. Our EDA analysis showed that systolic blood pressure (ap_hi) had the highest correlation to the cardiac events.  This shows that ap_hi is still a significant factor.   It is not suprising, based on subject matter expert knowlege, that cholesterol is a large contributing factor to cardiac events. All of the variables we picked for this model are known to be significant factors to predicting cardiac events."
   ]
  },
  {
   "cell_type": "markdown",
   "metadata": {},
   "source": [
    "# Model 2 Insight"
   ]
  },
  {
   "cell_type": "markdown",
   "metadata": {},
   "source": [
    "Our preferred SVM model with scaled data uses the same Option 1 variables as our overall favorite model: the logistic regression model with un-scaled data.   The varaibles used are: systolic blood pressure (ap_hi), diastolic blood pressure (ap_lo), BMI, Age and Cholesterol.\n",
    "\n",
    "Below we compare the support vectors to the original distribution of the data for these individual variables."
   ]
  },
  {
   "cell_type": "markdown",
   "metadata": {},
   "source": [
    "For this model, we have an AUC score of 78% and Accuracy of 71% and an F1 Score of 73%.\n",
    "\n",
    "\n",
    "You can see how the selection of the variables for the logistic regression gives us three stable models in the training split with accuracy result of 71 %.The accuracy can be defined as the percentage of correctly classified instances (TP + TN)/(TP + TN + FP + FN) \n",
    "It also gives us a stable AUC of 71%.  The plot of Sensitivity versus (1- Specificity) curve is shown below.\n",
    "\n",
    " The F1 score is calculated from the precision and recall of the test, where the precision is the number of correctly identified positive results divided by the number of all positive results, including those not identified correctly.  The recall is the number of correctly identified positive results divided by the number of all samples that should have been identified as positive.  The F1 score is the harmonic mean of the precision and recall. The F1 score is 73% for cardiac events."
   ]
  },
  {
   "cell_type": "code",
   "execution_count": 246,
   "metadata": {},
   "outputs": [
    {
     "name": "stdout",
     "output_type": "stream",
     "text": [
      "[0.77400022 0.77637282 0.77551693]\n"
     ]
    }
   ],
   "source": [
    "#https://machinelearningmastery.com/calibrated-classification-model-in-scikit-learn/\n",
    "\n",
    "model = fav_svm_clf.best_estimator_ #this was alpha=.1, loss='modified_huber', penalty='elasticnet'\n",
    "calibrator = CalibratedClassifierCV(model, cv=3)\n",
    "\n",
    "aucs = cross_val_score(calibrator, X, y=y, cv=cv_object, scoring = 'roc_auc')\n",
    "print(aucs)"
   ]
  },
  {
   "cell_type": "code",
   "execution_count": 247,
   "metadata": {},
   "outputs": [
    {
     "name": "stdout",
     "output_type": "stream",
     "text": [
      "F1 Score Values: [0.73065622 0.73613062 0.73206751]\n",
      "Accuracy Values:  [0.71227971 0.71491848 0.71162002]\n"
     ]
    }
   ],
   "source": [
    "f1score = cross_val_score(calibrator, X, y=y, cv=cv_object, scoring = 'f1')\n",
    "print(\"F1 Score Values:\", f1score)\n",
    "\n",
    "acc = cross_val_score(calibrator, X, y=y, cv=cv_object, scoring = 'accuracy')\n",
    "print(\"Accuracy Values: \", acc)"
   ]
  },
  {
   "cell_type": "markdown",
   "metadata": {},
   "source": [
    "## Support Vector Analysis"
   ]
  },
  {
   "cell_type": "markdown",
   "metadata": {},
   "source": [
    "This section analyzes the support vectors. The analysis in this section is created not with the model selected from above, but a new toy model created with a small subsample of the data points so that we could view the support vectors using the SVC function."
   ]
  },
  {
   "cell_type": "code",
   "execution_count": 248,
   "metadata": {},
   "outputs": [
    {
     "name": "stdout",
     "output_type": "stream",
     "text": [
      "<class 'pandas.core.frame.DataFrame'>\n",
      "Int64Index: 3590 entries, 51148 to 57081\n",
      "Data columns (total 16 columns):\n",
      "id             3590 non-null int64\n",
      "age            3590 non-null int64\n",
      "gender         3590 non-null int64\n",
      "height         3590 non-null int64\n",
      "weight         3590 non-null float64\n",
      "ap_hi          3590 non-null int64\n",
      "ap_lo          3590 non-null int64\n",
      "cholesterol    3590 non-null int64\n",
      "gluc           3590 non-null int64\n",
      "smoke          3590 non-null int64\n",
      "alco           3590 non-null int64\n",
      "active         3590 non-null int64\n",
      "cardio         3590 non-null int64\n",
      "bp             3590 non-null int32\n",
      "bp1            3590 non-null category\n",
      "bmi            3590 non-null float64\n",
      "dtypes: category(1), float64(2), int32(1), int64(12)\n",
      "memory usage: 438.4 KB\n"
     ]
    }
   ],
   "source": [
    "    \n",
    "X = df[['ap_hi', 'ap_lo', 'bmi', 'age', 'cholesterol']].values\n",
    "cv_object =  ShuffleSplit(n_splits=1,\n",
    "                         test_size  = 0.9)\n",
    "\n",
    "#train test split\n",
    "for train_indices, test_indices in cv_object.split(X, y):\n",
    "    X_train = X[train_indices]\n",
    "    y_train = y[train_indices]\n",
    "    \n",
    "    X_test = X[test_indices]\n",
    "    y_test = y[test_indices]\n",
    "    \n",
    "    scl_obj = StandardScaler()\n",
    "    scl_obj.fit(X_train)\n",
    "    \n",
    "    X_train_scaled = scl_obj.transform(X_train)\n",
    "    X_test_scaled = scl_obj.transform(X_test) \n",
    "        \n",
    "\n",
    "# train the model\n",
    "svm_clf = SVC(C=0.5, kernel='linear', degree=3, gamma='auto') # get object\n",
    "svm_clf.fit(X_train_scaled, y_train)  # train object\n",
    "    \n",
    "# make a dataframe of the training data\n",
    "df_tested_on = df.iloc[train_indices].copy() # saved from above, the indices chosen for training\n",
    "\n",
    "# now get the support vectors from the trained model\n",
    "df_support = df_tested_on.iloc[svm_clf.support_,:].copy()\n",
    "\n",
    "df_support['cardio'] = y[svm_clf.support_] # add back in the 'Survived' Column to the pandas dataframe\n",
    "df['cardio'] = y # also add it back in for the original data\n",
    "df_support.info()"
   ]
  },
  {
   "cell_type": "markdown",
   "metadata": {},
   "source": [
    "## Explanation of Support Vectors"
   ]
  },
  {
   "cell_type": "markdown",
   "metadata": {},
   "source": [
    "This model used 3412 support vectors out of 5305 training points, which is a large number of support vectors.  These 3412 vectors were divided into 1711 and 1701 for the results of the cardiac events.  This is a large number of support vectors and shows that we have an even split in the data. In the graphs below, there is a close match between the support vectors and the variables which means that a lot of the data was close to the vector boundaries."
   ]
  },
  {
   "cell_type": "code",
   "execution_count": 249,
   "metadata": {},
   "outputs": [
    {
     "data": {
      "text/plain": [
       "(5305, 5)"
      ]
     },
     "execution_count": 249,
     "metadata": {},
     "output_type": "execute_result"
    }
   ],
   "source": [
    "# the data that was used for training in our SVM model\n",
    "X_train.shape"
   ]
  },
  {
   "cell_type": "code",
   "execution_count": 250,
   "metadata": {},
   "outputs": [
    {
     "name": "stdout",
     "output_type": "stream",
     "text": [
      "(3590, 5)\n",
      "(3590,)\n",
      "[1801 1789]\n"
     ]
    }
   ],
   "source": [
    "# look at the support vectors\n",
    "print(svm_clf.support_vectors_.shape)\n",
    "print(svm_clf.support_.shape)\n",
    "print(svm_clf.n_support_ )"
   ]
  },
  {
   "cell_type": "markdown",
   "metadata": {},
   "source": [
    "### Plot SVM Vectors - ap_hi, ap_lo, bmi_age, cholesterol"
   ]
  },
  {
   "cell_type": "markdown",
   "metadata": {},
   "source": [
    "The graphs below show the distribution of support vectors on the left, and the distribution of the original data on the right side. We can see that among the support vectors, the distribution of points across the variables are very similar between the cardio and non-cardio groups. Among the original data, the distribution of points is less even between the cardio and non-cardio groups."
   ]
  },
  {
   "cell_type": "code",
   "execution_count": 251,
   "metadata": {},
   "outputs": [
    {
     "data": {
      "image/png": "[encoded data removed]",
      "text/plain": [
       "<Figure size 720x288 with 2 Axes>"
      ]
     },
     "metadata": {},
     "output_type": "display_data"
    },
    {
     "data": {
      "image/png": "[encoded data removed]",
      "text/plain": [
       "<Figure size 720x288 with 2 Axes>"
      ]
     },
     "metadata": {},
     "output_type": "display_data"
    },
    {
     "data": {
      "image/png": "[encoded data removed]",
      "text/plain": [
       "<Figure size 720x288 with 2 Axes>"
      ]
     },
     "metadata": {},
     "output_type": "display_data"
    },
    {
     "data": {
      "image/png": "[encoded data removed]",
      "text/plain": [
       "<Figure size 720x288 with 2 Axes>"
      ]
     },
     "metadata": {},
     "output_type": "display_data"
    },
    {
     "data": {
      "image/png": "[encoded data removed]",
      "text/plain": [
       "<Figure size 720x288 with 2 Axes>"
      ]
     },
     "metadata": {},
     "output_type": "display_data"
    }
   ],
   "source": [
    "# group the original data and the support vectors\n",
    "df_grouped_support = df_support.groupby(['cardio'])\n",
    "df_grouped = df.groupby(['cardio'])\n",
    "\n",
    "# plot KDE of Different variables\n",
    " \n",
    "vars_to_plot =['ap_hi', 'ap_lo', 'bmi', 'age', 'cholesterol']\n",
    "\n",
    "for v in vars_to_plot:\n",
    "    pyplot.figure(figsize=(10,4))\n",
    "    # plot support vector stats\n",
    "    pyplot.subplot(1,2,1)\n",
    "    ax = df_grouped_support[v].plot.kde() \n",
    "    pyplot.legend(['noncardio','cardio'])\n",
    "    pyplot.title(v+' (Instances chosen as Support Vectors)')\n",
    "    \n",
    "    # plot original distributions\n",
    "    pyplot.subplot(1,2,2)\n",
    "    ax = df_grouped[v].plot.kde() \n",
    "    pyplot.legend(['noncardio','cardio'])\n",
    "    pyplot.title(v+' (Original)')\n",
    "\n",
    "\n"
   ]
  },
  {
   "cell_type": "markdown",
   "metadata": {},
   "source": [
    "# Advantages and Disadvantages"
   ]
  },
  {
   "cell_type": "markdown",
   "metadata": {},
   "source": [
    "Advantages of Logistic Regression\n",
    "* Logistic regression is easier to implement, interpret, and very efficient to train.\n",
    "* It makes no assumptions about distributions of classes in feature space.\n",
    "* It can easily extend to multiple classes(multinomial regression) and a natural probabilistic view of class predictions.\n",
    "* It not only provides a measure of how appropriate a predictor(coefficient size)is, but also its direction of association (positive or negative).\n",
    "* It is very fast at classifying unknown records.\n",
    "* Good accuracy for many simple data sets and it performs well when the dataset is linearly separable.\n",
    "* It can interpret model coefficients as indicators of feature importance.\n",
    "* Logistic regression is less inclined to over-fitting but it can overfit in high dimensional datasets.One may consider Regularization (L1 and L2) techniques to avoid over-fittingin these scenarios.\n",
    "\n",
    "Disadvantages of Logistic Regression\n",
    "* If the number of observations is lesser than the number of features, Logistic Regression should not be used, otherwise, it may lead to overfitting.\n",
    "* The major limitation of Logistic Regression is the assumption of linearity between the dependent variable and the independent variables.\n",
    "* It can only be used to predict discrete functions. Hence, the dependent variable of Logistic Regression is bound to the discrete number set.\n",
    "* Logistic Regression requires average or no multicollinearity between independent variables.\n",
    "* It is tough to obtain complex relationships using logistic regression. More powerful and compact algorithms such as Neural Networks can easily outperform this algorithm.\n",
    "* In Linear Regression independent and dependent variables are related linearly. But Logistic Regression needs that independent variables are linearly related to the log odds (log(p/(1-p)).\n"
   ]
  },
  {
   "cell_type": "markdown",
   "metadata": {},
   "source": [
    "Advantages of Support Vector Machine (SVM)\n",
    "\n",
    "1. Regularization capabilities: SVM has L2 Regularization feature. So, it has good generalization capabilities which prevent it from over-fitting.\n",
    "\n",
    "2. Handles non-linear data efficiently: SVM can efficiently handle non-linear data using Kernel trick.\n",
    "\n",
    "3. Solves both Classification and Regression problems: SVM can be used to solve both classification and regression problems. SVM is used for classification problems while SVR (Support Vector Regression) is used for regression problems.\n",
    "\n",
    "4. Stability: A small change to the data does not greatly affect the hyperplane and hence the SVM. So the SVM model is stable.\n",
    "\n",
    "Disadvantages of Support Vector Machine (SVM)\n",
    "\n",
    "1. Choosing an appropriate Kernel function is difficult: Choosing an appropriate Kernel function (to handle the non-linear data) is not an easy task. It could be tricky and complex. In case of using a high dimension Kernel, you might generate too many support vectors which reduce the training speed drastically. \n",
    "\n",
    "2. Extensive memory requirement: Algorithmic complexity and memory requirements of SVM are very high. You need a lot of memory since you have to store all the support vectors in the memory and this number grows abruptly with the training dataset size.\n",
    "\n",
    "3. Requires Feature Scaling: One must do feature scaling of variables before applying SVM.\n",
    "\n",
    "4. Long training time: SVM takes a long training time on large datasets.\n",
    "\n",
    "5. Difficult to interpret: SVM model is difficult to understand and interpret by human beings unlike Decision Trees.\n"
   ]
  },
  {
   "cell_type": "markdown",
   "metadata": {},
   "source": [
    "### Comparison of ROCs"
   ]
  },
  {
   "cell_type": "markdown",
   "metadata": {},
   "source": [
    "Here, we plot both of our model options on the same plot for comparison. The logistic regression ROC is shown in blue on the plot, and the SVM ROC is shown in orange. They are very closely lined up to each other, which is expected, seeing as the AUCs were very close to one another. This is an indication that both the logistic and the svm models have similar performance."
   ]
  },
  {
   "cell_type": "code",
   "execution_count": 82,
   "metadata": {
    "scrolled": true
   },
   "outputs": [
    {
     "name": "stdout",
     "output_type": "stream",
     "text": [
      "Logistic: ROC AUC=0.775\n",
      "SVM: ROC AUC=0.773\n"
     ]
    },
    {
     "data": {
      "image/png": "[encoded data removed]",
      "text/plain": [
       "<Figure size 432x288 with 1 Axes>"
      ]
     },
     "metadata": {
      "needs_background": "light"
     },
     "output_type": "display_data"
    }
   ],
   "source": [
    "fav_svm_clf.fit(X_train, y_train)\n",
    "fav_lr_clf.fit(X_train, y_train)\n",
    "\n",
    "# predict probabilities\n",
    "fav_lr_probs = fav_lr_clf.predict_proba(X_test)\n",
    "fav_svm_probs = fav_svm_clf.predict_proba(X_test)\n",
    "# keep probabilities for the positive outcome only\n",
    "fav_lr_probs = fav_lr_probs[:, 1]\n",
    "fav_svm_probs = fav_svm_probs[:, 1]\n",
    "# calculate scores\n",
    "fav_lr_auc = roc_auc_score(y_test, fav_lr_probs)\n",
    "fav_svm_auc = roc_auc_score(y_test, fav_svm_probs)\n",
    "# summarize scores\\\n",
    "print('Logistic: ROC AUC=%.3f' % (fav_lr_auc))\n",
    "print('SVM: ROC AUC=%.3f' % (fav_svm_auc))\n",
    "# calculate roc curves\n",
    "fav_lr_fpr, fav_lr_tpr, _ = roc_curve(y_test, fav_lr_probs)\n",
    "fav_svm_fpr, fav_svm_tpr, _ = roc_curve(y_test, fav_svm_probs)\n",
    "# plot the roc curve for the model\n",
    "pyplot.plot(fav_lr_fpr, fav_lr_tpr, marker='.', label='Logistic')\n",
    "pyplot.plot(fav_svm_fpr, fav_svm_tpr, marker=',', label='SVM')\n",
    "# axis labels\n",
    "pyplot.xlabel('False Positive Rate')\n",
    "pyplot.ylabel('True Positive Rate')\n",
    "# show the legend\n",
    "pyplot.legend()\n",
    "# show the plot\n",
    "pyplot.show()"
   ]
  },
  {
   "cell_type": "markdown",
   "metadata": {},
   "source": [
    "## Comparing Our Models"
   ]
  },
  {
   "cell_type": "markdown",
   "metadata": {},
   "source": [
    "Our most preferred logistic regression model had AUC of 0.777, f1=0.759, precision=0.698, recall=0.832.\n",
    "Our best SVM model had AUC of 0.778, f1=0.761, precision=0.667, recall=0.887. \n",
    "\n",
    "Based on the AUC and f1 score, the SVM had slightly higher performance than the logistic regression model. The scores are very similar though, and the difference may just be due to sampling chance. Logistic regression models, having interpretable coefficients and variable weights makes the logistic regression more favorable, because that allows us to explain the insights of the model to stakeholders. In contrast, it was hard to explain the content of the support vectors. Also, the SVM model uses scaled data which is even more difficult to interpret. In addition, the SVM takes longer to train. All in all, we feel that the Logistic Regression model is our preferred model."
   ]
  },
  {
   "cell_type": "markdown",
   "metadata": {},
   "source": [
    "## ---------------------------"
   ]
  },
  {
   "cell_type": "markdown",
   "metadata": {},
   "source": [
    "# Appendix"
   ]
  },
  {
   "cell_type": "markdown",
   "metadata": {},
   "source": [
    "In this section we have placed the remaining models from our chart above.   They were all determined to be less accurate and were rejected, but we placed them here to show a comparason of the different variable options for SVM and Logistic regression with scaled and un-scaled data"
   ]
  },
  {
   "cell_type": "markdown",
   "metadata": {},
   "source": [
    "## Decision Tree Model"
   ]
  },
  {
   "cell_type": "code",
   "execution_count": 252,
   "metadata": {},
   "outputs": [],
   "source": [
    "from sklearn.model_selection import train_test_split\n",
    "X = df[['bmi', 'ap_hi', 'ap_lo','cholesterol','age']]\n",
    "y = df['cardio']\n",
    "X_train, X_test, y_train, y_test = train_test_split(X, y, test_size=0.20, random_state=101)"
   ]
  },
  {
   "cell_type": "markdown",
   "metadata": {},
   "source": [
    "#### Training a Decision Tree Model\n",
    "Let's start by training a single decision tree first!\n",
    "\n",
    "** Import DecisionTreeClassifier**"
   ]
  },
  {
   "cell_type": "code",
   "execution_count": 253,
   "metadata": {},
   "outputs": [],
   "source": [
    "from sklearn.tree import DecisionTreeClassifier"
   ]
  },
  {
   "cell_type": "markdown",
   "metadata": {},
   "source": [
    "Create an instance of DecisionTreeClassifier() called dtree and fit it to the training data."
   ]
  },
  {
   "cell_type": "code",
   "execution_count": 254,
   "metadata": {},
   "outputs": [],
   "source": [
    "dtree = DecisionTreeClassifier()"
   ]
  },
  {
   "cell_type": "code",
   "execution_count": 255,
   "metadata": {},
   "outputs": [
    {
     "data": {
      "text/plain": [
       "DecisionTreeClassifier(class_weight=None, criterion='gini', max_depth=None,\n",
       "                       max_features=None, max_leaf_nodes=None,\n",
       "                       min_impurity_decrease=0.0, min_impurity_split=None,\n",
       "                       min_samples_leaf=1, min_samples_split=2,\n",
       "                       min_weight_fraction_leaf=0.0, presort=False,\n",
       "                       random_state=None, splitter='best')"
      ]
     },
     "execution_count": 255,
     "metadata": {},
     "output_type": "execute_result"
    }
   ],
   "source": [
    "dtree.fit(X_train,y_train)"
   ]
  },
  {
   "cell_type": "markdown",
   "metadata": {},
   "source": [
    "#### Predictions and Evaluation of Decision Tree\n",
    "\n",
    "Create predictions from the test set and create a classification report and a confusion matrix"
   ]
  },
  {
   "cell_type": "code",
   "execution_count": 256,
   "metadata": {},
   "outputs": [],
   "source": [
    "predictions = dtree.predict(X_test)"
   ]
  },
  {
   "cell_type": "code",
   "execution_count": 257,
   "metadata": {},
   "outputs": [],
   "source": [
    "from sklearn.metrics import classification_report,confusion_matrix"
   ]
  },
  {
   "cell_type": "code",
   "execution_count": 258,
   "metadata": {},
   "outputs": [
    {
     "name": "stdout",
     "output_type": "stream",
     "text": [
      "              precision    recall  f1-score   support\n",
      "\n",
      "           0       0.58      0.58      0.58      4679\n",
      "           1       0.67      0.67      0.67      5932\n",
      "\n",
      "    accuracy                           0.63     10611\n",
      "   macro avg       0.62      0.62      0.62     10611\n",
      "weighted avg       0.63      0.63      0.63     10611\n",
      "\n"
     ]
    }
   ],
   "source": [
    "print(classification_report(y_test,predictions))"
   ]
  },
  {
   "cell_type": "code",
   "execution_count": 259,
   "metadata": {},
   "outputs": [
    {
     "name": "stdout",
     "output_type": "stream",
     "text": [
      "auc 0.6241738311679983\n"
     ]
    }
   ],
   "source": [
    "\n",
    "from sklearn import metrics as mt\n",
    "auc = mt.roc_auc_score(y_test,predictions)\n",
    "print(\"auc\", auc )"
   ]
  },
  {
   "cell_type": "markdown",
   "metadata": {},
   "source": [
    "### Training the Random Forest model\n",
    "Create an instance of the RandomForestClassifier class and fit it to our training data from the previous step."
   ]
  },
  {
   "cell_type": "code",
   "execution_count": 332,
   "metadata": {},
   "outputs": [],
   "source": [
    "from sklearn.ensemble import RandomForestClassifier"
   ]
  },
  {
   "cell_type": "code",
   "execution_count": 333,
   "metadata": {},
   "outputs": [],
   "source": [
    "rfc = RandomForestClassifier(n_estimators=600)"
   ]
  },
  {
   "cell_type": "code",
   "execution_count": 334,
   "metadata": {},
   "outputs": [
    {
     "data": {
      "text/plain": [
       "RandomForestClassifier(bootstrap=True, class_weight=None, criterion='gini',\n",
       "                       max_depth=None, max_features='auto', max_leaf_nodes=None,\n",
       "                       min_impurity_decrease=0.0, min_impurity_split=None,\n",
       "                       min_samples_leaf=1, min_samples_split=2,\n",
       "                       min_weight_fraction_leaf=0.0, n_estimators=600,\n",
       "                       n_jobs=None, oob_score=False, random_state=None,\n",
       "                       verbose=0, warm_start=False)"
      ]
     },
     "execution_count": 334,
     "metadata": {},
     "output_type": "execute_result"
    }
   ],
   "source": [
    "rfc.fit(X_train,y_train)"
   ]
  },
  {
   "cell_type": "code",
   "execution_count": 335,
   "metadata": {},
   "outputs": [
    {
     "name": "stdout",
     "output_type": "stream",
     "text": [
      "auc 0.5021362373626086\n"
     ]
    }
   ],
   "source": [
    "\n",
    "from sklearn import metrics as mt\n",
    "auc = mt.roc_auc_score(y_test,predictions)\n",
    "print(\"auc\", auc )"
   ]
  },
  {
   "cell_type": "markdown",
   "metadata": {},
   "source": [
    "### Predictions and Evaluation\n",
    "Let's predict off the y_test values and evaluate our model.\n",
    "\n",
    "** Predict the class of not.fully.paid for the X_test data.**"
   ]
  },
  {
   "cell_type": "code",
   "execution_count": 263,
   "metadata": {},
   "outputs": [],
   "source": [
    "predictions = rfc.predict(X_test)"
   ]
  },
  {
   "cell_type": "markdown",
   "metadata": {},
   "source": [
    "Now create a classification report from the results."
   ]
  },
  {
   "cell_type": "code",
   "execution_count": 264,
   "metadata": {},
   "outputs": [],
   "source": [
    "from sklearn.metrics import classification_report,confusion_matrix"
   ]
  },
  {
   "cell_type": "code",
   "execution_count": 265,
   "metadata": {},
   "outputs": [
    {
     "name": "stdout",
     "output_type": "stream",
     "text": [
      "              precision    recall  f1-score   support\n",
      "\n",
      "           0       0.65      0.63      0.64      4679\n",
      "           1       0.71      0.73      0.72      5932\n",
      "\n",
      "    accuracy                           0.68     10611\n",
      "   macro avg       0.68      0.68      0.68     10611\n",
      "weighted avg       0.68      0.68      0.68     10611\n",
      "\n"
     ]
    }
   ],
   "source": [
    "print(classification_report(y_test,predictions))"
   ]
  },
  {
   "cell_type": "markdown",
   "metadata": {},
   "source": [
    "## The following Logistic Regression Models were rejected, but they were not far in accuracy and AUC scores from the preferred model."
   ]
  },
  {
   "cell_type": "markdown",
   "metadata": {},
   "source": [
    "### Logistic Regression Option 2   AP_HI variable only (systolic blood pressure).  With un-scaled data"
   ]
  },
  {
   "cell_type": "code",
   "execution_count": 336,
   "metadata": {},
   "outputs": [],
   "source": [
    "# option 2  systolic blood pressure\n",
    "y = df['cardio'].values  \n",
    "X = df['ap_hi'].values \n",
    "X = X.reshape(-1, 1)"
   ]
  },
  {
   "cell_type": "code",
   "execution_count": 337,
   "metadata": {},
   "outputs": [
    {
     "name": "stdout",
     "output_type": "stream",
     "text": [
      "ShuffleSplit(n_splits=3, random_state=None, test_size=0.2, train_size=None)\n"
     ]
    }
   ],
   "source": [
    "#make CV spit 80/20 object\n",
    "from sklearn.model_selection import ShuffleSplit\n",
    "num_cv_iterations = 3\n",
    "num_instances = len(y)\n",
    "cv_object = ShuffleSplit(n_splits=num_cv_iterations,\n",
    "                         test_size  = 0.2)\n",
    "                         \n",
    "print(cv_object)"
   ]
  },
  {
   "cell_type": "markdown",
   "metadata": {},
   "source": [
    "### Logistic Regression - Option 2 Un-scaled"
   ]
  },
  {
   "cell_type": "code",
   "execution_count": 268,
   "metadata": {},
   "outputs": [
    {
     "data": {
      "text/plain": [
       "GridSearchCV(cv=ShuffleSplit(n_splits=3, random_state=None, test_size=0.2, train_size=None),\n",
       "             error_score='raise-deprecating',\n",
       "             estimator=LogisticRegression(C=1.0, class_weight=None, dual=False,\n",
       "                                          fit_intercept=True,\n",
       "                                          intercept_scaling=1, l1_ratio=None,\n",
       "                                          max_iter=4000, multi_class='warn',\n",
       "                                          n_jobs=None, penalty='l2',\n",
       "                                          random_state=None, solver='warn',\n",
       "                                          tol=0.0001, verbose=0,\n",
       "                                          warm_start=False),\n",
       "             iid='warn', n_jobs=None,\n",
       "             param_grid=[{'C': [0.1, 1, 10, 100, 1000], 'penalty': ['l1'],\n",
       "                          'solver': ['liblinear']},\n",
       "                         {'C': [0.1, 1, 10, 100, 1000], 'penalty': ['l2'],\n",
       "                          'solver': ['lbfgs', 'sag', 'saga']}],\n",
       "             pre_dispatch='2*n_jobs', refit=True, return_train_score=False,\n",
       "             scoring='roc_auc', verbose=0)"
      ]
     },
     "execution_count": 268,
     "metadata": {},
     "output_type": "execute_result"
    }
   ],
   "source": [
    "from sklearn.linear_model import LogisticRegression\n",
    "#make a grid search for logistic regression\n",
    "from sklearn.model_selection import GridSearchCV\n",
    "\n",
    "param_grid = [\n",
    "  {'C': [.1, 1, 10, 100, 1000],\n",
    "   'penalty': ['l1'],\n",
    "   'solver': ['liblinear']},\n",
    "  {'C': [.1, 1, 10, 100, 1000],\n",
    "   'penalty': ['l2'], \n",
    "   'solver': ['lbfgs', 'sag', 'saga']},\n",
    " ]\n",
    "\n",
    "\n",
    "lr = LogisticRegression(max_iter=4000)\n",
    "clf = GridSearchCV(lr, param_grid, scoring=\"roc_auc\",cv=cv_object)\n",
    " \n",
    "clf.fit(X, y)\n"
   ]
  },
  {
   "cell_type": "markdown",
   "metadata": {},
   "source": [
    "### Metrics for Option 2 Logistic Regression Un-scaled Data"
   ]
  },
  {
   "cell_type": "code",
   "execution_count": 269,
   "metadata": {},
   "outputs": [
    {
     "name": "stdout",
     "output_type": "stream",
     "text": [
      "Best: 0.731853 using {'C': 0.1, 'penalty': 'l1', 'solver': 'liblinear'}\n",
      "0.731853 (0.002298) with: {'C': 0.1, 'penalty': 'l1', 'solver': 'liblinear'}\n",
      "0.731853 (0.002298) with: {'C': 1, 'penalty': 'l1', 'solver': 'liblinear'}\n",
      "0.731853 (0.002298) with: {'C': 10, 'penalty': 'l1', 'solver': 'liblinear'}\n",
      "0.731853 (0.002298) with: {'C': 100, 'penalty': 'l1', 'solver': 'liblinear'}\n",
      "0.731853 (0.002298) with: {'C': 1000, 'penalty': 'l1', 'solver': 'liblinear'}\n",
      "0.731853 (0.002298) with: {'C': 0.1, 'penalty': 'l2', 'solver': 'lbfgs'}\n",
      "0.731853 (0.002298) with: {'C': 0.1, 'penalty': 'l2', 'solver': 'sag'}\n",
      "0.731853 (0.002298) with: {'C': 0.1, 'penalty': 'l2', 'solver': 'saga'}\n",
      "0.731853 (0.002298) with: {'C': 1, 'penalty': 'l2', 'solver': 'lbfgs'}\n",
      "0.731853 (0.002298) with: {'C': 1, 'penalty': 'l2', 'solver': 'sag'}\n",
      "0.731853 (0.002298) with: {'C': 1, 'penalty': 'l2', 'solver': 'saga'}\n",
      "0.731853 (0.002298) with: {'C': 10, 'penalty': 'l2', 'solver': 'lbfgs'}\n",
      "0.731853 (0.002298) with: {'C': 10, 'penalty': 'l2', 'solver': 'sag'}\n",
      "0.731853 (0.002298) with: {'C': 10, 'penalty': 'l2', 'solver': 'saga'}\n",
      "0.731853 (0.002298) with: {'C': 100, 'penalty': 'l2', 'solver': 'lbfgs'}\n",
      "0.731853 (0.002298) with: {'C': 100, 'penalty': 'l2', 'solver': 'sag'}\n",
      "0.731853 (0.002298) with: {'C': 100, 'penalty': 'l2', 'solver': 'saga'}\n",
      "0.731853 (0.002298) with: {'C': 1000, 'penalty': 'l2', 'solver': 'lbfgs'}\n",
      "0.731853 (0.002298) with: {'C': 1000, 'penalty': 'l2', 'solver': 'sag'}\n",
      "0.731853 (0.002298) with: {'C': 1000, 'penalty': 'l2', 'solver': 'saga'}\n"
     ]
    }
   ],
   "source": [
    "#code adapted from https://machinelearningmastery.com/hyperparameters-for-classification-machine-learning-algorithms/\n",
    "print(\"Best: %f using %s\" % (clf.best_score_, clf.best_params_))\n",
    "means = clf.cv_results_['mean_test_score']\n",
    "stds = clf.cv_results_['std_test_score']\n",
    "params = clf.cv_results_['params']\n",
    "for mean, stdev, param in zip(means, stds, params):\n",
    "    print(\"%f (%f) with: %r\" % (mean, stdev, param))"
   ]
  },
  {
   "cell_type": "code",
   "execution_count": 270,
   "metadata": {},
   "outputs": [],
   "source": [
    " \n",
    "lr_clf = LogisticRegression(penalty='l2', C=0.1, class_weight=None, solver='lbfgs' ) # get object\n",
    "\n",
    "\n"
   ]
  },
  {
   "cell_type": "code",
   "execution_count": 271,
   "metadata": {},
   "outputs": [
    {
     "name": "stdout",
     "output_type": "stream",
     "text": [
      "====Iteration 0  ====\n",
      "auc 0.741920320168985\n",
      "confusion matrix\n",
      " [[3467 1241]\n",
      " [1836 4067]]\n",
      "F1 Score:  0.7255374186067256\n",
      "accuracy 0.7100179059466591\n",
      "              precision    recall  f1-score   support\n",
      "\n",
      "           0       0.65      0.74      0.69      4708\n",
      "           1       0.77      0.69      0.73      5903\n",
      "\n",
      "    accuracy                           0.71     10611\n",
      "   macro avg       0.71      0.71      0.71     10611\n",
      "weighted avg       0.72      0.71      0.71     10611\n",
      "\n",
      "====Iteration 1  ====\n",
      "auc 0.7372027014312149\n",
      "confusion matrix\n",
      " [[3426 1240]\n",
      " [1913 4032]]\n",
      "F1 Score:  0.7189087991441561\n",
      "accuracy 0.7028555272830082\n",
      "              precision    recall  f1-score   support\n",
      "\n",
      "           0       0.64      0.73      0.68      4666\n",
      "           1       0.76      0.68      0.72      5945\n",
      "\n",
      "    accuracy                           0.70     10611\n",
      "   macro avg       0.70      0.71      0.70     10611\n",
      "weighted avg       0.71      0.70      0.70     10611\n",
      "\n",
      "====Iteration 2  ====\n",
      "auc 0.7315835848527931\n",
      "confusion matrix\n",
      " [[3432 1267]\n",
      " [1915 3997]]\n",
      "F1 Score:  0.7152827487473157\n",
      "accuracy 0.7001225143718782\n",
      "              precision    recall  f1-score   support\n",
      "\n",
      "           0       0.64      0.73      0.68      4699\n",
      "           1       0.76      0.68      0.72      5912\n",
      "\n",
      "    accuracy                           0.70     10611\n",
      "   macro avg       0.70      0.70      0.70     10611\n",
      "weighted avg       0.71      0.70      0.70     10611\n",
      "\n"
     ]
    }
   ],
   "source": [
    "iter_num=0\n",
    "for train_indices, test_indices in cv_object.split(X,y): \n",
    "    X_train = X[train_indices]\n",
    "    y_train = y[train_indices]\n",
    "    \n",
    "    X_test = X[test_indices]\n",
    "    y_test = y[test_indices]\n",
    "    \n",
    "    lr_clf.fit(X_train,y_train)\n",
    "    y_hat = lr_clf.predict(X_test)\n",
    "    y_prob=lr_clf.predict_proba(X_test)[:,1]\n",
    "\n",
    "    #acc = mt.accuracy_score(y_test,y_hat)\n",
    "    conf = mt.confusion_matrix(y_test,y_hat)\n",
    "    auc = mt.roc_auc_score(y_test,y_prob)\n",
    "    print(\"====Iteration\",iter_num,\" ====\")\n",
    "   # print(\"accuracy\", acc )\n",
    "    print(\"auc\", auc )\n",
    "    print(\"confusion matrix\\n\",conf)\n",
    "    \n",
    "          \n",
    "    # Show the F1 Score\n",
    "    fscore = mt.f1_score(y_test,y_hat)\n",
    "    print(\"F1 Score: \", fscore)\n",
    "    \n",
    "    # Show the Accuracy Score\n",
    "    acc = mt.accuracy_score(y_test,y_hat)\n",
    "    print(\"accuracy\", acc )\n",
    "    \n",
    "    # Show the Classification Matrix\n",
    "    print(mt.classification_report(y_test,y_hat))\n",
    "    \n",
    "    iter_num+=1"
   ]
  },
  {
   "cell_type": "markdown",
   "metadata": {},
   "source": [
    "### Option 2 Logistic Regression Scaled data:   train/test split"
   ]
  },
  {
   "cell_type": "code",
   "execution_count": 272,
   "metadata": {},
   "outputs": [],
   "source": [
    "#make CV spit 80/20 object\n",
    "from sklearn.model_selection import ShuffleSplit\n",
    "num_cv_iterations = 3\n",
    "num_instances = len(y)\n",
    "cv_object = ShuffleSplit(n_splits=num_cv_iterations,\n",
    "                         test_size  = 0.2)"
   ]
  },
  {
   "cell_type": "markdown",
   "metadata": {},
   "source": [
    "### Logistic Regression, Option 2 Hyperparameter Tuning "
   ]
  },
  {
   "cell_type": "code",
   "execution_count": 273,
   "metadata": {},
   "outputs": [
    {
     "data": {
      "text/plain": [
       "GridSearchCV(cv=ShuffleSplit(n_splits=3, random_state=None, test_size=0.2, train_size=None),\n",
       "             error_score='raise-deprecating',\n",
       "             estimator=Pipeline(memory=None,\n",
       "                                steps=[('scaler',\n",
       "                                        StandardScaler(copy=True,\n",
       "                                                       with_mean=True,\n",
       "                                                       with_std=True)),\n",
       "                                       ('classifier',\n",
       "                                        LogisticRegression(C=1.0,\n",
       "                                                           class_weight=None,\n",
       "                                                           dual=False,\n",
       "                                                           fit_intercept=True,\n",
       "                                                           intercept_scaling=1,\n",
       "                                                           l1_ratio=None,\n",
       "                                                           max_...\n",
       "                                verbose=False),\n",
       "             iid='warn', n_jobs=None,\n",
       "             param_grid=[{'classifier__C': [0.1, 1, 10, 100, 1000],\n",
       "                          'classifier__penalty': ['l1'],\n",
       "                          'classifier__solver': ['liblinear', 'saga']},\n",
       "                         {'classifier__C': [0.1, 1, 10, 100, 1000],\n",
       "                          'classifier__penalty': ['l2'],\n",
       "                          'classifier__solver': ['lbfgs', 'sag', 'saga']}],\n",
       "             pre_dispatch='2*n_jobs', refit=True, return_train_score=False,\n",
       "             scoring='roc_auc', verbose=0)"
      ]
     },
     "execution_count": 273,
     "metadata": {},
     "output_type": "execute_result"
    }
   ],
   "source": [
    "from sklearn.linear_model import LogisticRegression\n",
    "#make a grid search for logistic regression\n",
    "from sklearn.model_selection import GridSearchCV\n",
    "\n",
    "param_grid = [\n",
    "  {'classifier__C': [.1, 1, 10, 100, 1000],\n",
    "   'classifier__penalty': ['l1'],\n",
    "   'classifier__solver': ['liblinear', 'saga']},\n",
    "  {'classifier__C': [.1, 1, 10, 100, 1000],\n",
    "   'classifier__penalty': ['l2'], \n",
    "   'classifier__solver': ['lbfgs', 'sag', 'saga']},\n",
    " ]\n",
    "\n",
    "lr = Pipeline([\n",
    "    ('scaler', StandardScaler()),\n",
    "    ('classifier', LogisticRegression())])\n",
    "clf = GridSearchCV(lr, param_grid, scoring=\"roc_auc\", cv=cv_object)\n",
    "clf.fit(X, y)\n",
    "\n",
    "\n"
   ]
  },
  {
   "cell_type": "code",
   "execution_count": 274,
   "metadata": {},
   "outputs": [
    {
     "name": "stdout",
     "output_type": "stream",
     "text": [
      "Best: 0.731327 using {'classifier__C': 0.1, 'classifier__penalty': 'l1', 'classifier__solver': 'liblinear'}\n",
      "0.731327 (0.002186) with: {'classifier__C': 0.1, 'classifier__penalty': 'l1', 'classifier__solver': 'liblinear'}\n",
      "0.731327 (0.002186) with: {'classifier__C': 0.1, 'classifier__penalty': 'l1', 'classifier__solver': 'saga'}\n",
      "0.731327 (0.002186) with: {'classifier__C': 1, 'classifier__penalty': 'l1', 'classifier__solver': 'liblinear'}\n",
      "0.731327 (0.002186) with: {'classifier__C': 1, 'classifier__penalty': 'l1', 'classifier__solver': 'saga'}\n",
      "0.731327 (0.002186) with: {'classifier__C': 10, 'classifier__penalty': 'l1', 'classifier__solver': 'liblinear'}\n",
      "0.731327 (0.002186) with: {'classifier__C': 10, 'classifier__penalty': 'l1', 'classifier__solver': 'saga'}\n",
      "0.731327 (0.002186) with: {'classifier__C': 100, 'classifier__penalty': 'l1', 'classifier__solver': 'liblinear'}\n",
      "0.731327 (0.002186) with: {'classifier__C': 100, 'classifier__penalty': 'l1', 'classifier__solver': 'saga'}\n",
      "0.731327 (0.002186) with: {'classifier__C': 1000, 'classifier__penalty': 'l1', 'classifier__solver': 'liblinear'}\n",
      "0.731327 (0.002186) with: {'classifier__C': 1000, 'classifier__penalty': 'l1', 'classifier__solver': 'saga'}\n",
      "0.731327 (0.002186) with: {'classifier__C': 0.1, 'classifier__penalty': 'l2', 'classifier__solver': 'lbfgs'}\n",
      "0.731327 (0.002186) with: {'classifier__C': 0.1, 'classifier__penalty': 'l2', 'classifier__solver': 'sag'}\n",
      "0.731327 (0.002186) with: {'classifier__C': 0.1, 'classifier__penalty': 'l2', 'classifier__solver': 'saga'}\n",
      "0.731327 (0.002186) with: {'classifier__C': 1, 'classifier__penalty': 'l2', 'classifier__solver': 'lbfgs'}\n",
      "0.731327 (0.002186) with: {'classifier__C': 1, 'classifier__penalty': 'l2', 'classifier__solver': 'sag'}\n",
      "0.731327 (0.002186) with: {'classifier__C': 1, 'classifier__penalty': 'l2', 'classifier__solver': 'saga'}\n",
      "0.731327 (0.002186) with: {'classifier__C': 10, 'classifier__penalty': 'l2', 'classifier__solver': 'lbfgs'}\n",
      "0.731327 (0.002186) with: {'classifier__C': 10, 'classifier__penalty': 'l2', 'classifier__solver': 'sag'}\n",
      "0.731327 (0.002186) with: {'classifier__C': 10, 'classifier__penalty': 'l2', 'classifier__solver': 'saga'}\n",
      "0.731327 (0.002186) with: {'classifier__C': 100, 'classifier__penalty': 'l2', 'classifier__solver': 'lbfgs'}\n",
      "0.731327 (0.002186) with: {'classifier__C': 100, 'classifier__penalty': 'l2', 'classifier__solver': 'sag'}\n",
      "0.731327 (0.002186) with: {'classifier__C': 100, 'classifier__penalty': 'l2', 'classifier__solver': 'saga'}\n",
      "0.731327 (0.002186) with: {'classifier__C': 1000, 'classifier__penalty': 'l2', 'classifier__solver': 'lbfgs'}\n",
      "0.731327 (0.002186) with: {'classifier__C': 1000, 'classifier__penalty': 'l2', 'classifier__solver': 'sag'}\n",
      "0.731327 (0.002186) with: {'classifier__C': 1000, 'classifier__penalty': 'l2', 'classifier__solver': 'saga'}\n"
     ]
    }
   ],
   "source": [
    "#code adapted from https://machinelearningmastery.com/hyperparameters-for-classification-machine-learning-algorithms/\n",
    "print(\"Best: %f using %s\" % (clf.best_score_, clf.best_params_))\n",
    "means = clf.cv_results_['mean_test_score']\n",
    "stds = clf.cv_results_['std_test_score']\n",
    "params = clf.cv_results_['params']\n",
    "for mean, stdev, param in zip(means, stds, params):\n",
    "    print(\"%f (%f) with: %r\" % (mean, stdev, param))"
   ]
  },
  {
   "cell_type": "markdown",
   "metadata": {},
   "source": [
    "### Metrics for Logistic Regression, Option 2 Scaled data"
   ]
  },
  {
   "cell_type": "code",
   "execution_count": 275,
   "metadata": {},
   "outputs": [
    {
     "name": "stdout",
     "output_type": "stream",
     "text": [
      "0.7315835848527931\n",
      "[0.700311   0.70191311 0.69748374]\n"
     ]
    }
   ],
   "source": [
    "from sklearn.metrics import roc_auc_score\n",
    "\n",
    "lr_clf = make_pipeline(StandardScaler(), LogisticRegression(C= 0.1, penalty= 'l1', solver= 'liblinear'))\n",
    "model_s=lr_clf\n",
    "model_s.fit(X_train, y_train)\n",
    "pred_prob_s = model_s.predict_proba(X_test)\n",
    "auc_score_s = roc_auc_score(y_test, pred_prob_s[:,1])\n",
    "accuracies = cross_val_score(lr_clf, X, y=y, cv=cv_object)\n",
    "print(auc_score_s)\n",
    "print(accuracies)\n"
   ]
  },
  {
   "cell_type": "code",
   "execution_count": 276,
   "metadata": {},
   "outputs": [
    {
     "name": "stdout",
     "output_type": "stream",
     "text": [
      "====Iteration 0  ====\n",
      "auc 0.7427621577064204\n",
      "confusion matrix\n",
      " [[3506 1224]\n",
      " [1878 4003]]\n",
      "F1 Score:  0.7207418077061577\n",
      "accuracy 0.7076618603336161\n",
      "              precision    recall  f1-score   support\n",
      "\n",
      "           0       0.65      0.74      0.69      4730\n",
      "           1       0.77      0.68      0.72      5881\n",
      "\n",
      "    accuracy                           0.71     10611\n",
      "   macro avg       0.71      0.71      0.71     10611\n",
      "weighted avg       0.71      0.71      0.71     10611\n",
      "\n",
      "====Iteration 1  ====\n",
      "auc 0.7310673597931542\n",
      "confusion matrix\n",
      " [[3310 1264]\n",
      " [1949 4088]]\n",
      "F1 Score:  0.7178856791641057\n",
      "accuracy 0.6972010178117048\n",
      "              precision    recall  f1-score   support\n",
      "\n",
      "           0       0.63      0.72      0.67      4574\n",
      "           1       0.76      0.68      0.72      6037\n",
      "\n",
      "    accuracy                           0.70     10611\n",
      "   macro avg       0.70      0.70      0.70     10611\n",
      "weighted avg       0.71      0.70      0.70     10611\n",
      "\n",
      "====Iteration 2  ====\n",
      "auc 0.7381381560971533\n",
      "confusion matrix\n",
      " [[3375 1254]\n",
      " [1874 4108]]\n",
      "F1 Score:  0.7242595204513398\n",
      "accuracy 0.7052115728960513\n",
      "              precision    recall  f1-score   support\n",
      "\n",
      "           0       0.64      0.73      0.68      4629\n",
      "           1       0.77      0.69      0.72      5982\n",
      "\n",
      "    accuracy                           0.71     10611\n",
      "   macro avg       0.70      0.71      0.70     10611\n",
      "weighted avg       0.71      0.71      0.71     10611\n",
      "\n"
     ]
    }
   ],
   "source": [
    "iter_num=0\n",
    "for train_indices, test_indices in cv_object.split(X,y): \n",
    "    X_train = X[train_indices]\n",
    "    y_train = y[train_indices]\n",
    "    \n",
    "    X_test = X[test_indices]\n",
    "    y_test = y[test_indices]\n",
    "    \n",
    "    lr_clf.fit(X_train,y_train)\n",
    "    y_hat = lr_clf.predict(X_test)\n",
    "    y_prob=lr_clf.predict_proba(X_test)[:,1]\n",
    "\n",
    "    #acc = mt.accuracy_score(y_test,y_hat)\n",
    "    conf = mt.confusion_matrix(y_test,y_hat)\n",
    "    auc = mt.roc_auc_score(y_test,y_prob)\n",
    "    print(\"====Iteration\",iter_num,\" ====\")\n",
    "   # print(\"accuracy\", acc )\n",
    "    print(\"auc\", auc )\n",
    "    print(\"confusion matrix\\n\",conf)\n",
    "    \n",
    "     # Show the F1 Score\n",
    "    fscore = mt.f1_score(y_test,y_hat)\n",
    "    print(\"F1 Score: \", fscore)\n",
    "    \n",
    "    # Show the Accuracy Score\n",
    "    acc = mt.accuracy_score(y_test,y_hat)\n",
    "    print(\"accuracy\", acc )\n",
    "    \n",
    "    # Show the Classification Matrix\n",
    "    print(mt.classification_report(y_test,y_hat))\n",
    "    \n",
    "    iter_num+=1"
   ]
  },
  {
   "cell_type": "code",
   "execution_count": 277,
   "metadata": {},
   "outputs": [
    {
     "data": {
      "text/plain": [
       "{'classifier__C': 0.1,\n",
       " 'classifier__penalty': 'l1',\n",
       " 'classifier__solver': 'liblinear'}"
      ]
     },
     "execution_count": 277,
     "metadata": {},
     "output_type": "execute_result"
    }
   ],
   "source": [
    "clf.best_params_"
   ]
  },
  {
   "cell_type": "code",
   "execution_count": 278,
   "metadata": {},
   "outputs": [
    {
     "data": {
      "text/plain": [
       "Pipeline(memory=None,\n",
       "         steps=[('scaler',\n",
       "                 StandardScaler(copy=True, with_mean=True, with_std=True)),\n",
       "                ('classifier',\n",
       "                 LogisticRegression(C=0.1, class_weight=None, dual=False,\n",
       "                                    fit_intercept=True, intercept_scaling=1,\n",
       "                                    l1_ratio=None, max_iter=100,\n",
       "                                    multi_class='warn', n_jobs=None,\n",
       "                                    penalty='l1', random_state=None,\n",
       "                                    solver='liblinear', tol=0.0001, verbose=0,\n",
       "                                    warm_start=False))],\n",
       "         verbose=False)"
      ]
     },
     "execution_count": 278,
     "metadata": {},
     "output_type": "execute_result"
    }
   ],
   "source": [
    "clf.best_estimator_"
   ]
  },
  {
   "cell_type": "code",
   "execution_count": 279,
   "metadata": {},
   "outputs": [],
   "source": [
    "model=clf.best_estimator_.fit(X,y)"
   ]
  },
  {
   "cell_type": "code",
   "execution_count": 280,
   "metadata": {},
   "outputs": [
    {
     "data": {
      "text/plain": [
       "array([[1.09443006]])"
      ]
     },
     "execution_count": 280,
     "metadata": {},
     "output_type": "execute_result"
    }
   ],
   "source": [
    "model.named_steps[\"classifier\"].coef_"
   ]
  },
  {
   "cell_type": "markdown",
   "metadata": {},
   "source": [
    "### Option 2 Logistic Regression : precision recall curve"
   ]
  },
  {
   "cell_type": "code",
   "execution_count": 281,
   "metadata": {
    "scrolled": true
   },
   "outputs": [
    {
     "name": "stdout",
     "output_type": "stream",
     "text": [
      "Logistic: ROC AUC=0.738\n"
     ]
    },
    {
     "data": {
      "image/png": "[encoded data removed]",
      "text/plain": [
       "<Figure size 432x288 with 1 Axes>"
      ]
     },
     "metadata": {},
     "output_type": "display_data"
    }
   ],
   "source": [
    "# roc curve and auc\n",
    "lr_clf.fit(X_train, y_train)\n",
    "\n",
    "# predict probabilities\n",
    "lr_probs = lr_clf.predict_proba(X_test)\n",
    "# keep probabilities for the positive outcome only\n",
    "lr_probs = lr_probs[:, 1]\n",
    "# calculate scores\n",
    "lr_auc = roc_auc_score(y_test, lr_probs)\n",
    "# summarize scores\\\n",
    "print('Logistic: ROC AUC=%.3f' % (lr_auc))\n",
    "# calculate roc curves\n",
    "lr_fpr, lr_tpr, _ = roc_curve(y_test, lr_probs)\n",
    "# plot the roc curve for the model\n",
    "pyplot.plot(lr_fpr, lr_tpr, marker='.', label='Logistic')\n",
    "# axis labels\n",
    "pyplot.xlabel('False Positive Rate')\n",
    "pyplot.ylabel('True Positive Rate')\n",
    "# show the legend\n",
    "pyplot.legend()\n",
    "# show the plot\n",
    "pyplot.show()"
   ]
  },
  {
   "cell_type": "markdown",
   "metadata": {},
   "source": [
    "\n",
    "\n",
    "## Option 4, Logistic Regression: weight,  age,  ap_lo, ap_hi,  cholesterol "
   ]
  },
  {
   "cell_type": "code",
   "execution_count": 282,
   "metadata": {},
   "outputs": [],
   "source": [
    "y = df['cardio'].values # get the labels we want\n",
    "X = df[['weight','age','ap_lo','ap_hi','cholesterol']].values"
   ]
  },
  {
   "cell_type": "markdown",
   "metadata": {},
   "source": [
    "### Option 4  Logistic Regression Un-scaled data model"
   ]
  },
  {
   "cell_type": "code",
   "execution_count": 338,
   "metadata": {
    "scrolled": true
   },
   "outputs": [
    {
     "name": "stdout",
     "output_type": "stream",
     "text": [
      "ShuffleSplit(n_splits=3, random_state=None, test_size=0.2, train_size=None)\n"
     ]
    }
   ],
   "source": [
    "#make CV spit 80/20 object\n",
    "from sklearn.model_selection import ShuffleSplit\n",
    "num_cv_iterations = 3\n",
    "num_instances = len(y)\n",
    "cv_object = ShuffleSplit(n_splits=num_cv_iterations,\n",
    "                         test_size  = 0.2)\n",
    "                         \n",
    "print(cv_object)"
   ]
  },
  {
   "cell_type": "markdown",
   "metadata": {},
   "source": [
    "### Option 4 Logistic Regression   Un-scaled data"
   ]
  },
  {
   "cell_type": "code",
   "execution_count": 339,
   "metadata": {},
   "outputs": [
    {
     "data": {
      "text/plain": [
       "GridSearchCV(cv=ShuffleSplit(n_splits=3, random_state=None, test_size=0.2, train_size=None),\n",
       "             error_score='raise-deprecating',\n",
       "             estimator=LogisticRegression(C=1.0, class_weight=None, dual=False,\n",
       "                                          fit_intercept=True,\n",
       "                                          intercept_scaling=1, l1_ratio=None,\n",
       "                                          max_iter=1000, multi_class='warn',\n",
       "                                          n_jobs=None, penalty='l2',\n",
       "                                          random_state=None, solver='warn',\n",
       "                                          tol=0.0001, verbose=0,\n",
       "                                          warm_start=False),\n",
       "             iid='warn', n_jobs=None,\n",
       "             param_grid=[{'C': [0.1, 1, 10, 100, 1000], 'penalty': ['l1'],\n",
       "                          'solver': ['liblinear']},\n",
       "                         {'C': [0.1, 1, 10, 100, 1000], 'penalty': ['l2'],\n",
       "                          'solver': ['lbfgs']}],\n",
       "             pre_dispatch='2*n_jobs', refit=True, return_train_score=False,\n",
       "             scoring='roc_auc', verbose=0)"
      ]
     },
     "execution_count": 339,
     "metadata": {},
     "output_type": "execute_result"
    }
   ],
   "source": [
    "\n",
    "from sklearn.linear_model import LogisticRegression\n",
    "#make a grid search for logistic regression\n",
    "from sklearn.model_selection import GridSearchCV\n",
    "\n",
    "param_grid = [\n",
    "  {'C': [.1, 1, 10, 100, 1000],\n",
    "   'penalty': ['l1'],\n",
    "   'solver': ['liblinear']},\n",
    "  {'C': [.1, 1, 10, 100, 1000],\n",
    "   'penalty': ['l2'], \n",
    "   'solver': ['lbfgs']},\n",
    " ]\n",
    "\n",
    "lr = LogisticRegression(max_iter=1000)\n",
    "clf = GridSearchCV(lr, param_grid, scoring=\"roc_auc\",cv=cv_object)\n",
    "clf.fit(X, y)\n"
   ]
  },
  {
   "cell_type": "code",
   "execution_count": 285,
   "metadata": {},
   "outputs": [
    {
     "name": "stdout",
     "output_type": "stream",
     "text": [
      "Best: 0.778928 using {'C': 0.1, 'penalty': 'l1', 'solver': 'liblinear'}\n",
      "0.778928 (0.001439) with: {'C': 0.1, 'penalty': 'l1', 'solver': 'liblinear'}\n",
      "0.778918 (0.001443) with: {'C': 1, 'penalty': 'l1', 'solver': 'liblinear'}\n",
      "0.778872 (0.001437) with: {'C': 10, 'penalty': 'l1', 'solver': 'liblinear'}\n",
      "0.778873 (0.001391) with: {'C': 100, 'penalty': 'l1', 'solver': 'liblinear'}\n",
      "0.778907 (0.001480) with: {'C': 1000, 'penalty': 'l1', 'solver': 'liblinear'}\n",
      "0.636806 (0.014300) with: {'C': 0.1, 'penalty': 'l2', 'solver': 'lbfgs'}\n",
      "0.625370 (0.017087) with: {'C': 1, 'penalty': 'l2', 'solver': 'lbfgs'}\n",
      "0.625369 (0.017086) with: {'C': 10, 'penalty': 'l2', 'solver': 'lbfgs'}\n",
      "0.625369 (0.017087) with: {'C': 100, 'penalty': 'l2', 'solver': 'lbfgs'}\n",
      "0.625369 (0.017087) with: {'C': 1000, 'penalty': 'l2', 'solver': 'lbfgs'}\n"
     ]
    }
   ],
   "source": [
    "#code adapted from https://machinelearningmastery.com/hyperparameters-for-classification-machine-learning-algorithms/\n",
    "print(\"Best: %f using %s\" % (clf.best_score_, clf.best_params_))\n",
    "means = clf.cv_results_['mean_test_score']\n",
    "stds = clf.cv_results_['std_test_score']\n",
    "params = clf.cv_results_['params']\n",
    "for mean, stdev, param in zip(means, stds, params):\n",
    "    print(\"%f (%f) with: %r\" % (mean, stdev, param))"
   ]
  },
  {
   "cell_type": "markdown",
   "metadata": {},
   "source": [
    "### Metrics for Logistic Regression Un-scaled data Option 4"
   ]
  },
  {
   "cell_type": "code",
   "execution_count": 286,
   "metadata": {},
   "outputs": [],
   "source": [
    "#LogisticRegression(solver='lbfgs')\n",
    "lr_clf = LogisticRegression(penalty='l1', C=0.1, class_weight=None, solver='liblinear' ) # get object\n"
   ]
  },
  {
   "cell_type": "code",
   "execution_count": 287,
   "metadata": {},
   "outputs": [
    {
     "name": "stdout",
     "output_type": "stream",
     "text": [
      "====Iteration 0  ====\n",
      "auc 0.7761169005244781\n",
      "confusion matrix\n",
      " [[3348 1398]\n",
      " [1656 4209]]\n",
      "F1 Score:  0.7337866108786611\n",
      "accuracy 0.7121854679106587\n",
      "              precision    recall  f1-score   support\n",
      "\n",
      "           0       0.67      0.71      0.69      4746\n",
      "           1       0.75      0.72      0.73      5865\n",
      "\n",
      "    accuracy                           0.71     10611\n",
      "   macro avg       0.71      0.71      0.71     10611\n",
      "weighted avg       0.71      0.71      0.71     10611\n",
      "\n",
      "====Iteration 1  ====\n",
      "auc 0.7812682343830684\n",
      "confusion matrix\n",
      " [[3328 1317]\n",
      " [1685 4281]]\n",
      "F1 Score:  0.7404012452438602\n",
      "accuracy 0.7170860427857884\n",
      "              precision    recall  f1-score   support\n",
      "\n",
      "           0       0.66      0.72      0.69      4645\n",
      "           1       0.76      0.72      0.74      5966\n",
      "\n",
      "    accuracy                           0.72     10611\n",
      "   macro avg       0.71      0.72      0.71     10611\n",
      "weighted avg       0.72      0.72      0.72     10611\n",
      "\n",
      "====Iteration 2  ====\n",
      "auc 0.7721907654262163\n",
      "confusion matrix\n",
      " [[3366 1298]\n",
      " [1828 4119]]\n",
      "F1 Score:  0.7249208025343189\n",
      "accuracy 0.7054000565450947\n",
      "              precision    recall  f1-score   support\n",
      "\n",
      "           0       0.65      0.72      0.68      4664\n",
      "           1       0.76      0.69      0.72      5947\n",
      "\n",
      "    accuracy                           0.71     10611\n",
      "   macro avg       0.70      0.71      0.70     10611\n",
      "weighted avg       0.71      0.71      0.71     10611\n",
      "\n"
     ]
    }
   ],
   "source": [
    "iter_num=0\n",
    "for train_indices, test_indices in cv_object.split(X,y): \n",
    "    X_train = X[train_indices]\n",
    "    y_train = y[train_indices]\n",
    "    \n",
    "    X_test = X[test_indices]\n",
    "    y_test = y[test_indices]\n",
    "    \n",
    "    lr_clf.fit(X_train,y_train)\n",
    "    y_hat = lr_clf.predict(X_test)\n",
    "    y_prob=lr_clf.predict_proba(X_test)[:,1]\n",
    "\n",
    "    #acc = mt.accuracy_score(y_test,y_hat)\n",
    "    conf = mt.confusion_matrix(y_test,y_hat)\n",
    "    auc = mt.roc_auc_score(y_test,y_prob)\n",
    "    print(\"====Iteration\",iter_num,\" ====\")\n",
    "   # print(\"accuracy\", acc )\n",
    "    print(\"auc\", auc )\n",
    "    print(\"confusion matrix\\n\",conf)\n",
    "    \n",
    "    # Show the F1 Score\n",
    "    fscore = mt.f1_score(y_test,y_hat)\n",
    "    print(\"F1 Score: \", fscore)\n",
    "    \n",
    "    # Show the Accuracy Score\n",
    "    acc = mt.accuracy_score(y_test,y_hat)\n",
    "    print(\"accuracy\", acc )\n",
    "    \n",
    "    # Show the Classification Matrix\n",
    "    print(mt.classification_report(y_test,y_hat))\n",
    "    \n",
    "    iter_num+=1"
   ]
  },
  {
   "cell_type": "markdown",
   "metadata": {},
   "source": [
    "### Logistic Regression Option 4 Scaled data train/test split"
   ]
  },
  {
   "cell_type": "code",
   "execution_count": 288,
   "metadata": {},
   "outputs": [],
   "source": [
    "#make CV spit 80/20 object\n",
    "from sklearn.model_selection import ShuffleSplit\n",
    "num_cv_iterations = 3\n",
    "num_instances = len(y)\n",
    "cv_object = ShuffleSplit(n_splits=num_cv_iterations,\n",
    "                         test_size  = 0.2)"
   ]
  },
  {
   "cell_type": "markdown",
   "metadata": {},
   "source": [
    "### Logistic Regression Scaled, Option 4 Hyperparameter Tuning "
   ]
  },
  {
   "cell_type": "code",
   "execution_count": 289,
   "metadata": {},
   "outputs": [
    {
     "data": {
      "text/plain": [
       "GridSearchCV(cv=ShuffleSplit(n_splits=3, random_state=None, test_size=0.2, train_size=None),\n",
       "             error_score='raise-deprecating',\n",
       "             estimator=Pipeline(memory=None,\n",
       "                                steps=[('scaler',\n",
       "                                        StandardScaler(copy=True,\n",
       "                                                       with_mean=True,\n",
       "                                                       with_std=True)),\n",
       "                                       ('classifier',\n",
       "                                        LogisticRegression(C=1.0,\n",
       "                                                           class_weight=None,\n",
       "                                                           dual=False,\n",
       "                                                           fit_intercept=True,\n",
       "                                                           intercept_scaling=1,\n",
       "                                                           l1_ratio=None,\n",
       "                                                           max_...\n",
       "                                verbose=False),\n",
       "             iid='warn', n_jobs=None,\n",
       "             param_grid=[{'classifier__C': [0.1, 1, 10, 100, 1000],\n",
       "                          'classifier__penalty': ['l1'],\n",
       "                          'classifier__solver': ['liblinear', 'saga']},\n",
       "                         {'classifier__C': [0.1, 1, 10, 100, 1000],\n",
       "                          'classifier__penalty': ['l2'],\n",
       "                          'classifier__solver': ['lbfgs', 'sag', 'saga']}],\n",
       "             pre_dispatch='2*n_jobs', refit=True, return_train_score=False,\n",
       "             scoring='roc_auc', verbose=0)"
      ]
     },
     "execution_count": 289,
     "metadata": {},
     "output_type": "execute_result"
    }
   ],
   "source": [
    "\n",
    "#make a grid search for logistic regression\n",
    "from sklearn.model_selection import GridSearchCV\n",
    "\n",
    "param_grid = [\n",
    "  {'classifier__C': [.1, 1, 10, 100, 1000],\n",
    "   'classifier__penalty': ['l1'],\n",
    "   'classifier__solver': ['liblinear', 'saga']},\n",
    "  {'classifier__C': [.1, 1, 10, 100, 1000],\n",
    "   'classifier__penalty': ['l2'], \n",
    "   'classifier__solver': ['lbfgs', 'sag', 'saga']},\n",
    " ]\n",
    "\n",
    "lr = Pipeline([\n",
    "    ('scaler', StandardScaler()),\n",
    "    ('classifier', LogisticRegression(solver='lbfgs'))])\n",
    "clf = GridSearchCV(lr, param_grid, scoring=\"roc_auc\", cv=cv_object)\n",
    "clf.fit(X, y)\n"
   ]
  },
  {
   "cell_type": "code",
   "execution_count": 290,
   "metadata": {},
   "outputs": [
    {
     "name": "stdout",
     "output_type": "stream",
     "text": [
      "Best: 0.776951 using {'classifier__C': 0.1, 'classifier__penalty': 'l1', 'classifier__solver': 'saga'}\n",
      "0.776948 (0.002388) with: {'classifier__C': 0.1, 'classifier__penalty': 'l1', 'classifier__solver': 'liblinear'}\n",
      "0.776951 (0.002388) with: {'classifier__C': 0.1, 'classifier__penalty': 'l1', 'classifier__solver': 'saga'}\n",
      "0.776938 (0.002388) with: {'classifier__C': 1, 'classifier__penalty': 'l1', 'classifier__solver': 'liblinear'}\n",
      "0.776938 (0.002388) with: {'classifier__C': 1, 'classifier__penalty': 'l1', 'classifier__solver': 'saga'}\n",
      "0.776936 (0.002388) with: {'classifier__C': 10, 'classifier__penalty': 'l1', 'classifier__solver': 'liblinear'}\n",
      "0.776937 (0.002389) with: {'classifier__C': 10, 'classifier__penalty': 'l1', 'classifier__solver': 'saga'}\n",
      "0.776936 (0.002388) with: {'classifier__C': 100, 'classifier__penalty': 'l1', 'classifier__solver': 'liblinear'}\n",
      "0.776937 (0.002389) with: {'classifier__C': 100, 'classifier__penalty': 'l1', 'classifier__solver': 'saga'}\n",
      "0.776937 (0.002388) with: {'classifier__C': 1000, 'classifier__penalty': 'l1', 'classifier__solver': 'liblinear'}\n",
      "0.776936 (0.002388) with: {'classifier__C': 1000, 'classifier__penalty': 'l1', 'classifier__solver': 'saga'}\n",
      "0.776931 (0.002389) with: {'classifier__C': 0.1, 'classifier__penalty': 'l2', 'classifier__solver': 'lbfgs'}\n",
      "0.776932 (0.002389) with: {'classifier__C': 0.1, 'classifier__penalty': 'l2', 'classifier__solver': 'sag'}\n",
      "0.776931 (0.002389) with: {'classifier__C': 0.1, 'classifier__penalty': 'l2', 'classifier__solver': 'saga'}\n",
      "0.776936 (0.002388) with: {'classifier__C': 1, 'classifier__penalty': 'l2', 'classifier__solver': 'lbfgs'}\n",
      "0.776937 (0.002387) with: {'classifier__C': 1, 'classifier__penalty': 'l2', 'classifier__solver': 'sag'}\n",
      "0.776937 (0.002388) with: {'classifier__C': 1, 'classifier__penalty': 'l2', 'classifier__solver': 'saga'}\n",
      "0.776937 (0.002388) with: {'classifier__C': 10, 'classifier__penalty': 'l2', 'classifier__solver': 'lbfgs'}\n",
      "0.776937 (0.002389) with: {'classifier__C': 10, 'classifier__penalty': 'l2', 'classifier__solver': 'sag'}\n",
      "0.776937 (0.002388) with: {'classifier__C': 10, 'classifier__penalty': 'l2', 'classifier__solver': 'saga'}\n",
      "0.776937 (0.002388) with: {'classifier__C': 100, 'classifier__penalty': 'l2', 'classifier__solver': 'lbfgs'}\n",
      "0.776937 (0.002388) with: {'classifier__C': 100, 'classifier__penalty': 'l2', 'classifier__solver': 'sag'}\n",
      "0.776936 (0.002388) with: {'classifier__C': 100, 'classifier__penalty': 'l2', 'classifier__solver': 'saga'}\n",
      "0.776937 (0.002388) with: {'classifier__C': 1000, 'classifier__penalty': 'l2', 'classifier__solver': 'lbfgs'}\n",
      "0.776937 (0.002388) with: {'classifier__C': 1000, 'classifier__penalty': 'l2', 'classifier__solver': 'sag'}\n",
      "0.776937 (0.002388) with: {'classifier__C': 1000, 'classifier__penalty': 'l2', 'classifier__solver': 'saga'}\n"
     ]
    }
   ],
   "source": [
    "#code adapted from https://machinelearningmastery.com/hyperparameters-for-classification-machine-learning-algorithms/\n",
    "print(\"Best: %f using %s\" % (clf.best_score_, clf.best_params_))\n",
    "means = clf.cv_results_['mean_test_score']\n",
    "stds = clf.cv_results_['std_test_score']\n",
    "params = clf.cv_results_['params']\n",
    "for mean, stdev, param in zip(means, stds, params):\n",
    "    print(\"%f (%f) with: %r\" % (mean, stdev, param))"
   ]
  },
  {
   "cell_type": "markdown",
   "metadata": {},
   "source": [
    "### Metrics Option 4 Logistic Regression Scaled data"
   ]
  },
  {
   "cell_type": "code",
   "execution_count": 291,
   "metadata": {},
   "outputs": [
    {
     "name": "stdout",
     "output_type": "stream",
     "text": [
      "0.7721949836477218\n",
      "[0.71303364 0.71303364 0.71275092]\n"
     ]
    }
   ],
   "source": [
    "lr_clf = make_pipeline(StandardScaler(), LogisticRegression(C= 0.1, penalty= 'l1', solver= 'saga'))\n",
    "model_s=lr_clf\n",
    "model_s.fit(X_train, y_train)\n",
    "pred_prob_s = model_s.predict_proba(X_test)\n",
    "auc_score_s = roc_auc_score(y_test, pred_prob_s[:,1])\n",
    "accuracies = cross_val_score(lr_clf, X, y=y, cv=cv_object)\n",
    "print(auc_score_s)\n",
    "print(accuracies)\n"
   ]
  },
  {
   "cell_type": "code",
   "execution_count": 292,
   "metadata": {},
   "outputs": [
    {
     "name": "stdout",
     "output_type": "stream",
     "text": [
      "====Iteration 0  ====\n",
      "auc 0.7757817864244658\n",
      "confusion matrix\n",
      " [[3379 1291]\n",
      " [1697 4244]]\n",
      "F1 Score:  0.7396305332868596\n",
      "accuracy 0.7184054283290925\n",
      "              precision    recall  f1-score   support\n",
      "\n",
      "           0       0.67      0.72      0.69      4670\n",
      "           1       0.77      0.71      0.74      5941\n",
      "\n",
      "    accuracy                           0.72     10611\n",
      "   macro avg       0.72      0.72      0.72     10611\n",
      "weighted avg       0.72      0.72      0.72     10611\n",
      "\n",
      "====Iteration 1  ====\n",
      "auc 0.7760334037306156\n",
      "confusion matrix\n",
      " [[3328 1310]\n",
      " [1771 4202]]\n",
      "F1 Score:  0.7317370483239007\n",
      "accuracy 0.7096409386485723\n",
      "              precision    recall  f1-score   support\n",
      "\n",
      "           0       0.65      0.72      0.68      4638\n",
      "           1       0.76      0.70      0.73      5973\n",
      "\n",
      "    accuracy                           0.71     10611\n",
      "   macro avg       0.71      0.71      0.71     10611\n",
      "weighted avg       0.71      0.71      0.71     10611\n",
      "\n",
      "====Iteration 2  ====\n",
      "auc 0.7718898189307183\n",
      "confusion matrix\n",
      " [[3393 1330]\n",
      " [1691 4197]]\n",
      "F1 Score:  0.7353482260183968\n",
      "accuracy 0.7152954481198756\n",
      "              precision    recall  f1-score   support\n",
      "\n",
      "           0       0.67      0.72      0.69      4723\n",
      "           1       0.76      0.71      0.74      5888\n",
      "\n",
      "    accuracy                           0.72     10611\n",
      "   macro avg       0.71      0.72      0.71     10611\n",
      "weighted avg       0.72      0.72      0.72     10611\n",
      "\n"
     ]
    }
   ],
   "source": [
    "iter_num=0\n",
    "for train_indices, test_indices in cv_object.split(X,y): \n",
    "    X_train = X[train_indices]\n",
    "    y_train = y[train_indices]\n",
    "    \n",
    "    X_test = X[test_indices]\n",
    "    y_test = y[test_indices]\n",
    "    \n",
    "    lr_clf.fit(X_train,y_train)\n",
    "    y_hat = lr_clf.predict(X_test)\n",
    "    y_prob=lr_clf.predict_proba(X_test)[:,1]\n",
    "\n",
    "    #acc = mt.accuracy_score(y_test,y_hat)\n",
    "    conf = mt.confusion_matrix(y_test,y_hat)\n",
    "    auc = mt.roc_auc_score(y_test,y_prob)\n",
    "    print(\"====Iteration\",iter_num,\" ====\")\n",
    "   # print(\"accuracy\", acc )\n",
    "    print(\"auc\", auc )\n",
    "    print(\"confusion matrix\\n\",conf)\n",
    "    \n",
    "     # Show the F1 Score\n",
    "    fscore = mt.f1_score(y_test,y_hat)\n",
    "    print(\"F1 Score: \", fscore)\n",
    "    \n",
    "    # Show the Accuracy Score\n",
    "    acc = mt.accuracy_score(y_test,y_hat)\n",
    "    print(\"accuracy\", acc )\n",
    "    \n",
    "    # Show the Classification Matrix\n",
    "    print(mt.classification_report(y_test,y_hat))\n",
    "    \n",
    "    iter_num+=1"
   ]
  },
  {
   "cell_type": "code",
   "execution_count": 293,
   "metadata": {},
   "outputs": [
    {
     "data": {
      "text/plain": [
       "{'classifier__C': 0.1,\n",
       " 'classifier__penalty': 'l1',\n",
       " 'classifier__solver': 'saga'}"
      ]
     },
     "execution_count": 293,
     "metadata": {},
     "output_type": "execute_result"
    }
   ],
   "source": [
    "clf.best_params_"
   ]
  },
  {
   "cell_type": "code",
   "execution_count": 294,
   "metadata": {},
   "outputs": [
    {
     "data": {
      "text/plain": [
       "Pipeline(memory=None,\n",
       "         steps=[('scaler',\n",
       "                 StandardScaler(copy=True, with_mean=True, with_std=True)),\n",
       "                ('classifier',\n",
       "                 LogisticRegression(C=0.1, class_weight=None, dual=False,\n",
       "                                    fit_intercept=True, intercept_scaling=1,\n",
       "                                    l1_ratio=None, max_iter=100,\n",
       "                                    multi_class='warn', n_jobs=None,\n",
       "                                    penalty='l1', random_state=None,\n",
       "                                    solver='saga', tol=0.0001, verbose=0,\n",
       "                                    warm_start=False))],\n",
       "         verbose=False)"
      ]
     },
     "execution_count": 294,
     "metadata": {},
     "output_type": "execute_result"
    }
   ],
   "source": [
    "clf.best_estimator_"
   ]
  },
  {
   "cell_type": "code",
   "execution_count": 295,
   "metadata": {},
   "outputs": [],
   "source": [
    "model=clf.best_estimator_.fit(X,y)"
   ]
  },
  {
   "cell_type": "code",
   "execution_count": 296,
   "metadata": {},
   "outputs": [
    {
     "data": {
      "text/plain": [
       "array([[0.09139981, 0.30248244, 0.12846244, 0.89966357, 0.28634433]])"
      ]
     },
     "execution_count": 296,
     "metadata": {},
     "output_type": "execute_result"
    }
   ],
   "source": [
    "model.named_steps[\"classifier\"].coef_"
   ]
  },
  {
   "cell_type": "markdown",
   "metadata": {},
   "source": [
    "### Option 4 Logistic Regegression- precision recall curve"
   ]
  },
  {
   "cell_type": "code",
   "execution_count": 297,
   "metadata": {},
   "outputs": [
    {
     "name": "stdout",
     "output_type": "stream",
     "text": [
      "Logistic: ROC AUC=0.772\n"
     ]
    },
    {
     "data": {
      "image/png": "[encoded data removed]",
      "text/plain": [
       "<Figure size 432x288 with 1 Axes>"
      ]
     },
     "metadata": {},
     "output_type": "display_data"
    }
   ],
   "source": [
    "# roc curve and auc\n",
    "\n",
    "lr_clf.fit(X_train, y_train)\n",
    "\n",
    "# predict probabilities\n",
    "lr_probs = lr_clf.predict_proba(X_test)\n",
    "# keep probabilities for the positive outcome only\n",
    "lr_probs = lr_probs[:, 1]\n",
    "# calculate scores\n",
    "lr_auc = roc_auc_score(y_test, lr_probs)\n",
    "# summarize scores\\\n",
    "print('Logistic: ROC AUC=%.3f' % (lr_auc))\n",
    "# calculate roc curves\n",
    "lr_fpr, lr_tpr, _ = roc_curve(y_test, lr_probs)\n",
    "# plot the roc curve for the model\n",
    "pyplot.plot(lr_fpr, lr_tpr, marker='.', label='Logistic')\n",
    "# axis labels\n",
    "pyplot.xlabel('False Positive Rate')\n",
    "pyplot.ylabel('True Positive Rate')\n",
    "# show the legend\n",
    "pyplot.legend()\n",
    "# show the plot\n",
    "pyplot.show()"
   ]
  },
  {
   "cell_type": "markdown",
   "metadata": {},
   "source": [
    "\n",
    "\n",
    "\n",
    "## Logistic Regession Option 5   bmi, age, bp, cholesterol"
   ]
  },
  {
   "cell_type": "code",
   "execution_count": 298,
   "metadata": {},
   "outputs": [],
   "source": [
    "y = df['cardio'].values # get the labels we want\n",
    "X = df[['bmi','age','bp','cholesterol']].values"
   ]
  },
  {
   "cell_type": "code",
   "execution_count": 299,
   "metadata": {},
   "outputs": [
    {
     "data": {
      "text/plain": [
       "array([[3.49276792e+01, 2.02280000e+04, 4.00000000e+00, 3.00000000e+00],\n",
       "       [2.35078053e+01, 1.88570000e+04, 3.00000000e+00, 3.00000000e+00],\n",
       "       [2.87104793e+01, 1.76230000e+04, 4.00000000e+00, 1.00000000e+00],\n",
       "       ...,\n",
       "       [3.13535788e+01, 1.90660000e+04, 4.00000000e+00, 3.00000000e+00],\n",
       "       [2.70992510e+01, 2.24310000e+04, 3.00000000e+00, 1.00000000e+00],\n",
       "       [2.49134948e+01, 2.05400000e+04, 3.00000000e+00, 2.00000000e+00]])"
      ]
     },
     "execution_count": 299,
     "metadata": {},
     "output_type": "execute_result"
    }
   ],
   "source": [
    "X"
   ]
  },
  {
   "cell_type": "markdown",
   "metadata": {},
   "source": [
    "### Option 5 Logistic Regression Option 5 Un-scaled data model"
   ]
  },
  {
   "cell_type": "code",
   "execution_count": 340,
   "metadata": {},
   "outputs": [
    {
     "name": "stdout",
     "output_type": "stream",
     "text": [
      "ShuffleSplit(n_splits=3, random_state=None, test_size=0.2, train_size=None)\n"
     ]
    }
   ],
   "source": [
    "#make CV spit 80/20 object\n",
    "from sklearn.model_selection import ShuffleSplit\n",
    "num_cv_iterations = 3\n",
    "num_instances = len(y)\n",
    "cv_object = ShuffleSplit(n_splits=num_cv_iterations,\n",
    "                         test_size  = 0.2)\n",
    "                         \n",
    "print(cv_object)"
   ]
  },
  {
   "cell_type": "markdown",
   "metadata": {},
   "source": [
    "### Option 5 Logistic Regression Un-scaled data"
   ]
  },
  {
   "cell_type": "code",
   "execution_count": 301,
   "metadata": {},
   "outputs": [
    {
     "data": {
      "text/plain": [
       "GridSearchCV(cv=ShuffleSplit(n_splits=3, random_state=None, test_size=0.2, train_size=None),\n",
       "             error_score='raise-deprecating',\n",
       "             estimator=LogisticRegression(C=1.0, class_weight=None, dual=False,\n",
       "                                          fit_intercept=True,\n",
       "                                          intercept_scaling=1, l1_ratio=None,\n",
       "                                          max_iter=1000, multi_class='warn',\n",
       "                                          n_jobs=None, penalty='l2',\n",
       "                                          random_state=None, solver='warn',\n",
       "                                          tol=0.0001, verbose=0,\n",
       "                                          warm_start=False),\n",
       "             iid='warn', n_jobs=None,\n",
       "             param_grid=[{'C': [0.1, 1, 10, 100, 1000], 'penalty': ['l1'],\n",
       "                          'solver': ['liblinear']},\n",
       "                         {'C': [0.1, 1, 10, 100, 1000], 'penalty': ['l2'],\n",
       "                          'solver': ['lbfgs']}],\n",
       "             pre_dispatch='2*n_jobs', refit=True, return_train_score=False,\n",
       "             scoring='roc_auc', verbose=0)"
      ]
     },
     "execution_count": 301,
     "metadata": {},
     "output_type": "execute_result"
    }
   ],
   "source": [
    "\n",
    "from sklearn.linear_model import LogisticRegression\n",
    "#make a grid search for logistic regression\n",
    "from sklearn.model_selection import GridSearchCV\n",
    "\n",
    "param_grid = [\n",
    "  {'C': [.1, 1, 10, 100, 1000],\n",
    "   'penalty': ['l1'],\n",
    "   'solver': ['liblinear']},\n",
    "  {'C': [.1, 1, 10, 100, 1000],\n",
    "   'penalty': ['l2'], \n",
    "   'solver': ['lbfgs']},\n",
    " ]\n",
    "\n",
    "lr = LogisticRegression(max_iter=1000)\n",
    "clf = GridSearchCV(lr, param_grid, scoring=\"roc_auc\",cv=cv_object)\n",
    "clf.fit(X, y)\n",
    "\n"
   ]
  },
  {
   "cell_type": "markdown",
   "metadata": {},
   "source": [
    "### Metrics for Logistic Regression Option 5 Un-scaled data"
   ]
  },
  {
   "cell_type": "code",
   "execution_count": 302,
   "metadata": {},
   "outputs": [],
   "source": [
    "LogisticRegression()\n",
    "lr_clf = LogisticRegression(penalty='l2', C=1.0, class_weight=None, solver='liblinear' ) # get object\n",
    "\n"
   ]
  },
  {
   "cell_type": "markdown",
   "metadata": {},
   "source": [
    "### Metrics for Logistic Regression Option 5 Un-scaled data"
   ]
  },
  {
   "cell_type": "code",
   "execution_count": 303,
   "metadata": {},
   "outputs": [
    {
     "name": "stdout",
     "output_type": "stream",
     "text": [
      "====Iteration 0  ====\n",
      "auc 0.6667784403017939\n",
      "confusion matrix\n",
      " [[ 966 3737]\n",
      " [ 814 5094]]\n",
      "F1 Score:  0.6912273559943009\n",
      "accuracy 0.5711054566016398\n",
      "              precision    recall  f1-score   support\n",
      "\n",
      "           0       0.54      0.21      0.30      4703\n",
      "           1       0.58      0.86      0.69      5908\n",
      "\n",
      "    accuracy                           0.57     10611\n",
      "   macro avg       0.56      0.53      0.49     10611\n",
      "weighted avg       0.56      0.57      0.52     10611\n",
      "\n",
      "====Iteration 1  ====\n",
      "auc 0.672809942577823\n",
      "confusion matrix\n",
      " [[ 662 4075]\n",
      " [ 545 5329]]\n",
      "F1 Score:  0.6976043984814766\n",
      "accuracy 0.5646027707096409\n",
      "              precision    recall  f1-score   support\n",
      "\n",
      "           0       0.55      0.14      0.22      4737\n",
      "           1       0.57      0.91      0.70      5874\n",
      "\n",
      "    accuracy                           0.56     10611\n",
      "   macro avg       0.56      0.52      0.46     10611\n",
      "weighted avg       0.56      0.56      0.49     10611\n",
      "\n",
      "====Iteration 2  ====\n",
      "auc 0.6694229160250387\n",
      "confusion matrix\n",
      " [[ 404 4290]\n",
      " [ 348 5569]]\n",
      "F1 Score:  0.7060091277890466\n",
      "accuracy 0.5629064178682499\n",
      "              precision    recall  f1-score   support\n",
      "\n",
      "           0       0.54      0.09      0.15      4694\n",
      "           1       0.56      0.94      0.71      5917\n",
      "\n",
      "    accuracy                           0.56     10611\n",
      "   macro avg       0.55      0.51      0.43     10611\n",
      "weighted avg       0.55      0.56      0.46     10611\n",
      "\n"
     ]
    }
   ],
   "source": [
    "iter_num=0\n",
    "for train_indices, test_indices in cv_object.split(X,y): \n",
    "    X_train = X[train_indices]\n",
    "    y_train = y[train_indices]\n",
    "    \n",
    "    X_test = X[test_indices]\n",
    "    y_test = y[test_indices]\n",
    "    \n",
    "    lr_clf.fit(X_train,y_train)\n",
    "    y_hat = lr_clf.predict(X_test)\n",
    "    y_prob=lr_clf.predict_proba(X_test)[:,1]\n",
    "\n",
    "    #acc = mt.accuracy_score(y_test,y_hat)\n",
    "    conf = mt.confusion_matrix(y_test,y_hat)\n",
    "    auc = mt.roc_auc_score(y_test,y_prob)\n",
    "    print(\"====Iteration\",iter_num,\" ====\")\n",
    "   # print(\"accuracy\", acc )\n",
    "    print(\"auc\", auc )\n",
    "    print(\"confusion matrix\\n\",conf)\n",
    "        \n",
    "     # Show the F1 Score\n",
    "    fscore = mt.f1_score(y_test,y_hat)\n",
    "    print(\"F1 Score: \", fscore)\n",
    "    \n",
    "    # Show the Accuracy Score\n",
    "    acc = mt.accuracy_score(y_test,y_hat)\n",
    "    print(\"accuracy\", acc )\n",
    "    \n",
    "    # Show the Classification Matrix\n",
    "    print(mt.classification_report(y_test,y_hat))\n",
    "    \n",
    "    iter_num+=1"
   ]
  },
  {
   "cell_type": "markdown",
   "metadata": {},
   "source": [
    "### Option 5 Logistic Regression Scaled data train/test split"
   ]
  },
  {
   "cell_type": "code",
   "execution_count": 304,
   "metadata": {},
   "outputs": [],
   "source": [
    "#make CV spit 80/20 object\n",
    "from sklearn.model_selection import ShuffleSplit\n",
    "num_cv_iterations = 3\n",
    "num_instances = len(y)\n",
    "cv_object = ShuffleSplit(n_splits=num_cv_iterations,\n",
    "                         test_size  = 0.2)"
   ]
  },
  {
   "cell_type": "markdown",
   "metadata": {},
   "source": [
    "### Option 5 Logistic Regression Scaled Data Hyperparameter Tuning "
   ]
  },
  {
   "cell_type": "code",
   "execution_count": 305,
   "metadata": {},
   "outputs": [
    {
     "data": {
      "text/plain": [
       "GridSearchCV(cv=ShuffleSplit(n_splits=3, random_state=None, test_size=0.2, train_size=None),\n",
       "             error_score='raise-deprecating',\n",
       "             estimator=Pipeline(memory=None,\n",
       "                                steps=[('scaler',\n",
       "                                        StandardScaler(copy=True,\n",
       "                                                       with_mean=True,\n",
       "                                                       with_std=True)),\n",
       "                                       ('classifier',\n",
       "                                        LogisticRegression(C=1.0,\n",
       "                                                           class_weight=None,\n",
       "                                                           dual=False,\n",
       "                                                           fit_intercept=True,\n",
       "                                                           intercept_scaling=1,\n",
       "                                                           l1_ratio=None,\n",
       "                                                           max_...\n",
       "                                verbose=False),\n",
       "             iid='warn', n_jobs=None,\n",
       "             param_grid=[{'classifier__C': [0.1, 1, 10, 100, 1000],\n",
       "                          'classifier__penalty': ['l1'],\n",
       "                          'classifier__solver': ['liblinear', 'saga']},\n",
       "                         {'classifier__C': [0.1, 1, 10, 100, 1000],\n",
       "                          'classifier__penalty': ['l2'],\n",
       "                          'classifier__solver': ['lbfgs', 'sag', 'saga']}],\n",
       "             pre_dispatch='2*n_jobs', refit=True, return_train_score=False,\n",
       "             scoring='roc_auc', verbose=0)"
      ]
     },
     "execution_count": 305,
     "metadata": {},
     "output_type": "execute_result"
    }
   ],
   "source": [
    "from sklearn.linear_model import LogisticRegression\n",
    "#make a grid search for logistic regression\n",
    "from sklearn.model_selection import GridSearchCV\n",
    "\n",
    "param_grid = [\n",
    "  {'classifier__C': [.1, 1, 10, 100, 1000],\n",
    "   'classifier__penalty': ['l1'],\n",
    "   'classifier__solver': ['liblinear', 'saga']},\n",
    "  {'classifier__C': [.1, 1, 10, 100, 1000],\n",
    "   'classifier__penalty': ['l2'], \n",
    "   'classifier__solver': ['lbfgs', 'sag', 'saga']},\n",
    " ]\n",
    "\n",
    "lr = Pipeline([\n",
    "    ('scaler', StandardScaler()),\n",
    "    ('classifier', LogisticRegression(solver='lbfgs'))])\n",
    "clf = GridSearchCV(lr, param_grid, scoring=\"roc_auc\", cv=cv_object)\n",
    "clf.fit(X, y)\n",
    "\n"
   ]
  },
  {
   "cell_type": "code",
   "execution_count": 306,
   "metadata": {},
   "outputs": [
    {
     "name": "stdout",
     "output_type": "stream",
     "text": [
      "Best: 0.757608 using {'classifier__C': 0.1, 'classifier__penalty': 'l2', 'classifier__solver': 'saga'}\n",
      "0.757607 (0.004211) with: {'classifier__C': 0.1, 'classifier__penalty': 'l1', 'classifier__solver': 'liblinear'}\n",
      "0.757607 (0.004211) with: {'classifier__C': 0.1, 'classifier__penalty': 'l1', 'classifier__solver': 'saga'}\n",
      "0.757606 (0.004209) with: {'classifier__C': 1, 'classifier__penalty': 'l1', 'classifier__solver': 'liblinear'}\n",
      "0.757607 (0.004209) with: {'classifier__C': 1, 'classifier__penalty': 'l1', 'classifier__solver': 'saga'}\n",
      "0.757607 (0.004209) with: {'classifier__C': 10, 'classifier__penalty': 'l1', 'classifier__solver': 'liblinear'}\n",
      "0.757607 (0.004209) with: {'classifier__C': 10, 'classifier__penalty': 'l1', 'classifier__solver': 'saga'}\n",
      "0.757607 (0.004209) with: {'classifier__C': 100, 'classifier__penalty': 'l1', 'classifier__solver': 'liblinear'}\n",
      "0.757608 (0.004208) with: {'classifier__C': 100, 'classifier__penalty': 'l1', 'classifier__solver': 'saga'}\n",
      "0.757608 (0.004208) with: {'classifier__C': 1000, 'classifier__penalty': 'l1', 'classifier__solver': 'liblinear'}\n",
      "0.757607 (0.004209) with: {'classifier__C': 1000, 'classifier__penalty': 'l1', 'classifier__solver': 'saga'}\n",
      "0.757608 (0.004208) with: {'classifier__C': 0.1, 'classifier__penalty': 'l2', 'classifier__solver': 'lbfgs'}\n",
      "0.757607 (0.004208) with: {'classifier__C': 0.1, 'classifier__penalty': 'l2', 'classifier__solver': 'sag'}\n",
      "0.757608 (0.004208) with: {'classifier__C': 0.1, 'classifier__penalty': 'l2', 'classifier__solver': 'saga'}\n",
      "0.757607 (0.004208) with: {'classifier__C': 1, 'classifier__penalty': 'l2', 'classifier__solver': 'lbfgs'}\n",
      "0.757608 (0.004209) with: {'classifier__C': 1, 'classifier__penalty': 'l2', 'classifier__solver': 'sag'}\n",
      "0.757608 (0.004208) with: {'classifier__C': 1, 'classifier__penalty': 'l2', 'classifier__solver': 'saga'}\n",
      "0.757608 (0.004208) with: {'classifier__C': 10, 'classifier__penalty': 'l2', 'classifier__solver': 'lbfgs'}\n",
      "0.757608 (0.004209) with: {'classifier__C': 10, 'classifier__penalty': 'l2', 'classifier__solver': 'sag'}\n",
      "0.757608 (0.004209) with: {'classifier__C': 10, 'classifier__penalty': 'l2', 'classifier__solver': 'saga'}\n",
      "0.757607 (0.004208) with: {'classifier__C': 100, 'classifier__penalty': 'l2', 'classifier__solver': 'lbfgs'}\n",
      "0.757607 (0.004209) with: {'classifier__C': 100, 'classifier__penalty': 'l2', 'classifier__solver': 'sag'}\n",
      "0.757607 (0.004209) with: {'classifier__C': 100, 'classifier__penalty': 'l2', 'classifier__solver': 'saga'}\n",
      "0.757607 (0.004208) with: {'classifier__C': 1000, 'classifier__penalty': 'l2', 'classifier__solver': 'lbfgs'}\n",
      "0.757607 (0.004209) with: {'classifier__C': 1000, 'classifier__penalty': 'l2', 'classifier__solver': 'sag'}\n",
      "0.757607 (0.004209) with: {'classifier__C': 1000, 'classifier__penalty': 'l2', 'classifier__solver': 'saga'}\n"
     ]
    }
   ],
   "source": [
    "#code adapted from https://machinelearningmastery.com/hyperparameters-for-classification-machine-learning-algorithms/\n",
    "print(\"Best: %f using %s\" % (clf.best_score_, clf.best_params_))\n",
    "means = clf.cv_results_['mean_test_score']\n",
    "stds = clf.cv_results_['std_test_score']\n",
    "params = clf.cv_results_['params']\n",
    "for mean, stdev, param in zip(means, stds, params):\n",
    "    print(\"%f (%f) with: %r\" % (mean, stdev, param))"
   ]
  },
  {
   "cell_type": "markdown",
   "metadata": {},
   "source": [
    "### Metrics for Logistic Regression Option 5 Scaled Data"
   ]
  },
  {
   "cell_type": "code",
   "execution_count": 307,
   "metadata": {},
   "outputs": [
    {
     "name": "stdout",
     "output_type": "stream",
     "text": [
      "0.7533624851202896\n",
      "[0.71227971 0.7135991  0.7140703 ]\n"
     ]
    }
   ],
   "source": [
    "lr_clf = make_pipeline(StandardScaler(), LogisticRegression(C= 0.1, penalty= 'l1', solver= 'liblinear'))\n",
    "model_s=lr_clf\n",
    "model_s.fit(X_train, y_train)\n",
    "pred_prob_s = model_s.predict_proba(X_test)\n",
    "auc_score_s = roc_auc_score(y_test, pred_prob_s[:,1])\n",
    "accuracies = cross_val_score(lr_clf, X, y=y, cv=cv_object)\n",
    "print(auc_score_s)\n",
    "print(accuracies)\n"
   ]
  },
  {
   "cell_type": "code",
   "execution_count": 308,
   "metadata": {},
   "outputs": [
    {
     "name": "stdout",
     "output_type": "stream",
     "text": [
      "====Iteration 0  ====\n",
      "auc 0.7503275193643323\n",
      "confusion matrix\n",
      " [[3189 1473]\n",
      " [1610 4339]]\n",
      "F1 Score:  0.7378624266643994\n",
      "accuracy 0.7094524549995288\n",
      "              precision    recall  f1-score   support\n",
      "\n",
      "           0       0.66      0.68      0.67      4662\n",
      "           1       0.75      0.73      0.74      5949\n",
      "\n",
      "    accuracy                           0.71     10611\n",
      "   macro avg       0.71      0.71      0.71     10611\n",
      "weighted avg       0.71      0.71      0.71     10611\n",
      "\n",
      "====Iteration 1  ====\n",
      "auc 0.7570108103454958\n",
      "confusion matrix\n",
      " [[3254 1395]\n",
      " [1610 4352]]\n",
      "F1 Score:  0.743359808694167\n",
      "accuracy 0.7168033173122231\n",
      "              precision    recall  f1-score   support\n",
      "\n",
      "           0       0.67      0.70      0.68      4649\n",
      "           1       0.76      0.73      0.74      5962\n",
      "\n",
      "    accuracy                           0.72     10611\n",
      "   macro avg       0.71      0.71      0.71     10611\n",
      "weighted avg       0.72      0.72      0.72     10611\n",
      "\n",
      "====Iteration 2  ====\n",
      "auc 0.7504185659273267\n",
      "confusion matrix\n",
      " [[3250 1460]\n",
      " [1632 4269]]\n",
      "F1 Score:  0.7341358555460018\n",
      "accuracy 0.7086042785788332\n",
      "              precision    recall  f1-score   support\n",
      "\n",
      "           0       0.67      0.69      0.68      4710\n",
      "           1       0.75      0.72      0.73      5901\n",
      "\n",
      "    accuracy                           0.71     10611\n",
      "   macro avg       0.71      0.71      0.71     10611\n",
      "weighted avg       0.71      0.71      0.71     10611\n",
      "\n"
     ]
    }
   ],
   "source": [
    "iter_num=0\n",
    "for train_indices, test_indices in cv_object.split(X,y): \n",
    "    X_train = X[train_indices]\n",
    "    y_train = y[train_indices]\n",
    "    \n",
    "    X_test = X[test_indices]\n",
    "    y_test = y[test_indices]\n",
    "    \n",
    "    lr_clf.fit(X_train,y_train)\n",
    "    y_hat = lr_clf.predict(X_test)\n",
    "    y_prob=lr_clf.predict_proba(X_test)[:,1]\n",
    "\n",
    "    #acc = mt.accuracy_score(y_test,y_hat)\n",
    "    conf = mt.confusion_matrix(y_test,y_hat)\n",
    "    auc = mt.roc_auc_score(y_test,y_prob)\n",
    "    print(\"====Iteration\",iter_num,\" ====\")\n",
    "   # print(\"accuracy\", acc )\n",
    "    print(\"auc\", auc )\n",
    "    print(\"confusion matrix\\n\",conf)\n",
    "    \n",
    "     # Show the F1 Score\n",
    "    fscore = mt.f1_score(y_test,y_hat)\n",
    "    print(\"F1 Score: \", fscore)\n",
    "    \n",
    "    # Show the Accuracy Score\n",
    "    acc = mt.accuracy_score(y_test,y_hat)\n",
    "    print(\"accuracy\", acc )\n",
    "    \n",
    "    # Show the Classification Matrix\n",
    "    print(mt.classification_report(y_test,y_hat))\n",
    "        \n",
    "    iter_num+=1"
   ]
  },
  {
   "cell_type": "code",
   "execution_count": 309,
   "metadata": {},
   "outputs": [
    {
     "data": {
      "text/plain": [
       "{'classifier__C': 0.1,\n",
       " 'classifier__penalty': 'l2',\n",
       " 'classifier__solver': 'saga'}"
      ]
     },
     "execution_count": 309,
     "metadata": {},
     "output_type": "execute_result"
    }
   ],
   "source": [
    "clf.best_params_"
   ]
  },
  {
   "cell_type": "code",
   "execution_count": 310,
   "metadata": {},
   "outputs": [
    {
     "data": {
      "text/plain": [
       "Pipeline(memory=None,\n",
       "         steps=[('scaler',\n",
       "                 StandardScaler(copy=True, with_mean=True, with_std=True)),\n",
       "                ('classifier',\n",
       "                 LogisticRegression(C=0.1, class_weight=None, dual=False,\n",
       "                                    fit_intercept=True, intercept_scaling=1,\n",
       "                                    l1_ratio=None, max_iter=100,\n",
       "                                    multi_class='warn', n_jobs=None,\n",
       "                                    penalty='l2', random_state=None,\n",
       "                                    solver='saga', tol=0.0001, verbose=0,\n",
       "                                    warm_start=False))],\n",
       "         verbose=False)"
      ]
     },
     "execution_count": 310,
     "metadata": {},
     "output_type": "execute_result"
    }
   ],
   "source": [
    "clf.best_estimator_"
   ]
  },
  {
   "cell_type": "code",
   "execution_count": 311,
   "metadata": {},
   "outputs": [],
   "source": [
    "model=clf.best_estimator_.fit(X,y)"
   ]
  },
  {
   "cell_type": "code",
   "execution_count": 312,
   "metadata": {},
   "outputs": [
    {
     "data": {
      "text/plain": [
       "array([[0.14551602, 0.3185414 , 0.76468986, 0.30782862]])"
      ]
     },
     "execution_count": 312,
     "metadata": {},
     "output_type": "execute_result"
    }
   ],
   "source": [
    "model.named_steps[\"classifier\"].coef_"
   ]
  },
  {
   "cell_type": "markdown",
   "metadata": {},
   "source": [
    "### Logistic Regression Option 5 precision recall curve"
   ]
  },
  {
   "cell_type": "code",
   "execution_count": 313,
   "metadata": {
    "scrolled": true
   },
   "outputs": [
    {
     "name": "stdout",
     "output_type": "stream",
     "text": [
      "Logistic: ROC AUC=0.750\n"
     ]
    },
    {
     "data": {
      "image/png": "[encoded data removed]",
      "text/plain": [
       "<Figure size 432x288 with 1 Axes>"
      ]
     },
     "metadata": {},
     "output_type": "display_data"
    }
   ],
   "source": [
    "# roc curve and auc\n",
    "from sklearn.datasets import make_classification\n",
    "from sklearn.linear_model import LogisticRegression\n",
    "from sklearn.model_selection import train_test_split\n",
    "from sklearn.metrics import roc_curve\n",
    "from sklearn.metrics import roc_auc_score\n",
    "from matplotlib import pyplot\n",
    "\n",
    "lr_clf.fit(X_train, y_train)\n",
    "\n",
    "# predict probabilities\n",
    "lr_probs = lr_clf.predict_proba(X_test)\n",
    "# keep probabilities for the positive outcome only\n",
    "lr_probs = lr_probs[:, 1]\n",
    "# calculate scores\n",
    "lr_auc = roc_auc_score(y_test, lr_probs)\n",
    "# summarize scores\\\n",
    "print('Logistic: ROC AUC=%.3f' % (lr_auc))\n",
    "# calculate roc curves\n",
    "lr_fpr, lr_tpr, _ = roc_curve(y_test, lr_probs)\n",
    "# plot the roc curve for the model\n",
    "pyplot.plot(lr_fpr, lr_tpr, marker='.', label='Logistic')\n",
    "# axis labels\n",
    "pyplot.xlabel('False Positive Rate')\n",
    "pyplot.ylabel('True Positive Rate')\n",
    "# show the legend\n",
    "pyplot.legend()\n",
    "# show the plot\n",
    "pyplot.show()"
   ]
  },
  {
   "cell_type": "markdown",
   "metadata": {},
   "source": [
    "# SVM Models that were rejected"
   ]
  },
  {
   "cell_type": "markdown",
   "metadata": {},
   "source": [
    "##  SVM Option 3:   All Sigificant Variables: bmi,  age, ap_lo, ap_hi, cholesterol, gluc, smoke, alco, active"
   ]
  },
  {
   "cell_type": "markdown",
   "metadata": {},
   "source": [
    "### Option 3 SVM Not Scaled"
   ]
  },
  {
   "cell_type": "code",
   "execution_count": 315,
   "metadata": {},
   "outputs": [
    {
     "name": "stdout",
     "output_type": "stream",
     "text": [
      "[0.66959864 0.69477787 0.58004571]\n",
      "F1 Score: [0.15527374 0.70879893 0.09490446]\n",
      "Accuracy: [0.55470738 0.55923099 0.57647724]\n"
     ]
    }
   ],
   "source": [
    "X = df[['bmi', 'age', 'ap_lo', 'ap_hi', 'cholesterol', 'gluc', 'smoke', 'alco', 'active', 'weight']]\n",
    "\n",
    "svm_clf = Pipeline(steps=[    \n",
    "    ('svm', SGDClassifier(max_iter=1000, tol=1e-3))])\n",
    "\n",
    "aucs = cross_val_score(svm_clf, X, y=y, cv=cv_object, scoring = 'roc_auc')\n",
    "print(aucs)\n",
    "\n",
    "f1score = cross_val_score(svm_clf, X, y=y, cv=cv_object, scoring = 'f1')\n",
    "print(\"F1 Score:\" , f1score)\n",
    "\n",
    "acc = cross_val_score(svm_clf, X, y=y, cv=cv_object, scoring = 'accuracy')\n",
    "print(\"Accuracy:\", acc)"
   ]
  },
  {
   "cell_type": "markdown",
   "metadata": {},
   "source": [
    "### Option 3 SVM Scaled"
   ]
  },
  {
   "cell_type": "code",
   "execution_count": 316,
   "metadata": {},
   "outputs": [
    {
     "name": "stdout",
     "output_type": "stream",
     "text": [
      "[0.76649341 0.77098874 0.7741315 ]\n",
      "F1 Score: [0.72797416 0.70924743 0.72406975]\n",
      "Accuracy: [0.71425879 0.71378758 0.71237395]\n"
     ]
    }
   ],
   "source": [
    "X = df[['bmi', 'age', 'ap_lo', 'ap_hi', 'cholesterol', 'gluc', 'smoke', 'alco', 'active', 'weight']]\n",
    "\n",
    "svm_clf = Pipeline(steps=[\n",
    "    ('scaler', StandardScaler()),\n",
    "    ('svm', SGDClassifier(max_iter=1000, tol=1e-3))])\n",
    "\n",
    "aucs = cross_val_score(svm_clf, X, y=y, cv=cv_object, scoring = 'roc_auc')\n",
    "print(aucs)\n",
    "\n",
    "f1score = cross_val_score(svm_clf, X, y=y, cv=cv_object, scoring = 'f1')\n",
    "print(\"F1 Score:\" , f1score)\n",
    "\n",
    "acc = cross_val_score(svm_clf, X, y=y, cv=cv_object, scoring = 'accuracy')\n",
    "print(\"Accuracy:\", acc)"
   ]
  },
  {
   "cell_type": "markdown",
   "metadata": {},
   "source": [
    "### Option 3 SVM Hyperparameter Tuning"
   ]
  },
  {
   "cell_type": "markdown",
   "metadata": {},
   "source": [
    "### Option 3 SVM Un-scaled"
   ]
  },
  {
   "cell_type": "code",
   "execution_count": 317,
   "metadata": {},
   "outputs": [
    {
     "name": "stderr",
     "output_type": "stream",
     "text": [
      "C:\\Users\\Ellen\\Anaconda3\\lib\\site-packages\\sklearn\\model_selection\\_split.py:1978: FutureWarning: The default value of cv will change from 3 to 5 in version 0.22. Specify it explicitly to silence this warning.\n",
      "  warnings.warn(CV_WARNING, FutureWarning)\n"
     ]
    },
    {
     "data": {
      "text/plain": [
       "GridSearchCV(cv='warn', error_score='raise-deprecating',\n",
       "             estimator=Pipeline(memory=None,\n",
       "                                steps=[('scaler',\n",
       "                                        StandardScaler(copy=True,\n",
       "                                                       with_mean=True,\n",
       "                                                       with_std=True)),\n",
       "                                       ('classifier',\n",
       "                                        SGDClassifier(alpha=0.0001,\n",
       "                                                      average=False,\n",
       "                                                      class_weight=None,\n",
       "                                                      early_stopping=False,\n",
       "                                                      epsilon=0.1, eta0=0.0,\n",
       "                                                      fit_intercept=True,\n",
       "                                                      l1_ratio=0.15,\n",
       "                                                      learning_rate='optimal',\n",
       "                                                      loss='hinge',\n",
       "                                                      max_it...\n",
       "                                                      shuffle=True, tol=0.001,\n",
       "                                                      validation_fraction=0.1,\n",
       "                                                      verbose=0,\n",
       "                                                      warm_start=False))],\n",
       "                                verbose=False),\n",
       "             iid='warn', n_jobs=None,\n",
       "             param_grid=[{'classifier__alpha': [0.001, 0.01, 0.05, 0.1, 0.5, 1],\n",
       "                          'classifier__loss': ['modified_huber'],\n",
       "                          'classifier__penalty': ['l1', 'l2', 'elasticnet']}],\n",
       "             pre_dispatch='2*n_jobs', refit=True, return_train_score=False,\n",
       "             scoring='roc_auc', verbose=0)"
      ]
     },
     "execution_count": 317,
     "metadata": {},
     "output_type": "execute_result"
    }
   ],
   "source": [
    "X = df[['bmi', 'age', 'ap_lo', 'ap_hi', 'cholesterol', 'gluc', 'smoke', 'alco', 'active', 'weight']]\n",
    "\n",
    "param_grid = [\n",
    "  {'classifier__loss': ['modified_huber'],\n",
    "   'classifier__penalty': ['l1', 'l2', 'elasticnet'],\n",
    "   'classifier__alpha': [.001, .01, .05, .1, .5, 1]}\n",
    " ]\n",
    "\n",
    "svm = Pipeline([\n",
    "    ('scaler', StandardScaler()),\n",
    "    ('classifier', SGDClassifier())])\n",
    "\n",
    "clf = GridSearchCV(svm, param_grid, scoring=\"roc_auc\")\n",
    "clf.fit(X, y)"
   ]
  },
  {
   "cell_type": "code",
   "execution_count": 318,
   "metadata": {},
   "outputs": [
    {
     "data": {
      "text/plain": [
       "{'classifier__alpha': 0.01,\n",
       " 'classifier__loss': 'modified_huber',\n",
       " 'classifier__penalty': 'elasticnet'}"
      ]
     },
     "execution_count": 318,
     "metadata": {},
     "output_type": "execute_result"
    }
   ],
   "source": [
    "clf.best_params_"
   ]
  },
  {
   "cell_type": "code",
   "execution_count": 321,
   "metadata": {},
   "outputs": [
    {
     "name": "stdout",
     "output_type": "stream",
     "text": [
      "alpha 0.400000 : accuracy=0.526\n",
      "alpha 0.410000 : accuracy=0.523\n",
      "alpha 0.420000 : accuracy=0.519\n",
      "alpha 0.430000 : accuracy=0.516\n",
      "alpha 0.440000 : accuracy=0.514\n",
      "alpha 0.450000 : accuracy=0.513\n",
      "alpha 0.460000 : accuracy=0.509\n",
      "alpha 0.470000 : accuracy=0.509\n",
      "alpha 0.480000 : accuracy=0.509\n",
      "alpha 0.490000 : accuracy=0.509\n",
      "alpha 0.500000 : accuracy=0.508\n",
      "alpha 0.510000 : accuracy=0.507\n",
      "alpha 0.520000 : accuracy=0.508\n",
      "alpha 0.530000 : accuracy=0.509\n",
      "alpha 0.540000 : accuracy=0.510\n",
      "alpha 0.550000 : accuracy=0.508\n",
      "alpha 0.560000 : accuracy=0.507\n",
      "alpha 0.570000 : accuracy=0.505\n",
      "alpha 0.580000 : accuracy=0.502\n",
      "alpha 0.590000 : accuracy=0.499\n"
     ]
    }
   ],
   "source": [
    "alphas = np.arange(.4, .6, .01)\n",
    "for alpha in np.nditer(alphas):\n",
    "    y_hat = list(map(lambda y_prob: 1 if y_prob > alpha else 0, svm_probs))\n",
    "    acc = mt.accuracy_score(y_test, y_hat)\n",
    "    print('alpha %f : accuracy=%.3f' % (alpha, acc))\n",
    "\n"
   ]
  },
  {
   "cell_type": "code",
   "execution_count": 322,
   "metadata": {},
   "outputs": [
    {
     "data": {
      "text/plain": [
       "{'classifier__alpha': 0.01,\n",
       " 'classifier__loss': 'modified_huber',\n",
       " 'classifier__penalty': 'elasticnet'}"
      ]
     },
     "execution_count": 322,
     "metadata": {},
     "output_type": "execute_result"
    }
   ],
   "source": [
    "clf.best_params_"
   ]
  },
  {
   "cell_type": "code",
   "execution_count": 323,
   "metadata": {},
   "outputs": [
    {
     "name": "stdout",
     "output_type": "stream",
     "text": [
      "Best auc: 0.777826 using {'classifier__alpha': 0.01, 'classifier__loss': 'modified_huber', 'classifier__penalty': 'elasticnet'}\n",
      "0.773556 (0.002495) with: {'classifier__alpha': 0.001, 'classifier__loss': 'modified_huber', 'classifier__penalty': 'l1'}\n",
      "0.772854 (0.001454) with: {'classifier__alpha': 0.001, 'classifier__loss': 'modified_huber', 'classifier__penalty': 'l2'}\n",
      "0.771789 (0.003566) with: {'classifier__alpha': 0.001, 'classifier__loss': 'modified_huber', 'classifier__penalty': 'elasticnet'}\n",
      "0.776091 (0.001173) with: {'classifier__alpha': 0.01, 'classifier__loss': 'modified_huber', 'classifier__penalty': 'l1'}\n",
      "0.776579 (0.002429) with: {'classifier__alpha': 0.01, 'classifier__loss': 'modified_huber', 'classifier__penalty': 'l2'}\n",
      "0.777826 (0.001611) with: {'classifier__alpha': 0.01, 'classifier__loss': 'modified_huber', 'classifier__penalty': 'elasticnet'}\n",
      "0.776805 (0.001366) with: {'classifier__alpha': 0.05, 'classifier__loss': 'modified_huber', 'classifier__penalty': 'l1'}\n",
      "0.777373 (0.001823) with: {'classifier__alpha': 0.05, 'classifier__loss': 'modified_huber', 'classifier__penalty': 'l2'}\n",
      "0.777392 (0.001672) with: {'classifier__alpha': 0.05, 'classifier__loss': 'modified_huber', 'classifier__penalty': 'elasticnet'}\n",
      "0.775829 (0.001501) with: {'classifier__alpha': 0.1, 'classifier__loss': 'modified_huber', 'classifier__penalty': 'l1'}\n",
      "0.777155 (0.001758) with: {'classifier__alpha': 0.1, 'classifier__loss': 'modified_huber', 'classifier__penalty': 'l2'}\n",
      "0.777361 (0.001782) with: {'classifier__alpha': 0.1, 'classifier__loss': 'modified_huber', 'classifier__penalty': 'elasticnet'}\n",
      "0.733432 (0.001926) with: {'classifier__alpha': 0.5, 'classifier__loss': 'modified_huber', 'classifier__penalty': 'l1'}\n",
      "0.775502 (0.001952) with: {'classifier__alpha': 0.5, 'classifier__loss': 'modified_huber', 'classifier__penalty': 'l2'}\n",
      "0.775485 (0.001376) with: {'classifier__alpha': 0.5, 'classifier__loss': 'modified_huber', 'classifier__penalty': 'elasticnet'}\n",
      "0.500000 (0.000000) with: {'classifier__alpha': 1, 'classifier__loss': 'modified_huber', 'classifier__penalty': 'l1'}\n",
      "0.773803 (0.002097) with: {'classifier__alpha': 1, 'classifier__loss': 'modified_huber', 'classifier__penalty': 'l2'}\n",
      "0.774727 (0.001874) with: {'classifier__alpha': 1, 'classifier__loss': 'modified_huber', 'classifier__penalty': 'elasticnet'}\n"
     ]
    }
   ],
   "source": [
    "#code adapted from https://machinelearningmastery.com/hyperparameters-for-classification-machine-learning-algorithms/\n",
    "print(\"Best auc: %f using %s\" % (clf.best_score_, clf.best_params_))\n",
    "means = clf.cv_results_['mean_test_score']\n",
    "stds = clf.cv_results_['std_test_score']\n",
    "params = clf.cv_results_['params']\n",
    "for mean, stdev, param in zip(means, stds, params):\n",
    "    print(\"%f (%f) with: %r\" % (mean, stdev, param))\n",
    "    \n",
    "    \n"
   ]
  },
  {
   "cell_type": "markdown",
   "metadata": {},
   "source": [
    "### Option 3 SVM Probability Calibration"
   ]
  },
  {
   "cell_type": "code",
   "execution_count": 324,
   "metadata": {},
   "outputs": [
    {
     "name": "stdout",
     "output_type": "stream",
     "text": [
      "[0.77813091 0.78463198 0.78081283]\n",
      "F1 Score: [0.71496681 0.72320698 0.71767714]\n",
      "Accuracy: [0.70577702 0.70898125 0.71218547]\n"
     ]
    }
   ],
   "source": [
    "#https://machinelearningmastery.com/calibrated-classification-model-in-scikit-learn/\n",
    "from sklearn.calibration import CalibratedClassifierCV\n",
    "\n",
    "model = clf.best_estimator_ #this was alpha=.1, loss='modified_huber', penalty='elasticnet'\n",
    "calibrator = CalibratedClassifierCV(model, cv=3)\n",
    "\n",
    "aucs = cross_val_score(calibrator, X, y=y, cv=cv_object, scoring = 'roc_auc')\n",
    "print(aucs)\n",
    "\n",
    "\n",
    "f1score = cross_val_score(svm_clf, X, y=y, cv=cv_object, scoring = 'f1')\n",
    "print(\"F1 Score:\" , f1score)\n",
    "\n",
    "acc = cross_val_score(svm_clf, X, y=y, cv=cv_object, scoring = 'accuracy')\n",
    "print(\"Accuracy:\", acc)"
   ]
  },
  {
   "cell_type": "markdown",
   "metadata": {},
   "source": [
    "### Option 3 SVM  ROC"
   ]
  },
  {
   "cell_type": "code",
   "execution_count": 325,
   "metadata": {},
   "outputs": [
    {
     "name": "stdout",
     "output_type": "stream",
     "text": [
      "SVM Model ROC AUC=0.780\n"
     ]
    },
    {
     "data": {
      "image/png": "[encoded data removed]",
      "text/plain": [
       "<Figure size 432x288 with 1 Axes>"
      ]
     },
     "metadata": {},
     "output_type": "display_data"
    }
   ],
   "source": [
    "# roc curve and auc\n",
    "from sklearn.model_selection import train_test_split\n",
    "from sklearn.metrics import roc_curve\n",
    "from sklearn.metrics import roc_auc_score\n",
    "from matplotlib import pyplot\n",
    "\n",
    "X_train, X_test, y_train, y_test = train_test_split(X, y, test_size=0.2)\n",
    "\n",
    "std_scl = StandardScaler()\n",
    "scl_obj = std_scl.fit(X_train)\n",
    "\n",
    "X_train_scaled = scl_obj.transform(X_train)\n",
    "X_test_scaled = scl_obj.transform(X_test) \n",
    "\n",
    "model.fit(X_train, y_train)\n",
    "\n",
    "# predict probabilities\n",
    "svm_probs = model.predict_proba(X_test)\n",
    "# keep probabilities for the positive outcome only\n",
    "svm_probs = svm_probs[:, 1]\n",
    "# calculate scores\n",
    "svm_auc = roc_auc_score(y_test, svm_probs)\n",
    "# summarize scores\\\n",
    "print('SVM Model ROC AUC=%.3f' % (svm_auc))\n",
    "# calculate roc curves\n",
    "svm_fpr, svm_tpr, _ = roc_curve(y_test, svm_probs)\n",
    "# plot the roc curve for the model\n",
    "pyplot.plot(svm_fpr, svm_tpr, marker='.', label='SVM')\n",
    "# axis labels\n",
    "pyplot.xlabel('False Positive Rate')\n",
    "pyplot.ylabel('True Positive Rate')\n",
    "# show the legend\n",
    "pyplot.legend()\n",
    "# show the plot\n",
    "pyplot.show()"
   ]
  },
  {
   "cell_type": "markdown",
   "metadata": {},
   "source": [
    "## SVM Option 4:  using categorical blood pressure bins   Variables: bmi, age, bp, cholesterol"
   ]
  },
  {
   "cell_type": "markdown",
   "metadata": {},
   "source": [
    "### Option 4 SVM Not Scaled"
   ]
  },
  {
   "cell_type": "code",
   "execution_count": 326,
   "metadata": {},
   "outputs": [
    {
     "name": "stdout",
     "output_type": "stream",
     "text": [
      "[0.42509603 0.64668163 0.63318957]\n"
     ]
    },
    {
     "name": "stderr",
     "output_type": "stream",
     "text": [
      "C:\\Users\\Ellen\\Anaconda3\\lib\\site-packages\\sklearn\\metrics\\classification.py:1437: UndefinedMetricWarning: F-score is ill-defined and being set to 0.0 due to no predicted samples.\n",
      "  'precision', 'predicted', average, warn_for)\n",
      "C:\\Users\\Ellen\\Anaconda3\\lib\\site-packages\\sklearn\\metrics\\classification.py:1437: UndefinedMetricWarning: F-score is ill-defined and being set to 0.0 due to no predicted samples.\n",
      "  'precision', 'predicted', average, warn_for)\n",
      "C:\\Users\\Ellen\\Anaconda3\\lib\\site-packages\\sklearn\\metrics\\classification.py:1437: UndefinedMetricWarning: F-score is ill-defined and being set to 0.0 due to no predicted samples.\n",
      "  'precision', 'predicted', average, warn_for)\n"
     ]
    },
    {
     "name": "stdout",
     "output_type": "stream",
     "text": [
      "F1 Score: [0. 0. 0.]\n",
      "Accuracy: [0.44595231 0.56356611 0.56441429]\n"
     ]
    }
   ],
   "source": [
    "X = df[['bp', 'bmi', 'age', 'cholesterol']]\n",
    "\n",
    "categorical_features = ['cholesterol', 'bp']\n",
    "categorical_transformer = Pipeline(steps=[\n",
    "    ('onehot', OneHotEncoder(handle_unknown='ignore'))])\n",
    "\n",
    "preprocessor = ColumnTransformer(\n",
    "    remainder='passthrough',\n",
    "    transformers=[\n",
    "        ('cat', categorical_transformer, categorical_features)])\n",
    "\n",
    "svm_clf = Pipeline(steps=[\n",
    "    ('preprocessor', preprocessor),\n",
    "    ('svm', SGDClassifier(max_iter=1000, tol=1e-3))])\n",
    "\n",
    "aucs = cross_val_score(svm_clf, X, y=y, cv=cv_object, scoring = 'roc_auc')\n",
    "print(aucs)\n",
    "\n",
    "\n",
    "f1score = cross_val_score(svm_clf, X, y=y, cv=cv_object, scoring = 'f1')\n",
    "print(\"F1 Score:\" , f1score)\n",
    "\n",
    "acc = cross_val_score(svm_clf, X, y=y, cv=cv_object, scoring = 'accuracy')\n",
    "print(\"Accuracy:\", acc)"
   ]
  },
  {
   "cell_type": "markdown",
   "metadata": {},
   "source": [
    "### Option 4 SVM Scaled"
   ]
  },
  {
   "cell_type": "code",
   "execution_count": 327,
   "metadata": {},
   "outputs": [
    {
     "name": "stdout",
     "output_type": "stream",
     "text": [
      "[0.68602879 0.7497647  0.74806981]\n",
      "F1 Score: [0.72227281 0.71099323 0.71779086]\n",
      "Accuracy: [0.70728489 0.7037037  0.70210159]\n"
     ]
    }
   ],
   "source": [
    "X = df[['bp', 'bmi', 'age', 'cholesterol']]\n",
    "\n",
    "numeric_features = ['age', 'bmi']\n",
    "numeric_transformer = Pipeline(steps=[\n",
    "    ('scaler', StandardScaler())])\n",
    "\n",
    "categorical_features = ['cholesterol', 'bp']\n",
    "categorical_transformer = Pipeline(steps=[\n",
    "    ('onehot', OneHotEncoder(handle_unknown='ignore'))])\n",
    "\n",
    "preprocessor = ColumnTransformer(\n",
    "    transformers=[\n",
    "        ('num', numeric_transformer, numeric_features),\n",
    "        ('cat', categorical_transformer, categorical_features)])\n",
    "\n",
    "svm_clf = Pipeline(steps=[\n",
    "    ('preprocessor', preprocessor),\n",
    "    ('svm', SGDClassifier(max_iter=1000, tol=1e-3))])\n",
    "\n",
    "aucs = cross_val_score(svm_clf, X, y=y, cv=cv_object, scoring = 'roc_auc')\n",
    "print(aucs)\n",
    "\n",
    "\n",
    "f1score = cross_val_score(svm_clf, X, y=y, cv=cv_object, scoring = 'f1')\n",
    "print(\"F1 Score:\" , f1score)\n",
    "\n",
    "acc = cross_val_score(svm_clf, X, y=y, cv=cv_object, scoring = 'accuracy')\n",
    "print(\"Accuracy:\", acc)"
   ]
  },
  {
   "cell_type": "markdown",
   "metadata": {},
   "source": [
    "## Option 5 SVM Variables: bmi, age, bp, cholesterol\n"
   ]
  },
  {
   "cell_type": "markdown",
   "metadata": {},
   "source": [
    "### SVM Option 5  Un-scaled data using categorical blood pressure bins"
   ]
  },
  {
   "cell_type": "code",
   "execution_count": 330,
   "metadata": {},
   "outputs": [
    {
     "name": "stdout",
     "output_type": "stream",
     "text": [
      "[0.44151448 0.62496465 0.68789562]\n"
     ]
    },
    {
     "name": "stderr",
     "output_type": "stream",
     "text": [
      "C:\\Users\\Ellen\\Anaconda3\\lib\\site-packages\\sklearn\\metrics\\classification.py:1437: UndefinedMetricWarning: F-score is ill-defined and being set to 0.0 due to no predicted samples.\n",
      "  'precision', 'predicted', average, warn_for)\n"
     ]
    },
    {
     "name": "stdout",
     "output_type": "stream",
     "text": [
      "F1 Score: [0.         0.71615245 0.71677349]\n",
      "Accuracy: [0.4357742  0.55319951 0.5601734 ]\n"
     ]
    }
   ],
   "source": [
    "\n",
    "X = df[['bp', 'bmi', 'age', 'cholesterol']]\n",
    "\n",
    "categorical_features = ['cholesterol', 'bp']\n",
    "categorical_transformer = Pipeline(steps=[\n",
    "    ('onehot', OneHotEncoder(handle_unknown='ignore'))])\n",
    "\n",
    "preprocessor = ColumnTransformer(\n",
    "    remainder='passthrough',\n",
    "    transformers=[\n",
    "        ('cat', categorical_transformer, categorical_features)])\n",
    "\n",
    "svm_clf = Pipeline(steps=[\n",
    "    ('preprocessor', preprocessor),\n",
    "    ('svm', SGDClassifier(max_iter=1000, tol=1e-3))])\n",
    "\n",
    "aucs = cross_val_score(svm_clf, X, y=y, cv=cv_object, scoring = 'roc_auc')\n",
    "print(aucs)\n",
    "\n",
    "f1score = cross_val_score(svm_clf, X, y=y, cv=cv_object, scoring = 'f1')\n",
    "print(\"F1 Score:\" , f1score)\n",
    "\n",
    "acc = cross_val_score(svm_clf, X, y=y, cv=cv_object, scoring = 'accuracy')\n",
    "print(\"Accuracy:\", acc)\n"
   ]
  },
  {
   "cell_type": "markdown",
   "metadata": {},
   "source": [
    "### SVM Option 5  Scaled data using categorical blood pressure bins"
   ]
  },
  {
   "cell_type": "code",
   "execution_count": 331,
   "metadata": {},
   "outputs": [
    {
     "name": "stdout",
     "output_type": "stream",
     "text": [
      "[0.75761032 0.75394237 0.74485487]\n",
      "F1 Score: [0.7160203  0.70853167 0.71530184]\n",
      "Accuracy: [0.70238432 0.69899161 0.7025728 ]\n"
     ]
    }
   ],
   "source": [
    "X = df[['bp', 'bmi', 'age', 'cholesterol']]\n",
    "\n",
    "numeric_features = ['age', 'bmi']\n",
    "numeric_transformer = Pipeline(steps=[\n",
    "    ('scaler', StandardScaler())])\n",
    "\n",
    "categorical_features = ['cholesterol', 'bp']\n",
    "categorical_transformer = Pipeline(steps=[\n",
    "    ('onehot', OneHotEncoder(handle_unknown='ignore'))])\n",
    "\n",
    "preprocessor = ColumnTransformer(\n",
    "    transformers=[\n",
    "        ('num', numeric_transformer, numeric_features),\n",
    "        ('cat', categorical_transformer, categorical_features)])\n",
    "\n",
    "svm_clf = Pipeline(steps=[\n",
    "    ('preprocessor', preprocessor),\n",
    "    ('svm', SGDClassifier(max_iter=1000, tol=1e-3))])\n",
    "\n",
    "aucs = cross_val_score(svm_clf, X, y=y, cv=cv_object, scoring = 'roc_auc')\n",
    "print(aucs)\n",
    "\n",
    "f1score = cross_val_score(svm_clf, X, y=y, cv=cv_object, scoring = 'f1')\n",
    "print(\"F1 Score:\" , f1score)\n",
    "\n",
    "acc = cross_val_score(svm_clf, X, y=y, cv=cv_object, scoring = 'accuracy')\n",
    "print(\"Accuracy:\", acc)"
   ]
  },
  {
   "cell_type": "code",
   "execution_count": null,
   "metadata": {},
   "outputs": [],
   "source": []
  }
 ],
 "metadata": {
  "kernelspec": {
   "display_name": "Python 3",
   "language": "python",
   "name": "python3"
  },
  "language_info": {
   "codemirror_mode": {
    "name": "ipython",
    "version": 3
   },
   "file_extension": ".py",
   "mimetype": "text/x-python",
   "name": "python",
   "nbconvert_exporter": "python",
   "pygments_lexer": "ipython3",
   "version": "3.7.6"
  }
 },
 "nbformat": 4,
 "nbformat_minor": 4
}
