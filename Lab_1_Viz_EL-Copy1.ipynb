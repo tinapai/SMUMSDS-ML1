{
 "cells": [
  {
   "cell_type": "markdown",
   "metadata": {},
   "source": [
    "# Business Understanding"
   ]
  },
  {
   "cell_type": "markdown",
   "metadata": {},
   "source": [
    "The dataset that we will examine is the 2017 US Census data. This data was collected to understand the population of the US by measuring for each tract location the demographic make up, the types of jobs, the type of transportation, and the levels of poverty. We are interested in identifying the tracts that have below median level of poverty. Accuracy, precision, and recall will be used to measure the effectiveness of a prediction algorithm."
   ]
  },
  {
   "cell_type": "markdown",
   "metadata": {},
   "source": [
    "# Setup"
   ]
  },
  {
   "cell_type": "code",
   "execution_count": null,
   "metadata": {},
   "outputs": [],
   "source": [
    "import pandas as pd\n",
    "import numpy as np\n",
    "\n",
    "df = pd.read_csv('ACS2017_Census_Tract_Data.csv')"
   ]
  },
  {
   "cell_type": "markdown",
   "metadata": {},
   "source": [
    "# Data Meaning Type"
   ]
  },
  {
   "cell_type": "code",
   "execution_count": 2,
   "metadata": {},
   "outputs": [],
   "source": [
    "\n"
   ]
  },
  {
   "cell_type": "raw",
   "metadata": {},
   "source": [
    "TractId:\ta geographic region defined for the purpose of taking a census. Sometimes these coincide with the limits of cities, towns or other administrative areas and several tracts commonly exist within a county.\n",
    "\n",
    "State:\t   State, DC, or Puerto Rico\n",
    "County:    County or county equivalent\n",
    "TotalPop:  Total Population\n",
    "Men:\t   Number of men\n",
    "Women:\t   Number of women\n",
    "Hispanic:  Percent of population that is Hispanic/Latino\n",
    "White:\t   Percent of population that is white\n",
    "Black:\t   Percent of population that is black\n",
    "Native:\t   Percent of population that is Native American or Native Alaskan\n",
    "Asian:\t   Percent of population that is Asian\n",
    "Pacific:   Percent of population that is Native Hawaiian or Pacific Islander\n",
    "VotingAgeCitizen:\tNumber of citizens\n",
    "Income:\t   Median household income\n",
    "IncomeErr: Median household income error.  Sampling margin of error\n",
    "IncomePerCap:\tIncome per capita \n",
    "IncomePerCapErr:\tIncome per capita error\n",
    "Poverty:   Percentage under poverty level\n",
    "ChildPoverty:\tPercentage of children under poverty level\n",
    "Professional:\tPercentage employed in management, business, science, and arts\n",
    "Service:   Percentage employed in service job\n",
    "Office:\t   Percentage employed in sales and office jobs\n",
    "Construction:\tPercentage employed in natural resources, construction, and maintenance\n",
    "Production:\tPercentage employed in production, transportation, and material movemen\n",
    "Drive:\t    Percentage commuting alone in a car, van, or truck\n",
    "Carpool:\tPercentage carpooling in a car, van, or truck\n",
    "Transit:\tPercentage commuting on public transportation\n",
    "Walk:\t    Percentage walking to work\n",
    "OtherTransp:\tPercentage commuting via other means\n",
    "WorkAtHome:\tPercentage working at home\n",
    "MeanCommute: Mean Commute Time in Minutes\n",
    "Employed:\tNumber of employed\n",
    "PrivateWork: Percent employed in private industry\n",
    "PublicWork:\tPercent employed in public jobs\n",
    "SelfEmployed:\tPercent self-employed\n",
    "FamilyWork:\tPercent in unpaid family work\n",
    "Unemployment:\tUnemployment rate percent\n",
    "\n",
    "\n",
    "\n"
   ]
  },
  {
   "cell_type": "markdown",
   "metadata": {},
   "source": [
    "# Data Quality"
   ]
  },
  {
   "cell_type": "code",
   "execution_count": null,
   "metadata": {},
   "outputs": [],
   "source": []
  },
  {
   "cell_type": "markdown",
   "metadata": {},
   "source": [
    "# Simple Statistics"
   ]
  },
  {
   "cell_type": "code",
   "execution_count": null,
   "metadata": {},
   "outputs": [],
   "source": []
  },
  {
   "cell_type": "markdown",
   "metadata": {},
   "source": [
    "# Visualize Attributes"
   ]
  },
  {
   "cell_type": "code",
   "execution_count": null,
   "metadata": {},
   "outputs": [],
   "source": []
  },
  {
   "cell_type": "markdown",
   "metadata": {},
   "source": [
    "# Explore Joint Attributes"
   ]
  },
  {
   "cell_type": "code",
   "execution_count": null,
   "metadata": {},
   "outputs": [],
   "source": []
  },
  {
   "cell_type": "markdown",
   "metadata": {},
   "source": [
    "# Explore Attributes & Class"
   ]
  },
  {
   "cell_type": "code",
   "execution_count": null,
   "metadata": {},
   "outputs": [],
   "source": []
  },
  {
   "cell_type": "markdown",
   "metadata": {},
   "source": [
    "# New Features"
   ]
  },
  {
   "cell_type": "code",
   "execution_count": null,
   "metadata": {},
   "outputs": [],
   "source": []
  },
  {
   "cell_type": "markdown",
   "metadata": {},
   "source": [
    "# Exceptional Work"
   ]
  },
  {
   "cell_type": "code",
   "execution_count": null,
   "metadata": {},
   "outputs": [],
   "source": []
  }
 ],
 "metadata": {
  "kernelspec": {
   "display_name": "Python 3",
   "language": "python",
   "name": "python3"
  },
  "language_info": {
   "codemirror_mode": {
    "name": "ipython",
    "version": 3
   },
   "file_extension": ".py",
   "mimetype": "text/x-python",
   "name": "python",
   "nbconvert_exporter": "python",
   "pygments_lexer": "ipython3",
   "version": "3.7.3"
  }
 },
 "nbformat": 4,
 "nbformat_minor": 4
}
