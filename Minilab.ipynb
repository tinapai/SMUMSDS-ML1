{
 "cells": [
  {
   "cell_type": "markdown",
   "metadata": {},
   "source": [
    "## Machine Learning I / Mini Lab Predictive Analysis\n",
    "<b>Authors:</b> Fabio Savorgnon, Tina Pai, Paritosh Rai, Ellen Lull\n",
    "<br><b>Data set from:</b> https://www.kaggle.com/sulianova/cardiovascular-disease-dataset"
   ]
  },
  {
   "cell_type": "markdown",
   "metadata": {},
   "source": [
    "After our initial Exploratory Data Analysis (EDA) project, we needed to pick a model that would predict if a patient would have cardiovascular disease based on the variables available in our data.  These are:  gender, systolic blood pressure, diastolic blood pressure, age, height and weight (which we used to calculate Body Mass Index or BMI), a cholesterol level indicator, a glucose level indicator, and indicators to identify if a patient used alcohol, smoked or was active.    You can view the full descriptions of these data elements in our EDA document.\n",
    "<br>  \n",
    "\n",
    "During our EDA, we determined that the factors that had the highest level of correlation to cardiovascular disease were:   Blood pressure, BMI, Age, Cholesterol and Glucose.     However, we didn’t want to limit ourselves to only these.   So, we ran five combinations of the variables.  For each combination of variables, we ran both SVM and Logistical Regression models.  For each combination and method, we ran with scaled data and non-scaled data.   Our findings are documented below.\n"
   ]
  },
  {
   "cell_type": "markdown",
   "metadata": {},
   "source": [
    "# Setup\n"
   ]
  },
  {
   "cell_type": "code",
   "execution_count": 282,
   "metadata": {},
   "outputs": [],
   "source": [
    "import numpy as np\n",
    "import pandas as pd\n",
    "from sklearn.preprocessing import StandardScaler\n",
    "from sklearn.pipeline import Pipeline\n",
    "from sklearn.linear_model import SGDClassifier\n",
    "from sklearn.model_selection import cross_val_score\n",
    "from sklearn.preprocessing import OneHotEncoder\n",
    "from sklearn.model_selection import ShuffleSplit\n",
    "from sklearn import metrics as mt\n",
    "from sklearn.svm import SVC\n",
    "from sklearn.linear_model import LogisticRegression\n",
    "from sklearn.model_selection import GridSearchCV\n",
    "from sklearn.metrics import roc_auc_score\n",
    "from sklearn.datasets import make_classification\n",
    "from sklearn.model_selection import train_test_split\n",
    "from sklearn.metrics import roc_curve\n",
    "from sklearn.metrics import roc_auc_score\n",
    "from matplotlib import pyplot\n",
    "from sklearn.pipeline import make_pipeline\n",
    "from sklearn.compose import ColumnTransformer\n",
    "\n",
    "\n",
    "df = pd.read_csv(\"cardio_train.csv\", sep=\";\")\n",
    "\n"
   ]
  },
  {
   "cell_type": "markdown",
   "metadata": {},
   "source": [
    "# Clean data\n",
    "Removing invalid values per our Exploratory Data Analysis document\n",
    "\n",
    "This data has values for weight, height and blood pressure that are not possible for living people.  We decided that these were errors and are removing them.\n",
    "\n",
    "Body Mass Index (BMI) and Blood Pressure ranges are calculated.   See our EDA document for in depth analysis\n"
   ]
  },
  {
   "cell_type": "markdown",
   "metadata": {},
   "source": [
    "### Weight and Height Clean-up"
   ]
  },
  {
   "cell_type": "code",
   "execution_count": 155,
   "metadata": {},
   "outputs": [],
   "source": [
    "\n",
    "# We address the weight with reasonable weight, the other values probably are a mistake\n",
    "df = df[df[\"weight\"] < 200]\n",
    "df = df[df[\"weight\"] > 55]\n",
    "\n",
    "# We address the height, the other values probably are a mistake\n",
    "df = df[df[\"height\"] < 200]\n",
    "df = df[df[\"height\"] > 130]\n"
   ]
  },
  {
   "cell_type": "markdown",
   "metadata": {},
   "source": [
    "### Blood Pressure Clean-Up and categories"
   ]
  },
  {
   "cell_type": "code",
   "execution_count": 159,
   "metadata": {},
   "outputs": [],
   "source": [
    "\n",
    "# Keeping only reasonable blood pressure measurements\n",
    "df = df[df[\"ap_hi\"] < 200]\n",
    "df = df[df[\"ap_hi\"] > 110]\n",
    "df = df[df[\"ap_lo\"] < 150]\n",
    "df = df[df[\"ap_lo\"] > 60]\n",
    "\n",
    "# bin blood pressure groups based on the api hi/ lo variables\n",
    "# bp is 1 - 5 where 1 is Normal, 2 is Elevated, 3 is HyperTension Stage1, 4 is HyperTensions Stage2, 5 is Hypertension Stage3\n",
    "df['bp'] = np.where((df.ap_hi < 120) & (df.ap_lo < 80), 1, 0)\n",
    "df['bp'] = np.where((df.ap_hi >= 120) & (df.ap_hi < 130) & (df.ap_lo < 80), 2, df.bp)\n",
    "df['bp'] = np.where((df.ap_hi >= 130) & (df.ap_hi < 140) | ((df.ap_lo >= 80) & (df.ap_lo < 90)), 3, df.bp)\n",
    "df['bp'] = np.where((df.ap_hi >= 140) | (df.ap_lo >= 90), 4, df.bp)\n",
    "df['bp'] = np.where((df.ap_hi > 180) | (df.ap_lo > 120), 5, df.bp)\n",
    "df['bp1'] = pd.cut(df.bp,[0,1,2,3,4,5],5,labels=['Normal','Elevated','Hyper_Stage1','Hyper_Stage2','Hyper_Stage3'])\n",
    "\n",
    "\n",
    "\n"
   ]
  },
  {
   "cell_type": "markdown",
   "metadata": {},
   "source": [
    "### Calculate BMI (Body Mass Index)"
   ]
  },
  {
   "cell_type": "code",
   "execution_count": 160,
   "metadata": {},
   "outputs": [],
   "source": [
    "# compute the body mass index based on weight and height\n",
    "df['bmi'] = df['weight'] / (df['height']/100)**2"
   ]
  },
  {
   "cell_type": "code",
   "execution_count": 161,
   "metadata": {},
   "outputs": [
    {
     "data": {
      "text/html": [
       "<div>\n",
       "<style scoped>\n",
       "    .dataframe tbody tr th:only-of-type {\n",
       "        vertical-align: middle;\n",
       "    }\n",
       "\n",
       "    .dataframe tbody tr th {\n",
       "        vertical-align: top;\n",
       "    }\n",
       "\n",
       "    .dataframe thead th {\n",
       "        text-align: right;\n",
       "    }\n",
       "</style>\n",
       "<table border=\"1\" class=\"dataframe\">\n",
       "  <thead>\n",
       "    <tr style=\"text-align: right;\">\n",
       "      <th></th>\n",
       "      <th>id</th>\n",
       "      <th>age</th>\n",
       "      <th>gender</th>\n",
       "      <th>height</th>\n",
       "      <th>weight</th>\n",
       "      <th>ap_hi</th>\n",
       "      <th>ap_lo</th>\n",
       "      <th>cholesterol</th>\n",
       "      <th>gluc</th>\n",
       "      <th>smoke</th>\n",
       "      <th>alco</th>\n",
       "      <th>active</th>\n",
       "      <th>cardio</th>\n",
       "      <th>bp</th>\n",
       "      <th>bp1</th>\n",
       "      <th>bmi</th>\n",
       "    </tr>\n",
       "  </thead>\n",
       "  <tbody>\n",
       "    <tr>\n",
       "      <th>1</th>\n",
       "      <td>1</td>\n",
       "      <td>20228</td>\n",
       "      <td>1</td>\n",
       "      <td>156</td>\n",
       "      <td>85.0</td>\n",
       "      <td>140</td>\n",
       "      <td>90</td>\n",
       "      <td>3</td>\n",
       "      <td>1</td>\n",
       "      <td>0</td>\n",
       "      <td>0</td>\n",
       "      <td>1</td>\n",
       "      <td>1</td>\n",
       "      <td>4</td>\n",
       "      <td>Hyper_Stage2</td>\n",
       "      <td>34.927679</td>\n",
       "    </tr>\n",
       "    <tr>\n",
       "      <th>2</th>\n",
       "      <td>2</td>\n",
       "      <td>18857</td>\n",
       "      <td>1</td>\n",
       "      <td>165</td>\n",
       "      <td>64.0</td>\n",
       "      <td>130</td>\n",
       "      <td>70</td>\n",
       "      <td>3</td>\n",
       "      <td>1</td>\n",
       "      <td>0</td>\n",
       "      <td>0</td>\n",
       "      <td>0</td>\n",
       "      <td>1</td>\n",
       "      <td>3</td>\n",
       "      <td>Hyper_Stage1</td>\n",
       "      <td>23.507805</td>\n",
       "    </tr>\n",
       "    <tr>\n",
       "      <th>3</th>\n",
       "      <td>3</td>\n",
       "      <td>17623</td>\n",
       "      <td>2</td>\n",
       "      <td>169</td>\n",
       "      <td>82.0</td>\n",
       "      <td>150</td>\n",
       "      <td>100</td>\n",
       "      <td>1</td>\n",
       "      <td>1</td>\n",
       "      <td>0</td>\n",
       "      <td>0</td>\n",
       "      <td>1</td>\n",
       "      <td>1</td>\n",
       "      <td>4</td>\n",
       "      <td>Hyper_Stage2</td>\n",
       "      <td>28.710479</td>\n",
       "    </tr>\n",
       "    <tr>\n",
       "      <th>5</th>\n",
       "      <td>8</td>\n",
       "      <td>21914</td>\n",
       "      <td>1</td>\n",
       "      <td>151</td>\n",
       "      <td>67.0</td>\n",
       "      <td>120</td>\n",
       "      <td>80</td>\n",
       "      <td>2</td>\n",
       "      <td>2</td>\n",
       "      <td>0</td>\n",
       "      <td>0</td>\n",
       "      <td>0</td>\n",
       "      <td>0</td>\n",
       "      <td>3</td>\n",
       "      <td>Hyper_Stage1</td>\n",
       "      <td>29.384676</td>\n",
       "    </tr>\n",
       "    <tr>\n",
       "      <th>6</th>\n",
       "      <td>9</td>\n",
       "      <td>22113</td>\n",
       "      <td>1</td>\n",
       "      <td>157</td>\n",
       "      <td>93.0</td>\n",
       "      <td>130</td>\n",
       "      <td>80</td>\n",
       "      <td>3</td>\n",
       "      <td>1</td>\n",
       "      <td>0</td>\n",
       "      <td>0</td>\n",
       "      <td>1</td>\n",
       "      <td>0</td>\n",
       "      <td>3</td>\n",
       "      <td>Hyper_Stage1</td>\n",
       "      <td>37.729725</td>\n",
       "    </tr>\n",
       "  </tbody>\n",
       "</table>\n",
       "</div>"
      ],
      "text/plain": [
       "   id    age  gender  height  weight  ap_hi  ap_lo  cholesterol  gluc  smoke  \\\n",
       "1   1  20228       1     156    85.0    140     90            3     1      0   \n",
       "2   2  18857       1     165    64.0    130     70            3     1      0   \n",
       "3   3  17623       2     169    82.0    150    100            1     1      0   \n",
       "5   8  21914       1     151    67.0    120     80            2     2      0   \n",
       "6   9  22113       1     157    93.0    130     80            3     1      0   \n",
       "\n",
       "   alco  active  cardio  bp           bp1        bmi  \n",
       "1     0       1       1   4  Hyper_Stage2  34.927679  \n",
       "2     0       0       1   3  Hyper_Stage1  23.507805  \n",
       "3     0       1       1   4  Hyper_Stage2  28.710479  \n",
       "5     0       0       0   3  Hyper_Stage1  29.384676  \n",
       "6     0       1       0   3  Hyper_Stage1  37.729725  "
      ]
     },
     "execution_count": 161,
     "metadata": {},
     "output_type": "execute_result"
    }
   ],
   "source": [
    "df.head()"
   ]
  },
  {
   "cell_type": "markdown",
   "metadata": {},
   "source": [
    "# Model Variable Selection Options\n",
    "\n",
    "The following combinations of variables were used in our analysis.   We ran models for each of these combinations of variables and selected a primary model and a secodary model.    The siginficant model analysis is listed below.   The analysis of the less accurate models is placed in the appendix of this document.  We are referring to these as Options 1-5\n",
    "\n",
    "**Option 1:** bmi, ap_hi, ap_lo_cholesterol, age  (top 5 in correlation to cardio response variable)\n",
    "\n",
    "\n",
    "**Option 2:** ap_hi  (highest correlation to response)\n",
    "\n",
    "\n",
    "**Option 3:** bmi,  age, ap_lo, ap_hi,  cholesterol', gluc , smoke , alco , active  (all variables except gender and id)\n",
    "\n",
    "**Option 4:** weight,  age,  ap_lo, ap_hi,  cholesterol (significant variables replacing BMI with weight.  Height is excluded since the correlation is low)\n",
    "\n",
    "**Option 5:** bmi, age, bp, cholesterol (high correlation, removing collinear variables)\n",
    "\n",
    "\n"
   ]
  },
  {
   "cell_type": "markdown",
   "metadata": {},
   "source": [
    "## Summary of Model Analysis\n",
    "##### The following is the summary of Analysis that was run on Logistic Regression and SVM with Five options in unscaled and scaled options.\n",
    "\n",
    "The chart below shows the comparison of all models we ran on AUC score.   We are showing the results of the more significant models in the main body of this notebook, and have included the models of less interest in the Appendix.\n",
    "\n",
    "We compared all models both with and without scaling the data.  \n",
    "\n",
    "The highest performing model for Logistic Regression, per AUC, was Option 3, which included all variables.   A very close score was obtained for Option 1, which included: Body Mass Index, Systolic Blood Pressure, Diastolic Blood pressure, Cholesterol and Age.   Since these Option 1 variables were our most significant variables per our Exploratory Data Analysis, we chose Option 1 as our preferred model.  For these Logistical Regression models, a scaling option was reviewed.  However, scaling the data did not improve the performance of the model.\n",
    "\n",
    "The highest performing model for SVM was option 1 with the variables described above.   In this case, scaling the data did make a difference.\n",
    "\n",
    "Our primary model is Logistic Regression, unscaled data with the following attributes: Body Mass Index, Systolic Blood Pressure, Diastolic Blood pressure, Cholesterol and Age.\n",
    "\n",
    "Our backup/ secondary model is SVM with scaled data and the following attributes: Body Mass Index, Systolic Blood Pressure, Diastolic Blood pressure, Cholesterol and Age."
   ]
  },
  {
   "cell_type": "markdown",
   "metadata": {},
   "source": [
    "### Comparison of models on AUC score\n",
    "The team reviewed models based on Area Under Curver (AUC), F1 Score, Accuracy.   We decided to use AUC as our final deciding factor for the variables and parameters of the model.  We then further tuned the models to get the best F1 score.  We chose the F1 score as a metric to show a good balance between precision and recall.    We also looked at the Acccuracy score of the models."
   ]
  },
  {
   "attachments": {
    "compare.png": {
     "image/png": "[encoded data removed]"
    }
   },
   "cell_type": "markdown",
   "metadata": {},
   "source": [
    "![compare.png](attachment:compare.png)"
   ]
  },
  {
   "cell_type": "markdown",
   "metadata": {},
   "source": [
    "### Add AUC for decision tree/random forest to above chart\n",
    "## Add chart for Confusion matrix"
   ]
  },
  {
   "cell_type": "markdown",
   "metadata": {},
   "source": [
    "# Beginning of Model Analysis\n",
    "\n",
    "First we will show our Logistical Regression Analysis, since that resulted in our preferred model.   Then we will describe our SVM analysis since that gave us our secondary model\n",
    "\n",
    "We also ran Decision Tree and Random Forest Models.   They gave us much lower AUC scores, so we rejected them as well"
   ]
  },
  {
   "cell_type": "markdown",
   "metadata": {},
   "source": [
    "### Logistic Regression"
   ]
  },
  {
   "cell_type": "markdown",
   "metadata": {},
   "source": [
    " There are multiple parameters that can help build a Logistic  Regression model listed below with the default value.  \n",
    "\n",
    "\n",
    "*(penalty='l2', *, dual=False, tol=0.0001, C=1.0, fit_intercept=True, intercept_scaling=1, class_weight=None, random_state=None, solver='lbfgs', max_iter=100, multi_class='auto', verbose=0, warm_start=False, n_jobs=None, l1_ratio=None])*\n",
    "\n",
    "\n",
    "\n",
    "However, our team decided to focus on few critical in tuning process like C, solver and penalty. \n",
    "\n",
    "\n",
    "\n",
    "Hyperparameters sets the algorithm that can be adjusted to optimize performance, these are the knobs to generate optimal outcome. These Hyperparameters in machine learning model help define your model architecture. Leveraging grid search optimal automated exploration is launched to find the optimal parameter value to extract best model architecture. \n",
    "\n",
    "The project Grid search approach was used to tune the parameters of the model. Grid search is an approach to hyperparameter tuning that will methodically build and evaluate a model for each combination of algorithm parameters specified in a grid. However, grid search suffers from the curse of dimensionality: the number of times required to evaluate the model during hyperparameter optimization grows exponentially in the number of parameters. \n",
    "\n",
    "The other popular method is Random Search. It is performed by evaluating n uniformly random points in the hyperparameter space and select the one producing the best performance. The drawback of random search is unnecessarily high variance. The method is, after all, entirely random, and uses no intelligence in selecting which points to try. You are relying on luck to get good results.\n",
    "\n",
    "In the model building excises Grid Search was used and to overcome the curse of dimensionality hyper parameter list was highly evaluated and one making maxim impact were chosen. The model tuning process three parameters were considered, C, penalty and Solver. \n",
    "\n",
    "<b>C:</b> This control the complexity and simplicity of model. However, complexity can lead to over fitting vs. simplicity will lead to under fitting. Small values of C, we increase the regularization strength which will create simple models which underfit the data. For big values of C the power of regularization is decrease which impels the model is allowed to increase it's complexity, and therefore, overfit the data. \n",
    "\n",
    "<b>Penalty:</b> This project uses two penalties. L1 and L2. The Penalty is used to specify the penalization method of the coefficients of noncontributing or less contributing variables.\n",
    "Lasso (L1) performs feature selection by shrinking the less important feature’s coefficient to zero.\n",
    "Ridge (L2) all variables are included in the model, though some are shrunk (but not to zero like L1 Penalty. Less computationally intensive than lasso.\n",
    "Both penalty values restrict solver choices. It is critical to choose the right combination of Penalty.\n",
    "\n",
    "\n",
    "\n",
    "<b>Solver:</b> Are the algorithm used in Logistic Regression to predict the outcome. Default value is lbfgs. other possible values (to list few) are, liblinear, sag and saga.\n",
    "liblinear − It is a good choice for small datasets. It also handles L1 penalty. For multiclass problems, it is limited to one-versus-rest schemes.\n",
    "lbfgs − For multiclass problems, it handles multinomial loss. It also handles only L2 penalty.\n",
    "saga − It is a good choice for large datasets. For multiclass problems, it also handles multinomial loss. Along with L1 penalty, it also supports ‘elasticnet’ penalty.\n",
    "sag − It is also used for large datasets. For multiclass problems, it also handles multinomial loss.\n",
    "\n",
    "\n",
    "\n",
    "<b>Ref:</b> \n",
    "https://sigopt.com/blog/common-problems-in-hyperparameter-optimization\n",
    "\n",
    "https://towardsdatascience.com/hyper-parameter-tuning-and-model-selection-like-a-movie-star-a884b8ee8d\n",
    "\n",
    "\n",
    "\n"
   ]
  },
  {
   "cell_type": "markdown",
   "metadata": {},
   "source": [
    "### Option 1 model\n",
    "\n",
    "Option 1 was a model using the following variables: bmi, ap_hi, ap_lo_cholesterol, age\n",
    "<br> These had the highest correlation to the cardio response variable</b>\n",
    "\n",
    "This model became our preferred model"
   ]
  },
  {
   "cell_type": "code",
   "execution_count": 162,
   "metadata": {},
   "outputs": [],
   "source": [
    "#df\n",
    "# option 1'bmi', 'ap_hi', 'ap_lo','cholesterol','age'\n",
    "y = df['cardio'].values # get the labels we want\n",
    "X = df[['bmi', 'ap_hi', 'ap_lo','cholesterol','age']].values "
   ]
  },
  {
   "cell_type": "code",
   "execution_count": 163,
   "metadata": {},
   "outputs": [
    {
     "name": "stdout",
     "output_type": "stream",
     "text": [
      "ShuffleSplit(n_splits=3, random_state=None, test_size=0.2, train_size=None)\n"
     ]
    }
   ],
   "source": [
    "#make CV spit 80/20 object\n",
    "\n",
    "num_cv_iterations = 3\n",
    "num_instances = len(y)\n",
    "cv_object = ShuffleSplit(n_splits=num_cv_iterations,\n",
    "                         test_size  = 0.2)\n",
    "                         \n",
    "print(cv_object)"
   ]
  },
  {
   "cell_type": "markdown",
   "metadata": {},
   "source": [
    "### Hyper Parameter Tuning      This is for Non-Scaled Data\n",
    "\n",
    "Run Option 1 model with Non- Scaled data.   We scale the data and run it again below"
   ]
  },
  {
   "cell_type": "code",
   "execution_count": 164,
   "metadata": {},
   "outputs": [
    {
     "data": {
      "text/plain": [
       "GridSearchCV(cv=ShuffleSplit(n_splits=3, random_state=None, test_size=0.2, train_size=None),\n",
       "             error_score='raise-deprecating',\n",
       "             estimator=LogisticRegression(C=1.0, class_weight=None, dual=False,\n",
       "                                          fit_intercept=True,\n",
       "                                          intercept_scaling=1, l1_ratio=None,\n",
       "                                          max_iter=1000, multi_class='warn',\n",
       "                                          n_jobs=None, penalty='l2',\n",
       "                                          random_state=None, solver='warn',\n",
       "                                          tol=0.0001, verbose=0,\n",
       "                                          warm_start=False),\n",
       "             iid='warn', n_jobs=None,\n",
       "             param_grid=[{'C': [0.1, 1, 10, 100, 1000], 'penalty': ['l1'],\n",
       "                          'solver': ['liblinear']},\n",
       "                         {'C': [0.1, 1, 10, 100, 1000], 'penalty': ['l2'],\n",
       "                          'solver': ['lbfgs']}],\n",
       "             pre_dispatch='2*n_jobs', refit=True, return_train_score=False,\n",
       "             scoring='roc_auc', verbose=0)"
      ]
     },
     "execution_count": 164,
     "metadata": {},
     "output_type": "execute_result"
    }
   ],
   "source": [
    "#make a grid search for logistic regression\n",
    "\n",
    "\n",
    "param_grid = [\n",
    "  {'C': [.1, 1, 10, 100, 1000],\n",
    "   'penalty': ['l1'],\n",
    "   'solver': ['liblinear']},\n",
    "  {'C': [.1, 1, 10, 100, 1000],\n",
    "   'penalty': ['l2'], \n",
    "   'solver': ['lbfgs']},\n",
    " ]\n",
    "\n",
    "lr = LogisticRegression(max_iter=1000)\n",
    "clf = GridSearchCV(lr, param_grid, scoring=\"roc_auc\",cv=cv_object)\n",
    "clf.fit(X, y)\n",
    "\n"
   ]
  },
  {
   "cell_type": "code",
   "execution_count": 165,
   "metadata": {},
   "outputs": [
    {
     "name": "stdout",
     "output_type": "stream",
     "text": [
      "Best: 0.777871 using {'C': 100, 'penalty': 'l1', 'solver': 'liblinear'}\n",
      "0.777861 (0.001437) with: {'C': 0.1, 'penalty': 'l1', 'solver': 'liblinear'}\n",
      "0.777825 (0.001409) with: {'C': 1, 'penalty': 'l1', 'solver': 'liblinear'}\n",
      "0.777776 (0.001480) with: {'C': 10, 'penalty': 'l1', 'solver': 'liblinear'}\n",
      "0.777871 (0.001453) with: {'C': 100, 'penalty': 'l1', 'solver': 'liblinear'}\n",
      "0.777803 (0.001446) with: {'C': 1000, 'penalty': 'l1', 'solver': 'liblinear'}\n",
      "0.617459 (0.000521) with: {'C': 0.1, 'penalty': 'l2', 'solver': 'lbfgs'}\n",
      "0.617459 (0.000520) with: {'C': 1, 'penalty': 'l2', 'solver': 'lbfgs'}\n",
      "0.617459 (0.000520) with: {'C': 10, 'penalty': 'l2', 'solver': 'lbfgs'}\n",
      "0.617459 (0.000520) with: {'C': 100, 'penalty': 'l2', 'solver': 'lbfgs'}\n",
      "0.617459 (0.000520) with: {'C': 1000, 'penalty': 'l2', 'solver': 'lbfgs'}\n"
     ]
    }
   ],
   "source": [
    "#code adapted from https://machinelearningmastery.com/hyperparameters-for-classification-machine-learning-algorithms/\n",
    "print(\"Best: %f using %s\" % (clf.best_score_, clf.best_params_))\n",
    "means = clf.cv_results_['mean_test_score']\n",
    "stds = clf.cv_results_['std_test_score']\n",
    "params = clf.cv_results_['params']\n",
    "for mean, stdev, param in zip(means, stds, params):\n",
    "    print(\"%f (%f) with: %r\" % (mean, stdev, param))"
   ]
  },
  {
   "cell_type": "code",
   "execution_count": 166,
   "metadata": {},
   "outputs": [],
   "source": [
    "\n",
    "from sklearn import metrics as mt\n",
    "lr_clf = LogisticRegression(penalty='l1', C=1000, class_weight=None, solver='liblinear' ) # get object\n"
   ]
  },
  {
   "cell_type": "markdown",
   "metadata": {},
   "source": [
    "### Metrics for Option 1 Logistical Regression Model with Non-Scaled Data"
   ]
  },
  {
   "cell_type": "code",
   "execution_count": 167,
   "metadata": {},
   "outputs": [
    {
     "name": "stdout",
     "output_type": "stream",
     "text": [
      "====Iteration 0  ====\n",
      "auc 0.7723882887406268\n",
      "confusion matrix\n",
      " [[3356 1301]\n",
      " [1750 4204]]\n",
      "F1 Score:  0.7337464002094424\n",
      "accuracy 0.712468193384224\n",
      "              precision    recall  f1-score   support\n",
      "\n",
      "           0       0.66      0.72      0.69      4657\n",
      "           1       0.76      0.71      0.73      5954\n",
      "\n",
      "    accuracy                           0.71     10611\n",
      "   macro avg       0.71      0.71      0.71     10611\n",
      "weighted avg       0.72      0.71      0.71     10611\n",
      "\n",
      "====Iteration 1  ====\n",
      "auc 0.7812019360004268\n",
      "confusion matrix\n",
      " [[3394 1282]\n",
      " [1723 4212]]\n",
      "F1 Score:  0.737072359786508\n",
      "accuracy 0.7168033173122231\n",
      "              precision    recall  f1-score   support\n",
      "\n",
      "           0       0.66      0.73      0.69      4676\n",
      "           1       0.77      0.71      0.74      5935\n",
      "\n",
      "    accuracy                           0.72     10611\n",
      "   macro avg       0.71      0.72      0.72     10611\n",
      "weighted avg       0.72      0.72      0.72     10611\n",
      "\n",
      "====Iteration 2  ====\n",
      "auc 0.7746636385372794\n",
      "confusion matrix\n",
      " [[3390 1301]\n",
      " [1762 4158]]\n",
      "F1 Score:  0.7308199314526759\n",
      "accuracy 0.7113372914899633\n",
      "              precision    recall  f1-score   support\n",
      "\n",
      "           0       0.66      0.72      0.69      4691\n",
      "           1       0.76      0.70      0.73      5920\n",
      "\n",
      "    accuracy                           0.71     10611\n",
      "   macro avg       0.71      0.71      0.71     10611\n",
      "weighted avg       0.72      0.71      0.71     10611\n",
      "\n"
     ]
    }
   ],
   "source": [
    "iter_num=0\n",
    "for train_indices, test_indices in cv_object.split(X,y): \n",
    "    X_train = X[train_indices]\n",
    "    y_train = y[train_indices]\n",
    "    \n",
    "    X_test = X[test_indices]\n",
    "    y_test = y[test_indices]\n",
    "    \n",
    "    lr_clf.fit(X_train,y_train)\n",
    "    y_hat = lr_clf.predict(X_test)\n",
    "    y_prob=lr_clf.predict_proba(X_test)[:,1]\n",
    "\n",
    "    #acc = mt.accuracy_score(y_test,y_hat)\n",
    "    conf = mt.confusion_matrix(y_test,y_hat)\n",
    "    auc = mt.roc_auc_score(y_test,y_prob)\n",
    "    print(\"====Iteration\",iter_num,\" ====\")\n",
    "   # print(\"accuracy\", acc )\n",
    "    print(\"auc\", auc )\n",
    "    print(\"confusion matrix\\n\",conf)\n",
    "  \n",
    "    # Show the F1 Score\n",
    "    fscore = mt.f1_score(y_test,y_hat)\n",
    "    print(\"F1 Score: \", fscore)\n",
    "    \n",
    "    # Show the Accuracy Score\n",
    "    acc = mt.accuracy_score(y_test,y_hat)\n",
    "    print(\"accuracy\", acc )\n",
    "    \n",
    "    # Show the Classification Matrix\n",
    "    print(mt.classification_report(y_test,y_hat))\n",
    "    \n",
    "    iter_num+=1"
   ]
  },
  {
   "cell_type": "markdown",
   "metadata": {},
   "source": [
    "\n",
    "## Analysis of F1 Score and Accuracy\n",
    "\n",
    "The F1 score for this model is .74.   The F1 score is a harmonic mean of precision and recall.  It is calculated from the precision and recall of the test. Precision represents the number of correctly identified positive results divided by the number of all positive results.   Recall represents the number of correctly identified positive results divided by the number of all samples that should have been identified as positive.   \n",
    "\n",
    "\n",
    "Accuracy score for this model is .72.  This represents the number of correctly identified true positives and true negatives.\n",
    "\n",
    "\n",
    "While this reinforced our belief that the model was accurate, we used the AUC score to make our final determination of our preferred model because it displays the relationship between sensitivity and specificity.   We picked the AUC as the metric for comparing the effectiveness of our models because AUC represents a model's potential for maximizing true positives and minimizing false negatives. "
   ]
  },
  {
   "cell_type": "markdown",
   "metadata": {},
   "source": [
    "### Scaling"
   ]
  },
  {
   "cell_type": "markdown",
   "metadata": {},
   "source": [
    "### Redo Test/Train split for Scaled Data"
   ]
  },
  {
   "cell_type": "code",
   "execution_count": 168,
   "metadata": {},
   "outputs": [],
   "source": [
    "#make CV spit 80/20 object\n",
    "from sklearn.model_selection import ShuffleSplit\n",
    "num_cv_iterations = 3\n",
    "num_instances = len(y)\n",
    "cv_object = ShuffleSplit(n_splits=num_cv_iterations,\n",
    "                         test_size  = 0.2)"
   ]
  },
  {
   "cell_type": "markdown",
   "metadata": {},
   "source": [
    "### Hyper Parameter Tuning      This is for Scaled Data"
   ]
  },
  {
   "cell_type": "code",
   "execution_count": 169,
   "metadata": {},
   "outputs": [
    {
     "data": {
      "text/plain": [
       "GridSearchCV(cv=ShuffleSplit(n_splits=3, random_state=None, test_size=0.2, train_size=None),\n",
       "             error_score='raise-deprecating',\n",
       "             estimator=Pipeline(memory=None,\n",
       "                                steps=[('scaler',\n",
       "                                        StandardScaler(copy=True,\n",
       "                                                       with_mean=True,\n",
       "                                                       with_std=True)),\n",
       "                                       ('classifier',\n",
       "                                        LogisticRegression(C=1.0,\n",
       "                                                           class_weight=None,\n",
       "                                                           dual=False,\n",
       "                                                           fit_intercept=True,\n",
       "                                                           intercept_scaling=1,\n",
       "                                                           l1_ratio=None,\n",
       "                                                           max_...\n",
       "                                verbose=False),\n",
       "             iid='warn', n_jobs=None,\n",
       "             param_grid=[{'classifier__C': [0.1, 1, 10, 100, 1000],\n",
       "                          'classifier__penalty': ['l1'],\n",
       "                          'classifier__solver': ['liblinear', 'saga']},\n",
       "                         {'classifier__C': [0.1, 1, 10, 100, 1000],\n",
       "                          'classifier__penalty': ['l2'],\n",
       "                          'classifier__solver': ['lbfgs', 'sag', 'saga']}],\n",
       "             pre_dispatch='2*n_jobs', refit=True, return_train_score=False,\n",
       "             scoring='roc_auc', verbose=0)"
      ]
     },
     "execution_count": 169,
     "metadata": {},
     "output_type": "execute_result"
    }
   ],
   "source": [
    "\n",
    "#make a grid search for logistic regression\n",
    "from sklearn.model_selection import GridSearchCV\n",
    "\n",
    "param_grid = [\n",
    "  {'classifier__C': [.1, 1, 10, 100, 1000],\n",
    "   'classifier__penalty': ['l1'],\n",
    "   'classifier__solver': ['liblinear', 'saga']},\n",
    "  {'classifier__C': [.1, 1, 10, 100, 1000],\n",
    "   'classifier__penalty': ['l2'], \n",
    "   'classifier__solver': ['lbfgs', 'sag', 'saga']},\n",
    " ]\n",
    "\n",
    "lr = Pipeline([\n",
    "    ('scaler', StandardScaler()),\n",
    "    ('classifier', LogisticRegression(solver='lbfgs'))])\n",
    "clf = GridSearchCV(lr, param_grid, scoring=\"roc_auc\", cv=cv_object)\n",
    "clf.fit(X, y)\n",
    "\n",
    "\n",
    "#clf.cv_results_\n",
    "\n"
   ]
  },
  {
   "cell_type": "code",
   "execution_count": 170,
   "metadata": {},
   "outputs": [
    {
     "name": "stdout",
     "output_type": "stream",
     "text": [
      "Best: 0.778854 using {'classifier__C': 0.1, 'classifier__penalty': 'l1', 'classifier__solver': 'saga'}\n",
      "0.778853 (0.000560) with: {'classifier__C': 0.1, 'classifier__penalty': 'l1', 'classifier__solver': 'liblinear'}\n",
      "0.778854 (0.000560) with: {'classifier__C': 0.1, 'classifier__penalty': 'l1', 'classifier__solver': 'saga'}\n",
      "0.778847 (0.000559) with: {'classifier__C': 1, 'classifier__penalty': 'l1', 'classifier__solver': 'liblinear'}\n",
      "0.778847 (0.000560) with: {'classifier__C': 1, 'classifier__penalty': 'l1', 'classifier__solver': 'saga'}\n",
      "0.778845 (0.000561) with: {'classifier__C': 10, 'classifier__penalty': 'l1', 'classifier__solver': 'liblinear'}\n",
      "0.778846 (0.000560) with: {'classifier__C': 10, 'classifier__penalty': 'l1', 'classifier__solver': 'saga'}\n",
      "0.778845 (0.000561) with: {'classifier__C': 100, 'classifier__penalty': 'l1', 'classifier__solver': 'liblinear'}\n",
      "0.778844 (0.000561) with: {'classifier__C': 100, 'classifier__penalty': 'l1', 'classifier__solver': 'saga'}\n",
      "0.778845 (0.000561) with: {'classifier__C': 1000, 'classifier__penalty': 'l1', 'classifier__solver': 'liblinear'}\n",
      "0.778845 (0.000561) with: {'classifier__C': 1000, 'classifier__penalty': 'l1', 'classifier__solver': 'saga'}\n",
      "0.778833 (0.000563) with: {'classifier__C': 0.1, 'classifier__penalty': 'l2', 'classifier__solver': 'lbfgs'}\n",
      "0.778832 (0.000563) with: {'classifier__C': 0.1, 'classifier__penalty': 'l2', 'classifier__solver': 'sag'}\n",
      "0.778833 (0.000563) with: {'classifier__C': 0.1, 'classifier__penalty': 'l2', 'classifier__solver': 'saga'}\n",
      "0.778845 (0.000561) with: {'classifier__C': 1, 'classifier__penalty': 'l2', 'classifier__solver': 'lbfgs'}\n",
      "0.778845 (0.000561) with: {'classifier__C': 1, 'classifier__penalty': 'l2', 'classifier__solver': 'sag'}\n",
      "0.778844 (0.000561) with: {'classifier__C': 1, 'classifier__penalty': 'l2', 'classifier__solver': 'saga'}\n",
      "0.778845 (0.000560) with: {'classifier__C': 10, 'classifier__penalty': 'l2', 'classifier__solver': 'lbfgs'}\n",
      "0.778845 (0.000560) with: {'classifier__C': 10, 'classifier__penalty': 'l2', 'classifier__solver': 'sag'}\n",
      "0.778845 (0.000561) with: {'classifier__C': 10, 'classifier__penalty': 'l2', 'classifier__solver': 'saga'}\n",
      "0.778845 (0.000561) with: {'classifier__C': 100, 'classifier__penalty': 'l2', 'classifier__solver': 'lbfgs'}\n",
      "0.778845 (0.000561) with: {'classifier__C': 100, 'classifier__penalty': 'l2', 'classifier__solver': 'sag'}\n",
      "0.778846 (0.000560) with: {'classifier__C': 100, 'classifier__penalty': 'l2', 'classifier__solver': 'saga'}\n",
      "0.778845 (0.000561) with: {'classifier__C': 1000, 'classifier__penalty': 'l2', 'classifier__solver': 'lbfgs'}\n",
      "0.778845 (0.000560) with: {'classifier__C': 1000, 'classifier__penalty': 'l2', 'classifier__solver': 'sag'}\n",
      "0.778845 (0.000561) with: {'classifier__C': 1000, 'classifier__penalty': 'l2', 'classifier__solver': 'saga'}\n"
     ]
    }
   ],
   "source": [
    "#code adapted from https://machinelearningmastery.com/hyperparameters-for-classification-machine-learning-algorithms/\n",
    "print(\"Best: %f using %s\" % (clf.best_score_, clf.best_params_))\n",
    "means = clf.cv_results_['mean_test_score']\n",
    "stds = clf.cv_results_['std_test_score']\n",
    "params = clf.cv_results_['params']\n",
    "for mean, stdev, param in zip(means, stds, params):\n",
    "    print(\"%f (%f) with: %r\" % (mean, stdev, param))"
   ]
  },
  {
   "cell_type": "markdown",
   "metadata": {},
   "source": [
    "### Metrics for Option 1 Logistical Regression Model with Scaled Data"
   ]
  },
  {
   "cell_type": "code",
   "execution_count": 171,
   "metadata": {},
   "outputs": [
    {
     "name": "stdout",
     "output_type": "stream",
     "text": [
      "0.7746495229507913\n",
      "[0.71162002 0.71303364 0.71567242]\n"
     ]
    }
   ],
   "source": [
    "lr_clf = make_pipeline(StandardScaler(), LogisticRegression(C= 0.1, penalty= 'l1', solver= 'saga'))\n",
    "model_s=lr_clf\n",
    "model_s.fit(X_train, y_train)\n",
    "pred_prob_s = model_s.predict_proba(X_test)\n",
    "auc_score_s = roc_auc_score(y_test, pred_prob_s[:,1])\n",
    "accuracies = cross_val_score(lr_clf, X, y=y, cv=cv_object)\n",
    "print(auc_score_s)\n",
    "print(accuracies)"
   ]
  },
  {
   "cell_type": "code",
   "execution_count": 172,
   "metadata": {},
   "outputs": [
    {
     "name": "stdout",
     "output_type": "stream",
     "text": [
      "====Iteration 0  ====\n",
      "auc 0.7690335909115215\n",
      "confusion matrix\n",
      " [[3383 1356]\n",
      " [1729 4143]]\n",
      "F1 Score:  0.7286958051182834\n",
      "accuracy 0.7092639713504854\n",
      "              precision    recall  f1-score   support\n",
      "\n",
      "           0       0.66      0.71      0.69      4739\n",
      "           1       0.75      0.71      0.73      5872\n",
      "\n",
      "    accuracy                           0.71     10611\n",
      "   macro avg       0.71      0.71      0.71     10611\n",
      "weighted avg       0.71      0.71      0.71     10611\n",
      "\n",
      "====Iteration 1  ====\n",
      "auc 0.77688778379573\n",
      "confusion matrix\n",
      " [[3378 1279]\n",
      " [1809 4145]]\n",
      "F1 Score:  0.7285990507997889\n",
      "accuracy 0.7089812458769201\n",
      "              precision    recall  f1-score   support\n",
      "\n",
      "           0       0.65      0.73      0.69      4657\n",
      "           1       0.76      0.70      0.73      5954\n",
      "\n",
      "    accuracy                           0.71     10611\n",
      "   macro avg       0.71      0.71      0.71     10611\n",
      "weighted avg       0.71      0.71      0.71     10611\n",
      "\n",
      "====Iteration 2  ====\n",
      "auc 0.7733235916121437\n",
      "confusion matrix\n",
      " [[3355 1306]\n",
      " [1785 4165]]\n",
      "F1 Score:  0.7293581998073724\n",
      "accuracy 0.708698520403355\n",
      "              precision    recall  f1-score   support\n",
      "\n",
      "           0       0.65      0.72      0.68      4661\n",
      "           1       0.76      0.70      0.73      5950\n",
      "\n",
      "    accuracy                           0.71     10611\n",
      "   macro avg       0.71      0.71      0.71     10611\n",
      "weighted avg       0.71      0.71      0.71     10611\n",
      "\n"
     ]
    }
   ],
   "source": [
    "iter_num=0\n",
    "for train_indices, test_indices in cv_object.split(X,y): \n",
    "    X_train = X[train_indices]\n",
    "    y_train = y[train_indices]\n",
    "    \n",
    "    X_test = X[test_indices]\n",
    "    y_test = y[test_indices]\n",
    "    \n",
    "    lr_clf.fit(X_train,y_train)\n",
    "    y_hat = lr_clf.predict(X_test)\n",
    "    y_prob=lr_clf.predict_proba(X_test)[:,1]\n",
    "\n",
    "    #acc = mt.accuracy_score(y_test,y_hat)\n",
    "    conf = mt.confusion_matrix(y_test,y_hat)\n",
    "    auc = mt.roc_auc_score(y_test,y_prob)\n",
    "    print(\"====Iteration\",iter_num,\" ====\")\n",
    "   # print(\"accuracy\", acc )\n",
    "    print(\"auc\", auc )\n",
    "    print(\"confusion matrix\\n\",conf)\n",
    "          \n",
    "    # Show the F1 Score\n",
    "    fscore = mt.f1_score(y_test,y_hat)\n",
    "    print(\"F1 Score: \", fscore)\n",
    "    \n",
    "    # Show the Accuracy Score\n",
    "    acc = mt.accuracy_score(y_test,y_hat)\n",
    "    print(\"accuracy\", acc )\n",
    "    \n",
    "    # Show the Classification Matrix\n",
    "    print(mt.classification_report(y_test,y_hat))\n",
    "    \n",
    "    iter_num+=1"
   ]
  },
  {
   "cell_type": "code",
   "execution_count": 173,
   "metadata": {},
   "outputs": [
    {
     "data": {
      "text/plain": [
       "\"lr_clf = make_pipeline(StandardScaler(), LogisticRegression( solver= 'lbfgs'))\\naccuracies = cross_val_score(lr_clf, X, y=y, cv=cv_object)\\nprint(accuracies)\\n\""
      ]
     },
     "execution_count": 173,
     "metadata": {},
     "output_type": "execute_result"
    }
   ],
   "source": [
    "\"\"\"lr_clf = make_pipeline(StandardScaler(), LogisticRegression( solver= 'lbfgs'))\n",
    "accuracies = cross_val_score(lr_clf, X, y=y, cv=cv_object)\n",
    "print(accuracies)\n",
    "\"\"\""
   ]
  },
  {
   "cell_type": "code",
   "execution_count": 174,
   "metadata": {},
   "outputs": [
    {
     "data": {
      "text/plain": [
       "{'classifier__C': 0.1,\n",
       " 'classifier__penalty': 'l1',\n",
       " 'classifier__solver': 'saga'}"
      ]
     },
     "execution_count": 174,
     "metadata": {},
     "output_type": "execute_result"
    }
   ],
   "source": [
    "clf.best_params_"
   ]
  },
  {
   "cell_type": "code",
   "execution_count": 175,
   "metadata": {},
   "outputs": [
    {
     "data": {
      "text/plain": [
       "Pipeline(memory=None,\n",
       "         steps=[('scaler',\n",
       "                 StandardScaler(copy=True, with_mean=True, with_std=True)),\n",
       "                ('classifier',\n",
       "                 LogisticRegression(C=0.1, class_weight=None, dual=False,\n",
       "                                    fit_intercept=True, intercept_scaling=1,\n",
       "                                    l1_ratio=None, max_iter=100,\n",
       "                                    multi_class='warn', n_jobs=None,\n",
       "                                    penalty='l1', random_state=None,\n",
       "                                    solver='saga', tol=0.0001, verbose=0,\n",
       "                                    warm_start=False))],\n",
       "         verbose=False)"
      ]
     },
     "execution_count": 175,
     "metadata": {},
     "output_type": "execute_result"
    }
   ],
   "source": [
    "clf.best_estimator_"
   ]
  },
  {
   "cell_type": "code",
   "execution_count": 176,
   "metadata": {},
   "outputs": [],
   "source": [
    "model=clf.best_estimator_.fit(X,y)"
   ]
  },
  {
   "cell_type": "code",
   "execution_count": 177,
   "metadata": {},
   "outputs": [
    {
     "data": {
      "text/plain": [
       "array([[0.10076068, 0.89573363, 0.12864769, 0.28281215, 0.29727455]])"
      ]
     },
     "execution_count": 177,
     "metadata": {},
     "output_type": "execute_result"
    }
   ],
   "source": [
    "model.named_steps[\"classifier\"].coef_"
   ]
  },
  {
   "cell_type": "markdown",
   "metadata": {},
   "source": [
    "###  Option 1 Precision Recall Curve"
   ]
  },
  {
   "cell_type": "code",
   "execution_count": 178,
   "metadata": {},
   "outputs": [
    {
     "name": "stdout",
     "output_type": "stream",
     "text": [
      "Logistic: ROC AUC=0.773\n"
     ]
    },
    {
     "data": {
      "image/png": "[encoded data removed]",
      "text/plain": [
       "<Figure size 432x288 with 1 Axes>"
      ]
     },
     "metadata": {
      "needs_background": "light"
     },
     "output_type": "display_data"
    }
   ],
   "source": [
    "# roc curve and auc\n",
    "\n",
    "\n",
    "lr_clf.fit(X_train, y_train)\n",
    "\n",
    "# predict probabilities\n",
    "lr_probs = lr_clf.predict_proba(X_test)\n",
    "# keep probabilities for the positive outcome only\n",
    "lr_probs = lr_probs[:, 1]\n",
    "# calculate scores\n",
    "lr_auc = roc_auc_score(y_test, lr_probs)\n",
    "# summarize scores\\\n",
    "print('Logistic: ROC AUC=%.3f' % (lr_auc))\n",
    "# calculate roc curves\n",
    "lr_fpr, lr_tpr, _ = roc_curve(y_test, lr_probs)\n",
    "# plot the roc curve for the model\n",
    "pyplot.plot(lr_fpr, lr_tpr, marker='.', label='Logistic')\n",
    "# axis labels\n",
    "pyplot.xlabel('False Positive Rate')\n",
    "pyplot.ylabel('True Positive Rate')\n",
    "# show the legend\n",
    "pyplot.legend()\n",
    "# show the plot\n",
    "pyplot.show()"
   ]
  },
  {
   "cell_type": "markdown",
   "metadata": {},
   "source": [
    "## Option 3 model    Logistical Regression\n",
    "Option 3 is a model with all of the significant variables: bmi,  age, ap_lo, ap_hi,  cholesterol, gluc , smoke , alco , active.  It does not include ID and Gender\n"
   ]
  },
  {
   "cell_type": "code",
   "execution_count": 179,
   "metadata": {},
   "outputs": [],
   "source": [
    "y = df['cardio'].values # get the labels we want\n",
    "X = df[['bmi','age','ap_lo','ap_hi','cholesterol','gluc','smoke','alco','active']].values "
   ]
  },
  {
   "cell_type": "code",
   "execution_count": 180,
   "metadata": {},
   "outputs": [
    {
     "name": "stdout",
     "output_type": "stream",
     "text": [
      "ShuffleSplit(n_splits=3, random_state=None, test_size=0.2, train_size=None)\n"
     ]
    }
   ],
   "source": [
    "#make CV spit 80/20 object\n",
    "from sklearn.model_selection import ShuffleSplit\n",
    "num_cv_iterations = 3\n",
    "num_instances = len(y)\n",
    "cv_object = ShuffleSplit(n_splits=num_cv_iterations,\n",
    "                         test_size  = 0.2)\n",
    "                         \n",
    "print(cv_object)"
   ]
  },
  {
   "cell_type": "markdown",
   "metadata": {},
   "source": [
    "### Logistic Regression  Option 3 Non-Scaled Data"
   ]
  },
  {
   "cell_type": "code",
   "execution_count": 181,
   "metadata": {},
   "outputs": [
    {
     "name": "stderr",
     "output_type": "stream",
     "text": [
      "C:\\Users\\Ellen\\Anaconda3\\lib\\site-packages\\sklearn\\linear_model\\logistic.py:947: ConvergenceWarning: lbfgs failed to converge. Increase the number of iterations.\n",
      "  \"of iterations.\", ConvergenceWarning)\n",
      "C:\\Users\\Ellen\\Anaconda3\\lib\\site-packages\\sklearn\\linear_model\\logistic.py:947: ConvergenceWarning: lbfgs failed to converge. Increase the number of iterations.\n",
      "  \"of iterations.\", ConvergenceWarning)\n",
      "C:\\Users\\Ellen\\Anaconda3\\lib\\site-packages\\sklearn\\linear_model\\logistic.py:947: ConvergenceWarning: lbfgs failed to converge. Increase the number of iterations.\n",
      "  \"of iterations.\", ConvergenceWarning)\n",
      "C:\\Users\\Ellen\\Anaconda3\\lib\\site-packages\\sklearn\\linear_model\\logistic.py:947: ConvergenceWarning: lbfgs failed to converge. Increase the number of iterations.\n",
      "  \"of iterations.\", ConvergenceWarning)\n",
      "C:\\Users\\Ellen\\Anaconda3\\lib\\site-packages\\sklearn\\linear_model\\logistic.py:947: ConvergenceWarning: lbfgs failed to converge. Increase the number of iterations.\n",
      "  \"of iterations.\", ConvergenceWarning)\n"
     ]
    },
    {
     "data": {
      "text/plain": [
       "GridSearchCV(cv=ShuffleSplit(n_splits=3, random_state=None, test_size=0.2, train_size=None),\n",
       "             error_score='raise-deprecating',\n",
       "             estimator=LogisticRegression(C=1.0, class_weight=None, dual=False,\n",
       "                                          fit_intercept=True,\n",
       "                                          intercept_scaling=1, l1_ratio=None,\n",
       "                                          max_iter=100, multi_class='warn',\n",
       "                                          n_jobs=None, penalty='l2',\n",
       "                                          random_state=None, solver='warn',\n",
       "                                          tol=0.0001, verbose=0,\n",
       "                                          warm_start=False),\n",
       "             iid='warn', n_jobs=None,\n",
       "             param_grid=[{'C': [0.1, 1, 10, 100, 1000], 'penalty': ['l1'],\n",
       "                          'solver': ['liblinear']},\n",
       "                         {'C': [0.1, 1, 10, 100, 1000], 'penalty': ['l2'],\n",
       "                          'solver': ['lbfgs']}],\n",
       "             pre_dispatch='2*n_jobs', refit=True, return_train_score=False,\n",
       "             scoring='roc_auc', verbose=0)"
      ]
     },
     "execution_count": 181,
     "metadata": {},
     "output_type": "execute_result"
    }
   ],
   "source": [
    "from sklearn.linear_model import LogisticRegression\n",
    "#make a grid search for logistic regression\n",
    "from sklearn.model_selection import GridSearchCV\n",
    "\n",
    "param_grid = [\n",
    "  {'C': [.1, 1, 10, 100, 1000],\n",
    "   'penalty': ['l1'],\n",
    "   'solver': ['liblinear']},\n",
    "  {'C': [.1, 1, 10, 100, 1000],\n",
    "   'penalty': ['l2'], \n",
    "   'solver': ['lbfgs']},\n",
    " ]\n",
    "\n",
    "lr = LogisticRegression()\n",
    "clf = GridSearchCV(lr, param_grid, scoring=\"roc_auc\",cv=cv_object)\n",
    "clf.fit(X, y)\n",
    "\n"
   ]
  },
  {
   "cell_type": "code",
   "execution_count": 182,
   "metadata": {},
   "outputs": [
    {
     "name": "stdout",
     "output_type": "stream",
     "text": [
      "Best: 0.779121 using {'C': 0.1, 'penalty': 'l1', 'solver': 'liblinear'}\n",
      "0.779121 (0.004520) with: {'C': 0.1, 'penalty': 'l1', 'solver': 'liblinear'}\n",
      "0.778945 (0.004418) with: {'C': 1, 'penalty': 'l1', 'solver': 'liblinear'}\n",
      "0.778986 (0.004475) with: {'C': 10, 'penalty': 'l1', 'solver': 'liblinear'}\n",
      "0.779016 (0.004487) with: {'C': 100, 'penalty': 'l1', 'solver': 'liblinear'}\n",
      "0.779041 (0.004492) with: {'C': 1000, 'penalty': 'l1', 'solver': 'liblinear'}\n",
      "0.649319 (0.020851) with: {'C': 0.1, 'penalty': 'l2', 'solver': 'lbfgs'}\n",
      "0.645054 (0.017607) with: {'C': 1, 'penalty': 'l2', 'solver': 'lbfgs'}\n",
      "0.646665 (0.018683) with: {'C': 10, 'penalty': 'l2', 'solver': 'lbfgs'}\n",
      "0.653951 (0.023923) with: {'C': 100, 'penalty': 'l2', 'solver': 'lbfgs'}\n",
      "0.649693 (0.021226) with: {'C': 1000, 'penalty': 'l2', 'solver': 'lbfgs'}\n"
     ]
    }
   ],
   "source": [
    "#code adapted from https://machinelearningmastery.com/hyperparameters-for-classification-machine-learning-algorithms/\n",
    "print(\"Best: %f using %s\" % (clf.best_score_, clf.best_params_))\n",
    "means = clf.cv_results_['mean_test_score']\n",
    "stds = clf.cv_results_['std_test_score']\n",
    "params = clf.cv_results_['params']\n",
    "for mean, stdev, param in zip(means, stds, params):\n",
    "    print(\"%f (%f) with: %r\" % (mean, stdev, param))"
   ]
  },
  {
   "cell_type": "markdown",
   "metadata": {},
   "source": [
    "### Logistic Regression for Option 3"
   ]
  },
  {
   "cell_type": "code",
   "execution_count": 183,
   "metadata": {},
   "outputs": [],
   "source": [
    "from sklearn.linear_model import LogisticRegression\n",
    "from sklearn import metrics as mt\n",
    "#LogisticRegression(solver='lbfgs')\n",
    "lr_clf = LogisticRegression(penalty='l1', C=0.1, class_weight=None, solver='liblinear' ) # get object\n",
    "\n"
   ]
  },
  {
   "cell_type": "code",
   "execution_count": 184,
   "metadata": {},
   "outputs": [
    {
     "name": "stdout",
     "output_type": "stream",
     "text": [
      "ShuffleSplit(n_splits=3, random_state=None, test_size=0.2, train_size=None)\n"
     ]
    }
   ],
   "source": [
    "#make CV spit 80/20 object\n",
    "from sklearn.model_selection import ShuffleSplit\n",
    "num_cv_iterations = 3\n",
    "num_instances = len(y)\n",
    "cv_object = ShuffleSplit(n_splits=num_cv_iterations,\n",
    "                         test_size  = 0.2)\n",
    "print(cv_object)"
   ]
  },
  {
   "cell_type": "code",
   "execution_count": 185,
   "metadata": {},
   "outputs": [],
   "source": [
    "lr_clf = LogisticRegression(penalty='l1', C=0.1, class_weight=None, solver='liblinear' ) # get object\n"
   ]
  },
  {
   "cell_type": "markdown",
   "metadata": {},
   "source": [
    "### Metrics for Logistic Regression, Option 3 with Un-Scaled Data"
   ]
  },
  {
   "cell_type": "code",
   "execution_count": 186,
   "metadata": {},
   "outputs": [
    {
     "name": "stdout",
     "output_type": "stream",
     "text": [
      "====Iteration 0  ====\n",
      "auc 0.7758999868764239\n",
      "confusion matrix\n",
      " [[3436 1360]\n",
      " [1684 4131]]\n",
      "F1 Score:  0.7307624270298957\n",
      "accuracy 0.713127886155876\n",
      "              precision    recall  f1-score   support\n",
      "\n",
      "           0       0.67      0.72      0.69      4796\n",
      "           1       0.75      0.71      0.73      5815\n",
      "\n",
      "    accuracy                           0.71     10611\n",
      "   macro avg       0.71      0.71      0.71     10611\n",
      "weighted avg       0.72      0.71      0.71     10611\n",
      "\n",
      "====Iteration 1  ====\n",
      "auc 0.776767074498153\n",
      "confusion matrix\n",
      " [[3400 1288]\n",
      " [1792 4131]]\n",
      "F1 Score:  0.728442955387057\n",
      "accuracy 0.7097351804730939\n",
      "              precision    recall  f1-score   support\n",
      "\n",
      "           0       0.65      0.73      0.69      4688\n",
      "           1       0.76      0.70      0.73      5923\n",
      "\n",
      "    accuracy                           0.71     10611\n",
      "   macro avg       0.71      0.71      0.71     10611\n",
      "weighted avg       0.71      0.71      0.71     10611\n",
      "\n",
      "====Iteration 2  ====\n",
      "auc 0.7786917868276948\n",
      "confusion matrix\n",
      " [[3422 1295]\n",
      " [1710 4184]]\n",
      "F1 Score:  0.7357777191594126\n",
      "accuracy 0.7168033173122231\n",
      "              precision    recall  f1-score   support\n",
      "\n",
      "           0       0.67      0.73      0.69      4717\n",
      "           1       0.76      0.71      0.74      5894\n",
      "\n",
      "    accuracy                           0.72     10611\n",
      "   macro avg       0.72      0.72      0.72     10611\n",
      "weighted avg       0.72      0.72      0.72     10611\n",
      "\n"
     ]
    }
   ],
   "source": [
    "iter_num=0\n",
    "for train_indices, test_indices in cv_object.split(X,y): \n",
    "    X_train = X[train_indices]\n",
    "    y_train = y[train_indices]\n",
    "    \n",
    "    X_test = X[test_indices]\n",
    "    y_test = y[test_indices]\n",
    "    \n",
    "    lr_clf.fit(X_train,y_train)\n",
    "    y_hat = lr_clf.predict(X_test)\n",
    "    y_prob=lr_clf.predict_proba(X_test)[:,1]\n",
    "\n",
    "    #acc = mt.accuracy_score(y_test,y_hat)\n",
    "    conf = mt.confusion_matrix(y_test,y_hat)\n",
    "    auc = mt.roc_auc_score(y_test,y_prob)\n",
    "    print(\"====Iteration\",iter_num,\" ====\")\n",
    "   # print(\"accuracy\", acc )\n",
    "    print(\"auc\", auc )\n",
    "    print(\"confusion matrix\\n\",conf)\n",
    "              \n",
    "    # Show the F1 Score\n",
    "    fscore = mt.f1_score(y_test,y_hat)\n",
    "    print(\"F1 Score: \", fscore)\n",
    "    \n",
    "    # Show the Accuracy Score\n",
    "    acc = mt.accuracy_score(y_test,y_hat)\n",
    "    print(\"accuracy\", acc )\n",
    "    \n",
    "    # Show the Classification Matrix\n",
    "    print(mt.classification_report(y_test,y_hat))\n",
    "    \n",
    "    \n",
    "    iter_num+=1"
   ]
  },
  {
   "cell_type": "markdown",
   "metadata": {},
   "source": [
    "### Scaling"
   ]
  },
  {
   "cell_type": "markdown",
   "metadata": {},
   "source": [
    "### Option 3 Logistic Regression with Scaled Data Train/Test Split"
   ]
  },
  {
   "cell_type": "code",
   "execution_count": 187,
   "metadata": {},
   "outputs": [],
   "source": [
    "#make CV spit 80/20 object\n",
    "from sklearn.model_selection import ShuffleSplit\n",
    "num_cv_iterations = 3\n",
    "num_instances = len(y)\n",
    "cv_object = ShuffleSplit(n_splits=num_cv_iterations,\n",
    "                         test_size  = 0.2)"
   ]
  },
  {
   "cell_type": "markdown",
   "metadata": {},
   "source": [
    "#### Logistic Regression Scaled"
   ]
  },
  {
   "cell_type": "markdown",
   "metadata": {},
   "source": [
    "### Hyper Parameter Tuning for Option 3 Logisic Regression with Scaled data"
   ]
  },
  {
   "cell_type": "code",
   "execution_count": 188,
   "metadata": {},
   "outputs": [
    {
     "data": {
      "text/plain": [
       "{'mean_fit_time': array([0.15378467, 0.35075474, 0.14062182, 0.37604022, 0.14926863,\n",
       "        0.36904144, 0.17449991, 0.48803957, 0.07180802, 0.18982538,\n",
       "        0.05817827, 0.31249793, 0.19049009, 0.03956079, 0.16954613,\n",
       "        0.15458711, 0.03823113, 0.19913363, 0.1309828 , 0.03756491,\n",
       "        0.19481222, 0.16522503, 0.04720704, 0.20877496, 0.13696663]),\n",
       " 'std_fit_time': array([0.01267211, 0.01086079, 0.00776733, 0.02542494, 0.00907915,\n",
       "        0.01761652, 0.00782507, 0.10976612, 0.00939122, 0.01225074,\n",
       "        0.01158302, 0.03139405, 0.04104892, 0.00169525, 0.00861774,\n",
       "        0.04457963, 0.00124407, 0.02524843, 0.00971513, 0.00248816,\n",
       "        0.01243888, 0.01961706, 0.00124416, 0.02217211, 0.01262422]),\n",
       " 'mean_score_time': array([0.00989652, 0.00877309, 0.00864482, 0.00926248, 0.00897511,\n",
       "        0.00861557, 0.01063895, 0.00896454, 0.00465433, 0.00365702,\n",
       "        0.0039889 , 0.00465345, 0.00432126, 0.00332435, 0.00398938,\n",
       "        0.00332395, 0.00398906, 0.00398954, 0.00365694, 0.00365678,\n",
       "        0.00365686, 0.00565116, 0.00432165, 0.00365686, 0.00398954]),\n",
       " 'std_score_time': array([7.23310181e-04, 8.69540527e-04, 4.71035753e-04, 4.68394252e-04,\n",
       "        1.57348234e-06, 4.76564899e-04, 1.24483481e-03, 4.07229384e-03,\n",
       "        4.70471221e-04, 4.70134046e-04, 8.14782726e-04, 4.69853158e-04,\n",
       "        9.40324293e-04, 4.70134046e-04, 8.14490730e-04, 4.70077860e-04,\n",
       "        1.12391596e-07, 1.12391596e-07, 4.70246438e-04, 4.70134046e-04,\n",
       "        4.70021655e-04, 4.70302644e-04, 4.70302644e-04, 4.70190252e-04,\n",
       "        2.24783192e-07]),\n",
       " 'param_classifier__C': masked_array(data=[0.1, 0.1, 1, 1, 10, 10, 100, 100, 1000, 1000, 0.1, 0.1,\n",
       "                    0.1, 1, 1, 1, 10, 10, 10, 100, 100, 100, 1000, 1000,\n",
       "                    1000],\n",
       "              mask=[False, False, False, False, False, False, False, False,\n",
       "                    False, False, False, False, False, False, False, False,\n",
       "                    False, False, False, False, False, False, False, False,\n",
       "                    False],\n",
       "        fill_value='?',\n",
       "             dtype=object),\n",
       " 'param_classifier__penalty': masked_array(data=['l1', 'l1', 'l1', 'l1', 'l1', 'l1', 'l1', 'l1', 'l1',\n",
       "                    'l1', 'l2', 'l2', 'l2', 'l2', 'l2', 'l2', 'l2', 'l2',\n",
       "                    'l2', 'l2', 'l2', 'l2', 'l2', 'l2', 'l2'],\n",
       "              mask=[False, False, False, False, False, False, False, False,\n",
       "                    False, False, False, False, False, False, False, False,\n",
       "                    False, False, False, False, False, False, False, False,\n",
       "                    False],\n",
       "        fill_value='?',\n",
       "             dtype=object),\n",
       " 'param_classifier__solver': masked_array(data=['liblinear', 'saga', 'liblinear', 'saga', 'liblinear',\n",
       "                    'saga', 'liblinear', 'saga', 'liblinear', 'saga',\n",
       "                    'lbfgs', 'sag', 'saga', 'lbfgs', 'sag', 'saga',\n",
       "                    'lbfgs', 'sag', 'saga', 'lbfgs', 'sag', 'saga',\n",
       "                    'lbfgs', 'sag', 'saga'],\n",
       "              mask=[False, False, False, False, False, False, False, False,\n",
       "                    False, False, False, False, False, False, False, False,\n",
       "                    False, False, False, False, False, False, False, False,\n",
       "                    False],\n",
       "        fill_value='?',\n",
       "             dtype=object),\n",
       " 'params': [{'classifier__C': 0.1,\n",
       "   'classifier__penalty': 'l1',\n",
       "   'classifier__solver': 'liblinear'},\n",
       "  {'classifier__C': 0.1,\n",
       "   'classifier__penalty': 'l1',\n",
       "   'classifier__solver': 'saga'},\n",
       "  {'classifier__C': 1,\n",
       "   'classifier__penalty': 'l1',\n",
       "   'classifier__solver': 'liblinear'},\n",
       "  {'classifier__C': 1,\n",
       "   'classifier__penalty': 'l1',\n",
       "   'classifier__solver': 'saga'},\n",
       "  {'classifier__C': 10,\n",
       "   'classifier__penalty': 'l1',\n",
       "   'classifier__solver': 'liblinear'},\n",
       "  {'classifier__C': 10,\n",
       "   'classifier__penalty': 'l1',\n",
       "   'classifier__solver': 'saga'},\n",
       "  {'classifier__C': 100,\n",
       "   'classifier__penalty': 'l1',\n",
       "   'classifier__solver': 'liblinear'},\n",
       "  {'classifier__C': 100,\n",
       "   'classifier__penalty': 'l1',\n",
       "   'classifier__solver': 'saga'},\n",
       "  {'classifier__C': 1000,\n",
       "   'classifier__penalty': 'l1',\n",
       "   'classifier__solver': 'liblinear'},\n",
       "  {'classifier__C': 1000,\n",
       "   'classifier__penalty': 'l1',\n",
       "   'classifier__solver': 'saga'},\n",
       "  {'classifier__C': 0.1,\n",
       "   'classifier__penalty': 'l2',\n",
       "   'classifier__solver': 'lbfgs'},\n",
       "  {'classifier__C': 0.1,\n",
       "   'classifier__penalty': 'l2',\n",
       "   'classifier__solver': 'sag'},\n",
       "  {'classifier__C': 0.1,\n",
       "   'classifier__penalty': 'l2',\n",
       "   'classifier__solver': 'saga'},\n",
       "  {'classifier__C': 1,\n",
       "   'classifier__penalty': 'l2',\n",
       "   'classifier__solver': 'lbfgs'},\n",
       "  {'classifier__C': 1,\n",
       "   'classifier__penalty': 'l2',\n",
       "   'classifier__solver': 'sag'},\n",
       "  {'classifier__C': 1,\n",
       "   'classifier__penalty': 'l2',\n",
       "   'classifier__solver': 'saga'},\n",
       "  {'classifier__C': 10,\n",
       "   'classifier__penalty': 'l2',\n",
       "   'classifier__solver': 'lbfgs'},\n",
       "  {'classifier__C': 10,\n",
       "   'classifier__penalty': 'l2',\n",
       "   'classifier__solver': 'sag'},\n",
       "  {'classifier__C': 10,\n",
       "   'classifier__penalty': 'l2',\n",
       "   'classifier__solver': 'saga'},\n",
       "  {'classifier__C': 100,\n",
       "   'classifier__penalty': 'l2',\n",
       "   'classifier__solver': 'lbfgs'},\n",
       "  {'classifier__C': 100,\n",
       "   'classifier__penalty': 'l2',\n",
       "   'classifier__solver': 'sag'},\n",
       "  {'classifier__C': 100,\n",
       "   'classifier__penalty': 'l2',\n",
       "   'classifier__solver': 'saga'},\n",
       "  {'classifier__C': 1000,\n",
       "   'classifier__penalty': 'l2',\n",
       "   'classifier__solver': 'lbfgs'},\n",
       "  {'classifier__C': 1000,\n",
       "   'classifier__penalty': 'l2',\n",
       "   'classifier__solver': 'sag'},\n",
       "  {'classifier__C': 1000,\n",
       "   'classifier__penalty': 'l2',\n",
       "   'classifier__solver': 'saga'}],\n",
       " 'split0_test_score': array([0.78027172, 0.78027346, 0.7802587 , 0.7802587 , 0.78025607,\n",
       "        0.78025654, 0.78025549, 0.78025629, 0.78025488, 0.78025621,\n",
       "        0.78025174, 0.78025135, 0.78025189, 0.78025589, 0.78025513,\n",
       "        0.78025596, 0.78025668, 0.78025596, 0.78025589, 0.78025629,\n",
       "        0.78025607, 0.78025567, 0.78025621, 0.78025452, 0.78025575]),\n",
       " 'split1_test_score': array([0.77879108, 0.77879571, 0.77878656, 0.77878516, 0.77878433,\n",
       "        0.77878361, 0.77878397, 0.77878408, 0.7787849 , 0.77878526,\n",
       "        0.77879496, 0.77879263, 0.77879413, 0.7787862 , 0.77878656,\n",
       "        0.77878537, 0.77878483, 0.77878519, 0.77878577, 0.7787849 ,\n",
       "        0.77878393, 0.77878386, 0.77878505, 0.77878623, 0.77878494]),\n",
       " 'split2_test_score': array([0.77891096, 0.77891421, 0.77889438, 0.77889326, 0.77889121,\n",
       "        0.77889308, 0.77889251, 0.77889229, 0.77889113, 0.77889243,\n",
       "        0.77888359, 0.7788842 , 0.77888283, 0.77889233, 0.7788915 ,\n",
       "        0.77889164, 0.77889113, 0.77889229, 0.77889218, 0.77889157,\n",
       "        0.7788929 , 0.77889428, 0.77889157, 0.77888991, 0.77889308]),\n",
       " 'mean_test_score': array([0.77932459, 0.77932779, 0.77931321, 0.77931237, 0.77931054,\n",
       "        0.77931108, 0.77931066, 0.77931089, 0.77931031, 0.7793113 ,\n",
       "        0.7793101 , 0.77930939, 0.77930962, 0.77931147, 0.77931106,\n",
       "        0.77931099, 0.77931088, 0.77931115, 0.77931128, 0.77931092,\n",
       "        0.77931097, 0.77931127, 0.77931094, 0.77931022, 0.77931126]),\n",
       " 'std_test_score': array([0.00067151, 0.00067043, 0.00067001, 0.00067061, 0.00067002,\n",
       "        0.00067003, 0.00066957, 0.00066996, 0.00066932, 0.00066958,\n",
       "        0.00066683, 0.00066711, 0.00066727, 0.00066921, 0.00066893,\n",
       "        0.0006696 , 0.00067019, 0.00066951, 0.00066935, 0.00066989,\n",
       "        0.00066977, 0.00066931, 0.00066982, 0.00066906, 0.00066931]),\n",
       " 'rank_test_score': array([ 2,  1,  3,  4, 20, 11, 19, 17, 21,  6, 23, 25, 24,  5, 12, 13, 18,\n",
       "        10,  7, 16, 14,  8, 15, 22,  9])}"
      ]
     },
     "execution_count": 188,
     "metadata": {},
     "output_type": "execute_result"
    }
   ],
   "source": [
    "#make a grid search for logistic regression\n",
    "from sklearn.model_selection import GridSearchCV\n",
    "\n",
    "param_grid = [\n",
    "  {'classifier__C': [.1, 1, 10, 100, 1000],\n",
    "   'classifier__penalty': ['l1'],\n",
    "   'classifier__solver': ['liblinear', 'saga']},\n",
    "  {'classifier__C': [.1, 1, 10, 100, 1000],\n",
    "   'classifier__penalty': ['l2'], \n",
    "   'classifier__solver': ['lbfgs', 'sag', 'saga']},\n",
    " ]\n",
    "\n",
    "lr = Pipeline([\n",
    "    ('scaler', StandardScaler()),\n",
    "    ('classifier', LogisticRegression(solver='lbfgs'))])\n",
    "clf = GridSearchCV(lr, param_grid, scoring=\"roc_auc\", cv=cv_object)\n",
    "clf.fit(X, y)\n",
    "\n",
    "\n",
    "clf.cv_results_"
   ]
  },
  {
   "cell_type": "code",
   "execution_count": 189,
   "metadata": {},
   "outputs": [
    {
     "name": "stdout",
     "output_type": "stream",
     "text": [
      "Best: 0.779328 using {'classifier__C': 0.1, 'classifier__penalty': 'l1', 'classifier__solver': 'saga'}\n",
      "0.779325 (0.000672) with: {'classifier__C': 0.1, 'classifier__penalty': 'l1', 'classifier__solver': 'liblinear'}\n",
      "0.779328 (0.000670) with: {'classifier__C': 0.1, 'classifier__penalty': 'l1', 'classifier__solver': 'saga'}\n",
      "0.779313 (0.000670) with: {'classifier__C': 1, 'classifier__penalty': 'l1', 'classifier__solver': 'liblinear'}\n",
      "0.779312 (0.000671) with: {'classifier__C': 1, 'classifier__penalty': 'l1', 'classifier__solver': 'saga'}\n",
      "0.779311 (0.000670) with: {'classifier__C': 10, 'classifier__penalty': 'l1', 'classifier__solver': 'liblinear'}\n",
      "0.779311 (0.000670) with: {'classifier__C': 10, 'classifier__penalty': 'l1', 'classifier__solver': 'saga'}\n",
      "0.779311 (0.000670) with: {'classifier__C': 100, 'classifier__penalty': 'l1', 'classifier__solver': 'liblinear'}\n",
      "0.779311 (0.000670) with: {'classifier__C': 100, 'classifier__penalty': 'l1', 'classifier__solver': 'saga'}\n",
      "0.779310 (0.000669) with: {'classifier__C': 1000, 'classifier__penalty': 'l1', 'classifier__solver': 'liblinear'}\n",
      "0.779311 (0.000670) with: {'classifier__C': 1000, 'classifier__penalty': 'l1', 'classifier__solver': 'saga'}\n",
      "0.779310 (0.000667) with: {'classifier__C': 0.1, 'classifier__penalty': 'l2', 'classifier__solver': 'lbfgs'}\n",
      "0.779309 (0.000667) with: {'classifier__C': 0.1, 'classifier__penalty': 'l2', 'classifier__solver': 'sag'}\n",
      "0.779310 (0.000667) with: {'classifier__C': 0.1, 'classifier__penalty': 'l2', 'classifier__solver': 'saga'}\n",
      "0.779311 (0.000669) with: {'classifier__C': 1, 'classifier__penalty': 'l2', 'classifier__solver': 'lbfgs'}\n",
      "0.779311 (0.000669) with: {'classifier__C': 1, 'classifier__penalty': 'l2', 'classifier__solver': 'sag'}\n",
      "0.779311 (0.000670) with: {'classifier__C': 1, 'classifier__penalty': 'l2', 'classifier__solver': 'saga'}\n",
      "0.779311 (0.000670) with: {'classifier__C': 10, 'classifier__penalty': 'l2', 'classifier__solver': 'lbfgs'}\n",
      "0.779311 (0.000670) with: {'classifier__C': 10, 'classifier__penalty': 'l2', 'classifier__solver': 'sag'}\n",
      "0.779311 (0.000669) with: {'classifier__C': 10, 'classifier__penalty': 'l2', 'classifier__solver': 'saga'}\n",
      "0.779311 (0.000670) with: {'classifier__C': 100, 'classifier__penalty': 'l2', 'classifier__solver': 'lbfgs'}\n",
      "0.779311 (0.000670) with: {'classifier__C': 100, 'classifier__penalty': 'l2', 'classifier__solver': 'sag'}\n",
      "0.779311 (0.000669) with: {'classifier__C': 100, 'classifier__penalty': 'l2', 'classifier__solver': 'saga'}\n",
      "0.779311 (0.000670) with: {'classifier__C': 1000, 'classifier__penalty': 'l2', 'classifier__solver': 'lbfgs'}\n",
      "0.779310 (0.000669) with: {'classifier__C': 1000, 'classifier__penalty': 'l2', 'classifier__solver': 'sag'}\n",
      "0.779311 (0.000669) with: {'classifier__C': 1000, 'classifier__penalty': 'l2', 'classifier__solver': 'saga'}\n"
     ]
    }
   ],
   "source": [
    "#code adapted from https://machinelearningmastery.com/hyperparameters-for-classification-machine-learning-algorithms/\n",
    "print(\"Best: %f using %s\" % (clf.best_score_, clf.best_params_))\n",
    "means = clf.cv_results_['mean_test_score']\n",
    "stds = clf.cv_results_['std_test_score']\n",
    "params = clf.cv_results_['params']\n",
    "for mean, stdev, param in zip(means, stds, params):\n",
    "    print(\"%f (%f) with: %r\" % (mean, stdev, param))"
   ]
  },
  {
   "cell_type": "markdown",
   "metadata": {},
   "source": [
    "### Metrics for Option 3 Logistic Regression with Scaled Data"
   ]
  },
  {
   "cell_type": "code",
   "execution_count": 190,
   "metadata": {},
   "outputs": [
    {
     "name": "stdout",
     "output_type": "stream",
     "text": [
      "0.7787641197585872\n",
      "[0.71246819 0.7169918  0.7118085 ]\n"
     ]
    }
   ],
   "source": [
    "\n",
    "lr_clf = make_pipeline(StandardScaler(), LogisticRegression(C= 0.1, penalty= 'l1', solver= 'saga'))\n",
    "model_s=lr_clf\n",
    "model_s.fit(X_train, y_train)\n",
    "pred_prob_s = model_s.predict_proba(X_test)\n",
    "auc_score_s = roc_auc_score(y_test, pred_prob_s[:,1])\n",
    "accuracies = cross_val_score(lr_clf, X, y=y, cv=cv_object)\n",
    "print(auc_score_s)\n",
    "print(accuracies)"
   ]
  },
  {
   "cell_type": "code",
   "execution_count": 191,
   "metadata": {},
   "outputs": [
    {
     "name": "stdout",
     "output_type": "stream",
     "text": [
      "====Iteration 0  ====\n",
      "auc 0.7838113827072256\n",
      "confusion matrix\n",
      " [[3335 1299]\n",
      " [1685 4292]]\n",
      "F1 Score:  0.7420470262793913\n",
      "accuracy 0.7187823956271794\n",
      "              precision    recall  f1-score   support\n",
      "\n",
      "           0       0.66      0.72      0.69      4634\n",
      "           1       0.77      0.72      0.74      5977\n",
      "\n",
      "    accuracy                           0.72     10611\n",
      "   macro avg       0.72      0.72      0.72     10611\n",
      "weighted avg       0.72      0.72      0.72     10611\n",
      "\n",
      "====Iteration 1  ====\n",
      "auc 0.7813350766675947\n",
      "confusion matrix\n",
      " [[3341 1306]\n",
      " [1725 4239]]\n",
      "F1 Score:  0.7366408897384656\n",
      "accuracy 0.7143530298746583\n",
      "              precision    recall  f1-score   support\n",
      "\n",
      "           0       0.66      0.72      0.69      4647\n",
      "           1       0.76      0.71      0.74      5964\n",
      "\n",
      "    accuracy                           0.71     10611\n",
      "   macro avg       0.71      0.71      0.71     10611\n",
      "weighted avg       0.72      0.71      0.72     10611\n",
      "\n",
      "====Iteration 2  ====\n",
      "auc 0.7829109857206507\n",
      "confusion matrix\n",
      " [[3404 1315]\n",
      " [1694 4198]]\n",
      "F1 Score:  0.7361683472161333\n",
      "accuracy 0.7164263500141362\n",
      "              precision    recall  f1-score   support\n",
      "\n",
      "           0       0.67      0.72      0.69      4719\n",
      "           1       0.76      0.71      0.74      5892\n",
      "\n",
      "    accuracy                           0.72     10611\n",
      "   macro avg       0.71      0.72      0.71     10611\n",
      "weighted avg       0.72      0.72      0.72     10611\n",
      "\n"
     ]
    }
   ],
   "source": [
    "iter_num=0\n",
    "for train_indices, test_indices in cv_object.split(X,y): \n",
    "    X_train = X[train_indices]\n",
    "    y_train = y[train_indices]\n",
    "    \n",
    "    X_test = X[test_indices]\n",
    "    y_test = y[test_indices]\n",
    "    \n",
    "    lr_clf.fit(X_train,y_train)\n",
    "    y_hat = lr_clf.predict(X_test)\n",
    "    y_prob=lr_clf.predict_proba(X_test)[:,1]\n",
    "\n",
    "    #acc = mt.accuracy_score(y_test,y_hat)\n",
    "    conf = mt.confusion_matrix(y_test,y_hat)\n",
    "    auc = mt.roc_auc_score(y_test,y_prob)\n",
    "    print(\"====Iteration\",iter_num,\" ====\")\n",
    "   # print(\"accuracy\", acc )\n",
    "    print(\"auc\", auc )\n",
    "    print(\"confusion matrix\\n\",conf)\n",
    "              \n",
    "    # Show the F1 Score\n",
    "    fscore = mt.f1_score(y_test,y_hat)\n",
    "    print(\"F1 Score: \", fscore)\n",
    "    \n",
    "    # Show the Accuracy Score\n",
    "    acc = mt.accuracy_score(y_test,y_hat)\n",
    "    print(\"accuracy\", acc )\n",
    "    \n",
    "    # Show the Classification Matrix\n",
    "    print(mt.classification_report(y_test,y_hat))\n",
    "        \n",
    "    iter_num+=1"
   ]
  },
  {
   "cell_type": "code",
   "execution_count": 192,
   "metadata": {},
   "outputs": [
    {
     "data": {
      "text/plain": [
       "\"lr_clf = make_pipeline(StandardScaler(), LogisticRegression( solver= 'lbfgs'))\\naccuracies = cross_val_score(lr_clf, X, y=y, cv=cv_object)\\nprint(accuracies)\\n\""
      ]
     },
     "execution_count": 192,
     "metadata": {},
     "output_type": "execute_result"
    }
   ],
   "source": [
    "\"\"\"lr_clf = make_pipeline(StandardScaler(), LogisticRegression( solver= 'lbfgs'))\n",
    "accuracies = cross_val_score(lr_clf, X, y=y, cv=cv_object)\n",
    "print(accuracies)\n",
    "\"\"\""
   ]
  },
  {
   "cell_type": "code",
   "execution_count": 193,
   "metadata": {},
   "outputs": [
    {
     "data": {
      "text/plain": [
       "{'classifier__C': 0.1,\n",
       " 'classifier__penalty': 'l1',\n",
       " 'classifier__solver': 'saga'}"
      ]
     },
     "execution_count": 193,
     "metadata": {},
     "output_type": "execute_result"
    }
   ],
   "source": [
    "clf.best_params_"
   ]
  },
  {
   "cell_type": "code",
   "execution_count": 194,
   "metadata": {},
   "outputs": [
    {
     "data": {
      "text/plain": [
       "Pipeline(memory=None,\n",
       "         steps=[('scaler',\n",
       "                 StandardScaler(copy=True, with_mean=True, with_std=True)),\n",
       "                ('classifier',\n",
       "                 LogisticRegression(C=0.1, class_weight=None, dual=False,\n",
       "                                    fit_intercept=True, intercept_scaling=1,\n",
       "                                    l1_ratio=None, max_iter=100,\n",
       "                                    multi_class='warn', n_jobs=None,\n",
       "                                    penalty='l1', random_state=None,\n",
       "                                    solver='saga', tol=0.0001, verbose=0,\n",
       "                                    warm_start=False))],\n",
       "         verbose=False)"
      ]
     },
     "execution_count": 194,
     "metadata": {},
     "output_type": "execute_result"
    }
   ],
   "source": [
    "clf.best_estimator_"
   ]
  },
  {
   "cell_type": "code",
   "execution_count": 195,
   "metadata": {},
   "outputs": [],
   "source": [
    "model=clf.best_estimator_.fit(X,y)"
   ]
  },
  {
   "cell_type": "code",
   "execution_count": 196,
   "metadata": {},
   "outputs": [
    {
     "data": {
      "text/plain": [
       "array([[ 0.10182777,  0.29565839,  0.12966173,  0.90210451,  0.32370609,\n",
       "        -0.0784771 , -0.03661095, -0.0482275 , -0.09433717]])"
      ]
     },
     "execution_count": 196,
     "metadata": {},
     "output_type": "execute_result"
    }
   ],
   "source": [
    "model.named_steps[\"classifier\"].coef_"
   ]
  },
  {
   "cell_type": "markdown",
   "metadata": {},
   "source": [
    "### Option 3, Logistic Regression.  Precision Recall Curve"
   ]
  },
  {
   "cell_type": "code",
   "execution_count": 197,
   "metadata": {
    "scrolled": true
   },
   "outputs": [
    {
     "name": "stdout",
     "output_type": "stream",
     "text": [
      "Logistic: ROC AUC=0.783\n"
     ]
    },
    {
     "data": {
      "image/png": "[encoded data removed]",
      "text/plain": [
       "<Figure size 432x288 with 1 Axes>"
      ]
     },
     "metadata": {
      "needs_background": "light"
     },
     "output_type": "display_data"
    }
   ],
   "source": [
    "# roc curve and auc\n",
    "\n",
    "\n",
    "lr_clf.fit(X_train, y_train)\n",
    "\n",
    "# predict probabilities\n",
    "lr_probs = lr_clf.predict_proba(X_test)\n",
    "# keep probabilities for the positive outcome only\n",
    "lr_probs = lr_probs[:, 1]\n",
    "# calculate scores\n",
    "lr_auc = roc_auc_score(y_test, lr_probs)\n",
    "# summarize scores\\\n",
    "print('Logistic: ROC AUC=%.3f' % (lr_auc))\n",
    "# calculate roc curves\n",
    "lr_fpr, lr_tpr, _ = roc_curve(y_test, lr_probs)\n",
    "# plot the roc curve for the model\n",
    "pyplot.plot(lr_fpr, lr_tpr, marker='.', label='Logistic')\n",
    "# axis labels\n",
    "pyplot.xlabel('False Positive Rate')\n",
    "pyplot.ylabel('True Positive Rate')\n",
    "# show the legend\n",
    "pyplot.legend()\n",
    "# show the plot\n",
    "pyplot.show()"
   ]
  },
  {
   "cell_type": "markdown",
   "metadata": {},
   "source": [
    "# SVM Analysis\n",
    "\n",
    "Using the same Variable combination options, we ran them through SVM models.   Below is a description of our most accurate models based on AUC score"
   ]
  },
  {
   "cell_type": "code",
   "execution_count": 198,
   "metadata": {},
   "outputs": [],
   "source": [
    "if 'cardio' in df:\n",
    "    y = df['cardio'].values\n",
    "    X = df[['bmi','age','gender','height','weight','ap_hi','ap_lo','cholesterol','gluc','smoke','alco','active','bp']]"
   ]
  },
  {
   "cell_type": "markdown",
   "metadata": {},
   "source": [
    "### SVM train/test split"
   ]
  },
  {
   "cell_type": "code",
   "execution_count": 199,
   "metadata": {},
   "outputs": [],
   "source": [
    "#make CV spit 80/20 object\n",
    "\n",
    "num_cv_iterations = 3\n",
    "num_instances = len(y)\n",
    "cv_object = ShuffleSplit(n_splits=num_cv_iterations,\n",
    "                         test_size  = 0.2)"
   ]
  },
  {
   "cell_type": "markdown",
   "metadata": {},
   "source": [
    "## SVM Baseline model (ap_hi only)"
   ]
  },
  {
   "cell_type": "markdown",
   "metadata": {},
   "source": [
    "### Not Scaled"
   ]
  },
  {
   "cell_type": "code",
   "execution_count": 200,
   "metadata": {},
   "outputs": [
    {
     "name": "stdout",
     "output_type": "stream",
     "text": [
      "[0.73491083 0.73087477 0.72754475]\n"
     ]
    }
   ],
   "source": [
    "X = df[['ap_hi']]\n",
    "\n",
    "svm_clf = SGDClassifier(max_iter=1000, tol=1e-3)\n",
    "\n",
    "aucs = cross_val_score(svm_clf, X, y=y, cv=cv_object, scoring = 'roc_auc')\n",
    "print(aucs)"
   ]
  },
  {
   "cell_type": "markdown",
   "metadata": {},
   "source": [
    "### Scaled"
   ]
  },
  {
   "cell_type": "code",
   "execution_count": 201,
   "metadata": {},
   "outputs": [
    {
     "name": "stdout",
     "output_type": "stream",
     "text": [
      "[0.73201981 0.73352201 0.73675555]\n"
     ]
    }
   ],
   "source": [
    "X = df[['ap_hi']]\n",
    "\n",
    "svm_clf = Pipeline(steps=[\n",
    "    ('scaler', StandardScaler()),\n",
    "    ('svm', SGDClassifier(max_iter=1000, tol=1e-3))])\n",
    "\n",
    "aucs = cross_val_score(svm_clf, X, y=y, cv=cv_object, scoring = 'roc_auc')\n",
    "print(aucs)"
   ]
  },
  {
   "cell_type": "markdown",
   "metadata": {},
   "source": [
    "## SVM using Option 1:  BMI, age, ap_hi, ap_lo, cholesterol\n",
    "\n",
    "These are the variables which are most correlated to the response varaible.  It is Option 1 in our analysis chart"
   ]
  },
  {
   "cell_type": "markdown",
   "metadata": {},
   "source": [
    "### Not Scaled Data - Option 1 SVM"
   ]
  },
  {
   "cell_type": "code",
   "execution_count": 202,
   "metadata": {},
   "outputs": [
    {
     "name": "stdout",
     "output_type": "stream",
     "text": [
      "[0.56823651 0.56419139 0.56306412]\n"
     ]
    }
   ],
   "source": [
    "X = df[['ap_hi', 'ap_lo', 'bmi', 'age', 'cholesterol']]\n",
    "\n",
    "svm_clf = SGDClassifier(max_iter=1000, tol=1e-3)\n",
    "\n",
    "aucs = cross_val_score(svm_clf, X, y=y, cv=cv_object, scoring = 'roc_auc')\n",
    "print(aucs)"
   ]
  },
  {
   "cell_type": "markdown",
   "metadata": {},
   "source": [
    "### Scaled Data - Option 1 SVM"
   ]
  },
  {
   "cell_type": "code",
   "execution_count": 203,
   "metadata": {},
   "outputs": [
    {
     "name": "stdout",
     "output_type": "stream",
     "text": [
      "[0.78082069 0.76251177 0.76164332]\n"
     ]
    }
   ],
   "source": [
    "X = df[['ap_hi', 'ap_lo', 'bmi', 'age', 'cholesterol']]\n",
    "\n",
    "svm_clf = Pipeline(steps=[\n",
    "    ('scaler', StandardScaler()),\n",
    "    ('svm', SGDClassifier(max_iter=1000, tol=1e-3))])\n",
    "\n",
    "aucs = cross_val_score(svm_clf, X, y=y, cv=cv_object, scoring = 'roc_auc')\n",
    "print(aucs)"
   ]
  },
  {
   "cell_type": "markdown",
   "metadata": {},
   "source": [
    "### Hyperparameter Tuning - Option 1 SVP"
   ]
  },
  {
   "cell_type": "code",
   "execution_count": 204,
   "metadata": {},
   "outputs": [],
   "source": [
    "from sklearn.model_selection import GridSearchCV"
   ]
  },
  {
   "cell_type": "markdown",
   "metadata": {},
   "source": [
    "### SVM"
   ]
  },
  {
   "cell_type": "code",
   "execution_count": 205,
   "metadata": {},
   "outputs": [
    {
     "name": "stderr",
     "output_type": "stream",
     "text": [
      "C:\\Users\\Ellen\\Anaconda3\\lib\\site-packages\\sklearn\\model_selection\\_split.py:1978: FutureWarning: The default value of cv will change from 3 to 5 in version 0.22. Specify it explicitly to silence this warning.\n",
      "  warnings.warn(CV_WARNING, FutureWarning)\n"
     ]
    },
    {
     "data": {
      "text/plain": [
       "GridSearchCV(cv='warn', error_score='raise-deprecating',\n",
       "             estimator=Pipeline(memory=None,\n",
       "                                steps=[('scaler',\n",
       "                                        StandardScaler(copy=True,\n",
       "                                                       with_mean=True,\n",
       "                                                       with_std=True)),\n",
       "                                       ('classifier',\n",
       "                                        SGDClassifier(alpha=0.0001,\n",
       "                                                      average=False,\n",
       "                                                      class_weight=None,\n",
       "                                                      early_stopping=False,\n",
       "                                                      epsilon=0.1, eta0=0.0,\n",
       "                                                      fit_intercept=True,\n",
       "                                                      l1_ratio=0.15,\n",
       "                                                      learning_rate='optimal',\n",
       "                                                      loss='hinge',\n",
       "                                                      max_it...\n",
       "                                                      shuffle=True, tol=0.001,\n",
       "                                                      validation_fraction=0.1,\n",
       "                                                      verbose=0,\n",
       "                                                      warm_start=False))],\n",
       "                                verbose=False),\n",
       "             iid='warn', n_jobs=None,\n",
       "             param_grid=[{'classifier__alpha': [0.001, 0.01, 0.05, 0.1, 0.5, 1],\n",
       "                          'classifier__loss': ['modified_huber'],\n",
       "                          'classifier__penalty': ['l1', 'l2', 'elasticnet']}],\n",
       "             pre_dispatch='2*n_jobs', refit=True, return_train_score=False,\n",
       "             scoring='roc_auc', verbose=0)"
      ]
     },
     "execution_count": 205,
     "metadata": {},
     "output_type": "execute_result"
    }
   ],
   "source": [
    "X = df[['ap_hi', 'ap_lo', 'bmi', 'age', 'cholesterol']]\n",
    "\n",
    "param_grid = [\n",
    "  {'classifier__loss': ['modified_huber'],\n",
    "   'classifier__penalty': ['l1', 'l2', 'elasticnet'],\n",
    "   'classifier__alpha': [.001, .01, .05, .1, .5, 1]}\n",
    " ]\n",
    "\n",
    "svm = Pipeline([\n",
    "    ('scaler', StandardScaler()),\n",
    "    ('classifier', SGDClassifier())])\n",
    "\n",
    "clf = GridSearchCV(svm, param_grid, scoring=\"roc_auc\")\n",
    "clf.fit(X, y)"
   ]
  },
  {
   "cell_type": "code",
   "execution_count": 206,
   "metadata": {},
   "outputs": [
    {
     "data": {
      "text/plain": [
       "{'classifier__alpha': 0.05,\n",
       " 'classifier__loss': 'modified_huber',\n",
       " 'classifier__penalty': 'l1'}"
      ]
     },
     "execution_count": 206,
     "metadata": {},
     "output_type": "execute_result"
    }
   ],
   "source": [
    "clf.best_params_"
   ]
  },
  {
   "cell_type": "markdown",
   "metadata": {},
   "source": [
    "### Metrics for Option 1, SVM"
   ]
  },
  {
   "cell_type": "code",
   "execution_count": 207,
   "metadata": {},
   "outputs": [
    {
     "name": "stdout",
     "output_type": "stream",
     "text": [
      "Best auc: 0.775934 using {'classifier__alpha': 0.05, 'classifier__loss': 'modified_huber', 'classifier__penalty': 'l1'}\n",
      "0.772539 (0.000883) with: {'classifier__alpha': 0.001, 'classifier__loss': 'modified_huber', 'classifier__penalty': 'l1'}\n",
      "0.771655 (0.000197) with: {'classifier__alpha': 0.001, 'classifier__loss': 'modified_huber', 'classifier__penalty': 'l2'}\n",
      "0.775095 (0.000706) with: {'classifier__alpha': 0.001, 'classifier__loss': 'modified_huber', 'classifier__penalty': 'elasticnet'}\n",
      "0.775184 (0.001107) with: {'classifier__alpha': 0.01, 'classifier__loss': 'modified_huber', 'classifier__penalty': 'l1'}\n",
      "0.774987 (0.001417) with: {'classifier__alpha': 0.01, 'classifier__loss': 'modified_huber', 'classifier__penalty': 'l2'}\n",
      "0.774718 (0.001084) with: {'classifier__alpha': 0.01, 'classifier__loss': 'modified_huber', 'classifier__penalty': 'elasticnet'}\n",
      "0.775934 (0.000694) with: {'classifier__alpha': 0.05, 'classifier__loss': 'modified_huber', 'classifier__penalty': 'l1'}\n",
      "0.775432 (0.001443) with: {'classifier__alpha': 0.05, 'classifier__loss': 'modified_huber', 'classifier__penalty': 'l2'}\n",
      "0.775666 (0.001152) with: {'classifier__alpha': 0.05, 'classifier__loss': 'modified_huber', 'classifier__penalty': 'elasticnet'}\n",
      "0.775673 (0.001603) with: {'classifier__alpha': 0.1, 'classifier__loss': 'modified_huber', 'classifier__penalty': 'l1'}\n",
      "0.775255 (0.001541) with: {'classifier__alpha': 0.1, 'classifier__loss': 'modified_huber', 'classifier__penalty': 'l2'}\n",
      "0.775766 (0.001369) with: {'classifier__alpha': 0.1, 'classifier__loss': 'modified_huber', 'classifier__penalty': 'elasticnet'}\n",
      "0.733432 (0.001926) with: {'classifier__alpha': 0.5, 'classifier__loss': 'modified_huber', 'classifier__penalty': 'l1'}\n",
      "0.773787 (0.001603) with: {'classifier__alpha': 0.5, 'classifier__loss': 'modified_huber', 'classifier__penalty': 'l2'}\n",
      "0.775565 (0.001482) with: {'classifier__alpha': 0.5, 'classifier__loss': 'modified_huber', 'classifier__penalty': 'elasticnet'}\n",
      "0.500000 (0.000000) with: {'classifier__alpha': 1, 'classifier__loss': 'modified_huber', 'classifier__penalty': 'l1'}\n",
      "0.772546 (0.001765) with: {'classifier__alpha': 1, 'classifier__loss': 'modified_huber', 'classifier__penalty': 'l2'}\n",
      "0.774941 (0.001680) with: {'classifier__alpha': 1, 'classifier__loss': 'modified_huber', 'classifier__penalty': 'elasticnet'}\n"
     ]
    }
   ],
   "source": [
    "#code adapted from https://machinelearningmastery.com/hyperparameters-for-classification-machine-learning-algorithms/\n",
    "print(\"Best auc: %f using %s\" % (clf.best_score_, clf.best_params_))\n",
    "means = clf.cv_results_['mean_test_score']\n",
    "stds = clf.cv_results_['std_test_score']\n",
    "params = clf.cv_results_['params']\n",
    "for mean, stdev, param in zip(means, stds, params):\n",
    "    print(\"%f (%f) with: %r\" % (mean, stdev, param))\n",
    "    \n",
    "    \n"
   ]
  },
  {
   "cell_type": "markdown",
   "metadata": {},
   "source": [
    "## Probability Calibration - SVM Option 1"
   ]
  },
  {
   "cell_type": "code",
   "execution_count": 208,
   "metadata": {},
   "outputs": [
    {
     "name": "stdout",
     "output_type": "stream",
     "text": [
      "[0.77672369 0.77569684 0.76936648]\n"
     ]
    }
   ],
   "source": [
    "#https://machinelearningmastery.com/calibrated-classification-model-in-scikit-learn/\n",
    "from sklearn.calibration import CalibratedClassifierCV\n",
    "\n",
    "model = clf.best_estimator_ #this was alpha=.1, loss='modified_huber', penalty='elasticnet'\n",
    "calibrator = CalibratedClassifierCV(model, cv=3)\n",
    "\n",
    "aucs = cross_val_score(calibrator, X, y=y, cv=cv_object, scoring = 'roc_auc')\n",
    "print(aucs)"
   ]
  },
  {
   "cell_type": "markdown",
   "metadata": {},
   "source": [
    "## ROC  SVM Option 1"
   ]
  },
  {
   "cell_type": "code",
   "execution_count": 209,
   "metadata": {},
   "outputs": [
    {
     "name": "stdout",
     "output_type": "stream",
     "text": [
      "SVM Model ROC AUC=0.777\n"
     ]
    },
    {
     "data": {
      "image/png": "[encoded data removed]",
      "text/plain": [
       "<Figure size 432x288 with 1 Axes>"
      ]
     },
     "metadata": {
      "needs_background": "light"
     },
     "output_type": "display_data"
    }
   ],
   "source": [
    "# roc curve and auc\n",
    "from sklearn.model_selection import train_test_split\n",
    "from sklearn.metrics import roc_curve\n",
    "from sklearn.metrics import roc_auc_score\n",
    "from matplotlib import pyplot\n",
    "\n",
    "X_train, X_test, y_train, y_test = train_test_split(X, y, test_size=0.2)\n",
    "\n",
    "std_scl = StandardScaler()\n",
    "scl_obj = std_scl.fit(X_train)\n",
    "\n",
    "X_train_scaled = scl_obj.transform(X_train)\n",
    "X_test_scaled = scl_obj.transform(X_test) \n",
    "\n",
    "model.fit(X_train, y_train)\n",
    "\n",
    "# predict probabilities\n",
    "svm_probs = model.predict_proba(X_test)\n",
    "# keep probabilities for the positive outcome only\n",
    "svm_probs = svm_probs[:, 1]\n",
    "# calculate scores\n",
    "svm_auc = roc_auc_score(y_test, svm_probs)\n",
    "# summarize scores\\\n",
    "print('SVM Model ROC AUC=%.3f' % (svm_auc))\n",
    "# calculate roc curves\n",
    "svm_fpr, svm_tpr, _ = roc_curve(y_test, svm_probs)\n",
    "# plot the roc curve for the model\n",
    "pyplot.plot(svm_fpr, svm_tpr, marker='.', label='SVM')\n",
    "# axis labels\n",
    "pyplot.xlabel('False Positive Rate')\n",
    "pyplot.ylabel('True Positive Rate')\n",
    "# show the legend\n",
    "pyplot.legend()\n",
    "# show the plot\n",
    "pyplot.show()"
   ]
  },
  {
   "cell_type": "markdown",
   "metadata": {},
   "source": [
    "## Find probability threshold for best accuracy"
   ]
  },
  {
   "cell_type": "code",
   "execution_count": 210,
   "metadata": {},
   "outputs": [
    {
     "data": {
      "text/plain": [
       "array([0.42227308, 0.41765177, 0.66637258, ..., 0.378249  , 0.62702047,\n",
       "       0.29459275])"
      ]
     },
     "execution_count": 210,
     "metadata": {},
     "output_type": "execute_result"
    }
   ],
   "source": [
    "svm_probs"
   ]
  },
  {
   "cell_type": "code",
   "execution_count": 211,
   "metadata": {},
   "outputs": [
    {
     "name": "stdout",
     "output_type": "stream",
     "text": [
      "alpha 0.000000 : accuracy=0.564\n",
      "alpha 0.100000 : accuracy=0.564\n",
      "alpha 0.200000 : accuracy=0.564\n",
      "alpha 0.300000 : accuracy=0.582\n",
      "alpha 0.400000 : accuracy=0.690\n",
      "alpha 0.500000 : accuracy=0.716\n",
      "alpha 0.600000 : accuracy=0.676\n",
      "alpha 0.700000 : accuracy=0.605\n",
      "alpha 0.800000 : accuracy=0.542\n",
      "alpha 0.900000 : accuracy=0.491\n"
     ]
    }
   ],
   "source": [
    "alphas = np.arange(0, 1, .1)\n",
    "for alpha in np.nditer(alphas):\n",
    "    y_hat = list(map(lambda y_prob: 1 if y_prob > alpha else 0, svm_probs))\n",
    "    acc = mt.accuracy_score(y_test, y_hat)\n",
    "    print('alpha %f : accuracy=%.3f' % (alpha, acc))\n"
   ]
  },
  {
   "cell_type": "markdown",
   "metadata": {},
   "source": [
    "### tune a little finer"
   ]
  },
  {
   "cell_type": "code",
   "execution_count": 212,
   "metadata": {},
   "outputs": [
    {
     "name": "stdout",
     "output_type": "stream",
     "text": [
      "alpha 0.400000 : accuracy=0.690\n",
      "alpha 0.410000 : accuracy=0.698\n",
      "alpha 0.420000 : accuracy=0.707\n",
      "alpha 0.430000 : accuracy=0.710\n",
      "alpha 0.440000 : accuracy=0.713\n",
      "alpha 0.450000 : accuracy=0.718\n",
      "alpha 0.460000 : accuracy=0.715\n",
      "alpha 0.470000 : accuracy=0.715\n",
      "alpha 0.480000 : accuracy=0.714\n",
      "alpha 0.490000 : accuracy=0.714\n",
      "alpha 0.500000 : accuracy=0.716\n",
      "alpha 0.510000 : accuracy=0.716\n",
      "alpha 0.520000 : accuracy=0.714\n",
      "alpha 0.530000 : accuracy=0.713\n",
      "alpha 0.540000 : accuracy=0.712\n",
      "alpha 0.550000 : accuracy=0.707\n",
      "alpha 0.560000 : accuracy=0.704\n",
      "alpha 0.570000 : accuracy=0.698\n",
      "alpha 0.580000 : accuracy=0.690\n",
      "alpha 0.590000 : accuracy=0.684\n"
     ]
    }
   ],
   "source": [
    "alphas = np.arange(.4, .6, .01)\n",
    "for alpha in np.nditer(alphas):\n",
    "    y_hat = list(map(lambda y_prob: 1 if y_prob > alpha else 0, svm_probs))\n",
    "    acc = mt.accuracy_score(y_test, y_hat)\n",
    "    print('alpha %f : accuracy=%.3f' % (alpha, acc))\n",
    "\n"
   ]
  },
  {
   "cell_type": "markdown",
   "metadata": {},
   "source": [
    "## Support Vector Analysis"
   ]
  },
  {
   "cell_type": "code",
   "execution_count": 213,
   "metadata": {},
   "outputs": [
    {
     "name": "stdout",
     "output_type": "stream",
     "text": [
      "<class 'pandas.core.frame.DataFrame'>\n",
      "Int64Index: 3515 entries, 62168 to 24437\n",
      "Data columns (total 16 columns):\n",
      "id             3515 non-null int64\n",
      "age            3515 non-null int64\n",
      "gender         3515 non-null int64\n",
      "height         3515 non-null int64\n",
      "weight         3515 non-null float64\n",
      "ap_hi          3515 non-null int64\n",
      "ap_lo          3515 non-null int64\n",
      "cholesterol    3515 non-null int64\n",
      "gluc           3515 non-null int64\n",
      "smoke          3515 non-null int64\n",
      "alco           3515 non-null int64\n",
      "active         3515 non-null int64\n",
      "cardio         3515 non-null int64\n",
      "bp             3515 non-null int32\n",
      "bp1            3515 non-null category\n",
      "bmi            3515 non-null float64\n",
      "dtypes: category(1), float64(2), int32(1), int64(12)\n",
      "memory usage: 429.3 KB\n"
     ]
    }
   ],
   "source": [
    "    \n",
    "X = df[['ap_hi', 'ap_lo', 'bmi', 'age', 'cholesterol']].values\n",
    "cv_object =  ShuffleSplit(n_splits=1,\n",
    "                         test_size  = 0.9)\n",
    "\n",
    "#train test split\n",
    "for train_indices, test_indices in cv_object.split(X, y):\n",
    "    X_train = X[train_indices]\n",
    "    y_train = y[train_indices]\n",
    "    \n",
    "    X_test = X[test_indices]\n",
    "    y_test = y[test_indices]\n",
    "    \n",
    "    scl_obj = StandardScaler()\n",
    "    scl_obj.fit(X_train)\n",
    "    \n",
    "    X_train_scaled = scl_obj.transform(X_train)\n",
    "    X_test_scaled = scl_obj.transform(X_test) \n",
    "        \n",
    "\n",
    "# train the model\n",
    "svm_clf = SVC(C=0.5, kernel='linear', degree=3, gamma='auto') # get object\n",
    "svm_clf.fit(X_train_scaled, y_train)  # train object\n",
    "    \n",
    "# make a dataframe of the training data\n",
    "df_tested_on = df.iloc[train_indices].copy() # saved from above, the indices chosen for training\n",
    "\n",
    "# now get the support vectors from the trained model\n",
    "df_support = df_tested_on.iloc[svm_clf.support_,:].copy()\n",
    "\n",
    "df_support['cardio'] = y[svm_clf.support_] # add back in the 'Survived' Column to the pandas dataframe\n",
    "df['cardio'] = y # also add it back in for the original data\n",
    "df_support.info()"
   ]
  },
  {
   "cell_type": "markdown",
   "metadata": {},
   "source": [
    "### Plot SVM Vectors - Option 1"
   ]
  },
  {
   "cell_type": "code",
   "execution_count": 214,
   "metadata": {},
   "outputs": [
    {
     "data": {
      "image/png": "[encoded data removed]",
      "text/plain": [
       "<Figure size 720x288 with 2 Axes>"
      ]
     },
     "metadata": {
      "needs_background": "light"
     },
     "output_type": "display_data"
    },
    {
     "data": {
      "image/png": "[encoded data removed]",
      "text/plain": [
       "<Figure size 720x288 with 2 Axes>"
      ]
     },
     "metadata": {
      "needs_background": "light"
     },
     "output_type": "display_data"
    },
    {
     "data": {
      "image/png": "[encoded data removed]",
      "text/plain": [
       "<Figure size 720x288 with 2 Axes>"
      ]
     },
     "metadata": {
      "needs_background": "light"
     },
     "output_type": "display_data"
    },
    {
     "data": {
      "image/png": "[encoded data removed]",
      "text/plain": [
       "<Figure size 720x288 with 2 Axes>"
      ]
     },
     "metadata": {
      "needs_background": "light"
     },
     "output_type": "display_data"
    },
    {
     "data": {
      "image/png": "[encoded data removed]",
      "text/plain": [
       "<Figure size 720x288 with 2 Axes>"
      ]
     },
     "metadata": {
      "needs_background": "light"
     },
     "output_type": "display_data"
    }
   ],
   "source": [
    "# group the original data and the support vectors\n",
    "df_grouped_support = df_support.groupby(['cardio'])\n",
    "df_grouped = df.groupby(['cardio'])\n",
    "\n",
    "# plot KDE of Different variables\n",
    " \n",
    "vars_to_plot =['ap_hi', 'ap_lo', 'bmi', 'age', 'cholesterol']\n",
    "\n",
    "for v in vars_to_plot:\n",
    "    pyplot.figure(figsize=(10,4))\n",
    "    # plot support vector stats\n",
    "    pyplot.subplot(1,2,1)\n",
    "    ax = df_grouped_support[v].plot.kde() \n",
    "    pyplot.legend(['noncardio','cardio'])\n",
    "    pyplot.title(v+' (Instances chosen as Support Vectors)')\n",
    "    \n",
    "    # plot original distributions\n",
    "    pyplot.subplot(1,2,2)\n",
    "    ax = df_grouped[v].plot.kde() \n",
    "    pyplot.legend(['noncardio','cardio'])\n",
    "    pyplot.title(v+' (Original)')\n",
    "\n",
    "\n"
   ]
  },
  {
   "cell_type": "markdown",
   "metadata": {},
   "source": [
    "The graphs on the left show the support vectors which are the points on the SVM borders.  These are compared to the graphs on the right which show the distribution of the response variable classes. The above graphs show that the support vectors are distributed in a similar manner between the cardio and non-cardio classes of the response variable. The original distribution shows the uneven distribution of the response variable for each predictor."
   ]
  },
  {
   "cell_type": "markdown",
   "metadata": {},
   "source": [
    "# SVM"
   ]
  },
  {
   "cell_type": "markdown",
   "metadata": {},
   "source": [
    "Our favorite SVM model is Option 1 Scaled"
   ]
  },
  {
   "cell_type": "markdown",
   "metadata": {},
   "source": [
    "Confusion matrix / classification report  - Ellen"
   ]
  },
  {
   "cell_type": "markdown",
   "metadata": {},
   "source": [
    "precision, recall, f1, accuracy - Ellen"
   ]
  },
  {
   "cell_type": "markdown",
   "metadata": {},
   "source": [
    "explain the hyperparameters - Tina"
   ]
  },
  {
   "cell_type": "markdown",
   "metadata": {},
   "source": [
    "### Interpretation"
   ]
  },
  {
   "cell_type": "markdown",
   "metadata": {},
   "source": [
    "Make SVC from subsampled set - Tina"
   ]
  },
  {
   "cell_type": "markdown",
   "metadata": {},
   "source": [
    "Ellen"
   ]
  },
  {
   "cell_type": "markdown",
   "metadata": {},
   "source": [
    "# Logistic regression"
   ]
  },
  {
   "cell_type": "markdown",
   "metadata": {},
   "source": [
    "Our favorite Logistic model is Option 1 Unscaled"
   ]
  },
  {
   "cell_type": "markdown",
   "metadata": {},
   "source": [
    "Confusion matrix / classification report "
   ]
  },
  {
   "cell_type": "markdown",
   "metadata": {},
   "source": [
    "precision, recall, f1, accuracy"
   ]
  },
  {
   "cell_type": "markdown",
   "metadata": {},
   "source": [
    "explain the hyperparameters - Paritosh, Fabio"
   ]
  },
  {
   "cell_type": "markdown",
   "metadata": {},
   "source": [
    "### Weights Interpretation"
   ]
  },
  {
   "cell_type": "markdown",
   "metadata": {},
   "source": [
    "Fabio"
   ]
  },
  {
   "cell_type": "markdown",
   "metadata": {},
   "source": [
    "# Advantages and Disadvantages"
   ]
  },
  {
   "cell_type": "markdown",
   "metadata": {},
   "source": [
    "Our favorite model overall is the Logistic regression option 1 unscaled."
   ]
  },
  {
   "cell_type": "markdown",
   "metadata": {},
   "source": [
    "Is one better about training time?"
   ]
  },
  {
   "cell_type": "markdown",
   "metadata": {},
   "source": [
    "Is one better from accuracy?"
   ]
  },
  {
   "cell_type": "markdown",
   "metadata": {},
   "source": [
    "# Appendix"
   ]
  },
  {
   "cell_type": "markdown",
   "metadata": {},
   "source": [
    "In this section we have placed the remaining models from our chart above.   They were all determined to be less accurate and were rejected, but we placed them here to show a comparason of the different variable options for SVM and Logistic regression with scaled and unscaled data"
   ]
  },
  {
   "cell_type": "markdown",
   "metadata": {},
   "source": [
    "## Decision Tree Model"
   ]
  },
  {
   "cell_type": "code",
   "execution_count": 215,
   "metadata": {},
   "outputs": [],
   "source": [
    "from sklearn.model_selection import train_test_split\n",
    "X = df[['bmi', 'ap_hi', 'ap_lo','cholesterol','age']]\n",
    "y = df['cardio']\n",
    "X_train, X_test, y_train, y_test = train_test_split(X, y, test_size=0.20, random_state=101)"
   ]
  },
  {
   "cell_type": "code",
   "execution_count": 216,
   "metadata": {},
   "outputs": [
    {
     "data": {
      "text/plain": [
       "'#make CV spit 80/20 object\\n\\nnum_cv_iterations = 3\\nnum_instances = len(y)\\ncv_object = ShuffleSplit(n_splits=num_cv_iterations,\\n                         test_size  = 0.2)\\n                         \\nprint(cv_object)\\n'"
      ]
     },
     "execution_count": 216,
     "metadata": {},
     "output_type": "execute_result"
    }
   ],
   "source": [
    "\"\"\"#make CV spit 80/20 object\n",
    "\n",
    "num_cv_iterations = 3\n",
    "num_instances = len(y)\n",
    "cv_object = ShuffleSplit(n_splits=num_cv_iterations,\n",
    "                         test_size  = 0.2)\n",
    "                         \n",
    "print(cv_object)\n",
    "\"\"\""
   ]
  },
  {
   "cell_type": "markdown",
   "metadata": {},
   "source": [
    "#### Training a Decision Tree Model\n",
    "Let's start by training a single decision tree first!\n",
    "\n",
    "** Import DecisionTreeClassifier**"
   ]
  },
  {
   "cell_type": "code",
   "execution_count": 217,
   "metadata": {},
   "outputs": [],
   "source": [
    "from sklearn.tree import DecisionTreeClassifier"
   ]
  },
  {
   "cell_type": "markdown",
   "metadata": {},
   "source": [
    "Create an instance of DecisionTreeClassifier() called dtree and fit it to the training data."
   ]
  },
  {
   "cell_type": "code",
   "execution_count": 218,
   "metadata": {},
   "outputs": [],
   "source": [
    "dtree = DecisionTreeClassifier()"
   ]
  },
  {
   "cell_type": "code",
   "execution_count": 219,
   "metadata": {},
   "outputs": [
    {
     "data": {
      "text/plain": [
       "DecisionTreeClassifier(class_weight=None, criterion='gini', max_depth=None,\n",
       "                       max_features=None, max_leaf_nodes=None,\n",
       "                       min_impurity_decrease=0.0, min_impurity_split=None,\n",
       "                       min_samples_leaf=1, min_samples_split=2,\n",
       "                       min_weight_fraction_leaf=0.0, presort=False,\n",
       "                       random_state=None, splitter='best')"
      ]
     },
     "execution_count": 219,
     "metadata": {},
     "output_type": "execute_result"
    }
   ],
   "source": [
    "dtree.fit(X_train,y_train)"
   ]
  },
  {
   "cell_type": "markdown",
   "metadata": {},
   "source": [
    "#### Predictions and Evaluation of Decision Tree\n",
    "\n",
    "Create predictions from the test set and create a classification report and a confusion matrix"
   ]
  },
  {
   "cell_type": "code",
   "execution_count": 220,
   "metadata": {},
   "outputs": [],
   "source": [
    "predictions = dtree.predict(X_test)"
   ]
  },
  {
   "cell_type": "code",
   "execution_count": 221,
   "metadata": {},
   "outputs": [],
   "source": [
    "from sklearn.metrics import classification_report,confusion_matrix"
   ]
  },
  {
   "cell_type": "code",
   "execution_count": 222,
   "metadata": {},
   "outputs": [
    {
     "name": "stdout",
     "output_type": "stream",
     "text": [
      "              precision    recall  f1-score   support\n",
      "\n",
      "           0       0.58      0.58      0.58      4679\n",
      "           1       0.67      0.67      0.67      5932\n",
      "\n",
      "    accuracy                           0.63     10611\n",
      "   macro avg       0.62      0.62      0.62     10611\n",
      "weighted avg       0.63      0.63      0.63     10611\n",
      "\n"
     ]
    }
   ],
   "source": [
    "print(classification_report(y_test,predictions))"
   ]
  },
  {
   "cell_type": "code",
   "execution_count": 223,
   "metadata": {},
   "outputs": [
    {
     "name": "stdout",
     "output_type": "stream",
     "text": [
      "auc 0.6234755273739266\n"
     ]
    }
   ],
   "source": [
    "\n",
    "from sklearn import metrics as mt\n",
    "auc = mt.roc_auc_score(y_test,predictions)\n",
    "print(\"auc\", auc )"
   ]
  },
  {
   "cell_type": "markdown",
   "metadata": {},
   "source": [
    "### Training the Random Forest model\n",
    "Create an instance of the RandomForestClassifier class and fit it to our training data from the previous step."
   ]
  },
  {
   "cell_type": "code",
   "execution_count": 224,
   "metadata": {},
   "outputs": [],
   "source": [
    "from sklearn.ensemble import RandomForestClassifier"
   ]
  },
  {
   "cell_type": "code",
   "execution_count": 225,
   "metadata": {},
   "outputs": [],
   "source": [
    "rfc = RandomForestClassifier(n_estimators=600)"
   ]
  },
  {
   "cell_type": "code",
   "execution_count": 226,
   "metadata": {},
   "outputs": [
    {
     "data": {
      "text/plain": [
       "RandomForestClassifier(bootstrap=True, class_weight=None, criterion='gini',\n",
       "                       max_depth=None, max_features='auto', max_leaf_nodes=None,\n",
       "                       min_impurity_decrease=0.0, min_impurity_split=None,\n",
       "                       min_samples_leaf=1, min_samples_split=2,\n",
       "                       min_weight_fraction_leaf=0.0, n_estimators=600,\n",
       "                       n_jobs=None, oob_score=False, random_state=None,\n",
       "                       verbose=0, warm_start=False)"
      ]
     },
     "execution_count": 226,
     "metadata": {},
     "output_type": "execute_result"
    }
   ],
   "source": [
    "rfc.fit(X_train,y_train)"
   ]
  },
  {
   "cell_type": "markdown",
   "metadata": {},
   "source": [
    "### Predictions and Evaluation\n",
    "Let's predict off the y_test values and evaluate our model.\n",
    "\n",
    "** Predict the class of not.fully.paid for the X_test data.**"
   ]
  },
  {
   "cell_type": "code",
   "execution_count": 227,
   "metadata": {},
   "outputs": [],
   "source": [
    "predictions = rfc.predict(X_test)"
   ]
  },
  {
   "cell_type": "markdown",
   "metadata": {},
   "source": [
    "Now create a classification report from the results."
   ]
  },
  {
   "cell_type": "code",
   "execution_count": 228,
   "metadata": {},
   "outputs": [],
   "source": [
    "from sklearn.metrics import classification_report,confusion_matrix"
   ]
  },
  {
   "cell_type": "code",
   "execution_count": 229,
   "metadata": {},
   "outputs": [
    {
     "name": "stdout",
     "output_type": "stream",
     "text": [
      "              precision    recall  f1-score   support\n",
      "\n",
      "           0       0.65      0.62      0.63      4679\n",
      "           1       0.71      0.73      0.72      5932\n",
      "\n",
      "    accuracy                           0.68     10611\n",
      "   macro avg       0.68      0.68      0.68     10611\n",
      "weighted avg       0.68      0.68      0.68     10611\n",
      "\n"
     ]
    }
   ],
   "source": [
    "print(classification_report(y_test,predictions))"
   ]
  },
  {
   "cell_type": "markdown",
   "metadata": {},
   "source": [
    "## The following Logistical Regression Models were rejected, but they were not far in accuracy and AUC scores from the preferred model."
   ]
  },
  {
   "cell_type": "markdown",
   "metadata": {},
   "source": [
    "### Logistic Regression Option 2   AP_HI variable only (systolic blood pressure).  With unscaled data"
   ]
  },
  {
   "cell_type": "code",
   "execution_count": 230,
   "metadata": {},
   "outputs": [],
   "source": [
    "# option 2  systolic blood pressure\n",
    "y = df['cardio'].values  \n",
    "X = df['ap_hi'].values \n",
    "X = X.reshape(-1, 1)"
   ]
  },
  {
   "cell_type": "code",
   "execution_count": 231,
   "metadata": {},
   "outputs": [
    {
     "name": "stdout",
     "output_type": "stream",
     "text": [
      "ShuffleSplit(n_splits=3, random_state=None, test_size=0.2, train_size=None)\n"
     ]
    }
   ],
   "source": [
    "#make CV spit 80/20 object\n",
    "from sklearn.model_selection import ShuffleSplit\n",
    "num_cv_iterations = 3\n",
    "num_instances = len(y)\n",
    "cv_object = ShuffleSplit(n_splits=num_cv_iterations,\n",
    "                         test_size  = 0.2)\n",
    "                         \n",
    "print(cv_object)"
   ]
  },
  {
   "cell_type": "markdown",
   "metadata": {},
   "source": [
    "### Logistic Regression - Option 2 Unscaled"
   ]
  },
  {
   "cell_type": "code",
   "execution_count": 232,
   "metadata": {},
   "outputs": [
    {
     "data": {
      "text/plain": [
       "GridSearchCV(cv=ShuffleSplit(n_splits=3, random_state=None, test_size=0.2, train_size=None),\n",
       "             error_score='raise-deprecating',\n",
       "             estimator=LogisticRegression(C=1.0, class_weight=None, dual=False,\n",
       "                                          fit_intercept=True,\n",
       "                                          intercept_scaling=1, l1_ratio=None,\n",
       "                                          max_iter=4000, multi_class='warn',\n",
       "                                          n_jobs=None, penalty='l2',\n",
       "                                          random_state=None, solver='warn',\n",
       "                                          tol=0.0001, verbose=0,\n",
       "                                          warm_start=False),\n",
       "             iid='warn', n_jobs=None,\n",
       "             param_grid=[{'C': [0.1, 1, 10, 100, 1000], 'penalty': ['l1'],\n",
       "                          'solver': ['liblinear']},\n",
       "                         {'C': [0.1, 1, 10, 100, 1000], 'penalty': ['l2'],\n",
       "                          'solver': ['lbfgs', 'sag', 'saga']}],\n",
       "             pre_dispatch='2*n_jobs', refit=True, return_train_score=False,\n",
       "             scoring='roc_auc', verbose=0)"
      ]
     },
     "execution_count": 232,
     "metadata": {},
     "output_type": "execute_result"
    }
   ],
   "source": [
    "from sklearn.linear_model import LogisticRegression\n",
    "#make a grid search for logistic regression\n",
    "from sklearn.model_selection import GridSearchCV\n",
    "\n",
    "param_grid = [\n",
    "  {'C': [.1, 1, 10, 100, 1000],\n",
    "   'penalty': ['l1'],\n",
    "   'solver': ['liblinear']},\n",
    "  {'C': [.1, 1, 10, 100, 1000],\n",
    "   'penalty': ['l2'], \n",
    "   'solver': ['lbfgs', 'sag', 'saga']},\n",
    " ]\n",
    "\n",
    "\n",
    "lr = LogisticRegression(max_iter=4000)\n",
    "clf = GridSearchCV(lr, param_grid, scoring=\"roc_auc\",cv=cv_object)\n",
    " \n",
    "clf.fit(X, y)\n"
   ]
  },
  {
   "cell_type": "markdown",
   "metadata": {},
   "source": [
    "### Metrics for SVM unscaled Data"
   ]
  },
  {
   "cell_type": "code",
   "execution_count": 233,
   "metadata": {},
   "outputs": [
    {
     "name": "stdout",
     "output_type": "stream",
     "text": [
      "Best: 0.734047 using {'C': 0.1, 'penalty': 'l1', 'solver': 'liblinear'}\n",
      "0.734047 (0.002621) with: {'C': 0.1, 'penalty': 'l1', 'solver': 'liblinear'}\n",
      "0.734047 (0.002621) with: {'C': 1, 'penalty': 'l1', 'solver': 'liblinear'}\n",
      "0.734047 (0.002621) with: {'C': 10, 'penalty': 'l1', 'solver': 'liblinear'}\n",
      "0.734047 (0.002621) with: {'C': 100, 'penalty': 'l1', 'solver': 'liblinear'}\n",
      "0.734047 (0.002621) with: {'C': 1000, 'penalty': 'l1', 'solver': 'liblinear'}\n",
      "0.734047 (0.002621) with: {'C': 0.1, 'penalty': 'l2', 'solver': 'lbfgs'}\n",
      "0.734047 (0.002621) with: {'C': 0.1, 'penalty': 'l2', 'solver': 'sag'}\n",
      "0.734047 (0.002621) with: {'C': 0.1, 'penalty': 'l2', 'solver': 'saga'}\n",
      "0.734047 (0.002621) with: {'C': 1, 'penalty': 'l2', 'solver': 'lbfgs'}\n",
      "0.734047 (0.002621) with: {'C': 1, 'penalty': 'l2', 'solver': 'sag'}\n",
      "0.734047 (0.002621) with: {'C': 1, 'penalty': 'l2', 'solver': 'saga'}\n",
      "0.734047 (0.002621) with: {'C': 10, 'penalty': 'l2', 'solver': 'lbfgs'}\n",
      "0.734047 (0.002621) with: {'C': 10, 'penalty': 'l2', 'solver': 'sag'}\n",
      "0.734047 (0.002621) with: {'C': 10, 'penalty': 'l2', 'solver': 'saga'}\n",
      "0.734047 (0.002621) with: {'C': 100, 'penalty': 'l2', 'solver': 'lbfgs'}\n",
      "0.734047 (0.002621) with: {'C': 100, 'penalty': 'l2', 'solver': 'sag'}\n",
      "0.734047 (0.002621) with: {'C': 100, 'penalty': 'l2', 'solver': 'saga'}\n",
      "0.734047 (0.002621) with: {'C': 1000, 'penalty': 'l2', 'solver': 'lbfgs'}\n",
      "0.734047 (0.002621) with: {'C': 1000, 'penalty': 'l2', 'solver': 'sag'}\n",
      "0.734047 (0.002621) with: {'C': 1000, 'penalty': 'l2', 'solver': 'saga'}\n"
     ]
    }
   ],
   "source": [
    "#code adapted from https://machinelearningmastery.com/hyperparameters-for-classification-machine-learning-algorithms/\n",
    "print(\"Best: %f using %s\" % (clf.best_score_, clf.best_params_))\n",
    "means = clf.cv_results_['mean_test_score']\n",
    "stds = clf.cv_results_['std_test_score']\n",
    "params = clf.cv_results_['params']\n",
    "for mean, stdev, param in zip(means, stds, params):\n",
    "    print(\"%f (%f) with: %r\" % (mean, stdev, param))"
   ]
  },
  {
   "cell_type": "code",
   "execution_count": 234,
   "metadata": {},
   "outputs": [],
   "source": [
    "from sklearn.linear_model import LogisticRegression\n",
    "from sklearn import metrics as mt\n",
    "lr_clf = LogisticRegression(penalty='l2', C=0.1, class_weight=None, solver='lbfgs' ) # get object\n",
    "\n",
    "\n"
   ]
  },
  {
   "cell_type": "code",
   "execution_count": 235,
   "metadata": {},
   "outputs": [
    {
     "name": "stdout",
     "output_type": "stream",
     "text": [
      "====Iteration 0  ====\n",
      "auc 0.7356114748363235\n",
      "confusion matrix\n",
      " [[3457 1269]\n",
      " [1893 3992]]\n",
      "F1 Score:  0.7163107841378072\n",
      "accuracy 0.7020073508623127\n",
      "              precision    recall  f1-score   support\n",
      "\n",
      "           0       0.65      0.73      0.69      4726\n",
      "           1       0.76      0.68      0.72      5885\n",
      "\n",
      "    accuracy                           0.70     10611\n",
      "   macro avg       0.70      0.70      0.70     10611\n",
      "weighted avg       0.71      0.70      0.70     10611\n",
      "\n",
      "====Iteration 1  ====\n",
      "auc 0.7341944865817576\n",
      "confusion matrix\n",
      " [[3451 1275]\n",
      " [1911 3974]]\n",
      "F1 Score:  0.7138494700916114\n",
      "accuracy 0.6997455470737913\n",
      "              precision    recall  f1-score   support\n",
      "\n",
      "           0       0.64      0.73      0.68      4726\n",
      "           1       0.76      0.68      0.71      5885\n",
      "\n",
      "    accuracy                           0.70     10611\n",
      "   macro avg       0.70      0.70      0.70     10611\n",
      "weighted avg       0.71      0.70      0.70     10611\n",
      "\n",
      "====Iteration 2  ====\n",
      "auc 0.7314318179420602\n",
      "confusion matrix\n",
      " [[3452 1325]\n",
      " [1869 3965]]\n",
      "F1 Score:  0.7128730672419993\n",
      "accuracy 0.6989916124776175\n",
      "              precision    recall  f1-score   support\n",
      "\n",
      "           0       0.65      0.72      0.68      4777\n",
      "           1       0.75      0.68      0.71      5834\n",
      "\n",
      "    accuracy                           0.70     10611\n",
      "   macro avg       0.70      0.70      0.70     10611\n",
      "weighted avg       0.70      0.70      0.70     10611\n",
      "\n"
     ]
    }
   ],
   "source": [
    "iter_num=0\n",
    "for train_indices, test_indices in cv_object.split(X,y): \n",
    "    X_train = X[train_indices]\n",
    "    y_train = y[train_indices]\n",
    "    \n",
    "    X_test = X[test_indices]\n",
    "    y_test = y[test_indices]\n",
    "    \n",
    "    lr_clf.fit(X_train,y_train)\n",
    "    y_hat = lr_clf.predict(X_test)\n",
    "    y_prob=lr_clf.predict_proba(X_test)[:,1]\n",
    "\n",
    "    #acc = mt.accuracy_score(y_test,y_hat)\n",
    "    conf = mt.confusion_matrix(y_test,y_hat)\n",
    "    auc = mt.roc_auc_score(y_test,y_prob)\n",
    "    print(\"====Iteration\",iter_num,\" ====\")\n",
    "   # print(\"accuracy\", acc )\n",
    "    print(\"auc\", auc )\n",
    "    print(\"confusion matrix\\n\",conf)\n",
    "    \n",
    "          \n",
    "    # Show the F1 Score\n",
    "    fscore = mt.f1_score(y_test,y_hat)\n",
    "    print(\"F1 Score: \", fscore)\n",
    "    \n",
    "    # Show the Accuracy Score\n",
    "    acc = mt.accuracy_score(y_test,y_hat)\n",
    "    print(\"accuracy\", acc )\n",
    "    \n",
    "    # Show the Classification Matrix\n",
    "    print(mt.classification_report(y_test,y_hat))\n",
    "    \n",
    "    iter_num+=1"
   ]
  },
  {
   "cell_type": "markdown",
   "metadata": {},
   "source": [
    "### Option 2 Logistic Regression Scaled data:   train/test split"
   ]
  },
  {
   "cell_type": "code",
   "execution_count": 236,
   "metadata": {},
   "outputs": [],
   "source": [
    "#make CV spit 80/20 object\n",
    "from sklearn.model_selection import ShuffleSplit\n",
    "num_cv_iterations = 3\n",
    "num_instances = len(y)\n",
    "cv_object = ShuffleSplit(n_splits=num_cv_iterations,\n",
    "                         test_size  = 0.2)"
   ]
  },
  {
   "cell_type": "markdown",
   "metadata": {},
   "source": [
    "### Logistic Regression, Option 2 Hyper Parameter Tuning "
   ]
  },
  {
   "cell_type": "code",
   "execution_count": 237,
   "metadata": {},
   "outputs": [
    {
     "data": {
      "text/plain": [
       "GridSearchCV(cv=ShuffleSplit(n_splits=3, random_state=None, test_size=0.2, train_size=None),\n",
       "             error_score='raise-deprecating',\n",
       "             estimator=Pipeline(memory=None,\n",
       "                                steps=[('scaler',\n",
       "                                        StandardScaler(copy=True,\n",
       "                                                       with_mean=True,\n",
       "                                                       with_std=True)),\n",
       "                                       ('classifier',\n",
       "                                        LogisticRegression(C=1.0,\n",
       "                                                           class_weight=None,\n",
       "                                                           dual=False,\n",
       "                                                           fit_intercept=True,\n",
       "                                                           intercept_scaling=1,\n",
       "                                                           l1_ratio=None,\n",
       "                                                           max_...\n",
       "                                verbose=False),\n",
       "             iid='warn', n_jobs=None,\n",
       "             param_grid=[{'classifier__C': [0.1, 1, 10, 100, 1000],\n",
       "                          'classifier__penalty': ['l1'],\n",
       "                          'classifier__solver': ['liblinear', 'saga']},\n",
       "                         {'classifier__C': [0.1, 1, 10, 100, 1000],\n",
       "                          'classifier__penalty': ['l2'],\n",
       "                          'classifier__solver': ['lbfgs', 'sag', 'saga']}],\n",
       "             pre_dispatch='2*n_jobs', refit=True, return_train_score=False,\n",
       "             scoring='roc_auc', verbose=0)"
      ]
     },
     "execution_count": 237,
     "metadata": {},
     "output_type": "execute_result"
    }
   ],
   "source": [
    "from sklearn.linear_model import LogisticRegression\n",
    "#make a grid search for logistic regression\n",
    "from sklearn.model_selection import GridSearchCV\n",
    "\n",
    "param_grid = [\n",
    "  {'classifier__C': [.1, 1, 10, 100, 1000],\n",
    "   'classifier__penalty': ['l1'],\n",
    "   'classifier__solver': ['liblinear', 'saga']},\n",
    "  {'classifier__C': [.1, 1, 10, 100, 1000],\n",
    "   'classifier__penalty': ['l2'], \n",
    "   'classifier__solver': ['lbfgs', 'sag', 'saga']},\n",
    " ]\n",
    "\n",
    "lr = Pipeline([\n",
    "    ('scaler', StandardScaler()),\n",
    "    ('classifier', LogisticRegression())])\n",
    "clf = GridSearchCV(lr, param_grid, scoring=\"roc_auc\", cv=cv_object)\n",
    "clf.fit(X, y)\n",
    "\n",
    "\n"
   ]
  },
  {
   "cell_type": "code",
   "execution_count": 238,
   "metadata": {},
   "outputs": [
    {
     "name": "stdout",
     "output_type": "stream",
     "text": [
      "Best: 0.733444 using {'classifier__C': 0.1, 'classifier__penalty': 'l1', 'classifier__solver': 'liblinear'}\n",
      "0.733444 (0.002287) with: {'classifier__C': 0.1, 'classifier__penalty': 'l1', 'classifier__solver': 'liblinear'}\n",
      "0.733444 (0.002287) with: {'classifier__C': 0.1, 'classifier__penalty': 'l1', 'classifier__solver': 'saga'}\n",
      "0.733444 (0.002287) with: {'classifier__C': 1, 'classifier__penalty': 'l1', 'classifier__solver': 'liblinear'}\n",
      "0.733444 (0.002287) with: {'classifier__C': 1, 'classifier__penalty': 'l1', 'classifier__solver': 'saga'}\n",
      "0.733444 (0.002287) with: {'classifier__C': 10, 'classifier__penalty': 'l1', 'classifier__solver': 'liblinear'}\n",
      "0.733444 (0.002287) with: {'classifier__C': 10, 'classifier__penalty': 'l1', 'classifier__solver': 'saga'}\n",
      "0.733444 (0.002287) with: {'classifier__C': 100, 'classifier__penalty': 'l1', 'classifier__solver': 'liblinear'}\n",
      "0.733444 (0.002287) with: {'classifier__C': 100, 'classifier__penalty': 'l1', 'classifier__solver': 'saga'}\n",
      "0.733444 (0.002287) with: {'classifier__C': 1000, 'classifier__penalty': 'l1', 'classifier__solver': 'liblinear'}\n",
      "0.733444 (0.002287) with: {'classifier__C': 1000, 'classifier__penalty': 'l1', 'classifier__solver': 'saga'}\n",
      "0.733444 (0.002287) with: {'classifier__C': 0.1, 'classifier__penalty': 'l2', 'classifier__solver': 'lbfgs'}\n",
      "0.733444 (0.002287) with: {'classifier__C': 0.1, 'classifier__penalty': 'l2', 'classifier__solver': 'sag'}\n",
      "0.733444 (0.002287) with: {'classifier__C': 0.1, 'classifier__penalty': 'l2', 'classifier__solver': 'saga'}\n",
      "0.733444 (0.002287) with: {'classifier__C': 1, 'classifier__penalty': 'l2', 'classifier__solver': 'lbfgs'}\n",
      "0.733444 (0.002287) with: {'classifier__C': 1, 'classifier__penalty': 'l2', 'classifier__solver': 'sag'}\n",
      "0.733444 (0.002287) with: {'classifier__C': 1, 'classifier__penalty': 'l2', 'classifier__solver': 'saga'}\n",
      "0.733444 (0.002287) with: {'classifier__C': 10, 'classifier__penalty': 'l2', 'classifier__solver': 'lbfgs'}\n",
      "0.733444 (0.002287) with: {'classifier__C': 10, 'classifier__penalty': 'l2', 'classifier__solver': 'sag'}\n",
      "0.733444 (0.002287) with: {'classifier__C': 10, 'classifier__penalty': 'l2', 'classifier__solver': 'saga'}\n",
      "0.733444 (0.002287) with: {'classifier__C': 100, 'classifier__penalty': 'l2', 'classifier__solver': 'lbfgs'}\n",
      "0.733444 (0.002287) with: {'classifier__C': 100, 'classifier__penalty': 'l2', 'classifier__solver': 'sag'}\n",
      "0.733444 (0.002287) with: {'classifier__C': 100, 'classifier__penalty': 'l2', 'classifier__solver': 'saga'}\n",
      "0.733444 (0.002287) with: {'classifier__C': 1000, 'classifier__penalty': 'l2', 'classifier__solver': 'lbfgs'}\n",
      "0.733444 (0.002287) with: {'classifier__C': 1000, 'classifier__penalty': 'l2', 'classifier__solver': 'sag'}\n",
      "0.733444 (0.002287) with: {'classifier__C': 1000, 'classifier__penalty': 'l2', 'classifier__solver': 'saga'}\n"
     ]
    }
   ],
   "source": [
    "#code adapted from https://machinelearningmastery.com/hyperparameters-for-classification-machine-learning-algorithms/\n",
    "print(\"Best: %f using %s\" % (clf.best_score_, clf.best_params_))\n",
    "means = clf.cv_results_['mean_test_score']\n",
    "stds = clf.cv_results_['std_test_score']\n",
    "params = clf.cv_results_['params']\n",
    "for mean, stdev, param in zip(means, stds, params):\n",
    "    print(\"%f (%f) with: %r\" % (mean, stdev, param))"
   ]
  },
  {
   "cell_type": "markdown",
   "metadata": {},
   "source": [
    "### Metrics for Logistic Regression, Option 2 Scaled data"
   ]
  },
  {
   "cell_type": "code",
   "execution_count": 239,
   "metadata": {},
   "outputs": [
    {
     "name": "stdout",
     "output_type": "stream",
     "text": [
      "0.7314318179420602\n",
      "[0.70172463 0.70643672 0.6991801 ]\n"
     ]
    }
   ],
   "source": [
    "from sklearn.metrics import roc_auc_score\n",
    "\n",
    "lr_clf = make_pipeline(StandardScaler(), LogisticRegression(C= 0.1, penalty= 'l1', solver= 'liblinear'))\n",
    "model_s=lr_clf\n",
    "model_s.fit(X_train, y_train)\n",
    "pred_prob_s = model_s.predict_proba(X_test)\n",
    "auc_score_s = roc_auc_score(y_test, pred_prob_s[:,1])\n",
    "accuracies = cross_val_score(lr_clf, X, y=y, cv=cv_object)\n",
    "print(auc_score_s)\n",
    "print(accuracies)\n"
   ]
  },
  {
   "cell_type": "code",
   "execution_count": 240,
   "metadata": {},
   "outputs": [
    {
     "name": "stdout",
     "output_type": "stream",
     "text": [
      "====Iteration 0  ====\n",
      "auc 0.7406702586901288\n",
      "confusion matrix\n",
      " [[3463 1260]\n",
      " [1828 4060]]\n",
      "F1 Score:  0.7244825124910778\n",
      "accuracy 0.7089812458769201\n",
      "              precision    recall  f1-score   support\n",
      "\n",
      "           0       0.65      0.73      0.69      4723\n",
      "           1       0.76      0.69      0.72      5888\n",
      "\n",
      "    accuracy                           0.71     10611\n",
      "   macro avg       0.71      0.71      0.71     10611\n",
      "weighted avg       0.71      0.71      0.71     10611\n",
      "\n",
      "====Iteration 1  ====\n",
      "auc 0.73265581744456\n",
      "confusion matrix\n",
      " [[3417 1276]\n",
      " [1904 4014]]\n",
      "F1 Score:  0.7162740899357601\n",
      "accuracy 0.7003109980209217\n",
      "              precision    recall  f1-score   support\n",
      "\n",
      "           0       0.64      0.73      0.68      4693\n",
      "           1       0.76      0.68      0.72      5918\n",
      "\n",
      "    accuracy                           0.70     10611\n",
      "   macro avg       0.70      0.70      0.70     10611\n",
      "weighted avg       0.71      0.70      0.70     10611\n",
      "\n",
      "====Iteration 2  ====\n",
      "auc 0.7301324744596821\n",
      "confusion matrix\n",
      " [[3347 1305]\n",
      " [1926 4033]]\n",
      "F1 Score:  0.7139948658936001\n",
      "accuracy 0.6955046649703138\n",
      "              precision    recall  f1-score   support\n",
      "\n",
      "           0       0.63      0.72      0.67      4652\n",
      "           1       0.76      0.68      0.71      5959\n",
      "\n",
      "    accuracy                           0.70     10611\n",
      "   macro avg       0.70      0.70      0.69     10611\n",
      "weighted avg       0.70      0.70      0.70     10611\n",
      "\n"
     ]
    }
   ],
   "source": [
    "iter_num=0\n",
    "for train_indices, test_indices in cv_object.split(X,y): \n",
    "    X_train = X[train_indices]\n",
    "    y_train = y[train_indices]\n",
    "    \n",
    "    X_test = X[test_indices]\n",
    "    y_test = y[test_indices]\n",
    "    \n",
    "    lr_clf.fit(X_train,y_train)\n",
    "    y_hat = lr_clf.predict(X_test)\n",
    "    y_prob=lr_clf.predict_proba(X_test)[:,1]\n",
    "\n",
    "    #acc = mt.accuracy_score(y_test,y_hat)\n",
    "    conf = mt.confusion_matrix(y_test,y_hat)\n",
    "    auc = mt.roc_auc_score(y_test,y_prob)\n",
    "    print(\"====Iteration\",iter_num,\" ====\")\n",
    "   # print(\"accuracy\", acc )\n",
    "    print(\"auc\", auc )\n",
    "    print(\"confusion matrix\\n\",conf)\n",
    "    \n",
    "     # Show the F1 Score\n",
    "    fscore = mt.f1_score(y_test,y_hat)\n",
    "    print(\"F1 Score: \", fscore)\n",
    "    \n",
    "    # Show the Accuracy Score\n",
    "    acc = mt.accuracy_score(y_test,y_hat)\n",
    "    print(\"accuracy\", acc )\n",
    "    \n",
    "    # Show the Classification Matrix\n",
    "    print(mt.classification_report(y_test,y_hat))\n",
    "    \n",
    "    iter_num+=1"
   ]
  },
  {
   "cell_type": "code",
   "execution_count": 241,
   "metadata": {},
   "outputs": [
    {
     "data": {
      "text/plain": [
       "\"lr_clf = make_pipeline(StandardScaler(), LogisticRegression( solver= 'lbfgs'))\\naccuracies = cross_val_score(lr_clf, X, y=y, cv=cv_object)\\nprint(accuracies)\\n\""
      ]
     },
     "execution_count": 241,
     "metadata": {},
     "output_type": "execute_result"
    }
   ],
   "source": [
    "\"\"\"lr_clf = make_pipeline(StandardScaler(), LogisticRegression( solver= 'lbfgs'))\n",
    "accuracies = cross_val_score(lr_clf, X, y=y, cv=cv_object)\n",
    "print(accuracies)\n",
    "\"\"\""
   ]
  },
  {
   "cell_type": "code",
   "execution_count": 242,
   "metadata": {},
   "outputs": [
    {
     "data": {
      "text/plain": [
       "{'classifier__C': 0.1,\n",
       " 'classifier__penalty': 'l1',\n",
       " 'classifier__solver': 'liblinear'}"
      ]
     },
     "execution_count": 242,
     "metadata": {},
     "output_type": "execute_result"
    }
   ],
   "source": [
    "clf.best_params_"
   ]
  },
  {
   "cell_type": "code",
   "execution_count": 243,
   "metadata": {},
   "outputs": [
    {
     "data": {
      "text/plain": [
       "Pipeline(memory=None,\n",
       "         steps=[('scaler',\n",
       "                 StandardScaler(copy=True, with_mean=True, with_std=True)),\n",
       "                ('classifier',\n",
       "                 LogisticRegression(C=0.1, class_weight=None, dual=False,\n",
       "                                    fit_intercept=True, intercept_scaling=1,\n",
       "                                    l1_ratio=None, max_iter=100,\n",
       "                                    multi_class='warn', n_jobs=None,\n",
       "                                    penalty='l1', random_state=None,\n",
       "                                    solver='liblinear', tol=0.0001, verbose=0,\n",
       "                                    warm_start=False))],\n",
       "         verbose=False)"
      ]
     },
     "execution_count": 243,
     "metadata": {},
     "output_type": "execute_result"
    }
   ],
   "source": [
    "clf.best_estimator_"
   ]
  },
  {
   "cell_type": "code",
   "execution_count": 244,
   "metadata": {},
   "outputs": [],
   "source": [
    "model=clf.best_estimator_.fit(X,y)"
   ]
  },
  {
   "cell_type": "code",
   "execution_count": 245,
   "metadata": {},
   "outputs": [
    {
     "data": {
      "text/plain": [
       "array([[1.09438041]])"
      ]
     },
     "execution_count": 245,
     "metadata": {},
     "output_type": "execute_result"
    }
   ],
   "source": [
    "model.named_steps[\"classifier\"].coef_"
   ]
  },
  {
   "cell_type": "markdown",
   "metadata": {},
   "source": [
    "### Option 2 Logistic Regression : precision recall curve"
   ]
  },
  {
   "cell_type": "code",
   "execution_count": 246,
   "metadata": {
    "scrolled": true
   },
   "outputs": [
    {
     "name": "stdout",
     "output_type": "stream",
     "text": [
      "Logistic: ROC AUC=0.730\n"
     ]
    },
    {
     "data": {
      "image/png": "[encoded data removed]",
      "text/plain": [
       "<Figure size 432x288 with 1 Axes>"
      ]
     },
     "metadata": {
      "needs_background": "light"
     },
     "output_type": "display_data"
    }
   ],
   "source": [
    "# roc curve and auc\n",
    "lr_clf.fit(X_train, y_train)\n",
    "\n",
    "# predict probabilities\n",
    "lr_probs = lr_clf.predict_proba(X_test)\n",
    "# keep probabilities for the positive outcome only\n",
    "lr_probs = lr_probs[:, 1]\n",
    "# calculate scores\n",
    "lr_auc = roc_auc_score(y_test, lr_probs)\n",
    "# summarize scores\\\n",
    "print('Logistic: ROC AUC=%.3f' % (lr_auc))\n",
    "# calculate roc curves\n",
    "lr_fpr, lr_tpr, _ = roc_curve(y_test, lr_probs)\n",
    "# plot the roc curve for the model\n",
    "pyplot.plot(lr_fpr, lr_tpr, marker='.', label='Logistic')\n",
    "# axis labels\n",
    "pyplot.xlabel('False Positive Rate')\n",
    "pyplot.ylabel('True Positive Rate')\n",
    "# show the legend\n",
    "pyplot.legend()\n",
    "# show the plot\n",
    "pyplot.show()"
   ]
  },
  {
   "cell_type": "markdown",
   "metadata": {},
   "source": [
    "\n",
    "\n",
    "## Option 4, Logistic Regression: weight,  age,  ap_lo, ap_hi,  cholesterol "
   ]
  },
  {
   "cell_type": "code",
   "execution_count": 247,
   "metadata": {},
   "outputs": [],
   "source": [
    "y = df['cardio'].values # get the labels we want\n",
    "X = df[['weight','age','ap_lo','ap_hi','cholesterol']].values"
   ]
  },
  {
   "cell_type": "markdown",
   "metadata": {},
   "source": [
    "### Option 4  Logistic Regression Unscaled data model"
   ]
  },
  {
   "cell_type": "code",
   "execution_count": 248,
   "metadata": {
    "scrolled": true
   },
   "outputs": [
    {
     "name": "stdout",
     "output_type": "stream",
     "text": [
      "ShuffleSplit(n_splits=3, random_state=None, test_size=0.2, train_size=None)\n"
     ]
    }
   ],
   "source": [
    "#make CV spit 80/20 object\n",
    "from sklearn.model_selection import ShuffleSplit\n",
    "num_cv_iterations = 3\n",
    "num_instances = len(y)\n",
    "cv_object = ShuffleSplit(n_splits=num_cv_iterations,\n",
    "                         test_size  = 0.2)\n",
    "                         \n",
    "print(cv_object)"
   ]
  },
  {
   "cell_type": "markdown",
   "metadata": {},
   "source": [
    "### Option 4 Logistic Regression   Unscaled data"
   ]
  },
  {
   "cell_type": "code",
   "execution_count": 249,
   "metadata": {},
   "outputs": [
    {
     "data": {
      "text/plain": [
       "GridSearchCV(cv=ShuffleSplit(n_splits=3, random_state=None, test_size=0.2, train_size=None),\n",
       "             error_score='raise-deprecating',\n",
       "             estimator=LogisticRegression(C=1.0, class_weight=None, dual=False,\n",
       "                                          fit_intercept=True,\n",
       "                                          intercept_scaling=1, l1_ratio=None,\n",
       "                                          max_iter=1000, multi_class='warn',\n",
       "                                          n_jobs=None, penalty='l2',\n",
       "                                          random_state=None, solver='warn',\n",
       "                                          tol=0.0001, verbose=0,\n",
       "                                          warm_start=False),\n",
       "             iid='warn', n_jobs=None,\n",
       "             param_grid=[{'C': [0.1, 1, 10, 100, 1000], 'penalty': ['l1'],\n",
       "                          'solver': ['liblinear']},\n",
       "                         {'C': [0.1, 1, 10, 100, 1000], 'penalty': ['l2'],\n",
       "                          'solver': ['lbfgs']}],\n",
       "             pre_dispatch='2*n_jobs', refit=True, return_train_score=False,\n",
       "             scoring='roc_auc', verbose=0)"
      ]
     },
     "execution_count": 249,
     "metadata": {},
     "output_type": "execute_result"
    }
   ],
   "source": [
    "\n",
    "from sklearn.linear_model import LogisticRegression\n",
    "#make a grid search for logistic regression\n",
    "from sklearn.model_selection import GridSearchCV\n",
    "\n",
    "param_grid = [\n",
    "  {'C': [.1, 1, 10, 100, 1000],\n",
    "   'penalty': ['l1'],\n",
    "   'solver': ['liblinear']},\n",
    "  {'C': [.1, 1, 10, 100, 1000],\n",
    "   'penalty': ['l2'], \n",
    "   'solver': ['lbfgs']},\n",
    " ]\n",
    "\n",
    "lr = LogisticRegression(max_iter=1000)\n",
    "clf = GridSearchCV(lr, param_grid, scoring=\"roc_auc\",cv=cv_object)\n",
    "clf.fit(X, y)\n"
   ]
  },
  {
   "cell_type": "code",
   "execution_count": 250,
   "metadata": {},
   "outputs": [
    {
     "name": "stdout",
     "output_type": "stream",
     "text": [
      "Best: 0.775471 using {'C': 0.1, 'penalty': 'l1', 'solver': 'liblinear'}\n",
      "0.775471 (0.003305) with: {'C': 0.1, 'penalty': 'l1', 'solver': 'liblinear'}\n",
      "0.775458 (0.003269) with: {'C': 1, 'penalty': 'l1', 'solver': 'liblinear'}\n",
      "0.775389 (0.003346) with: {'C': 10, 'penalty': 'l1', 'solver': 'liblinear'}\n",
      "0.775435 (0.003269) with: {'C': 100, 'penalty': 'l1', 'solver': 'liblinear'}\n",
      "0.775338 (0.003384) with: {'C': 1000, 'penalty': 'l1', 'solver': 'liblinear'}\n",
      "0.626595 (0.016057) with: {'C': 0.1, 'penalty': 'l2', 'solver': 'lbfgs'}\n",
      "0.669555 (0.076797) with: {'C': 1, 'penalty': 'l2', 'solver': 'lbfgs'}\n",
      "0.626590 (0.016051) with: {'C': 10, 'penalty': 'l2', 'solver': 'lbfgs'}\n",
      "0.626591 (0.016053) with: {'C': 100, 'penalty': 'l2', 'solver': 'lbfgs'}\n",
      "0.626590 (0.016051) with: {'C': 1000, 'penalty': 'l2', 'solver': 'lbfgs'}\n"
     ]
    }
   ],
   "source": [
    "#code adapted from https://machinelearningmastery.com/hyperparameters-for-classification-machine-learning-algorithms/\n",
    "print(\"Best: %f using %s\" % (clf.best_score_, clf.best_params_))\n",
    "means = clf.cv_results_['mean_test_score']\n",
    "stds = clf.cv_results_['std_test_score']\n",
    "params = clf.cv_results_['params']\n",
    "for mean, stdev, param in zip(means, stds, params):\n",
    "    print(\"%f (%f) with: %r\" % (mean, stdev, param))"
   ]
  },
  {
   "cell_type": "markdown",
   "metadata": {},
   "source": [
    "### Metrics for Logistic Regression Unscaled data Option 4"
   ]
  },
  {
   "cell_type": "code",
   "execution_count": 251,
   "metadata": {},
   "outputs": [],
   "source": [
    "#LogisticRegression(solver='lbfgs')\n",
    "lr_clf = LogisticRegression(penalty='l1', C=0.1, class_weight=None, solver='liblinear' ) # get object\n"
   ]
  },
  {
   "cell_type": "code",
   "execution_count": 252,
   "metadata": {},
   "outputs": [
    {
     "name": "stdout",
     "output_type": "stream",
     "text": [
      "====Iteration 0  ====\n",
      "auc 0.7783827776719541\n",
      "confusion matrix\n",
      " [[3313 1306]\n",
      " [1722 4270]]\n",
      "F1 Score:  0.7382434301521439\n",
      "accuracy 0.7146357553482235\n",
      "              precision    recall  f1-score   support\n",
      "\n",
      "           0       0.66      0.72      0.69      4619\n",
      "           1       0.77      0.71      0.74      5992\n",
      "\n",
      "    accuracy                           0.71     10611\n",
      "   macro avg       0.71      0.71      0.71     10611\n",
      "weighted avg       0.72      0.71      0.72     10611\n",
      "\n",
      "====Iteration 1  ====\n",
      "auc 0.7786547643519837\n",
      "confusion matrix\n",
      " [[3330 1263]\n",
      " [1762 4256]]\n",
      "F1 Score:  0.7378001213487042\n",
      "accuracy 0.7149184808217887\n",
      "              precision    recall  f1-score   support\n",
      "\n",
      "           0       0.65      0.73      0.69      4593\n",
      "           1       0.77      0.71      0.74      6018\n",
      "\n",
      "    accuracy                           0.71     10611\n",
      "   macro avg       0.71      0.72      0.71     10611\n",
      "weighted avg       0.72      0.71      0.72     10611\n",
      "\n",
      "====Iteration 2  ====\n",
      "auc 0.7842868275020207\n",
      "confusion matrix\n",
      " [[3408 1221]\n",
      " [1779 4203]]\n",
      "F1 Score:  0.7369805365597054\n",
      "accuracy 0.7172745264348318\n",
      "              precision    recall  f1-score   support\n",
      "\n",
      "           0       0.66      0.74      0.69      4629\n",
      "           1       0.77      0.70      0.74      5982\n",
      "\n",
      "    accuracy                           0.72     10611\n",
      "   macro avg       0.72      0.72      0.72     10611\n",
      "weighted avg       0.72      0.72      0.72     10611\n",
      "\n"
     ]
    }
   ],
   "source": [
    "iter_num=0\n",
    "for train_indices, test_indices in cv_object.split(X,y): \n",
    "    X_train = X[train_indices]\n",
    "    y_train = y[train_indices]\n",
    "    \n",
    "    X_test = X[test_indices]\n",
    "    y_test = y[test_indices]\n",
    "    \n",
    "    lr_clf.fit(X_train,y_train)\n",
    "    y_hat = lr_clf.predict(X_test)\n",
    "    y_prob=lr_clf.predict_proba(X_test)[:,1]\n",
    "\n",
    "    #acc = mt.accuracy_score(y_test,y_hat)\n",
    "    conf = mt.confusion_matrix(y_test,y_hat)\n",
    "    auc = mt.roc_auc_score(y_test,y_prob)\n",
    "    print(\"====Iteration\",iter_num,\" ====\")\n",
    "   # print(\"accuracy\", acc )\n",
    "    print(\"auc\", auc )\n",
    "    print(\"confusion matrix\\n\",conf)\n",
    "    \n",
    "    # Show the F1 Score\n",
    "    fscore = mt.f1_score(y_test,y_hat)\n",
    "    print(\"F1 Score: \", fscore)\n",
    "    \n",
    "    # Show the Accuracy Score\n",
    "    acc = mt.accuracy_score(y_test,y_hat)\n",
    "    print(\"accuracy\", acc )\n",
    "    \n",
    "    # Show the Classification Matrix\n",
    "    print(mt.classification_report(y_test,y_hat))\n",
    "    \n",
    "    iter_num+=1"
   ]
  },
  {
   "cell_type": "markdown",
   "metadata": {},
   "source": [
    "### Logistic Regression Option 4 Scaled data train/test split"
   ]
  },
  {
   "cell_type": "code",
   "execution_count": 253,
   "metadata": {},
   "outputs": [],
   "source": [
    "#make CV spit 80/20 object\n",
    "from sklearn.model_selection import ShuffleSplit\n",
    "num_cv_iterations = 3\n",
    "num_instances = len(y)\n",
    "cv_object = ShuffleSplit(n_splits=num_cv_iterations,\n",
    "                         test_size  = 0.2)"
   ]
  },
  {
   "cell_type": "markdown",
   "metadata": {},
   "source": [
    "### Logistic Regression Scaled, Option 4 Hyper Parameter Tuning "
   ]
  },
  {
   "cell_type": "code",
   "execution_count": 254,
   "metadata": {},
   "outputs": [
    {
     "data": {
      "text/plain": [
       "GridSearchCV(cv=ShuffleSplit(n_splits=3, random_state=None, test_size=0.2, train_size=None),\n",
       "             error_score='raise-deprecating',\n",
       "             estimator=Pipeline(memory=None,\n",
       "                                steps=[('scaler',\n",
       "                                        StandardScaler(copy=True,\n",
       "                                                       with_mean=True,\n",
       "                                                       with_std=True)),\n",
       "                                       ('classifier',\n",
       "                                        LogisticRegression(C=1.0,\n",
       "                                                           class_weight=None,\n",
       "                                                           dual=False,\n",
       "                                                           fit_intercept=True,\n",
       "                                                           intercept_scaling=1,\n",
       "                                                           l1_ratio=None,\n",
       "                                                           max_...\n",
       "                                verbose=False),\n",
       "             iid='warn', n_jobs=None,\n",
       "             param_grid=[{'classifier__C': [0.1, 1, 10, 100, 1000],\n",
       "                          'classifier__penalty': ['l1'],\n",
       "                          'classifier__solver': ['liblinear', 'saga']},\n",
       "                         {'classifier__C': [0.1, 1, 10, 100, 1000],\n",
       "                          'classifier__penalty': ['l2'],\n",
       "                          'classifier__solver': ['lbfgs', 'sag', 'saga']}],\n",
       "             pre_dispatch='2*n_jobs', refit=True, return_train_score=False,\n",
       "             scoring='roc_auc', verbose=0)"
      ]
     },
     "execution_count": 254,
     "metadata": {},
     "output_type": "execute_result"
    }
   ],
   "source": [
    "\n",
    "#make a grid search for logistic regression\n",
    "from sklearn.model_selection import GridSearchCV\n",
    "\n",
    "param_grid = [\n",
    "  {'classifier__C': [.1, 1, 10, 100, 1000],\n",
    "   'classifier__penalty': ['l1'],\n",
    "   'classifier__solver': ['liblinear', 'saga']},\n",
    "  {'classifier__C': [.1, 1, 10, 100, 1000],\n",
    "   'classifier__penalty': ['l2'], \n",
    "   'classifier__solver': ['lbfgs', 'sag', 'saga']},\n",
    " ]\n",
    "\n",
    "lr = Pipeline([\n",
    "    ('scaler', StandardScaler()),\n",
    "    ('classifier', LogisticRegression(solver='lbfgs'))])\n",
    "clf = GridSearchCV(lr, param_grid, scoring=\"roc_auc\", cv=cv_object)\n",
    "clf.fit(X, y)\n"
   ]
  },
  {
   "cell_type": "code",
   "execution_count": 255,
   "metadata": {},
   "outputs": [
    {
     "name": "stdout",
     "output_type": "stream",
     "text": [
      "Best: 0.775090 using {'classifier__C': 0.1, 'classifier__penalty': 'l1', 'classifier__solver': 'saga'}\n",
      "0.775087 (0.002695) with: {'classifier__C': 0.1, 'classifier__penalty': 'l1', 'classifier__solver': 'liblinear'}\n",
      "0.775090 (0.002695) with: {'classifier__C': 0.1, 'classifier__penalty': 'l1', 'classifier__solver': 'saga'}\n",
      "0.775075 (0.002702) with: {'classifier__C': 1, 'classifier__penalty': 'l1', 'classifier__solver': 'liblinear'}\n",
      "0.775075 (0.002701) with: {'classifier__C': 1, 'classifier__penalty': 'l1', 'classifier__solver': 'saga'}\n",
      "0.775073 (0.002702) with: {'classifier__C': 10, 'classifier__penalty': 'l1', 'classifier__solver': 'liblinear'}\n",
      "0.775074 (0.002701) with: {'classifier__C': 10, 'classifier__penalty': 'l1', 'classifier__solver': 'saga'}\n",
      "0.775073 (0.002701) with: {'classifier__C': 100, 'classifier__penalty': 'l1', 'classifier__solver': 'liblinear'}\n",
      "0.775074 (0.002701) with: {'classifier__C': 100, 'classifier__penalty': 'l1', 'classifier__solver': 'saga'}\n",
      "0.775073 (0.002702) with: {'classifier__C': 1000, 'classifier__penalty': 'l1', 'classifier__solver': 'liblinear'}\n",
      "0.775074 (0.002701) with: {'classifier__C': 1000, 'classifier__penalty': 'l1', 'classifier__solver': 'saga'}\n",
      "0.775066 (0.002706) with: {'classifier__C': 0.1, 'classifier__penalty': 'l2', 'classifier__solver': 'lbfgs'}\n",
      "0.775066 (0.002706) with: {'classifier__C': 0.1, 'classifier__penalty': 'l2', 'classifier__solver': 'sag'}\n",
      "0.775066 (0.002705) with: {'classifier__C': 0.1, 'classifier__penalty': 'l2', 'classifier__solver': 'saga'}\n",
      "0.775073 (0.002702) with: {'classifier__C': 1, 'classifier__penalty': 'l2', 'classifier__solver': 'lbfgs'}\n",
      "0.775074 (0.002702) with: {'classifier__C': 1, 'classifier__penalty': 'l2', 'classifier__solver': 'sag'}\n",
      "0.775073 (0.002702) with: {'classifier__C': 1, 'classifier__penalty': 'l2', 'classifier__solver': 'saga'}\n",
      "0.775073 (0.002702) with: {'classifier__C': 10, 'classifier__penalty': 'l2', 'classifier__solver': 'lbfgs'}\n",
      "0.775073 (0.002702) with: {'classifier__C': 10, 'classifier__penalty': 'l2', 'classifier__solver': 'sag'}\n",
      "0.775073 (0.002702) with: {'classifier__C': 10, 'classifier__penalty': 'l2', 'classifier__solver': 'saga'}\n",
      "0.775073 (0.002702) with: {'classifier__C': 100, 'classifier__penalty': 'l2', 'classifier__solver': 'lbfgs'}\n",
      "0.775074 (0.002702) with: {'classifier__C': 100, 'classifier__penalty': 'l2', 'classifier__solver': 'sag'}\n",
      "0.775073 (0.002702) with: {'classifier__C': 100, 'classifier__penalty': 'l2', 'classifier__solver': 'saga'}\n",
      "0.775073 (0.002702) with: {'classifier__C': 1000, 'classifier__penalty': 'l2', 'classifier__solver': 'lbfgs'}\n",
      "0.775074 (0.002702) with: {'classifier__C': 1000, 'classifier__penalty': 'l2', 'classifier__solver': 'sag'}\n",
      "0.775074 (0.002702) with: {'classifier__C': 1000, 'classifier__penalty': 'l2', 'classifier__solver': 'saga'}\n"
     ]
    }
   ],
   "source": [
    "#code adapted from https://machinelearningmastery.com/hyperparameters-for-classification-machine-learning-algorithms/\n",
    "print(\"Best: %f using %s\" % (clf.best_score_, clf.best_params_))\n",
    "means = clf.cv_results_['mean_test_score']\n",
    "stds = clf.cv_results_['std_test_score']\n",
    "params = clf.cv_results_['params']\n",
    "for mean, stdev, param in zip(means, stds, params):\n",
    "    print(\"%f (%f) with: %r\" % (mean, stdev, param))"
   ]
  },
  {
   "cell_type": "markdown",
   "metadata": {},
   "source": [
    "### Metrics Option 4 Logistic Regression Scaled data"
   ]
  },
  {
   "cell_type": "code",
   "execution_count": 256,
   "metadata": {},
   "outputs": [
    {
     "name": "stdout",
     "output_type": "stream",
     "text": [
      "0.7841996140361748\n",
      "[0.71661483 0.71736877 0.71944209]\n"
     ]
    }
   ],
   "source": [
    "lr_clf = make_pipeline(StandardScaler(), LogisticRegression(C= 0.1, penalty= 'l1', solver= 'saga'))\n",
    "model_s=lr_clf\n",
    "model_s.fit(X_train, y_train)\n",
    "pred_prob_s = model_s.predict_proba(X_test)\n",
    "auc_score_s = roc_auc_score(y_test, pred_prob_s[:,1])\n",
    "accuracies = cross_val_score(lr_clf, X, y=y, cv=cv_object)\n",
    "print(auc_score_s)\n",
    "print(accuracies)\n"
   ]
  },
  {
   "cell_type": "code",
   "execution_count": 257,
   "metadata": {},
   "outputs": [
    {
     "name": "stdout",
     "output_type": "stream",
     "text": [
      "====Iteration 0  ====\n",
      "auc 0.7775735765990088\n",
      "confusion matrix\n",
      " [[3385 1279]\n",
      " [1749 4198]]\n",
      "F1 Score:  0.7349439775910365\n",
      "accuracy 0.7146357553482235\n",
      "              precision    recall  f1-score   support\n",
      "\n",
      "           0       0.66      0.73      0.69      4664\n",
      "           1       0.77      0.71      0.73      5947\n",
      "\n",
      "    accuracy                           0.71     10611\n",
      "   macro avg       0.71      0.72      0.71     10611\n",
      "weighted avg       0.72      0.71      0.72     10611\n",
      "\n",
      "====Iteration 1  ====\n",
      "auc 0.7803181230810209\n",
      "confusion matrix\n",
      " [[3412 1288]\n",
      " [1715 4196]]\n",
      "F1 Score:  0.7364633611232998\n",
      "accuracy 0.7169918009612666\n",
      "              precision    recall  f1-score   support\n",
      "\n",
      "           0       0.67      0.73      0.69      4700\n",
      "           1       0.77      0.71      0.74      5911\n",
      "\n",
      "    accuracy                           0.72     10611\n",
      "   macro avg       0.72      0.72      0.72     10611\n",
      "weighted avg       0.72      0.72      0.72     10611\n",
      "\n",
      "====Iteration 2  ====\n",
      "auc 0.7768649936598082\n",
      "confusion matrix\n",
      " [[3403 1314]\n",
      " [1712 4182]]\n",
      "F1 Score:  0.7343283582089553\n",
      "accuracy 0.714824238997267\n",
      "              precision    recall  f1-score   support\n",
      "\n",
      "           0       0.67      0.72      0.69      4717\n",
      "           1       0.76      0.71      0.73      5894\n",
      "\n",
      "    accuracy                           0.71     10611\n",
      "   macro avg       0.71      0.72      0.71     10611\n",
      "weighted avg       0.72      0.71      0.72     10611\n",
      "\n"
     ]
    }
   ],
   "source": [
    "iter_num=0\n",
    "for train_indices, test_indices in cv_object.split(X,y): \n",
    "    X_train = X[train_indices]\n",
    "    y_train = y[train_indices]\n",
    "    \n",
    "    X_test = X[test_indices]\n",
    "    y_test = y[test_indices]\n",
    "    \n",
    "    lr_clf.fit(X_train,y_train)\n",
    "    y_hat = lr_clf.predict(X_test)\n",
    "    y_prob=lr_clf.predict_proba(X_test)[:,1]\n",
    "\n",
    "    #acc = mt.accuracy_score(y_test,y_hat)\n",
    "    conf = mt.confusion_matrix(y_test,y_hat)\n",
    "    auc = mt.roc_auc_score(y_test,y_prob)\n",
    "    print(\"====Iteration\",iter_num,\" ====\")\n",
    "   # print(\"accuracy\", acc )\n",
    "    print(\"auc\", auc )\n",
    "    print(\"confusion matrix\\n\",conf)\n",
    "    \n",
    "     # Show the F1 Score\n",
    "    fscore = mt.f1_score(y_test,y_hat)\n",
    "    print(\"F1 Score: \", fscore)\n",
    "    \n",
    "    # Show the Accuracy Score\n",
    "    acc = mt.accuracy_score(y_test,y_hat)\n",
    "    print(\"accuracy\", acc )\n",
    "    \n",
    "    # Show the Classification Matrix\n",
    "    print(mt.classification_report(y_test,y_hat))\n",
    "    \n",
    "    iter_num+=1"
   ]
  },
  {
   "cell_type": "code",
   "execution_count": 258,
   "metadata": {},
   "outputs": [
    {
     "data": {
      "text/plain": [
       "\"lr_clf = make_pipeline(StandardScaler(), LogisticRegression( solver= 'lbfgs'))\\naccuracies = cross_val_score(lr_clf, X, y=y, cv=cv_object)\\nprint(accuracies)\\n\""
      ]
     },
     "execution_count": 258,
     "metadata": {},
     "output_type": "execute_result"
    }
   ],
   "source": [
    "\"\"\"lr_clf = make_pipeline(StandardScaler(), LogisticRegression( solver= 'lbfgs'))\n",
    "accuracies = cross_val_score(lr_clf, X, y=y, cv=cv_object)\n",
    "print(accuracies)\n",
    "\"\"\""
   ]
  },
  {
   "cell_type": "code",
   "execution_count": 259,
   "metadata": {},
   "outputs": [
    {
     "data": {
      "text/plain": [
       "{'classifier__C': 0.1,\n",
       " 'classifier__penalty': 'l1',\n",
       " 'classifier__solver': 'saga'}"
      ]
     },
     "execution_count": 259,
     "metadata": {},
     "output_type": "execute_result"
    }
   ],
   "source": [
    "clf.best_params_"
   ]
  },
  {
   "cell_type": "code",
   "execution_count": 260,
   "metadata": {},
   "outputs": [
    {
     "data": {
      "text/plain": [
       "Pipeline(memory=None,\n",
       "         steps=[('scaler',\n",
       "                 StandardScaler(copy=True, with_mean=True, with_std=True)),\n",
       "                ('classifier',\n",
       "                 LogisticRegression(C=0.1, class_weight=None, dual=False,\n",
       "                                    fit_intercept=True, intercept_scaling=1,\n",
       "                                    l1_ratio=None, max_iter=100,\n",
       "                                    multi_class='warn', n_jobs=None,\n",
       "                                    penalty='l1', random_state=None,\n",
       "                                    solver='saga', tol=0.0001, verbose=0,\n",
       "                                    warm_start=False))],\n",
       "         verbose=False)"
      ]
     },
     "execution_count": 260,
     "metadata": {},
     "output_type": "execute_result"
    }
   ],
   "source": [
    "clf.best_estimator_"
   ]
  },
  {
   "cell_type": "code",
   "execution_count": 261,
   "metadata": {},
   "outputs": [],
   "source": [
    "model=clf.best_estimator_.fit(X,y)"
   ]
  },
  {
   "cell_type": "code",
   "execution_count": 262,
   "metadata": {},
   "outputs": [
    {
     "data": {
      "text/plain": [
       "array([[0.09138685, 0.30249968, 0.12845425, 0.89963237, 0.28639826]])"
      ]
     },
     "execution_count": 262,
     "metadata": {},
     "output_type": "execute_result"
    }
   ],
   "source": [
    "model.named_steps[\"classifier\"].coef_"
   ]
  },
  {
   "cell_type": "markdown",
   "metadata": {},
   "source": [
    "### Option 4 Logistic Regegression- precision recall curve"
   ]
  },
  {
   "cell_type": "code",
   "execution_count": 263,
   "metadata": {},
   "outputs": [
    {
     "name": "stdout",
     "output_type": "stream",
     "text": [
      "Logistic: ROC AUC=0.777\n"
     ]
    },
    {
     "data": {
      "image/png": "[encoded data removed]",
      "text/plain": [
       "<Figure size 432x288 with 1 Axes>"
      ]
     },
     "metadata": {
      "needs_background": "light"
     },
     "output_type": "display_data"
    }
   ],
   "source": [
    "# roc curve and auc\n",
    "\n",
    "lr_clf.fit(X_train, y_train)\n",
    "\n",
    "# predict probabilities\n",
    "lr_probs = lr_clf.predict_proba(X_test)\n",
    "# keep probabilities for the positive outcome only\n",
    "lr_probs = lr_probs[:, 1]\n",
    "# calculate scores\n",
    "lr_auc = roc_auc_score(y_test, lr_probs)\n",
    "# summarize scores\\\n",
    "print('Logistic: ROC AUC=%.3f' % (lr_auc))\n",
    "# calculate roc curves\n",
    "lr_fpr, lr_tpr, _ = roc_curve(y_test, lr_probs)\n",
    "# plot the roc curve for the model\n",
    "pyplot.plot(lr_fpr, lr_tpr, marker='.', label='Logistic')\n",
    "# axis labels\n",
    "pyplot.xlabel('False Positive Rate')\n",
    "pyplot.ylabel('True Positive Rate')\n",
    "# show the legend\n",
    "pyplot.legend()\n",
    "# show the plot\n",
    "pyplot.show()"
   ]
  },
  {
   "cell_type": "markdown",
   "metadata": {},
   "source": [
    "\n",
    "\n",
    "\n",
    "## Logistic Regession Option 5   bmi, age, bp, cholesterol"
   ]
  },
  {
   "cell_type": "code",
   "execution_count": 264,
   "metadata": {},
   "outputs": [],
   "source": [
    "y = df['cardio'].values # get the labels we want\n",
    "X = df[['bmi','age','bp','cholesterol']].values"
   ]
  },
  {
   "cell_type": "code",
   "execution_count": 265,
   "metadata": {},
   "outputs": [
    {
     "data": {
      "text/plain": [
       "array([[3.49276792e+01, 2.02280000e+04, 4.00000000e+00, 3.00000000e+00],\n",
       "       [2.35078053e+01, 1.88570000e+04, 3.00000000e+00, 3.00000000e+00],\n",
       "       [2.87104793e+01, 1.76230000e+04, 4.00000000e+00, 1.00000000e+00],\n",
       "       ...,\n",
       "       [3.13535788e+01, 1.90660000e+04, 4.00000000e+00, 3.00000000e+00],\n",
       "       [2.70992510e+01, 2.24310000e+04, 3.00000000e+00, 1.00000000e+00],\n",
       "       [2.49134948e+01, 2.05400000e+04, 3.00000000e+00, 2.00000000e+00]])"
      ]
     },
     "execution_count": 265,
     "metadata": {},
     "output_type": "execute_result"
    }
   ],
   "source": [
    "X"
   ]
  },
  {
   "cell_type": "markdown",
   "metadata": {},
   "source": [
    "### Option 5 Logistic Regression Option 5 unscaled data model"
   ]
  },
  {
   "cell_type": "code",
   "execution_count": 266,
   "metadata": {},
   "outputs": [
    {
     "name": "stdout",
     "output_type": "stream",
     "text": [
      "ShuffleSplit(n_splits=3, random_state=None, test_size=0.2, train_size=None)\n"
     ]
    }
   ],
   "source": [
    "#make CV spit 80/20 object\n",
    "from sklearn.model_selection import ShuffleSplit\n",
    "num_cv_iterations = 3\n",
    "num_instances = len(y)\n",
    "cv_object = ShuffleSplit(n_splits=num_cv_iterations,\n",
    "                         test_size  = 0.2)\n",
    "                         \n",
    "print(cv_object)"
   ]
  },
  {
   "cell_type": "markdown",
   "metadata": {},
   "source": [
    "### Option 5 Logistic Regression unscaled data"
   ]
  },
  {
   "cell_type": "code",
   "execution_count": 267,
   "metadata": {},
   "outputs": [
    {
     "data": {
      "text/plain": [
       "GridSearchCV(cv=ShuffleSplit(n_splits=3, random_state=None, test_size=0.2, train_size=None),\n",
       "             error_score='raise-deprecating',\n",
       "             estimator=LogisticRegression(C=1.0, class_weight=None, dual=False,\n",
       "                                          fit_intercept=True,\n",
       "                                          intercept_scaling=1, l1_ratio=None,\n",
       "                                          max_iter=1000, multi_class='warn',\n",
       "                                          n_jobs=None, penalty='l2',\n",
       "                                          random_state=None, solver='warn',\n",
       "                                          tol=0.0001, verbose=0,\n",
       "                                          warm_start=False),\n",
       "             iid='warn', n_jobs=None,\n",
       "             param_grid=[{'C': [0.1, 1, 10, 100, 1000], 'penalty': ['l1'],\n",
       "                          'solver': ['liblinear']},\n",
       "                         {'C': [0.1, 1, 10, 100, 1000], 'penalty': ['l2'],\n",
       "                          'solver': ['lbfgs']}],\n",
       "             pre_dispatch='2*n_jobs', refit=True, return_train_score=False,\n",
       "             scoring='roc_auc', verbose=0)"
      ]
     },
     "execution_count": 267,
     "metadata": {},
     "output_type": "execute_result"
    }
   ],
   "source": [
    "\n",
    "from sklearn.linear_model import LogisticRegression\n",
    "#make a grid search for logistic regression\n",
    "from sklearn.model_selection import GridSearchCV\n",
    "\n",
    "param_grid = [\n",
    "  {'C': [.1, 1, 10, 100, 1000],\n",
    "   'penalty': ['l1'],\n",
    "   'solver': ['liblinear']},\n",
    "  {'C': [.1, 1, 10, 100, 1000],\n",
    "   'penalty': ['l2'], \n",
    "   'solver': ['lbfgs']},\n",
    " ]\n",
    "\n",
    "lr = LogisticRegression(max_iter=1000)\n",
    "clf = GridSearchCV(lr, param_grid, scoring=\"roc_auc\",cv=cv_object)\n",
    "clf.fit(X, y)\n",
    "\n"
   ]
  },
  {
   "cell_type": "markdown",
   "metadata": {},
   "source": [
    "### Metrics for Logistic Regression Option 5 Unscaled data"
   ]
  },
  {
   "cell_type": "code",
   "execution_count": 268,
   "metadata": {},
   "outputs": [],
   "source": [
    "LogisticRegression()\n",
    "lr_clf = LogisticRegression(penalty='l2', C=1.0, class_weight=None, solver='liblinear' ) # get object\n",
    "\n"
   ]
  },
  {
   "cell_type": "markdown",
   "metadata": {},
   "source": [
    "### Metrics for Logistic Regression Option 5 Unscaled data"
   ]
  },
  {
   "cell_type": "code",
   "execution_count": 269,
   "metadata": {},
   "outputs": [
    {
     "name": "stdout",
     "output_type": "stream",
     "text": [
      "====Iteration 0  ====\n",
      "auc 0.6662149731366038\n",
      "confusion matrix\n",
      " [[1106 3637]\n",
      " [ 933 4935]]\n",
      "F1 Score:  0.6835180055401662\n",
      "accuracy 0.5693148619357271\n",
      "              precision    recall  f1-score   support\n",
      "\n",
      "           0       0.54      0.23      0.33      4743\n",
      "           1       0.58      0.84      0.68      5868\n",
      "\n",
      "    accuracy                           0.57     10611\n",
      "   macro avg       0.56      0.54      0.50     10611\n",
      "weighted avg       0.56      0.57      0.52     10611\n",
      "\n",
      "====Iteration 1  ====\n",
      "auc 0.6635829473647095\n",
      "confusion matrix\n",
      " [[1409 3301]\n",
      " [1111 4790]]\n",
      "F1 Score:  0.6846769582618639\n",
      "accuracy 0.5842050702101592\n",
      "              precision    recall  f1-score   support\n",
      "\n",
      "           0       0.56      0.30      0.39      4710\n",
      "           1       0.59      0.81      0.68      5901\n",
      "\n",
      "    accuracy                           0.58     10611\n",
      "   macro avg       0.58      0.56      0.54     10611\n",
      "weighted avg       0.58      0.58      0.55     10611\n",
      "\n",
      "====Iteration 2  ====\n",
      "auc 0.6764016364065994\n",
      "confusion matrix\n",
      " [[1143 3613]\n",
      " [ 869 4986]]\n",
      "F1 Score:  0.6899128268991283\n",
      "accuracy 0.5776081424936387\n",
      "              precision    recall  f1-score   support\n",
      "\n",
      "           0       0.57      0.24      0.34      4756\n",
      "           1       0.58      0.85      0.69      5855\n",
      "\n",
      "    accuracy                           0.58     10611\n",
      "   macro avg       0.57      0.55      0.51     10611\n",
      "weighted avg       0.57      0.58      0.53     10611\n",
      "\n"
     ]
    }
   ],
   "source": [
    "iter_num=0\n",
    "for train_indices, test_indices in cv_object.split(X,y): \n",
    "    X_train = X[train_indices]\n",
    "    y_train = y[train_indices]\n",
    "    \n",
    "    X_test = X[test_indices]\n",
    "    y_test = y[test_indices]\n",
    "    \n",
    "    lr_clf.fit(X_train,y_train)\n",
    "    y_hat = lr_clf.predict(X_test)\n",
    "    y_prob=lr_clf.predict_proba(X_test)[:,1]\n",
    "\n",
    "    #acc = mt.accuracy_score(y_test,y_hat)\n",
    "    conf = mt.confusion_matrix(y_test,y_hat)\n",
    "    auc = mt.roc_auc_score(y_test,y_prob)\n",
    "    print(\"====Iteration\",iter_num,\" ====\")\n",
    "   # print(\"accuracy\", acc )\n",
    "    print(\"auc\", auc )\n",
    "    print(\"confusion matrix\\n\",conf)\n",
    "        \n",
    "     # Show the F1 Score\n",
    "    fscore = mt.f1_score(y_test,y_hat)\n",
    "    print(\"F1 Score: \", fscore)\n",
    "    \n",
    "    # Show the Accuracy Score\n",
    "    acc = mt.accuracy_score(y_test,y_hat)\n",
    "    print(\"accuracy\", acc )\n",
    "    \n",
    "    # Show the Classification Matrix\n",
    "    print(mt.classification_report(y_test,y_hat))\n",
    "    \n",
    "    iter_num+=1"
   ]
  },
  {
   "cell_type": "markdown",
   "metadata": {},
   "source": [
    "### Option 5 Logistic Regression Scaled data train/test split"
   ]
  },
  {
   "cell_type": "code",
   "execution_count": 270,
   "metadata": {},
   "outputs": [],
   "source": [
    "#make CV spit 80/20 object\n",
    "from sklearn.model_selection import ShuffleSplit\n",
    "num_cv_iterations = 3\n",
    "num_instances = len(y)\n",
    "cv_object = ShuffleSplit(n_splits=num_cv_iterations,\n",
    "                         test_size  = 0.2)"
   ]
  },
  {
   "cell_type": "markdown",
   "metadata": {},
   "source": [
    "### Option 5 Logistic Regression Scaled Data Hyper Parameter Tuning "
   ]
  },
  {
   "cell_type": "code",
   "execution_count": 271,
   "metadata": {},
   "outputs": [
    {
     "data": {
      "text/plain": [
       "GridSearchCV(cv=ShuffleSplit(n_splits=3, random_state=None, test_size=0.2, train_size=None),\n",
       "             error_score='raise-deprecating',\n",
       "             estimator=Pipeline(memory=None,\n",
       "                                steps=[('scaler',\n",
       "                                        StandardScaler(copy=True,\n",
       "                                                       with_mean=True,\n",
       "                                                       with_std=True)),\n",
       "                                       ('classifier',\n",
       "                                        LogisticRegression(C=1.0,\n",
       "                                                           class_weight=None,\n",
       "                                                           dual=False,\n",
       "                                                           fit_intercept=True,\n",
       "                                                           intercept_scaling=1,\n",
       "                                                           l1_ratio=None,\n",
       "                                                           max_...\n",
       "                                verbose=False),\n",
       "             iid='warn', n_jobs=None,\n",
       "             param_grid=[{'classifier__C': [0.1, 1, 10, 100, 1000],\n",
       "                          'classifier__penalty': ['l1'],\n",
       "                          'classifier__solver': ['liblinear', 'saga']},\n",
       "                         {'classifier__C': [0.1, 1, 10, 100, 1000],\n",
       "                          'classifier__penalty': ['l2'],\n",
       "                          'classifier__solver': ['lbfgs', 'sag', 'saga']}],\n",
       "             pre_dispatch='2*n_jobs', refit=True, return_train_score=False,\n",
       "             scoring='roc_auc', verbose=0)"
      ]
     },
     "execution_count": 271,
     "metadata": {},
     "output_type": "execute_result"
    }
   ],
   "source": [
    "from sklearn.linear_model import LogisticRegression\n",
    "#make a grid search for logistic regression\n",
    "from sklearn.model_selection import GridSearchCV\n",
    "\n",
    "param_grid = [\n",
    "  {'classifier__C': [.1, 1, 10, 100, 1000],\n",
    "   'classifier__penalty': ['l1'],\n",
    "   'classifier__solver': ['liblinear', 'saga']},\n",
    "  {'classifier__C': [.1, 1, 10, 100, 1000],\n",
    "   'classifier__penalty': ['l2'], \n",
    "   'classifier__solver': ['lbfgs', 'sag', 'saga']},\n",
    " ]\n",
    "\n",
    "lr = Pipeline([\n",
    "    ('scaler', StandardScaler()),\n",
    "    ('classifier', LogisticRegression(solver='lbfgs'))])\n",
    "clf = GridSearchCV(lr, param_grid, scoring=\"roc_auc\", cv=cv_object)\n",
    "clf.fit(X, y)\n",
    "\n"
   ]
  },
  {
   "cell_type": "code",
   "execution_count": 272,
   "metadata": {},
   "outputs": [
    {
     "name": "stdout",
     "output_type": "stream",
     "text": [
      "Best: 0.751756 using {'classifier__C': 0.1, 'classifier__penalty': 'l1', 'classifier__solver': 'saga'}\n",
      "0.751755 (0.001382) with: {'classifier__C': 0.1, 'classifier__penalty': 'l1', 'classifier__solver': 'liblinear'}\n",
      "0.751756 (0.001383) with: {'classifier__C': 0.1, 'classifier__penalty': 'l1', 'classifier__solver': 'saga'}\n",
      "0.751753 (0.001383) with: {'classifier__C': 1, 'classifier__penalty': 'l1', 'classifier__solver': 'liblinear'}\n",
      "0.751754 (0.001383) with: {'classifier__C': 1, 'classifier__penalty': 'l1', 'classifier__solver': 'saga'}\n",
      "0.751753 (0.001383) with: {'classifier__C': 10, 'classifier__penalty': 'l1', 'classifier__solver': 'liblinear'}\n",
      "0.751753 (0.001383) with: {'classifier__C': 10, 'classifier__penalty': 'l1', 'classifier__solver': 'saga'}\n",
      "0.751754 (0.001383) with: {'classifier__C': 100, 'classifier__penalty': 'l1', 'classifier__solver': 'liblinear'}\n",
      "0.751754 (0.001383) with: {'classifier__C': 100, 'classifier__penalty': 'l1', 'classifier__solver': 'saga'}\n",
      "0.751754 (0.001383) with: {'classifier__C': 1000, 'classifier__penalty': 'l1', 'classifier__solver': 'liblinear'}\n",
      "0.751754 (0.001383) with: {'classifier__C': 1000, 'classifier__penalty': 'l1', 'classifier__solver': 'saga'}\n",
      "0.751752 (0.001384) with: {'classifier__C': 0.1, 'classifier__penalty': 'l2', 'classifier__solver': 'lbfgs'}\n",
      "0.751752 (0.001384) with: {'classifier__C': 0.1, 'classifier__penalty': 'l2', 'classifier__solver': 'sag'}\n",
      "0.751752 (0.001384) with: {'classifier__C': 0.1, 'classifier__penalty': 'l2', 'classifier__solver': 'saga'}\n",
      "0.751754 (0.001383) with: {'classifier__C': 1, 'classifier__penalty': 'l2', 'classifier__solver': 'lbfgs'}\n",
      "0.751754 (0.001383) with: {'classifier__C': 1, 'classifier__penalty': 'l2', 'classifier__solver': 'sag'}\n",
      "0.751754 (0.001383) with: {'classifier__C': 1, 'classifier__penalty': 'l2', 'classifier__solver': 'saga'}\n",
      "0.751754 (0.001383) with: {'classifier__C': 10, 'classifier__penalty': 'l2', 'classifier__solver': 'lbfgs'}\n",
      "0.751753 (0.001383) with: {'classifier__C': 10, 'classifier__penalty': 'l2', 'classifier__solver': 'sag'}\n",
      "0.751753 (0.001383) with: {'classifier__C': 10, 'classifier__penalty': 'l2', 'classifier__solver': 'saga'}\n",
      "0.751754 (0.001383) with: {'classifier__C': 100, 'classifier__penalty': 'l2', 'classifier__solver': 'lbfgs'}\n",
      "0.751755 (0.001383) with: {'classifier__C': 100, 'classifier__penalty': 'l2', 'classifier__solver': 'sag'}\n",
      "0.751754 (0.001383) with: {'classifier__C': 100, 'classifier__penalty': 'l2', 'classifier__solver': 'saga'}\n",
      "0.751754 (0.001383) with: {'classifier__C': 1000, 'classifier__penalty': 'l2', 'classifier__solver': 'lbfgs'}\n",
      "0.751753 (0.001383) with: {'classifier__C': 1000, 'classifier__penalty': 'l2', 'classifier__solver': 'sag'}\n",
      "0.751754 (0.001383) with: {'classifier__C': 1000, 'classifier__penalty': 'l2', 'classifier__solver': 'saga'}\n"
     ]
    }
   ],
   "source": [
    "#code adapted from https://machinelearningmastery.com/hyperparameters-for-classification-machine-learning-algorithms/\n",
    "print(\"Best: %f using %s\" % (clf.best_score_, clf.best_params_))\n",
    "means = clf.cv_results_['mean_test_score']\n",
    "stds = clf.cv_results_['std_test_score']\n",
    "params = clf.cv_results_['params']\n",
    "for mean, stdev, param in zip(means, stds, params):\n",
    "    print(\"%f (%f) with: %r\" % (mean, stdev, param))"
   ]
  },
  {
   "cell_type": "markdown",
   "metadata": {},
   "source": [
    "### Metrics for Logistic Regression Option 5 Scaled Data"
   ]
  },
  {
   "cell_type": "code",
   "execution_count": 273,
   "metadata": {},
   "outputs": [
    {
     "name": "stdout",
     "output_type": "stream",
     "text": [
      "0.7567287740812271\n",
      "[0.71473    0.71369334 0.71218547]\n"
     ]
    }
   ],
   "source": [
    "lr_clf = make_pipeline(StandardScaler(), LogisticRegression(C= 0.1, penalty= 'l1', solver= 'liblinear'))\n",
    "model_s=lr_clf\n",
    "model_s.fit(X_train, y_train)\n",
    "pred_prob_s = model_s.predict_proba(X_test)\n",
    "auc_score_s = roc_auc_score(y_test, pred_prob_s[:,1])\n",
    "accuracies = cross_val_score(lr_clf, X, y=y, cv=cv_object)\n",
    "print(auc_score_s)\n",
    "print(accuracies)\n"
   ]
  },
  {
   "cell_type": "code",
   "execution_count": 274,
   "metadata": {},
   "outputs": [
    {
     "name": "stdout",
     "output_type": "stream",
     "text": [
      "====Iteration 0  ====\n",
      "auc 0.7541210161800311\n",
      "confusion matrix\n",
      " [[3144 1478]\n",
      " [1565 4424]]\n",
      "F1 Score:  0.7440921705491548\n",
      "accuracy 0.7132221279803977\n",
      "              precision    recall  f1-score   support\n",
      "\n",
      "           0       0.67      0.68      0.67      4622\n",
      "           1       0.75      0.74      0.74      5989\n",
      "\n",
      "    accuracy                           0.71     10611\n",
      "   macro avg       0.71      0.71      0.71     10611\n",
      "weighted avg       0.71      0.71      0.71     10611\n",
      "\n",
      "====Iteration 1  ====\n",
      "auc 0.7579438032485707\n",
      "confusion matrix\n",
      " [[3215 1358]\n",
      " [1635 4403]]\n",
      "F1 Score:  0.7463344351216205\n",
      "accuracy 0.7179342192064838\n",
      "              precision    recall  f1-score   support\n",
      "\n",
      "           0       0.66      0.70      0.68      4573\n",
      "           1       0.76      0.73      0.75      6038\n",
      "\n",
      "    accuracy                           0.72     10611\n",
      "   macro avg       0.71      0.72      0.71     10611\n",
      "weighted avg       0.72      0.72      0.72     10611\n",
      "\n",
      "====Iteration 2  ====\n",
      "auc 0.7548815498271234\n",
      "confusion matrix\n",
      " [[3277 1500]\n",
      " [1550 4284]]\n",
      "F1 Score:  0.7374763298330176\n",
      "accuracy 0.7125624352087456\n",
      "              precision    recall  f1-score   support\n",
      "\n",
      "           0       0.68      0.69      0.68      4777\n",
      "           1       0.74      0.73      0.74      5834\n",
      "\n",
      "    accuracy                           0.71     10611\n",
      "   macro avg       0.71      0.71      0.71     10611\n",
      "weighted avg       0.71      0.71      0.71     10611\n",
      "\n"
     ]
    }
   ],
   "source": [
    "iter_num=0\n",
    "for train_indices, test_indices in cv_object.split(X,y): \n",
    "    X_train = X[train_indices]\n",
    "    y_train = y[train_indices]\n",
    "    \n",
    "    X_test = X[test_indices]\n",
    "    y_test = y[test_indices]\n",
    "    \n",
    "    lr_clf.fit(X_train,y_train)\n",
    "    y_hat = lr_clf.predict(X_test)\n",
    "    y_prob=lr_clf.predict_proba(X_test)[:,1]\n",
    "\n",
    "    #acc = mt.accuracy_score(y_test,y_hat)\n",
    "    conf = mt.confusion_matrix(y_test,y_hat)\n",
    "    auc = mt.roc_auc_score(y_test,y_prob)\n",
    "    print(\"====Iteration\",iter_num,\" ====\")\n",
    "   # print(\"accuracy\", acc )\n",
    "    print(\"auc\", auc )\n",
    "    print(\"confusion matrix\\n\",conf)\n",
    "    \n",
    "     # Show the F1 Score\n",
    "    fscore = mt.f1_score(y_test,y_hat)\n",
    "    print(\"F1 Score: \", fscore)\n",
    "    \n",
    "    # Show the Accuracy Score\n",
    "    acc = mt.accuracy_score(y_test,y_hat)\n",
    "    print(\"accuracy\", acc )\n",
    "    \n",
    "    # Show the Classification Matrix\n",
    "    print(mt.classification_report(y_test,y_hat))\n",
    "        \n",
    "    iter_num+=1"
   ]
  },
  {
   "cell_type": "code",
   "execution_count": 275,
   "metadata": {},
   "outputs": [
    {
     "data": {
      "text/plain": [
       "\"lr_clf = make_pipeline(StandardScaler(), LogisticRegression( solver= 'lbfgs'))\\naccuracies = cross_val_score(lr_clf, X, y=y, cv=cv_object)\\nprint(accuracies)\\n\""
      ]
     },
     "execution_count": 275,
     "metadata": {},
     "output_type": "execute_result"
    }
   ],
   "source": [
    "\"\"\"lr_clf = make_pipeline(StandardScaler(), LogisticRegression( solver= 'lbfgs'))\n",
    "accuracies = cross_val_score(lr_clf, X, y=y, cv=cv_object)\n",
    "print(accuracies)\n",
    "\"\"\""
   ]
  },
  {
   "cell_type": "code",
   "execution_count": 276,
   "metadata": {},
   "outputs": [
    {
     "data": {
      "text/plain": [
       "{'classifier__C': 0.1,\n",
       " 'classifier__penalty': 'l1',\n",
       " 'classifier__solver': 'saga'}"
      ]
     },
     "execution_count": 276,
     "metadata": {},
     "output_type": "execute_result"
    }
   ],
   "source": [
    "clf.best_params_"
   ]
  },
  {
   "cell_type": "code",
   "execution_count": 277,
   "metadata": {},
   "outputs": [
    {
     "data": {
      "text/plain": [
       "Pipeline(memory=None,\n",
       "         steps=[('scaler',\n",
       "                 StandardScaler(copy=True, with_mean=True, with_std=True)),\n",
       "                ('classifier',\n",
       "                 LogisticRegression(C=0.1, class_weight=None, dual=False,\n",
       "                                    fit_intercept=True, intercept_scaling=1,\n",
       "                                    l1_ratio=None, max_iter=100,\n",
       "                                    multi_class='warn', n_jobs=None,\n",
       "                                    penalty='l1', random_state=None,\n",
       "                                    solver='saga', tol=0.0001, verbose=0,\n",
       "                                    warm_start=False))],\n",
       "         verbose=False)"
      ]
     },
     "execution_count": 277,
     "metadata": {},
     "output_type": "execute_result"
    }
   ],
   "source": [
    "clf.best_estimator_"
   ]
  },
  {
   "cell_type": "code",
   "execution_count": 278,
   "metadata": {},
   "outputs": [],
   "source": [
    "model=clf.best_estimator_.fit(X,y)"
   ]
  },
  {
   "cell_type": "code",
   "execution_count": 279,
   "metadata": {},
   "outputs": [
    {
     "data": {
      "text/plain": [
       "array([[0.14476296, 0.31795162, 0.76462517, 0.30719311]])"
      ]
     },
     "execution_count": 279,
     "metadata": {},
     "output_type": "execute_result"
    }
   ],
   "source": [
    "model.named_steps[\"classifier\"].coef_"
   ]
  },
  {
   "cell_type": "markdown",
   "metadata": {},
   "source": [
    "### Logistic Regression Option 5 precision recall curve"
   ]
  },
  {
   "cell_type": "code",
   "execution_count": 280,
   "metadata": {
    "scrolled": true
   },
   "outputs": [
    {
     "name": "stdout",
     "output_type": "stream",
     "text": [
      "Logistic: ROC AUC=0.755\n"
     ]
    },
    {
     "data": {
      "image/png": "[encoded data removed]",
      "text/plain": [
       "<Figure size 432x288 with 1 Axes>"
      ]
     },
     "metadata": {
      "needs_background": "light"
     },
     "output_type": "display_data"
    }
   ],
   "source": [
    "# roc curve and auc\n",
    "from sklearn.datasets import make_classification\n",
    "from sklearn.linear_model import LogisticRegression\n",
    "from sklearn.model_selection import train_test_split\n",
    "from sklearn.metrics import roc_curve\n",
    "from sklearn.metrics import roc_auc_score\n",
    "from matplotlib import pyplot\n",
    "\n",
    "lr_clf.fit(X_train, y_train)\n",
    "\n",
    "# predict probabilities\n",
    "lr_probs = lr_clf.predict_proba(X_test)\n",
    "# keep probabilities for the positive outcome only\n",
    "lr_probs = lr_probs[:, 1]\n",
    "# calculate scores\n",
    "lr_auc = roc_auc_score(y_test, lr_probs)\n",
    "# summarize scores\\\n",
    "print('Logistic: ROC AUC=%.3f' % (lr_auc))\n",
    "# calculate roc curves\n",
    "lr_fpr, lr_tpr, _ = roc_curve(y_test, lr_probs)\n",
    "# plot the roc curve for the model\n",
    "pyplot.plot(lr_fpr, lr_tpr, marker='.', label='Logistic')\n",
    "# axis labels\n",
    "pyplot.xlabel('False Positive Rate')\n",
    "pyplot.ylabel('True Positive Rate')\n",
    "# show the legend\n",
    "pyplot.legend()\n",
    "# show the plot\n",
    "pyplot.show()"
   ]
  },
  {
   "cell_type": "markdown",
   "metadata": {},
   "source": [
    "# SVM Models that were rejected"
   ]
  },
  {
   "attachments": {},
   "cell_type": "markdown",
   "metadata": {},
   "source": [
    "##  SVM Option 3:   All Sigificant Variables: bmi,  age, ap_lo, ap_hi,  cholesterol', gluc , smoke , alco , active"
   ]
  },
  {
   "cell_type": "markdown",
   "metadata": {},
   "source": [
    "### Option 3 SVM Not Scaled"
   ]
  },
  {
   "cell_type": "code",
   "execution_count": 296,
   "metadata": {},
   "outputs": [
    {
     "name": "stdout",
     "output_type": "stream",
     "text": [
      "[0.77575112 0.76936023 0.7449142 ]\n"
     ]
    }
   ],
   "source": [
    "X = df[['bmi', 'age', 'ap_lo', 'ap_hi', 'cholesterol', 'gluc', 'smoke', 'alco', 'active', 'weight']]\n",
    "\n",
    "svm_clf = Pipeline(steps=[\n",
    "    ('scaler', StandardScaler()),\n",
    "    ('svm', SGDClassifier(max_iter=1000, tol=1e-3))])\n",
    "\n",
    "aucs = cross_val_score(svm_clf, X, y=y, cv=cv_object, scoring = 'roc_auc')\n",
    "print(aucs)"
   ]
  },
  {
   "cell_type": "markdown",
   "metadata": {},
   "source": [
    "### Option 3 SVM Scaled"
   ]
  },
  {
   "cell_type": "code",
   "execution_count": 297,
   "metadata": {},
   "outputs": [
    {
     "name": "stdout",
     "output_type": "stream",
     "text": [
      "[0.76641187 0.77419608 0.77184283]\n"
     ]
    }
   ],
   "source": [
    "X = df[['bmi', 'age', 'ap_lo', 'ap_hi', 'cholesterol', 'gluc', 'smoke', 'alco', 'active', 'weight']]\n",
    "\n",
    "svm_clf = Pipeline(steps=[\n",
    "    ('scaler', StandardScaler()),\n",
    "    ('svm', SGDClassifier(max_iter=1000, tol=1e-3))])\n",
    "\n",
    "aucs = cross_val_score(svm_clf, X, y=y, cv=cv_object, scoring = 'roc_auc')\n",
    "print(aucs)"
   ]
  },
  {
   "cell_type": "markdown",
   "metadata": {},
   "source": [
    "### Option 3 SVM Hyperparameter Tuning"
   ]
  },
  {
   "cell_type": "markdown",
   "metadata": {},
   "source": [
    "### Option 3 SVM Unscaled"
   ]
  },
  {
   "cell_type": "code",
   "execution_count": 298,
   "metadata": {},
   "outputs": [
    {
     "name": "stderr",
     "output_type": "stream",
     "text": [
      "C:\\Users\\Ellen\\Anaconda3\\lib\\site-packages\\sklearn\\model_selection\\_split.py:1978: FutureWarning: The default value of cv will change from 3 to 5 in version 0.22. Specify it explicitly to silence this warning.\n",
      "  warnings.warn(CV_WARNING, FutureWarning)\n"
     ]
    },
    {
     "data": {
      "text/plain": [
       "GridSearchCV(cv='warn', error_score='raise-deprecating',\n",
       "             estimator=Pipeline(memory=None,\n",
       "                                steps=[('scaler',\n",
       "                                        StandardScaler(copy=True,\n",
       "                                                       with_mean=True,\n",
       "                                                       with_std=True)),\n",
       "                                       ('classifier',\n",
       "                                        SGDClassifier(alpha=0.0001,\n",
       "                                                      average=False,\n",
       "                                                      class_weight=None,\n",
       "                                                      early_stopping=False,\n",
       "                                                      epsilon=0.1, eta0=0.0,\n",
       "                                                      fit_intercept=True,\n",
       "                                                      l1_ratio=0.15,\n",
       "                                                      learning_rate='optimal',\n",
       "                                                      loss='hinge',\n",
       "                                                      max_it...\n",
       "                                                      shuffle=True, tol=0.001,\n",
       "                                                      validation_fraction=0.1,\n",
       "                                                      verbose=0,\n",
       "                                                      warm_start=False))],\n",
       "                                verbose=False),\n",
       "             iid='warn', n_jobs=None,\n",
       "             param_grid=[{'classifier__alpha': [0.001, 0.01, 0.05, 0.1, 0.5, 1],\n",
       "                          'classifier__loss': ['modified_huber'],\n",
       "                          'classifier__penalty': ['l1', 'l2', 'elasticnet']}],\n",
       "             pre_dispatch='2*n_jobs', refit=True, return_train_score=False,\n",
       "             scoring='roc_auc', verbose=0)"
      ]
     },
     "execution_count": 298,
     "metadata": {},
     "output_type": "execute_result"
    }
   ],
   "source": [
    "X = df[['bmi', 'age', 'ap_lo', 'ap_hi', 'cholesterol', 'gluc', 'smoke', 'alco', 'active', 'weight']]\n",
    "\n",
    "param_grid = [\n",
    "  {'classifier__loss': ['modified_huber'],\n",
    "   'classifier__penalty': ['l1', 'l2', 'elasticnet'],\n",
    "   'classifier__alpha': [.001, .01, .05, .1, .5, 1]}\n",
    " ]\n",
    "\n",
    "svm = Pipeline([\n",
    "    ('scaler', StandardScaler()),\n",
    "    ('classifier', SGDClassifier())])\n",
    "\n",
    "clf = GridSearchCV(svm, param_grid, scoring=\"roc_auc\")\n",
    "clf.fit(X, y)"
   ]
  },
  {
   "cell_type": "code",
   "execution_count": 299,
   "metadata": {},
   "outputs": [
    {
     "data": {
      "text/plain": [
       "{'classifier__alpha': 0.05,\n",
       " 'classifier__loss': 'modified_huber',\n",
       " 'classifier__penalty': 'elasticnet'}"
      ]
     },
     "execution_count": 299,
     "metadata": {},
     "output_type": "execute_result"
    }
   ],
   "source": [
    "clf.best_params_"
   ]
  },
  {
   "cell_type": "code",
   "execution_count": 300,
   "metadata": {},
   "outputs": [
    {
     "name": "stdout",
     "output_type": "stream",
     "text": [
      "alpha 0.400000 : accuracy=0.707\n",
      "alpha 0.410000 : accuracy=0.711\n",
      "alpha 0.420000 : accuracy=0.717\n",
      "alpha 0.430000 : accuracy=0.720\n",
      "alpha 0.440000 : accuracy=0.724\n",
      "alpha 0.450000 : accuracy=0.727\n",
      "alpha 0.460000 : accuracy=0.727\n",
      "alpha 0.470000 : accuracy=0.725\n",
      "alpha 0.480000 : accuracy=0.724\n",
      "alpha 0.490000 : accuracy=0.723\n",
      "alpha 0.500000 : accuracy=0.721\n",
      "alpha 0.510000 : accuracy=0.719\n",
      "alpha 0.520000 : accuracy=0.719\n",
      "alpha 0.530000 : accuracy=0.716\n",
      "alpha 0.540000 : accuracy=0.713\n",
      "alpha 0.550000 : accuracy=0.711\n",
      "alpha 0.560000 : accuracy=0.708\n",
      "alpha 0.570000 : accuracy=0.703\n",
      "alpha 0.580000 : accuracy=0.697\n",
      "alpha 0.590000 : accuracy=0.695\n"
     ]
    }
   ],
   "source": [
    "alphas = np.arange(.4, .6, .01)\n",
    "for alpha in np.nditer(alphas):\n",
    "    y_hat = list(map(lambda y_prob: 1 if y_prob > alpha else 0, svm_probs))\n",
    "    acc = mt.accuracy_score(y_test, y_hat)\n",
    "    print('alpha %f : accuracy=%.3f' % (alpha, acc))\n",
    "\n"
   ]
  },
  {
   "cell_type": "code",
   "execution_count": 301,
   "metadata": {},
   "outputs": [
    {
     "data": {
      "text/plain": [
       "{'classifier__alpha': 0.05,\n",
       " 'classifier__loss': 'modified_huber',\n",
       " 'classifier__penalty': 'elasticnet'}"
      ]
     },
     "execution_count": 301,
     "metadata": {},
     "output_type": "execute_result"
    }
   ],
   "source": [
    "clf.best_params_"
   ]
  },
  {
   "cell_type": "code",
   "execution_count": 302,
   "metadata": {},
   "outputs": [
    {
     "name": "stdout",
     "output_type": "stream",
     "text": [
      "Best auc: 0.777623 using {'classifier__alpha': 0.05, 'classifier__loss': 'modified_huber', 'classifier__penalty': 'elasticnet'}\n",
      "0.771184 (0.003884) with: {'classifier__alpha': 0.001, 'classifier__loss': 'modified_huber', 'classifier__penalty': 'l1'}\n",
      "0.774898 (0.001904) with: {'classifier__alpha': 0.001, 'classifier__loss': 'modified_huber', 'classifier__penalty': 'l2'}\n",
      "0.774971 (0.001752) with: {'classifier__alpha': 0.001, 'classifier__loss': 'modified_huber', 'classifier__penalty': 'elasticnet'}\n",
      "0.777029 (0.002427) with: {'classifier__alpha': 0.01, 'classifier__loss': 'modified_huber', 'classifier__penalty': 'l1'}\n",
      "0.776296 (0.001347) with: {'classifier__alpha': 0.01, 'classifier__loss': 'modified_huber', 'classifier__penalty': 'l2'}\n",
      "0.775184 (0.001471) with: {'classifier__alpha': 0.01, 'classifier__loss': 'modified_huber', 'classifier__penalty': 'elasticnet'}\n",
      "0.776608 (0.001000) with: {'classifier__alpha': 0.05, 'classifier__loss': 'modified_huber', 'classifier__penalty': 'l1'}\n",
      "0.777099 (0.001722) with: {'classifier__alpha': 0.05, 'classifier__loss': 'modified_huber', 'classifier__penalty': 'l2'}\n",
      "0.777623 (0.001873) with: {'classifier__alpha': 0.05, 'classifier__loss': 'modified_huber', 'classifier__penalty': 'elasticnet'}\n",
      "0.776003 (0.001278) with: {'classifier__alpha': 0.1, 'classifier__loss': 'modified_huber', 'classifier__penalty': 'l1'}\n",
      "0.777201 (0.001794) with: {'classifier__alpha': 0.1, 'classifier__loss': 'modified_huber', 'classifier__penalty': 'l2'}\n",
      "0.777162 (0.001936) with: {'classifier__alpha': 0.1, 'classifier__loss': 'modified_huber', 'classifier__penalty': 'elasticnet'}\n",
      "0.733432 (0.001926) with: {'classifier__alpha': 0.5, 'classifier__loss': 'modified_huber', 'classifier__penalty': 'l1'}\n",
      "0.775499 (0.001977) with: {'classifier__alpha': 0.5, 'classifier__loss': 'modified_huber', 'classifier__penalty': 'l2'}\n",
      "0.775557 (0.001494) with: {'classifier__alpha': 0.5, 'classifier__loss': 'modified_huber', 'classifier__penalty': 'elasticnet'}\n",
      "0.500000 (0.000000) with: {'classifier__alpha': 1, 'classifier__loss': 'modified_huber', 'classifier__penalty': 'l1'}\n",
      "0.773843 (0.002078) with: {'classifier__alpha': 1, 'classifier__loss': 'modified_huber', 'classifier__penalty': 'l2'}\n",
      "0.774835 (0.002127) with: {'classifier__alpha': 1, 'classifier__loss': 'modified_huber', 'classifier__penalty': 'elasticnet'}\n"
     ]
    }
   ],
   "source": [
    "#code adapted from https://machinelearningmastery.com/hyperparameters-for-classification-machine-learning-algorithms/\n",
    "print(\"Best auc: %f using %s\" % (clf.best_score_, clf.best_params_))\n",
    "means = clf.cv_results_['mean_test_score']\n",
    "stds = clf.cv_results_['std_test_score']\n",
    "params = clf.cv_results_['params']\n",
    "for mean, stdev, param in zip(means, stds, params):\n",
    "    print(\"%f (%f) with: %r\" % (mean, stdev, param))\n",
    "    \n",
    "    \n"
   ]
  },
  {
   "cell_type": "markdown",
   "metadata": {},
   "source": [
    "### Option 3 SVM Probability Calibration"
   ]
  },
  {
   "cell_type": "code",
   "execution_count": 303,
   "metadata": {},
   "outputs": [
    {
     "name": "stdout",
     "output_type": "stream",
     "text": [
      "[0.77262291 0.77809189 0.7807267 ]\n"
     ]
    }
   ],
   "source": [
    "#https://machinelearningmastery.com/calibrated-classification-model-in-scikit-learn/\n",
    "from sklearn.calibration import CalibratedClassifierCV\n",
    "\n",
    "model = clf.best_estimator_ #this was alpha=.1, loss='modified_huber', penalty='elasticnet'\n",
    "calibrator = CalibratedClassifierCV(model, cv=3)\n",
    "\n",
    "aucs = cross_val_score(calibrator, X, y=y, cv=cv_object, scoring = 'roc_auc')\n",
    "print(aucs)"
   ]
  },
  {
   "cell_type": "markdown",
   "metadata": {},
   "source": [
    "### Option 3 SVM  ROC"
   ]
  },
  {
   "cell_type": "code",
   "execution_count": 304,
   "metadata": {},
   "outputs": [
    {
     "name": "stdout",
     "output_type": "stream",
     "text": [
      "SVM Model ROC AUC=0.773\n"
     ]
    },
    {
     "data": {
      "image/png": "[encoded data removed]",
      "text/plain": [
       "<Figure size 432x288 with 1 Axes>"
      ]
     },
     "metadata": {
      "needs_background": "light"
     },
     "output_type": "display_data"
    }
   ],
   "source": [
    "# roc curve and auc\n",
    "from sklearn.model_selection import train_test_split\n",
    "from sklearn.metrics import roc_curve\n",
    "from sklearn.metrics import roc_auc_score\n",
    "from matplotlib import pyplot\n",
    "\n",
    "X_train, X_test, y_train, y_test = train_test_split(X, y, test_size=0.2)\n",
    "\n",
    "std_scl = StandardScaler()\n",
    "scl_obj = std_scl.fit(X_train)\n",
    "\n",
    "X_train_scaled = scl_obj.transform(X_train)\n",
    "X_test_scaled = scl_obj.transform(X_test) \n",
    "\n",
    "model.fit(X_train, y_train)\n",
    "\n",
    "# predict probabilities\n",
    "svm_probs = model.predict_proba(X_test)\n",
    "# keep probabilities for the positive outcome only\n",
    "svm_probs = svm_probs[:, 1]\n",
    "# calculate scores\n",
    "svm_auc = roc_auc_score(y_test, svm_probs)\n",
    "# summarize scores\\\n",
    "print('SVM Model ROC AUC=%.3f' % (svm_auc))\n",
    "# calculate roc curves\n",
    "svm_fpr, svm_tpr, _ = roc_curve(y_test, svm_probs)\n",
    "# plot the roc curve for the model\n",
    "pyplot.plot(svm_fpr, svm_tpr, marker='.', label='SVM')\n",
    "# axis labels\n",
    "pyplot.xlabel('False Positive Rate')\n",
    "pyplot.ylabel('True Positive Rate')\n",
    "# show the legend\n",
    "pyplot.legend()\n",
    "# show the plot\n",
    "pyplot.show()"
   ]
  },
  {
   "cell_type": "markdown",
   "metadata": {},
   "source": [
    "## SVM Option 4:  using categorical blood pressure bins   Variables: bmi, age, bp, cholesterol"
   ]
  },
  {
   "cell_type": "markdown",
   "metadata": {},
   "source": [
    "### Option 4 SVM Not Scaled"
   ]
  },
  {
   "cell_type": "code",
   "execution_count": 305,
   "metadata": {},
   "outputs": [
    {
     "name": "stdout",
     "output_type": "stream",
     "text": [
      "[0.64226627 0.62152504 0.63169124]\n"
     ]
    }
   ],
   "source": [
    "X = df[['bp', 'bmi', 'age', 'cholesterol']]\n",
    "\n",
    "categorical_features = ['cholesterol', 'bp']\n",
    "categorical_transformer = Pipeline(steps=[\n",
    "    ('onehot', OneHotEncoder(handle_unknown='ignore'))])\n",
    "\n",
    "preprocessor = ColumnTransformer(\n",
    "    remainder='passthrough',\n",
    "    transformers=[\n",
    "        ('cat', categorical_transformer, categorical_features)])\n",
    "\n",
    "svm_clf = Pipeline(steps=[\n",
    "    ('preprocessor', preprocessor),\n",
    "    ('svm', SGDClassifier(max_iter=1000, tol=1e-3))])\n",
    "\n",
    "aucs = cross_val_score(svm_clf, X, y=y, cv=cv_object, scoring = 'roc_auc')\n",
    "print(aucs)"
   ]
  },
  {
   "cell_type": "markdown",
   "metadata": {},
   "source": [
    "### Option 4 SVM Scaled"
   ]
  },
  {
   "cell_type": "code",
   "execution_count": 63,
   "metadata": {},
   "outputs": [
    {
     "name": "stdout",
     "output_type": "stream",
     "text": [
      "[0.75153538 0.74223173 0.74142001]\n"
     ]
    }
   ],
   "source": [
    "X = df[['bp', 'bmi', 'age', 'cholesterol']]\n",
    "\n",
    "numeric_features = ['age', 'bmi']\n",
    "numeric_transformer = Pipeline(steps=[\n",
    "    ('scaler', StandardScaler())])\n",
    "\n",
    "categorical_features = ['cholesterol', 'bp']\n",
    "categorical_transformer = Pipeline(steps=[\n",
    "    ('onehot', OneHotEncoder(handle_unknown='ignore'))])\n",
    "\n",
    "preprocessor = ColumnTransformer(\n",
    "    transformers=[\n",
    "        ('num', numeric_transformer, numeric_features),\n",
    "        ('cat', categorical_transformer, categorical_features)])\n",
    "\n",
    "svm_clf = Pipeline(steps=[\n",
    "    ('preprocessor', preprocessor),\n",
    "    ('svm', SGDClassifier(max_iter=1000, tol=1e-3))])\n",
    "\n",
    "aucs = cross_val_score(svm_clf, X, y=y, cv=cv_object, scoring = 'roc_auc')\n",
    "print(aucs)"
   ]
  },
  {
   "attachments": {},
   "cell_type": "markdown",
   "metadata": {},
   "source": [
    "## Option 5 SVM Variables: bmi, age, bp, cholesterol\n"
   ]
  },
  {
   "cell_type": "markdown",
   "metadata": {},
   "source": [
    "### SVM Option 5  Unscaled data using categorical blood pressure bins"
   ]
  },
  {
   "cell_type": "code",
   "execution_count": 307,
   "metadata": {},
   "outputs": [
    {
     "name": "stdout",
     "output_type": "stream",
     "text": [
      "[0.57657761 0.43206938 0.62983956]\n"
     ]
    }
   ],
   "source": [
    "\n",
    "X = df[['bp', 'bmi', 'age', 'cholesterol']]\n",
    "\n",
    "categorical_features = ['cholesterol', 'bp']\n",
    "categorical_transformer = Pipeline(steps=[\n",
    "    ('onehot', OneHotEncoder(handle_unknown='ignore'))])\n",
    "\n",
    "preprocessor = ColumnTransformer(\n",
    "    remainder='passthrough',\n",
    "    transformers=[\n",
    "        ('cat', categorical_transformer, categorical_features)])\n",
    "\n",
    "svm_clf = Pipeline(steps=[\n",
    "    ('preprocessor', preprocessor),\n",
    "    ('svm', SGDClassifier(max_iter=1000, tol=1e-3))])\n",
    "\n",
    "aucs = cross_val_score(svm_clf, X, y=y, cv=cv_object, scoring = 'roc_auc')\n",
    "print(aucs)"
   ]
  },
  {
   "cell_type": "markdown",
   "metadata": {},
   "source": [
    "### SVM Option 5  Scaled data using categorical blood pressure bins"
   ]
  },
  {
   "cell_type": "code",
   "execution_count": 310,
   "metadata": {},
   "outputs": [
    {
     "name": "stdout",
     "output_type": "stream",
     "text": [
      "[0.76639462 0.74500392 0.75706748]\n"
     ]
    }
   ],
   "source": [
    "X = df[['bp', 'bmi', 'age', 'cholesterol']]\n",
    "\n",
    "numeric_features = ['age', 'bmi']\n",
    "numeric_transformer = Pipeline(steps=[\n",
    "    ('scaler', StandardScaler())])\n",
    "\n",
    "categorical_features = ['cholesterol', 'bp']\n",
    "categorical_transformer = Pipeline(steps=[\n",
    "    ('onehot', OneHotEncoder(handle_unknown='ignore'))])\n",
    "\n",
    "preprocessor = ColumnTransformer(\n",
    "    transformers=[\n",
    "        ('num', numeric_transformer, numeric_features),\n",
    "        ('cat', categorical_transformer, categorical_features)])\n",
    "\n",
    "svm_clf = Pipeline(steps=[\n",
    "    ('preprocessor', preprocessor),\n",
    "    ('svm', SGDClassifier(max_iter=1000, tol=1e-3))])\n",
    "\n",
    "aucs = cross_val_score(svm_clf, X, y=y, cv=cv_object, scoring = 'roc_auc')\n",
    "print(aucs)"
   ]
  }
 ],
 "metadata": {
  "kernelspec": {
   "display_name": "Python 3",
   "language": "python",
   "name": "python3"
  },
  "language_info": {
   "codemirror_mode": {
    "name": "ipython",
    "version": 3
   },
   "file_extension": ".py",
   "mimetype": "text/x-python",
   "name": "python",
   "nbconvert_exporter": "python",
   "pygments_lexer": "ipython3",
   "version": "3.7.3"
  }
 },
 "nbformat": 4,
 "nbformat_minor": 4
}
